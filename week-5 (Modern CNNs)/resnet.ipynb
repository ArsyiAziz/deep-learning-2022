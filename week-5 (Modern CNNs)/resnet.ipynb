{
 "cells": [
  {
   "cell_type": "markdown",
   "id": "arranged-credit",
   "metadata": {
    "id": "kPUz7s7O0ezG",
    "papermill": {
     "duration": 0.020654,
     "end_time": "2022-04-09T05:41:42.174908",
     "exception": false,
     "start_time": "2022-04-09T05:41:42.154254",
     "status": "completed"
    },
    "tags": []
   },
   "source": [
    " # Assignment 2 - Modern CNNs (ResNet)\n",
    "*This notebook was run by Arsyi Syarief Aziz (H071191003) for the Introduction to Deep Learning course (Unhas) taught by Dr. Risman Adnan.*"
   ]
  },
  {
   "cell_type": "markdown",
   "id": "standard-dallas",
   "metadata": {
    "id": "1kNAVed00oG_",
    "papermill": {
     "duration": 0.018788,
     "end_time": "2022-04-09T05:41:42.213469",
     "exception": false,
     "start_time": "2022-04-09T05:41:42.194681",
     "status": "completed"
    },
    "tags": []
   },
   "source": [
    "This is part 6/7 of this week's assignment. In this notebook, I will attempt to implement ResNet."
   ]
  },
  {
   "cell_type": "code",
   "execution_count": 1,
   "id": "interstate-violence",
   "metadata": {
    "execution": {
     "iopub.execute_input": "2022-04-09T05:41:42.262089Z",
     "iopub.status.busy": "2022-04-09T05:41:42.255649Z",
     "iopub.status.idle": "2022-04-09T05:41:44.070508Z",
     "shell.execute_reply": "2022-04-09T05:41:44.071061Z",
     "shell.execute_reply.started": "2022-04-09T00:10:07.489267Z"
    },
    "id": "BCpzEwH657Mb",
    "papermill": {
     "duration": 1.838356,
     "end_time": "2022-04-09T05:41:44.071399",
     "exception": false,
     "start_time": "2022-04-09T05:41:42.233043",
     "status": "completed"
    },
    "tags": []
   },
   "outputs": [],
   "source": [
    "import torch\n",
    "from torch import nn\n",
    "from torch.utils.data import Dataset\n",
    "from torchvision import datasets, transforms\n",
    "import matplotlib.pyplot as plt\n",
    "from torch.utils.data import DataLoader, SubsetRandomSampler\n",
    "import torch.optim as optim\n",
    "import torch.nn.functional as F"
   ]
  },
  {
   "cell_type": "code",
   "execution_count": 2,
   "id": "special-afghanistan",
   "metadata": {
    "execution": {
     "iopub.execute_input": "2022-04-09T05:41:44.119850Z",
     "iopub.status.busy": "2022-04-09T05:41:44.119048Z",
     "iopub.status.idle": "2022-04-09T05:41:44.123451Z",
     "shell.execute_reply": "2022-04-09T05:41:44.122977Z",
     "shell.execute_reply.started": "2022-04-09T00:10:09.533318Z"
    },
    "id": "q3-CqlQ1KEEr",
    "papermill": {
     "duration": 0.029194,
     "end_time": "2022-04-09T05:41:44.123562",
     "exception": false,
     "start_time": "2022-04-09T05:41:44.094368",
     "status": "completed"
    },
    "tags": []
   },
   "outputs": [],
   "source": [
    "cuda = torch.device('cuda')"
   ]
  },
  {
   "cell_type": "markdown",
   "id": "distant-panama",
   "metadata": {
    "id": "bte5iPRGRDNQ",
    "papermill": {
     "duration": 0.021599,
     "end_time": "2022-04-09T05:41:44.166369",
     "exception": false,
     "start_time": "2022-04-09T05:41:44.144770",
     "status": "completed"
    },
    "tags": []
   },
   "source": [
    "## Importing Dataset"
   ]
  },
  {
   "cell_type": "markdown",
   "id": "victorian-effort",
   "metadata": {
    "id": "PrEHhDb5PkIe",
    "papermill": {
     "duration": 0.020696,
     "end_time": "2022-04-09T05:41:44.208751",
     "exception": false,
     "start_time": "2022-04-09T05:41:44.188055",
     "status": "completed"
    },
    "tags": []
   },
   "source": [
    "I will use the MNIST dataset to train and test the model in this notebook. Because MNIST contains images of shape 28x28 pixels and because ResNet accepts images of size 244x244 pixels, I will upscale each image in the dataset to 244x244 pixels."
   ]
  },
  {
   "cell_type": "code",
   "execution_count": 3,
   "id": "solved-addition",
   "metadata": {
    "execution": {
     "iopub.execute_input": "2022-04-09T05:41:44.258874Z",
     "iopub.status.busy": "2022-04-09T05:41:44.257922Z",
     "iopub.status.idle": "2022-04-09T05:41:46.507165Z",
     "shell.execute_reply": "2022-04-09T05:41:46.506520Z",
     "shell.execute_reply.started": "2022-04-09T00:10:09.542297Z"
    },
    "id": "FhX60lnP8LLq",
    "papermill": {
     "duration": 2.277553,
     "end_time": "2022-04-09T05:41:46.507324",
     "exception": false,
     "start_time": "2022-04-09T05:41:44.229771",
     "status": "completed"
    },
    "tags": []
   },
   "outputs": [
    {
     "name": "stdout",
     "output_type": "stream",
     "text": [
      "Downloading http://yann.lecun.com/exdb/mnist/train-images-idx3-ubyte.gz\n",
      "Downloading http://yann.lecun.com/exdb/mnist/train-images-idx3-ubyte.gz to data/MNIST/raw/train-images-idx3-ubyte.gz\n"
     ]
    },
    {
     "data": {
      "application/vnd.jupyter.widget-view+json": {
       "model_id": "27df637d9f744d3fa9cee0ced09de386",
       "version_major": 2,
       "version_minor": 0
      },
      "text/plain": [
       "  0%|          | 0/9912422 [00:00<?, ?it/s]"
      ]
     },
     "metadata": {},
     "output_type": "display_data"
    },
    {
     "name": "stdout",
     "output_type": "stream",
     "text": [
      "Extracting data/MNIST/raw/train-images-idx3-ubyte.gz to data/MNIST/raw\n",
      "\n",
      "Downloading http://yann.lecun.com/exdb/mnist/train-labels-idx1-ubyte.gz\n",
      "Downloading http://yann.lecun.com/exdb/mnist/train-labels-idx1-ubyte.gz to data/MNIST/raw/train-labels-idx1-ubyte.gz\n"
     ]
    },
    {
     "data": {
      "application/vnd.jupyter.widget-view+json": {
       "model_id": "a28e5ff3ed6141beab55675a0ef8a042",
       "version_major": 2,
       "version_minor": 0
      },
      "text/plain": [
       "  0%|          | 0/28881 [00:00<?, ?it/s]"
      ]
     },
     "metadata": {},
     "output_type": "display_data"
    },
    {
     "name": "stdout",
     "output_type": "stream",
     "text": [
      "Extracting data/MNIST/raw/train-labels-idx1-ubyte.gz to data/MNIST/raw\n",
      "\n",
      "Downloading http://yann.lecun.com/exdb/mnist/t10k-images-idx3-ubyte.gz\n",
      "Downloading http://yann.lecun.com/exdb/mnist/t10k-images-idx3-ubyte.gz to data/MNIST/raw/t10k-images-idx3-ubyte.gz\n"
     ]
    },
    {
     "data": {
      "application/vnd.jupyter.widget-view+json": {
       "model_id": "997e2f2e3bfa46889878234623bbd1c6",
       "version_major": 2,
       "version_minor": 0
      },
      "text/plain": [
       "  0%|          | 0/1648877 [00:00<?, ?it/s]"
      ]
     },
     "metadata": {},
     "output_type": "display_data"
    },
    {
     "name": "stdout",
     "output_type": "stream",
     "text": [
      "Extracting data/MNIST/raw/t10k-images-idx3-ubyte.gz to data/MNIST/raw\n",
      "\n",
      "Downloading http://yann.lecun.com/exdb/mnist/t10k-labels-idx1-ubyte.gz\n",
      "Downloading http://yann.lecun.com/exdb/mnist/t10k-labels-idx1-ubyte.gz to data/MNIST/raw/t10k-labels-idx1-ubyte.gz\n"
     ]
    },
    {
     "data": {
      "application/vnd.jupyter.widget-view+json": {
       "model_id": "29e7612417ef43229dfbfb12a485cead",
       "version_major": 2,
       "version_minor": 0
      },
      "text/plain": [
       "  0%|          | 0/4542 [00:00<?, ?it/s]"
      ]
     },
     "metadata": {},
     "output_type": "display_data"
    },
    {
     "name": "stdout",
     "output_type": "stream",
     "text": [
      "Extracting data/MNIST/raw/t10k-labels-idx1-ubyte.gz to data/MNIST/raw\n",
      "\n"
     ]
    },
    {
     "name": "stderr",
     "output_type": "stream",
     "text": [
      "/opt/conda/lib/python3.7/site-packages/torchvision/datasets/mnist.py:498: UserWarning: The given NumPy array is not writeable, and PyTorch does not support non-writeable tensors. This means you can write to the underlying (supposedly non-writeable) NumPy array using the tensor. You may want to copy the array to protect its data or make it writeable before converting it to a tensor. This type of warning will be suppressed for the rest of this program. (Triggered internally at  /usr/local/src/pytorch/torch/csrc/utils/tensor_numpy.cpp:174.)\n",
      "  return torch.from_numpy(parsed.astype(m[2], copy=False)).view(*s)\n"
     ]
    }
   ],
   "source": [
    "training_data = datasets.MNIST(\n",
    "    root=\"data\",\n",
    "    train=True,\n",
    "    download=True,\n",
    "    transform=transforms.Compose([transforms.ToTensor(), transforms.Resize(224)])\n",
    ")\n",
    "test_data = datasets.MNIST(\n",
    "    root=\"data\",\n",
    "    train=False,\n",
    "    download=True,\n",
    "    transform=transforms.Compose([transforms.ToTensor(), transforms.Resize(224)]) # Upscale to 244x224 pixels\n",
    ")\n"
   ]
  },
  {
   "cell_type": "code",
   "execution_count": 4,
   "id": "varied-advocacy",
   "metadata": {
    "execution": {
     "iopub.execute_input": "2022-04-09T05:41:46.563224Z",
     "iopub.status.busy": "2022-04-09T05:41:46.562020Z",
     "iopub.status.idle": "2022-04-09T05:41:46.564683Z",
     "shell.execute_reply": "2022-04-09T05:41:46.564286Z",
     "shell.execute_reply.started": "2022-04-09T00:10:11.437687Z"
    },
    "id": "JvCVDzeP3ZMl",
    "papermill": {
     "duration": 0.030902,
     "end_time": "2022-04-09T05:41:46.564790",
     "exception": false,
     "start_time": "2022-04-09T05:41:46.533888",
     "status": "completed"
    },
    "tags": []
   },
   "outputs": [],
   "source": [
    "train_loader = torch.utils.data.DataLoader(\n",
    "                 dataset=training_data,\n",
    "                 batch_size=256,\n",
    "                 shuffle=True,\n",
    "                 num_workers=2,\n",
    "                 pin_memory=True)\n",
    "test_loader = torch.utils.data.DataLoader(\n",
    "                dataset=test_data,\n",
    "                batch_size=256,\n",
    "                shuffle=False,\n",
    "                num_workers=2,\n",
    "                pin_memory=True)"
   ]
  },
  {
   "cell_type": "markdown",
   "id": "interim-kingdom",
   "metadata": {
    "id": "jcrx_r_XRoQD",
    "papermill": {
     "duration": 0.022847,
     "end_time": "2022-04-09T05:41:46.610700",
     "exception": false,
     "start_time": "2022-04-09T05:41:46.587853",
     "status": "completed"
    },
    "tags": []
   },
   "source": [
    "Below are nine samples of the dataset"
   ]
  },
  {
   "cell_type": "code",
   "execution_count": 5,
   "id": "unique-treasurer",
   "metadata": {
    "execution": {
     "iopub.execute_input": "2022-04-09T05:41:46.663586Z",
     "iopub.status.busy": "2022-04-09T05:41:46.662944Z",
     "iopub.status.idle": "2022-04-09T05:41:47.139084Z",
     "shell.execute_reply": "2022-04-09T05:41:47.139536Z",
     "shell.execute_reply.started": "2022-04-09T00:10:11.448138Z"
    },
    "id": "t1Me2hEdDRL3",
    "outputId": "e8b2b870-0533-4bc5-830a-1b0741819777",
    "papermill": {
     "duration": 0.505797,
     "end_time": "2022-04-09T05:41:47.139692",
     "exception": false,
     "start_time": "2022-04-09T05:41:46.633895",
     "status": "completed"
    },
    "tags": []
   },
   "outputs": [
    {
     "data": {
      "image/png": "[encoded data removed]",
      "text/plain": [
       "<Figure size 576x576 with 9 Axes>"
      ]
     },
     "metadata": {
      "needs_background": "light"
     },
     "output_type": "display_data"
    }
   ],
   "source": [
    "figure = plt.figure(figsize=(8, 8))\n",
    "cols, rows = 3, 3\n",
    "for i in range(1, cols * rows + 1):\n",
    "    sample_idx = torch.randint(len(training_data), size=(1,)).item()\n",
    "    img, label = training_data[sample_idx]\n",
    "    figure.add_subplot(rows, cols, i)\n",
    "    plt.title(label)\n",
    "    plt.axis(\"off\")\n",
    "    plt.imshow(img.squeeze(), cmap=\"gray\")\n",
    "plt.show()"
   ]
  },
  {
   "cell_type": "markdown",
   "id": "novel-saver",
   "metadata": {
    "id": "aTtluDE6mIqc",
    "papermill": {
     "duration": 0.024774,
     "end_time": "2022-04-09T05:41:47.189580",
     "exception": false,
     "start_time": "2022-04-09T05:41:47.164806",
     "status": "completed"
    },
    "tags": []
   },
   "source": [
    "## Definining Helper Functions"
   ]
  },
  {
   "cell_type": "markdown",
   "id": "mediterranean-meter",
   "metadata": {
    "id": "-CKbG0S0mQKG",
    "papermill": {
     "duration": 0.024626,
     "end_time": "2022-04-09T05:41:47.239160",
     "exception": false,
     "start_time": "2022-04-09T05:41:47.214534",
     "status": "completed"
    },
    "tags": []
   },
   "source": [
    "The function below will be used to train the neural network"
   ]
  },
  {
   "cell_type": "code",
   "execution_count": 6,
   "id": "optimum-bracelet",
   "metadata": {
    "execution": {
     "iopub.execute_input": "2022-04-09T05:41:47.297319Z",
     "iopub.status.busy": "2022-04-09T05:41:47.296554Z",
     "iopub.status.idle": "2022-04-09T05:41:47.299097Z",
     "shell.execute_reply": "2022-04-09T05:41:47.298665Z",
     "shell.execute_reply.started": "2022-04-09T00:10:12.043237Z"
    },
    "id": "bHmZBkYymNJz",
    "papermill": {
     "duration": 0.034766,
     "end_time": "2022-04-09T05:41:47.299216",
     "exception": false,
     "start_time": "2022-04-09T05:41:47.264450",
     "status": "completed"
    },
    "tags": []
   },
   "outputs": [],
   "source": [
    "def train(net, train_loader, epochs=10, lr=0.001): \n",
    "\n",
    "    optimizer = optim.Adam(net.parameters())\n",
    "    criterion = nn.CrossEntropyLoss()\n",
    "\n",
    "    net.to(cuda)\n",
    "    \n",
    "    for epoch in range(epochs):  # loop over the dataset multiple times\n",
    "        running_loss = 0.0\n",
    "\n",
    "        net.train()\n",
    "        for X, y in train_loader:\n",
    "            X, y = X.to(cuda), y.to(cuda)\n",
    "\n",
    "            # zero the parameter gradients\n",
    "            optimizer.zero_grad(set_to_none=True)\n",
    "\n",
    "            # forward + backward + optimize\n",
    "            outputs = net(X)\n",
    "            loss = criterion(outputs, y)\n",
    "            loss.backward()\n",
    "            optimizer.step()\n",
    "\n",
    "            running_loss += loss.item()\n",
    "        \n",
    "        print(f'Epoch: {epoch + 1}, loss: {running_loss / len(train_loader.dataset):.6f}')\n",
    "\n",
    "    print('Finished Training')\n",
    "    total, correct = test(net, train_loader)\n",
    "    print(f'Train accuracy: {(correct/total)*100}%')"
   ]
  },
  {
   "cell_type": "markdown",
   "id": "mighty-conditions",
   "metadata": {
    "id": "spLBgSm4ma_w",
    "papermill": {
     "duration": 0.024481,
     "end_time": "2022-04-09T05:41:47.348251",
     "exception": false,
     "start_time": "2022-04-09T05:41:47.323770",
     "status": "completed"
    },
    "tags": []
   },
   "source": [
    "The function below will be used to calculate the neural network's test accuracy."
   ]
  },
  {
   "cell_type": "code",
   "execution_count": 7,
   "id": "protective-maryland",
   "metadata": {
    "execution": {
     "iopub.execute_input": "2022-04-09T05:41:47.403591Z",
     "iopub.status.busy": "2022-04-09T05:41:47.402856Z",
     "iopub.status.idle": "2022-04-09T05:41:47.405676Z",
     "shell.execute_reply": "2022-04-09T05:41:47.405002Z",
     "shell.execute_reply.started": "2022-04-09T00:10:12.056079Z"
    },
    "id": "Dgw-cVoMm1P8",
    "papermill": {
     "duration": 0.032909,
     "end_time": "2022-04-09T05:41:47.405789",
     "exception": false,
     "start_time": "2022-04-09T05:41:47.372880",
     "status": "completed"
    },
    "tags": []
   },
   "outputs": [],
   "source": [
    "def test(net, test_loader):\n",
    "    \n",
    "    total = 0\n",
    "    correct = 0\n",
    "\n",
    "    for X, y in test_loader:\n",
    "        net.eval()\n",
    "        X, y = X.to(cuda), y.to(cuda)\n",
    "\n",
    "        y_hat = net(X).argmax(axis=1)\n",
    "        total += X.shape[0]\n",
    "        correct += (y_hat == y).sum()\n",
    "\n",
    "    return total, correct\n",
    "  "
   ]
  },
  {
   "cell_type": "markdown",
   "id": "reverse-produce",
   "metadata": {
    "id": "yagl3aDA3Wiz",
    "papermill": {
     "duration": 0.025005,
     "end_time": "2022-04-09T05:41:47.455632",
     "exception": false,
     "start_time": "2022-04-09T05:41:47.430627",
     "status": "completed"
    },
    "tags": []
   },
   "source": [
    "## ResNet"
   ]
  },
  {
   "attachments": {
    "be6e2217-5f2a-4766-8e8c-d9e42283cf1d.png": {
     "image/png": "[encoded data removed]"
    }
   },
   "cell_type": "markdown",
   "id": "charged-tuning",
   "metadata": {
    "id": "VxXrSLrzjTM8",
    "papermill": {
     "duration": 0.024666,
     "end_time": "2022-04-09T05:41:47.505335",
     "exception": false,
     "start_time": "2022-04-09T05:41:47.480669",
     "status": "completed"
    },
    "tags": []
   },
   "source": [
    "ResNet is comprised of residual blocks. These blocks learn the residual mapping $f(x)-x$ and can forward propagate the inputs through residual connections.\n",
    "\n",
    "![ResNet.png](attachment:be6e2217-5f2a-4766-8e8c-d9e42283cf1d.png)\n",
    "\n",
    "The residual blocks are similar to a VGG block, which contain a sequence of 3x3 convolutional layers. However, it differs in the fact that there are only two convolutional blocks, where each convolutional layer is followed by a batch normalization and a ReLU activation function. In addition to this, the input also skips these convolutional layers and is directly added with the output of convolutional layers, before the final ReLU function. This design requires that the output of the two convolutional layers be the same shape as the input. If the number of channels would like to be changed, then a 1x1 convolutional layer is applied to the input to transform it to the desired shape. "
   ]
  },
  {
   "cell_type": "markdown",
   "id": "superb-methodology",
   "metadata": {},
   "source": [
    "Below is an implementation of the explained residual block"
   ]
  },
  {
   "cell_type": "code",
   "execution_count": 8,
   "id": "dated-religious",
   "metadata": {
    "execution": {
     "iopub.execute_input": "2022-04-09T05:41:47.563453Z",
     "iopub.status.busy": "2022-04-09T05:41:47.562695Z",
     "iopub.status.idle": "2022-04-09T05:41:47.564671Z",
     "shell.execute_reply": "2022-04-09T05:41:47.565068Z",
     "shell.execute_reply.started": "2022-04-09T00:10:12.070564Z"
    },
    "id": "TIcEMc2-DGht",
    "papermill": {
     "duration": 0.035023,
     "end_time": "2022-04-09T05:41:47.565202",
     "exception": false,
     "start_time": "2022-04-09T05:41:47.530179",
     "status": "completed"
    },
    "tags": []
   },
   "outputs": [],
   "source": [
    "class Residual(nn.Module):\n",
    "    \"\"\"The Residual block of ResNet.\"\"\"\n",
    "    def __init__(self, input_channels, num_channels,\n",
    "                 use_1x1conv=False, strides=1):\n",
    "        super().__init__()\n",
    "        self.conv1 = nn.Conv2d(input_channels, num_channels,\n",
    "                               kernel_size=3, padding=1, stride=strides)\n",
    "        self.conv2 = nn.Conv2d(num_channels, num_channels,\n",
    "                               kernel_size=3, padding=1)\n",
    "        if use_1x1conv:\n",
    "            self.conv3 = nn.Conv2d(input_channels, num_channels,\n",
    "                                   kernel_size=1, stride=strides)\n",
    "        else:\n",
    "            self.conv3 = None\n",
    "        self.bn1 = nn.BatchNorm2d(num_channels)\n",
    "        self.bn2 = nn.BatchNorm2d(num_channels)\n",
    "\n",
    "    def forward(self, X):\n",
    "        Y = F.relu(self.bn1(self.conv1(X)))\n",
    "        Y = self.bn2(self.conv2(Y))\n",
    "        if self.conv3:\n",
    "            X = self.conv3(X)\n",
    "        Y += X\n",
    "        return F.relu(Y)"
   ]
  },
  {
   "cell_type": "markdown",
   "id": "competitive-chinese",
   "metadata": {},
   "source": [
    "**ResNet Model**\n",
    "\n",
    "The first two layers of ResNet are similar as GoogLeNet, in which there is a 7x7 convolutional layer with 64 output channels with a stride of 2, followed by 3x3 maximum pooling layer with stride of 2. The difference is that batch normalization is added after each convolutional layer"
   ]
  },
  {
   "cell_type": "code",
   "execution_count": 9,
   "id": "written-bristol",
   "metadata": {
    "execution": {
     "iopub.execute_input": "2022-04-09T05:41:47.617275Z",
     "iopub.status.busy": "2022-04-09T05:41:47.616490Z",
     "iopub.status.idle": "2022-04-09T05:41:47.631084Z",
     "shell.execute_reply": "2022-04-09T05:41:47.631534Z"
    },
    "papermill": {
     "duration": 0.04192,
     "end_time": "2022-04-09T05:41:47.631656",
     "exception": false,
     "start_time": "2022-04-09T05:41:47.589736",
     "status": "completed"
    },
    "tags": []
   },
   "outputs": [],
   "source": [
    "b1 = nn.Sequential(nn.Conv2d(1, 64, kernel_size=7, stride=2, padding=3),\n",
    "                   nn.BatchNorm2d(64), nn.ReLU(),\n",
    "                   nn.MaxPool2d(kernel_size=3, stride=2, padding=1))"
   ]
  },
  {
   "cell_type": "markdown",
   "id": "graduate-cornell",
   "metadata": {},
   "source": [
    "Resnet uses four modules made up of residual blocks, each with the same number of output channels. The number of output channels in the first module is the same as the number of input channels. The subsequent modules double the output channels of the previous layer.\n",
    "\n",
    "Below is an implementation of a resnet module"
   ]
  },
  {
   "cell_type": "code",
   "execution_count": 10,
   "id": "sought-aluminum",
   "metadata": {
    "execution": {
     "iopub.execute_input": "2022-04-09T05:41:47.687203Z",
     "iopub.status.busy": "2022-04-09T05:41:47.686404Z",
     "iopub.status.idle": "2022-04-09T05:41:47.688781Z",
     "shell.execute_reply": "2022-04-09T05:41:47.688359Z"
    },
    "papermill": {
     "duration": 0.03219,
     "end_time": "2022-04-09T05:41:47.688880",
     "exception": false,
     "start_time": "2022-04-09T05:41:47.656690",
     "status": "completed"
    },
    "tags": []
   },
   "outputs": [],
   "source": [
    "def resnet_block(input_channels, num_channels, num_residuals,\n",
    "                 first_block=False):\n",
    "    blk = []\n",
    "    for i in range(num_residuals):\n",
    "        if i == 0 and not first_block:\n",
    "            blk.append(Residual(input_channels, num_channels,\n",
    "                                use_1x1conv=True, strides=2))\n",
    "        else:\n",
    "            blk.append(Residual(num_channels, num_channels))\n",
    "    return blk"
   ]
  },
  {
   "cell_type": "markdown",
   "id": "agreed-cricket",
   "metadata": {},
   "source": [
    "Below are the creation of the four resnet modules, as explained above."
   ]
  },
  {
   "cell_type": "code",
   "execution_count": 11,
   "id": "vietnamese-circle",
   "metadata": {
    "execution": {
     "iopub.execute_input": "2022-04-09T05:41:47.744270Z",
     "iopub.status.busy": "2022-04-09T05:41:47.743531Z",
     "iopub.status.idle": "2022-04-09T05:41:47.840550Z",
     "shell.execute_reply": "2022-04-09T05:41:47.840069Z"
    },
    "papermill": {
     "duration": 0.12699,
     "end_time": "2022-04-09T05:41:47.840663",
     "exception": false,
     "start_time": "2022-04-09T05:41:47.713673",
     "status": "completed"
    },
    "tags": []
   },
   "outputs": [],
   "source": [
    "b2 = nn.Sequential(*resnet_block(64, 64, 2, first_block=True))\n",
    "b3 = nn.Sequential(*resnet_block(64, 128, 2))\n",
    "b4 = nn.Sequential(*resnet_block(128, 256, 2))\n",
    "b5 = nn.Sequential(*resnet_block(256, 512, 2))"
   ]
  },
  {
   "cell_type": "markdown",
   "id": "according-stream",
   "metadata": {},
   "source": [
    "The final two layers are a a global average pooling layer followed by a fully connect layer with output channels equalling the number of label classes."
   ]
  },
  {
   "cell_type": "code",
   "execution_count": 12,
   "id": "armed-benefit",
   "metadata": {
    "execution": {
     "iopub.execute_input": "2022-04-09T05:41:47.897036Z",
     "iopub.status.busy": "2022-04-09T05:41:47.896324Z",
     "iopub.status.idle": "2022-04-09T05:41:47.898874Z",
     "shell.execute_reply": "2022-04-09T05:41:47.898445Z"
    },
    "papermill": {
     "duration": 0.032478,
     "end_time": "2022-04-09T05:41:47.898975",
     "exception": false,
     "start_time": "2022-04-09T05:41:47.866497",
     "status": "completed"
    },
    "tags": []
   },
   "outputs": [],
   "source": [
    "resnet = nn.Sequential(b1, b2, b3, b4, b5,\n",
    "                    nn.AdaptiveAvgPool2d((1,1)),\n",
    "                    nn.Flatten(), nn.Linear(512, 10))"
   ]
  },
  {
   "cell_type": "markdown",
   "id": "human-services",
   "metadata": {},
   "source": [
    "I will train ResNet with a learning rate of 0.05 and a total of 10 epochs."
   ]
  },
  {
   "cell_type": "code",
   "execution_count": 13,
   "id": "narrow-parking",
   "metadata": {
    "execution": {
     "iopub.execute_input": "2022-04-09T05:41:47.953209Z",
     "iopub.status.busy": "2022-04-09T05:41:47.952395Z",
     "iopub.status.idle": "2022-04-09T05:57:56.766672Z",
     "shell.execute_reply": "2022-04-09T05:57:56.767129Z",
     "shell.execute_reply.started": "2022-04-09T00:10:12.507097Z"
    },
    "id": "ufhelQkTInz8",
    "outputId": "3bff4799-1487-4565-e52b-d1f36a123af6",
    "papermill": {
     "duration": 968.842962,
     "end_time": "2022-04-09T05:57:56.767323",
     "exception": false,
     "start_time": "2022-04-09T05:41:47.924361",
     "status": "completed"
    },
    "tags": []
   },
   "outputs": [
    {
     "name": "stdout",
     "output_type": "stream",
     "text": [
      "Epoch: 1, loss: 0.000639\n",
      "Epoch: 2, loss: 0.000150\n",
      "Epoch: 3, loss: 0.000114\n",
      "Epoch: 4, loss: 0.000088\n",
      "Epoch: 5, loss: 0.000076\n",
      "Epoch: 6, loss: 0.000059\n",
      "Epoch: 7, loss: 0.000046\n",
      "Epoch: 8, loss: 0.000052\n",
      "Epoch: 9, loss: 0.000041\n",
      "Epoch: 10, loss: 0.000041\n",
      "Finished Training\n",
      "Train accuracy: 99.42166900634766%\n"
     ]
    }
   ],
   "source": [
    "train(resnet, train_loader, lr=0.05, epochs=10) "
   ]
  },
  {
   "cell_type": "code",
   "execution_count": 14,
   "id": "capital-divide",
   "metadata": {
    "execution": {
     "iopub.execute_input": "2022-04-09T05:57:56.830698Z",
     "iopub.status.busy": "2022-04-09T05:57:56.829202Z",
     "iopub.status.idle": "2022-04-09T05:58:07.974737Z",
     "shell.execute_reply": "2022-04-09T05:58:07.975258Z",
     "shell.execute_reply.started": "2022-04-09T00:25:13.710843Z"
    },
    "id": "C48URL348-eH",
    "papermill": {
     "duration": 11.179313,
     "end_time": "2022-04-09T05:58:07.975442",
     "exception": false,
     "start_time": "2022-04-09T05:57:56.796129",
     "status": "completed"
    },
    "tags": []
   },
   "outputs": [],
   "source": [
    "total, correct = test(resnet, test_loader)  "
   ]
  },
  {
   "cell_type": "code",
   "execution_count": 15,
   "id": "wicked-mattress",
   "metadata": {
    "execution": {
     "iopub.execute_input": "2022-04-09T05:58:08.046591Z",
     "iopub.status.busy": "2022-04-09T05:58:08.045971Z",
     "iopub.status.idle": "2022-04-09T05:58:08.051423Z",
     "shell.execute_reply": "2022-04-09T05:58:08.050957Z",
     "shell.execute_reply.started": "2022-04-09T00:25:26.713471Z"
    },
    "id": "v8igdpIIRVtn",
    "papermill": {
     "duration": 0.042768,
     "end_time": "2022-04-09T05:58:08.051544",
     "exception": false,
     "start_time": "2022-04-09T05:58:08.008776",
     "status": "completed"
    },
    "tags": []
   },
   "outputs": [
    {
     "name": "stdout",
     "output_type": "stream",
     "text": [
      "Test Accuracy: 98.97999572753906% (9898/10000)\n"
     ]
    }
   ],
   "source": [
    "print(f\"Test Accuracy: {(correct/total)*100}% ({correct}/{total})\")"
   ]
  },
  {
   "cell_type": "markdown",
   "id": "polar-plant",
   "metadata": {},
   "source": [
    "As you can see, the trained ResNet model has a test accuracy of 98.98%. "
   ]
  },
  {
   "cell_type": "markdown",
   "id": "corporate-inquiry",
   "metadata": {},
   "source": [
    "## Visualizing Predictions\n"
   ]
  },
  {
   "cell_type": "markdown",
   "id": "collaborative-triple",
   "metadata": {},
   "source": [
    "Below are five visual representations of ResNet's predictions."
   ]
  },
  {
   "cell_type": "code",
   "execution_count": 16,
   "id": "sharing-coordination",
   "metadata": {
    "execution": {
     "iopub.execute_input": "2022-04-09T05:58:08.125001Z",
     "iopub.status.busy": "2022-04-09T05:58:08.119574Z",
     "iopub.status.idle": "2022-04-09T05:58:08.127602Z",
     "shell.execute_reply": "2022-04-09T05:58:08.127111Z",
     "shell.execute_reply.started": "2022-04-09T00:28:36.717748Z"
    },
    "papermill": {
     "duration": 0.04285,
     "end_time": "2022-04-09T05:58:08.127721",
     "exception": false,
     "start_time": "2022-04-09T05:58:08.084871",
     "status": "completed"
    },
    "tags": []
   },
   "outputs": [],
   "source": [
    "def viz_results(net, dataset, num_samples=5):\n",
    "    net.cpu()\n",
    "    for i, (x, y) in enumerate(iter(dataset), 1):\n",
    "        if i <= num_samples:\n",
    "            \n",
    "            x, y = x, y\n",
    "            x = x.reshape(1, 1, x.shape[1], x.shape[2])\n",
    "\n",
    "            y_hat = net(x).argmax()\n",
    "\n",
    "            plt.imshow(x.reshape(x.shape[1], x.shape[2], -1).squeeze())\n",
    "            plt.title(f'{i}. Actual: {y}; Predicted: {y_hat}')\n",
    "            plt.show()\n",
    "        else:\n",
    "            break"
   ]
  },
  {
   "cell_type": "code",
   "execution_count": 17,
   "id": "focused-crawford",
   "metadata": {
    "execution": {
     "iopub.execute_input": "2022-04-09T05:58:08.200017Z",
     "iopub.status.busy": "2022-04-09T05:58:08.199070Z",
     "iopub.status.idle": "2022-04-09T05:58:09.635117Z",
     "shell.execute_reply": "2022-04-09T05:58:09.635627Z",
     "shell.execute_reply.started": "2022-04-09T00:28:37.356268Z"
    },
    "papermill": {
     "duration": 1.474988,
     "end_time": "2022-04-09T05:58:09.635792",
     "exception": false,
     "start_time": "2022-04-09T05:58:08.160804",
     "status": "completed"
    },
    "tags": []
   },
   "outputs": [
    {
     "data": {
      "image/png": "[encoded data removed]",
      "text/plain": [
       "<Figure size 432x288 with 1 Axes>"
      ]
     },
     "metadata": {
      "needs_background": "light"
     },
     "output_type": "display_data"
    },
    {
     "data": {
      "image/png": "[encoded data removed]",
      "text/plain": [
       "<Figure size 432x288 with 1 Axes>"
      ]
     },
     "metadata": {
      "needs_background": "light"
     },
     "output_type": "display_data"
    },
    {
     "data": {
      "image/png": "[encoded data removed]",
      "text/plain": [
       "<Figure size 432x288 with 1 Axes>"
      ]
     },
     "metadata": {
      "needs_background": "light"
     },
     "output_type": "display_data"
    },
    {
     "data": {
      "image/png": "[encoded data removed]",
      "text/plain": [
       "<Figure size 432x288 with 1 Axes>"
      ]
     },
     "metadata": {
      "needs_background": "light"
     },
     "output_type": "display_data"
    },
    {
     "data": {
      "image/png": "[encoded data removed]",
      "text/plain": [
       "<Figure size 432x288 with 1 Axes>"
      ]
     },
     "metadata": {
      "needs_background": "light"
     },
     "output_type": "display_data"
    }
   ],
   "source": [
    "viz_results(resnet, test_data)"
   ]
  }
 ],
 "metadata": {
  "kernelspec": {
   "display_name": "Python 3",
   "language": "python",
   "name": "python3"
  },
  "language_info": {
   "codemirror_mode": {
    "name": "ipython",
    "version": 3
   },
   "file_extension": ".py",
   "mimetype": "text/x-python",
   "name": "python",
   "nbconvert_exporter": "python",
   "pygments_lexer": "ipython3",
   "version": "3.9.12"
  },
  "papermill": {
   "default_parameters": {},
   "duration": 997.226357,
   "end_time": "2022-04-09T05:58:11.084549",
   "environment_variables": {},
   "exception": null,
   "input_path": "__notebook__.ipynb",
   "output_path": "__notebook__.ipynb",
   "parameters": {},
   "start_time": "2022-04-09T05:41:33.858192",
   "version": "2.3.3"
  },
  "widgets": {
   "application/vnd.jupyter.widget-state+json": {
    "state": {
     "001321564c834fdea0bce56fbbcfa5be": {
      "model_module": "@jupyter-widgets/base",
      "model_module_version": "1.2.0",
      "model_name": "LayoutModel",
      "state": {
       "_model_module": "@jupyter-widgets/base",
       "_model_module_version": "1.2.0",
       "_model_name": "LayoutModel",
       "_view_count": null,
       "_view_module": "@jupyter-widgets/base",
       "_view_module_version": "1.2.0",
       "_view_name": "LayoutView",
       "align_content": null,
       "align_items": null,
       "align_self": null,
       "border": null,
       "bottom": null,
       "display": null,
       "flex": null,
       "flex_flow": null,
       "grid_area": null,
       "grid_auto_columns": null,
       "grid_auto_flow": null,
       "grid_auto_rows": null,
       "grid_column": null,
       "grid_gap": null,
       "grid_row": null,
       "grid_template_areas": null,
       "grid_template_columns": null,
       "grid_template_rows": null,
       "height": null,
       "justify_content": null,
       "justify_items": null,
       "left": null,
       "margin": null,
       "max_height": null,
       "max_width": null,
       "min_height": null,
       "min_width": null,
       "object_fit": null,
       "object_position": null,
       "order": null,
       "overflow": null,
       "overflow_x": null,
       "overflow_y": null,
       "padding": null,
       "right": null,
       "top": null,
       "visibility": null,
       "width": null
      }
     },
     "024d2ac4467e44a9917c0d24137d821f": {
      "model_module": "@jupyter-widgets/base",
      "model_module_version": "1.2.0",
      "model_name": "LayoutModel",
      "state": {
       "_model_module": "@jupyter-widgets/base",
       "_model_module_version": "1.2.0",
       "_model_name": "LayoutModel",
       "_view_count": null,
       "_view_module": "@jupyter-widgets/base",
       "_view_module_version": "1.2.0",
       "_view_name": "LayoutView",
       "align_content": null,
       "align_items": null,
       "align_self": null,
       "border": null,
       "bottom": null,
       "display": null,
       "flex": null,
       "flex_flow": null,
       "grid_area": null,
       "grid_auto_columns": null,
       "grid_auto_flow": null,
       "grid_auto_rows": null,
       "grid_column": null,
       "grid_gap": null,
       "grid_row": null,
       "grid_template_areas": null,
       "grid_template_columns": null,
       "grid_template_rows": null,
       "height": null,
       "justify_content": null,
       "justify_items": null,
       "left": null,
       "margin": null,
       "max_height": null,
       "max_width": null,
       "min_height": null,
       "min_width": null,
       "object_fit": null,
       "object_position": null,
       "order": null,
       "overflow": null,
       "overflow_x": null,
       "overflow_y": null,
       "padding": null,
       "right": null,
       "top": null,
       "visibility": null,
       "width": null
      }
     },
     "056154c91b394cafa4f90225edff9cca": {
      "model_module": "@jupyter-widgets/controls",
      "model_module_version": "1.5.0",
      "model_name": "HTMLModel",
      "state": {
       "_dom_classes": [],
       "_model_module": "@jupyter-widgets/controls",
       "_model_module_version": "1.5.0",
       "_model_name": "HTMLModel",
       "_view_count": null,
       "_view_module": "@jupyter-widgets/controls",
       "_view_module_version": "1.5.0",
       "_view_name": "HTMLView",
       "description": "",
       "description_tooltip": null,
       "layout": "IPY_MODEL_024d2ac4467e44a9917c0d24137d821f",
       "placeholder": "​",
       "style": "IPY_MODEL_619db477cbda450cb72a8f42fc1ca613",
       "value": " 5120/? [00:00&lt;00:00, 226000.95it/s]"
      }
     },
     "0655d759c675433e8cd7d99f616c2056": {
      "model_module": "@jupyter-widgets/controls",
      "model_module_version": "1.5.0",
      "model_name": "DescriptionStyleModel",
      "state": {
       "_model_module": "@jupyter-widgets/controls",
       "_model_module_version": "1.5.0",
       "_model_name": "DescriptionStyleModel",
       "_view_count": null,
       "_view_module": "@jupyter-widgets/base",
       "_view_module_version": "1.2.0",
       "_view_name": "StyleView",
       "description_width": ""
      }
     },
     "0d3c4b6e3c244d60b436f27129d7da98": {
      "model_module": "@jupyter-widgets/base",
      "model_module_version": "1.2.0",
      "model_name": "LayoutModel",
      "state": {
       "_model_module": "@jupyter-widgets/base",
       "_model_module_version": "1.2.0",
       "_model_name": "LayoutModel",
       "_view_count": null,
       "_view_module": "@jupyter-widgets/base",
       "_view_module_version": "1.2.0",
       "_view_name": "LayoutView",
       "align_content": null,
       "align_items": null,
       "align_self": null,
       "border": null,
       "bottom": null,
       "display": null,
       "flex": null,
       "flex_flow": null,
       "grid_area": null,
       "grid_auto_columns": null,
       "grid_auto_flow": null,
       "grid_auto_rows": null,
       "grid_column": null,
       "grid_gap": null,
       "grid_row": null,
       "grid_template_areas": null,
       "grid_template_columns": null,
       "grid_template_rows": null,
       "height": null,
       "justify_content": null,
       "justify_items": null,
       "left": null,
       "margin": null,
       "max_height": null,
       "max_width": null,
       "min_height": null,
       "min_width": null,
       "object_fit": null,
       "object_position": null,
       "order": null,
       "overflow": null,
       "overflow_x": null,
       "overflow_y": null,
       "padding": null,
       "right": null,
       "top": null,
       "visibility": null,
       "width": null
      }
     },
     "16c04175d7084027b58f7728914b1acf": {
      "model_module": "@jupyter-widgets/controls",
      "model_module_version": "1.5.0",
      "model_name": "FloatProgressModel",
      "state": {
       "_dom_classes": [],
       "_model_module": "@jupyter-widgets/controls",
       "_model_module_version": "1.5.0",
       "_model_name": "FloatProgressModel",
       "_view_count": null,
       "_view_module": "@jupyter-widgets/controls",
       "_view_module_version": "1.5.0",
       "_view_name": "ProgressView",
       "bar_style": "success",
       "description": "",
       "description_tooltip": null,
       "layout": "IPY_MODEL_2315e50bc4034b15983f956856960b59",
       "max": 28881,
       "min": 0,
       "orientation": "horizontal",
       "style": "IPY_MODEL_dbd8405aa1ee42c883fbc1544bc2d057",
       "value": 28881
      }
     },
     "225a01af8c484c189119dbe4658b94f7": {
      "model_module": "@jupyter-widgets/controls",
      "model_module_version": "1.5.0",
      "model_name": "HTMLModel",
      "state": {
       "_dom_classes": [],
       "_model_module": "@jupyter-widgets/controls",
       "_model_module_version": "1.5.0",
       "_model_name": "HTMLModel",
       "_view_count": null,
       "_view_module": "@jupyter-widgets/controls",
       "_view_module_version": "1.5.0",
       "_view_name": "HTMLView",
       "description": "",
       "description_tooltip": null,
       "layout": "IPY_MODEL_9cee4be2ee734a0190db143eeaca4014",
       "placeholder": "​",
       "style": "IPY_MODEL_55f806c3b4d84801b87d6a89b73e0bbc",
       "value": ""
      }
     },
     "2315e50bc4034b15983f956856960b59": {
      "model_module": "@jupyter-widgets/base",
      "model_module_version": "1.2.0",
      "model_name": "LayoutModel",
      "state": {
       "_model_module": "@jupyter-widgets/base",
       "_model_module_version": "1.2.0",
       "_model_name": "LayoutModel",
       "_view_count": null,
       "_view_module": "@jupyter-widgets/base",
       "_view_module_version": "1.2.0",
       "_view_name": "LayoutView",
       "align_content": null,
       "align_items": null,
       "align_self": null,
       "border": null,
       "bottom": null,
       "display": null,
       "flex": null,
       "flex_flow": null,
       "grid_area": null,
       "grid_auto_columns": null,
       "grid_auto_flow": null,
       "grid_auto_rows": null,
       "grid_column": null,
       "grid_gap": null,
       "grid_row": null,
       "grid_template_areas": null,
       "grid_template_columns": null,
       "grid_template_rows": null,
       "height": null,
       "justify_content": null,
       "justify_items": null,
       "left": null,
       "margin": null,
       "max_height": null,
       "max_width": null,
       "min_height": null,
       "min_width": null,
       "object_fit": null,
       "object_position": null,
       "order": null,
       "overflow": null,
       "overflow_x": null,
       "overflow_y": null,
       "padding": null,
       "right": null,
       "top": null,
       "visibility": null,
       "width": null
      }
     },
     "2622fc28bc664773970a17487d926f26": {
      "model_module": "@jupyter-widgets/controls",
      "model_module_version": "1.5.0",
      "model_name": "DescriptionStyleModel",
      "state": {
       "_model_module": "@jupyter-widgets/controls",
       "_model_module_version": "1.5.0",
       "_model_name": "DescriptionStyleModel",
       "_view_count": null,
       "_view_module": "@jupyter-widgets/base",
       "_view_module_version": "1.2.0",
       "_view_name": "StyleView",
       "description_width": ""
      }
     },
     "27df637d9f744d3fa9cee0ced09de386": {
      "model_module": "@jupyter-widgets/controls",
      "model_module_version": "1.5.0",
      "model_name": "HBoxModel",
      "state": {
       "_dom_classes": [],
       "_model_module": "@jupyter-widgets/controls",
       "_model_module_version": "1.5.0",
       "_model_name": "HBoxModel",
       "_view_count": null,
       "_view_module": "@jupyter-widgets/controls",
       "_view_module_version": "1.5.0",
       "_view_name": "HBoxView",
       "box_style": "",
       "children": [
        "IPY_MODEL_48513de152ec4fb6b90dd8e53f820c35",
        "IPY_MODEL_874fdf56743f44cf94b8c38464cfd07b",
        "IPY_MODEL_e0d1ccc9121c42b2b059aae84ce44a79"
       ],
       "layout": "IPY_MODEL_d5ab1ac92c594e199be8db4b78a99968"
      }
     },
     "29e7612417ef43229dfbfb12a485cead": {
      "model_module": "@jupyter-widgets/controls",
      "model_module_version": "1.5.0",
      "model_name": "HBoxModel",
      "state": {
       "_dom_classes": [],
       "_model_module": "@jupyter-widgets/controls",
       "_model_module_version": "1.5.0",
       "_model_name": "HBoxModel",
       "_view_count": null,
       "_view_module": "@jupyter-widgets/controls",
       "_view_module_version": "1.5.0",
       "_view_name": "HBoxView",
       "box_style": "",
       "children": [
        "IPY_MODEL_225a01af8c484c189119dbe4658b94f7",
        "IPY_MODEL_c207f5125db64c7fbde827e993f25359",
        "IPY_MODEL_056154c91b394cafa4f90225edff9cca"
       ],
       "layout": "IPY_MODEL_bfd36ad1c6fb42c69665f725aef9e6a4"
      }
     },
     "36d110e093ea4108a3d7afc5c1713602": {
      "model_module": "@jupyter-widgets/base",
      "model_module_version": "1.2.0",
      "model_name": "LayoutModel",
      "state": {
       "_model_module": "@jupyter-widgets/base",
       "_model_module_version": "1.2.0",
       "_model_name": "LayoutModel",
       "_view_count": null,
       "_view_module": "@jupyter-widgets/base",
       "_view_module_version": "1.2.0",
       "_view_name": "LayoutView",
       "align_content": null,
       "align_items": null,
       "align_self": null,
       "border": null,
       "bottom": null,
       "display": null,
       "flex": null,
       "flex_flow": null,
       "grid_area": null,
       "grid_auto_columns": null,
       "grid_auto_flow": null,
       "grid_auto_rows": null,
       "grid_column": null,
       "grid_gap": null,
       "grid_row": null,
       "grid_template_areas": null,
       "grid_template_columns": null,
       "grid_template_rows": null,
       "height": null,
       "justify_content": null,
       "justify_items": null,
       "left": null,
       "margin": null,
       "max_height": null,
       "max_width": null,
       "min_height": null,
       "min_width": null,
       "object_fit": null,
       "object_position": null,
       "order": null,
       "overflow": null,
       "overflow_x": null,
       "overflow_y": null,
       "padding": null,
       "right": null,
       "top": null,
       "visibility": null,
       "width": null
      }
     },
     "3a696741d3e64922a5cd80d0be22705b": {
      "model_module": "@jupyter-widgets/controls",
      "model_module_version": "1.5.0",
      "model_name": "ProgressStyleModel",
      "state": {
       "_model_module": "@jupyter-widgets/controls",
       "_model_module_version": "1.5.0",
       "_model_name": "ProgressStyleModel",
       "_view_count": null,
       "_view_module": "@jupyter-widgets/base",
       "_view_module_version": "1.2.0",
       "_view_name": "StyleView",
       "bar_color": null,
       "description_width": ""
      }
     },
     "48513de152ec4fb6b90dd8e53f820c35": {
      "model_module": "@jupyter-widgets/controls",
      "model_module_version": "1.5.0",
      "model_name": "HTMLModel",
      "state": {
       "_dom_classes": [],
       "_model_module": "@jupyter-widgets/controls",
       "_model_module_version": "1.5.0",
       "_model_name": "HTMLModel",
       "_view_count": null,
       "_view_module": "@jupyter-widgets/controls",
       "_view_module_version": "1.5.0",
       "_view_name": "HTMLView",
       "description": "",
       "description_tooltip": null,
       "layout": "IPY_MODEL_df6affe823794b91bb4544169e019543",
       "placeholder": "​",
       "style": "IPY_MODEL_0655d759c675433e8cd7d99f616c2056",
       "value": ""
      }
     },
     "4aa7badb229349c1a355975b16e38354": {
      "model_module": "@jupyter-widgets/controls",
      "model_module_version": "1.5.0",
      "model_name": "DescriptionStyleModel",
      "state": {
       "_model_module": "@jupyter-widgets/controls",
       "_model_module_version": "1.5.0",
       "_model_name": "DescriptionStyleModel",
       "_view_count": null,
       "_view_module": "@jupyter-widgets/base",
       "_view_module_version": "1.2.0",
       "_view_name": "StyleView",
       "description_width": ""
      }
     },
     "4b96532eb1bb4063ad09114efe9a41bb": {
      "model_module": "@jupyter-widgets/controls",
      "model_module_version": "1.5.0",
      "model_name": "HTMLModel",
      "state": {
       "_dom_classes": [],
       "_model_module": "@jupyter-widgets/controls",
       "_model_module_version": "1.5.0",
       "_model_name": "HTMLModel",
       "_view_count": null,
       "_view_module": "@jupyter-widgets/controls",
       "_view_module_version": "1.5.0",
       "_view_name": "HTMLView",
       "description": "",
       "description_tooltip": null,
       "layout": "IPY_MODEL_c3b1081e5d66473980965bb657a9c018",
       "placeholder": "​",
       "style": "IPY_MODEL_4aa7badb229349c1a355975b16e38354",
       "value": ""
      }
     },
     "4f79e4c6da164629b98795e5495f3153": {
      "model_module": "@jupyter-widgets/controls",
      "model_module_version": "1.5.0",
      "model_name": "DescriptionStyleModel",
      "state": {
       "_model_module": "@jupyter-widgets/controls",
       "_model_module_version": "1.5.0",
       "_model_name": "DescriptionStyleModel",
       "_view_count": null,
       "_view_module": "@jupyter-widgets/base",
       "_view_module_version": "1.2.0",
       "_view_name": "StyleView",
       "description_width": ""
      }
     },
     "50e07e3eb4f04bb0b53b82419bdae9d7": {
      "model_module": "@jupyter-widgets/controls",
      "model_module_version": "1.5.0",
      "model_name": "ProgressStyleModel",
      "state": {
       "_model_module": "@jupyter-widgets/controls",
       "_model_module_version": "1.5.0",
       "_model_name": "ProgressStyleModel",
       "_view_count": null,
       "_view_module": "@jupyter-widgets/base",
       "_view_module_version": "1.2.0",
       "_view_name": "StyleView",
       "bar_color": null,
       "description_width": ""
      }
     },
     "55f806c3b4d84801b87d6a89b73e0bbc": {
      "model_module": "@jupyter-widgets/controls",
      "model_module_version": "1.5.0",
      "model_name": "DescriptionStyleModel",
      "state": {
       "_model_module": "@jupyter-widgets/controls",
       "_model_module_version": "1.5.0",
       "_model_name": "DescriptionStyleModel",
       "_view_count": null,
       "_view_module": "@jupyter-widgets/base",
       "_view_module_version": "1.2.0",
       "_view_name": "StyleView",
       "description_width": ""
      }
     },
     "5f45cdff02b4420d832ad7db5b1e8576": {
      "model_module": "@jupyter-widgets/controls",
      "model_module_version": "1.5.0",
      "model_name": "HTMLModel",
      "state": {
       "_dom_classes": [],
       "_model_module": "@jupyter-widgets/controls",
       "_model_module_version": "1.5.0",
       "_model_name": "HTMLModel",
       "_view_count": null,
       "_view_module": "@jupyter-widgets/controls",
       "_view_module_version": "1.5.0",
       "_view_name": "HTMLView",
       "description": "",
       "description_tooltip": null,
       "layout": "IPY_MODEL_e07af0aaade2443689891212733ebed4",
       "placeholder": "​",
       "style": "IPY_MODEL_b379dd532641478e829a545a40a9b30c",
       "value": " 29696/? [00:00&lt;00:00, 877827.40it/s]"
      }
     },
     "619db477cbda450cb72a8f42fc1ca613": {
      "model_module": "@jupyter-widgets/controls",
      "model_module_version": "1.5.0",
      "model_name": "DescriptionStyleModel",
      "state": {
       "_model_module": "@jupyter-widgets/controls",
       "_model_module_version": "1.5.0",
       "_model_name": "DescriptionStyleModel",
       "_view_count": null,
       "_view_module": "@jupyter-widgets/base",
       "_view_module_version": "1.2.0",
       "_view_name": "StyleView",
       "description_width": ""
      }
     },
     "67da7995a77241308eeb9a66db2eaf5a": {
      "model_module": "@jupyter-widgets/controls",
      "model_module_version": "1.5.0",
      "model_name": "DescriptionStyleModel",
      "state": {
       "_model_module": "@jupyter-widgets/controls",
       "_model_module_version": "1.5.0",
       "_model_name": "DescriptionStyleModel",
       "_view_count": null,
       "_view_module": "@jupyter-widgets/base",
       "_view_module_version": "1.2.0",
       "_view_name": "StyleView",
       "description_width": ""
      }
     },
     "874fdf56743f44cf94b8c38464cfd07b": {
      "model_module": "@jupyter-widgets/controls",
      "model_module_version": "1.5.0",
      "model_name": "FloatProgressModel",
      "state": {
       "_dom_classes": [],
       "_model_module": "@jupyter-widgets/controls",
       "_model_module_version": "1.5.0",
       "_model_name": "FloatProgressModel",
       "_view_count": null,
       "_view_module": "@jupyter-widgets/controls",
       "_view_module_version": "1.5.0",
       "_view_name": "ProgressView",
       "bar_style": "success",
       "description": "",
       "description_tooltip": null,
       "layout": "IPY_MODEL_36d110e093ea4108a3d7afc5c1713602",
       "max": 9912422,
       "min": 0,
       "orientation": "horizontal",
       "style": "IPY_MODEL_95365eeca4074f72919226b3d2867fca",
       "value": 9912422
      }
     },
     "95365eeca4074f72919226b3d2867fca": {
      "model_module": "@jupyter-widgets/controls",
      "model_module_version": "1.5.0",
      "model_name": "ProgressStyleModel",
      "state": {
       "_model_module": "@jupyter-widgets/controls",
       "_model_module_version": "1.5.0",
       "_model_name": "ProgressStyleModel",
       "_view_count": null,
       "_view_module": "@jupyter-widgets/base",
       "_view_module_version": "1.2.0",
       "_view_name": "StyleView",
       "bar_color": null,
       "description_width": ""
      }
     },
     "997e2f2e3bfa46889878234623bbd1c6": {
      "model_module": "@jupyter-widgets/controls",
      "model_module_version": "1.5.0",
      "model_name": "HBoxModel",
      "state": {
       "_dom_classes": [],
       "_model_module": "@jupyter-widgets/controls",
       "_model_module_version": "1.5.0",
       "_model_name": "HBoxModel",
       "_view_count": null,
       "_view_module": "@jupyter-widgets/controls",
       "_view_module_version": "1.5.0",
       "_view_name": "HBoxView",
       "box_style": "",
       "children": [
        "IPY_MODEL_4b96532eb1bb4063ad09114efe9a41bb",
        "IPY_MODEL_b8ae7500c4444247806f034ed9516a4d",
        "IPY_MODEL_b30569674e834c9f832890aaac991292"
       ],
       "layout": "IPY_MODEL_b1038e2b4d6e479f9d1eb8748ab19fdb"
      }
     },
     "9cee4be2ee734a0190db143eeaca4014": {
      "model_module": "@jupyter-widgets/base",
      "model_module_version": "1.2.0",
      "model_name": "LayoutModel",
      "state": {
       "_model_module": "@jupyter-widgets/base",
       "_model_module_version": "1.2.0",
       "_model_name": "LayoutModel",
       "_view_count": null,
       "_view_module": "@jupyter-widgets/base",
       "_view_module_version": "1.2.0",
       "_view_name": "LayoutView",
       "align_content": null,
       "align_items": null,
       "align_self": null,
       "border": null,
       "bottom": null,
       "display": null,
       "flex": null,
       "flex_flow": null,
       "grid_area": null,
       "grid_auto_columns": null,
       "grid_auto_flow": null,
       "grid_auto_rows": null,
       "grid_column": null,
       "grid_gap": null,
       "grid_row": null,
       "grid_template_areas": null,
       "grid_template_columns": null,
       "grid_template_rows": null,
       "height": null,
       "justify_content": null,
       "justify_items": null,
       "left": null,
       "margin": null,
       "max_height": null,
       "max_width": null,
       "min_height": null,
       "min_width": null,
       "object_fit": null,
       "object_position": null,
       "order": null,
       "overflow": null,
       "overflow_x": null,
       "overflow_y": null,
       "padding": null,
       "right": null,
       "top": null,
       "visibility": null,
       "width": null
      }
     },
     "a28e5ff3ed6141beab55675a0ef8a042": {
      "model_module": "@jupyter-widgets/controls",
      "model_module_version": "1.5.0",
      "model_name": "HBoxModel",
      "state": {
       "_dom_classes": [],
       "_model_module": "@jupyter-widgets/controls",
       "_model_module_version": "1.5.0",
       "_model_name": "HBoxModel",
       "_view_count": null,
       "_view_module": "@jupyter-widgets/controls",
       "_view_module_version": "1.5.0",
       "_view_name": "HBoxView",
       "box_style": "",
       "children": [
        "IPY_MODEL_ea3e59991f2e4ed28fb9beb5c982cd5b",
        "IPY_MODEL_16c04175d7084027b58f7728914b1acf",
        "IPY_MODEL_5f45cdff02b4420d832ad7db5b1e8576"
       ],
       "layout": "IPY_MODEL_b0d55a199c6f428984c785891fb85391"
      }
     },
     "aafe9e9159f244898b13f87b8fa4097c": {
      "model_module": "@jupyter-widgets/base",
      "model_module_version": "1.2.0",
      "model_name": "LayoutModel",
      "state": {
       "_model_module": "@jupyter-widgets/base",
       "_model_module_version": "1.2.0",
       "_model_name": "LayoutModel",
       "_view_count": null,
       "_view_module": "@jupyter-widgets/base",
       "_view_module_version": "1.2.0",
       "_view_name": "LayoutView",
       "align_content": null,
       "align_items": null,
       "align_self": null,
       "border": null,
       "bottom": null,
       "display": null,
       "flex": null,
       "flex_flow": null,
       "grid_area": null,
       "grid_auto_columns": null,
       "grid_auto_flow": null,
       "grid_auto_rows": null,
       "grid_column": null,
       "grid_gap": null,
       "grid_row": null,
       "grid_template_areas": null,
       "grid_template_columns": null,
       "grid_template_rows": null,
       "height": null,
       "justify_content": null,
       "justify_items": null,
       "left": null,
       "margin": null,
       "max_height": null,
       "max_width": null,
       "min_height": null,
       "min_width": null,
       "object_fit": null,
       "object_position": null,
       "order": null,
       "overflow": null,
       "overflow_x": null,
       "overflow_y": null,
       "padding": null,
       "right": null,
       "top": null,
       "visibility": null,
       "width": null
      }
     },
     "acd1145da368469ba29bacf6eaa283d8": {
      "model_module": "@jupyter-widgets/base",
      "model_module_version": "1.2.0",
      "model_name": "LayoutModel",
      "state": {
       "_model_module": "@jupyter-widgets/base",
       "_model_module_version": "1.2.0",
       "_model_name": "LayoutModel",
       "_view_count": null,
       "_view_module": "@jupyter-widgets/base",
       "_view_module_version": "1.2.0",
       "_view_name": "LayoutView",
       "align_content": null,
       "align_items": null,
       "align_self": null,
       "border": null,
       "bottom": null,
       "display": null,
       "flex": null,
       "flex_flow": null,
       "grid_area": null,
       "grid_auto_columns": null,
       "grid_auto_flow": null,
       "grid_auto_rows": null,
       "grid_column": null,
       "grid_gap": null,
       "grid_row": null,
       "grid_template_areas": null,
       "grid_template_columns": null,
       "grid_template_rows": null,
       "height": null,
       "justify_content": null,
       "justify_items": null,
       "left": null,
       "margin": null,
       "max_height": null,
       "max_width": null,
       "min_height": null,
       "min_width": null,
       "object_fit": null,
       "object_position": null,
       "order": null,
       "overflow": null,
       "overflow_x": null,
       "overflow_y": null,
       "padding": null,
       "right": null,
       "top": null,
       "visibility": null,
       "width": null
      }
     },
     "b0d55a199c6f428984c785891fb85391": {
      "model_module": "@jupyter-widgets/base",
      "model_module_version": "1.2.0",
      "model_name": "LayoutModel",
      "state": {
       "_model_module": "@jupyter-widgets/base",
       "_model_module_version": "1.2.0",
       "_model_name": "LayoutModel",
       "_view_count": null,
       "_view_module": "@jupyter-widgets/base",
       "_view_module_version": "1.2.0",
       "_view_name": "LayoutView",
       "align_content": null,
       "align_items": null,
       "align_self": null,
       "border": null,
       "bottom": null,
       "display": null,
       "flex": null,
       "flex_flow": null,
       "grid_area": null,
       "grid_auto_columns": null,
       "grid_auto_flow": null,
       "grid_auto_rows": null,
       "grid_column": null,
       "grid_gap": null,
       "grid_row": null,
       "grid_template_areas": null,
       "grid_template_columns": null,
       "grid_template_rows": null,
       "height": null,
       "justify_content": null,
       "justify_items": null,
       "left": null,
       "margin": null,
       "max_height": null,
       "max_width": null,
       "min_height": null,
       "min_width": null,
       "object_fit": null,
       "object_position": null,
       "order": null,
       "overflow": null,
       "overflow_x": null,
       "overflow_y": null,
       "padding": null,
       "right": null,
       "top": null,
       "visibility": null,
       "width": null
      }
     },
     "b1038e2b4d6e479f9d1eb8748ab19fdb": {
      "model_module": "@jupyter-widgets/base",
      "model_module_version": "1.2.0",
      "model_name": "LayoutModel",
      "state": {
       "_model_module": "@jupyter-widgets/base",
       "_model_module_version": "1.2.0",
       "_model_name": "LayoutModel",
       "_view_count": null,
       "_view_module": "@jupyter-widgets/base",
       "_view_module_version": "1.2.0",
       "_view_name": "LayoutView",
       "align_content": null,
       "align_items": null,
       "align_self": null,
       "border": null,
       "bottom": null,
       "display": null,
       "flex": null,
       "flex_flow": null,
       "grid_area": null,
       "grid_auto_columns": null,
       "grid_auto_flow": null,
       "grid_auto_rows": null,
       "grid_column": null,
       "grid_gap": null,
       "grid_row": null,
       "grid_template_areas": null,
       "grid_template_columns": null,
       "grid_template_rows": null,
       "height": null,
       "justify_content": null,
       "justify_items": null,
       "left": null,
       "margin": null,
       "max_height": null,
       "max_width": null,
       "min_height": null,
       "min_width": null,
       "object_fit": null,
       "object_position": null,
       "order": null,
       "overflow": null,
       "overflow_x": null,
       "overflow_y": null,
       "padding": null,
       "right": null,
       "top": null,
       "visibility": null,
       "width": null
      }
     },
     "b30569674e834c9f832890aaac991292": {
      "model_module": "@jupyter-widgets/controls",
      "model_module_version": "1.5.0",
      "model_name": "HTMLModel",
      "state": {
       "_dom_classes": [],
       "_model_module": "@jupyter-widgets/controls",
       "_model_module_version": "1.5.0",
       "_model_name": "HTMLModel",
       "_view_count": null,
       "_view_module": "@jupyter-widgets/controls",
       "_view_module_version": "1.5.0",
       "_view_name": "HTMLView",
       "description": "",
       "description_tooltip": null,
       "layout": "IPY_MODEL_fc48acfa47a846ec9a382f2562bf497b",
       "placeholder": "​",
       "style": "IPY_MODEL_4f79e4c6da164629b98795e5495f3153",
       "value": " 1649664/? [00:00&lt;00:00, 3084276.45it/s]"
      }
     },
     "b379dd532641478e829a545a40a9b30c": {
      "model_module": "@jupyter-widgets/controls",
      "model_module_version": "1.5.0",
      "model_name": "DescriptionStyleModel",
      "state": {
       "_model_module": "@jupyter-widgets/controls",
       "_model_module_version": "1.5.0",
       "_model_name": "DescriptionStyleModel",
       "_view_count": null,
       "_view_module": "@jupyter-widgets/base",
       "_view_module_version": "1.2.0",
       "_view_name": "StyleView",
       "description_width": ""
      }
     },
     "b8ae7500c4444247806f034ed9516a4d": {
      "model_module": "@jupyter-widgets/controls",
      "model_module_version": "1.5.0",
      "model_name": "FloatProgressModel",
      "state": {
       "_dom_classes": [],
       "_model_module": "@jupyter-widgets/controls",
       "_model_module_version": "1.5.0",
       "_model_name": "FloatProgressModel",
       "_view_count": null,
       "_view_module": "@jupyter-widgets/controls",
       "_view_module_version": "1.5.0",
       "_view_name": "ProgressView",
       "bar_style": "success",
       "description": "",
       "description_tooltip": null,
       "layout": "IPY_MODEL_0d3c4b6e3c244d60b436f27129d7da98",
       "max": 1648877,
       "min": 0,
       "orientation": "horizontal",
       "style": "IPY_MODEL_50e07e3eb4f04bb0b53b82419bdae9d7",
       "value": 1648877
      }
     },
     "bfd36ad1c6fb42c69665f725aef9e6a4": {
      "model_module": "@jupyter-widgets/base",
      "model_module_version": "1.2.0",
      "model_name": "LayoutModel",
      "state": {
       "_model_module": "@jupyter-widgets/base",
       "_model_module_version": "1.2.0",
       "_model_name": "LayoutModel",
       "_view_count": null,
       "_view_module": "@jupyter-widgets/base",
       "_view_module_version": "1.2.0",
       "_view_name": "LayoutView",
       "align_content": null,
       "align_items": null,
       "align_self": null,
       "border": null,
       "bottom": null,
       "display": null,
       "flex": null,
       "flex_flow": null,
       "grid_area": null,
       "grid_auto_columns": null,
       "grid_auto_flow": null,
       "grid_auto_rows": null,
       "grid_column": null,
       "grid_gap": null,
       "grid_row": null,
       "grid_template_areas": null,
       "grid_template_columns": null,
       "grid_template_rows": null,
       "height": null,
       "justify_content": null,
       "justify_items": null,
       "left": null,
       "margin": null,
       "max_height": null,
       "max_width": null,
       "min_height": null,
       "min_width": null,
       "object_fit": null,
       "object_position": null,
       "order": null,
       "overflow": null,
       "overflow_x": null,
       "overflow_y": null,
       "padding": null,
       "right": null,
       "top": null,
       "visibility": null,
       "width": null
      }
     },
     "c207f5125db64c7fbde827e993f25359": {
      "model_module": "@jupyter-widgets/controls",
      "model_module_version": "1.5.0",
      "model_name": "FloatProgressModel",
      "state": {
       "_dom_classes": [],
       "_model_module": "@jupyter-widgets/controls",
       "_model_module_version": "1.5.0",
       "_model_name": "FloatProgressModel",
       "_view_count": null,
       "_view_module": "@jupyter-widgets/controls",
       "_view_module_version": "1.5.0",
       "_view_name": "ProgressView",
       "bar_style": "success",
       "description": "",
       "description_tooltip": null,
       "layout": "IPY_MODEL_aafe9e9159f244898b13f87b8fa4097c",
       "max": 4542,
       "min": 0,
       "orientation": "horizontal",
       "style": "IPY_MODEL_3a696741d3e64922a5cd80d0be22705b",
       "value": 4542
      }
     },
     "c3b1081e5d66473980965bb657a9c018": {
      "model_module": "@jupyter-widgets/base",
      "model_module_version": "1.2.0",
      "model_name": "LayoutModel",
      "state": {
       "_model_module": "@jupyter-widgets/base",
       "_model_module_version": "1.2.0",
       "_model_name": "LayoutModel",
       "_view_count": null,
       "_view_module": "@jupyter-widgets/base",
       "_view_module_version": "1.2.0",
       "_view_name": "LayoutView",
       "align_content": null,
       "align_items": null,
       "align_self": null,
       "border": null,
       "bottom": null,
       "display": null,
       "flex": null,
       "flex_flow": null,
       "grid_area": null,
       "grid_auto_columns": null,
       "grid_auto_flow": null,
       "grid_auto_rows": null,
       "grid_column": null,
       "grid_gap": null,
       "grid_row": null,
       "grid_template_areas": null,
       "grid_template_columns": null,
       "grid_template_rows": null,
       "height": null,
       "justify_content": null,
       "justify_items": null,
       "left": null,
       "margin": null,
       "max_height": null,
       "max_width": null,
       "min_height": null,
       "min_width": null,
       "object_fit": null,
       "object_position": null,
       "order": null,
       "overflow": null,
       "overflow_x": null,
       "overflow_y": null,
       "padding": null,
       "right": null,
       "top": null,
       "visibility": null,
       "width": null
      }
     },
     "d5ab1ac92c594e199be8db4b78a99968": {
      "model_module": "@jupyter-widgets/base",
      "model_module_version": "1.2.0",
      "model_name": "LayoutModel",
      "state": {
       "_model_module": "@jupyter-widgets/base",
       "_model_module_version": "1.2.0",
       "_model_name": "LayoutModel",
       "_view_count": null,
       "_view_module": "@jupyter-widgets/base",
       "_view_module_version": "1.2.0",
       "_view_name": "LayoutView",
       "align_content": null,
       "align_items": null,
       "align_self": null,
       "border": null,
       "bottom": null,
       "display": null,
       "flex": null,
       "flex_flow": null,
       "grid_area": null,
       "grid_auto_columns": null,
       "grid_auto_flow": null,
       "grid_auto_rows": null,
       "grid_column": null,
       "grid_gap": null,
       "grid_row": null,
       "grid_template_areas": null,
       "grid_template_columns": null,
       "grid_template_rows": null,
       "height": null,
       "justify_content": null,
       "justify_items": null,
       "left": null,
       "margin": null,
       "max_height": null,
       "max_width": null,
       "min_height": null,
       "min_width": null,
       "object_fit": null,
       "object_position": null,
       "order": null,
       "overflow": null,
       "overflow_x": null,
       "overflow_y": null,
       "padding": null,
       "right": null,
       "top": null,
       "visibility": null,
       "width": null
      }
     },
     "dbd8405aa1ee42c883fbc1544bc2d057": {
      "model_module": "@jupyter-widgets/controls",
      "model_module_version": "1.5.0",
      "model_name": "ProgressStyleModel",
      "state": {
       "_model_module": "@jupyter-widgets/controls",
       "_model_module_version": "1.5.0",
       "_model_name": "ProgressStyleModel",
       "_view_count": null,
       "_view_module": "@jupyter-widgets/base",
       "_view_module_version": "1.2.0",
       "_view_name": "StyleView",
       "bar_color": null,
       "description_width": ""
      }
     },
     "df6affe823794b91bb4544169e019543": {
      "model_module": "@jupyter-widgets/base",
      "model_module_version": "1.2.0",
      "model_name": "LayoutModel",
      "state": {
       "_model_module": "@jupyter-widgets/base",
       "_model_module_version": "1.2.0",
       "_model_name": "LayoutModel",
       "_view_count": null,
       "_view_module": "@jupyter-widgets/base",
       "_view_module_version": "1.2.0",
       "_view_name": "LayoutView",
       "align_content": null,
       "align_items": null,
       "align_self": null,
       "border": null,
       "bottom": null,
       "display": null,
       "flex": null,
       "flex_flow": null,
       "grid_area": null,
       "grid_auto_columns": null,
       "grid_auto_flow": null,
       "grid_auto_rows": null,
       "grid_column": null,
       "grid_gap": null,
       "grid_row": null,
       "grid_template_areas": null,
       "grid_template_columns": null,
       "grid_template_rows": null,
       "height": null,
       "justify_content": null,
       "justify_items": null,
       "left": null,
       "margin": null,
       "max_height": null,
       "max_width": null,
       "min_height": null,
       "min_width": null,
       "object_fit": null,
       "object_position": null,
       "order": null,
       "overflow": null,
       "overflow_x": null,
       "overflow_y": null,
       "padding": null,
       "right": null,
       "top": null,
       "visibility": null,
       "width": null
      }
     },
     "e07af0aaade2443689891212733ebed4": {
      "model_module": "@jupyter-widgets/base",
      "model_module_version": "1.2.0",
      "model_name": "LayoutModel",
      "state": {
       "_model_module": "@jupyter-widgets/base",
       "_model_module_version": "1.2.0",
       "_model_name": "LayoutModel",
       "_view_count": null,
       "_view_module": "@jupyter-widgets/base",
       "_view_module_version": "1.2.0",
       "_view_name": "LayoutView",
       "align_content": null,
       "align_items": null,
       "align_self": null,
       "border": null,
       "bottom": null,
       "display": null,
       "flex": null,
       "flex_flow": null,
       "grid_area": null,
       "grid_auto_columns": null,
       "grid_auto_flow": null,
       "grid_auto_rows": null,
       "grid_column": null,
       "grid_gap": null,
       "grid_row": null,
       "grid_template_areas": null,
       "grid_template_columns": null,
       "grid_template_rows": null,
       "height": null,
       "justify_content": null,
       "justify_items": null,
       "left": null,
       "margin": null,
       "max_height": null,
       "max_width": null,
       "min_height": null,
       "min_width": null,
       "object_fit": null,
       "object_position": null,
       "order": null,
       "overflow": null,
       "overflow_x": null,
       "overflow_y": null,
       "padding": null,
       "right": null,
       "top": null,
       "visibility": null,
       "width": null
      }
     },
     "e0d1ccc9121c42b2b059aae84ce44a79": {
      "model_module": "@jupyter-widgets/controls",
      "model_module_version": "1.5.0",
      "model_name": "HTMLModel",
      "state": {
       "_dom_classes": [],
       "_model_module": "@jupyter-widgets/controls",
       "_model_module_version": "1.5.0",
       "_model_name": "HTMLModel",
       "_view_count": null,
       "_view_module": "@jupyter-widgets/controls",
       "_view_module_version": "1.5.0",
       "_view_name": "HTMLView",
       "description": "",
       "description_tooltip": null,
       "layout": "IPY_MODEL_001321564c834fdea0bce56fbbcfa5be",
       "placeholder": "​",
       "style": "IPY_MODEL_67da7995a77241308eeb9a66db2eaf5a",
       "value": " 9913344/? [00:00&lt;00:00, 19323456.63it/s]"
      }
     },
     "ea3e59991f2e4ed28fb9beb5c982cd5b": {
      "model_module": "@jupyter-widgets/controls",
      "model_module_version": "1.5.0",
      "model_name": "HTMLModel",
      "state": {
       "_dom_classes": [],
       "_model_module": "@jupyter-widgets/controls",
       "_model_module_version": "1.5.0",
       "_model_name": "HTMLModel",
       "_view_count": null,
       "_view_module": "@jupyter-widgets/controls",
       "_view_module_version": "1.5.0",
       "_view_name": "HTMLView",
       "description": "",
       "description_tooltip": null,
       "layout": "IPY_MODEL_acd1145da368469ba29bacf6eaa283d8",
       "placeholder": "​",
       "style": "IPY_MODEL_2622fc28bc664773970a17487d926f26",
       "value": ""
      }
     },
     "fc48acfa47a846ec9a382f2562bf497b": {
      "model_module": "@jupyter-widgets/base",
      "model_module_version": "1.2.0",
      "model_name": "LayoutModel",
      "state": {
       "_model_module": "@jupyter-widgets/base",
       "_model_module_version": "1.2.0",
       "_model_name": "LayoutModel",
       "_view_count": null,
       "_view_module": "@jupyter-widgets/base",
       "_view_module_version": "1.2.0",
       "_view_name": "LayoutView",
       "align_content": null,
       "align_items": null,
       "align_self": null,
       "border": null,
       "bottom": null,
       "display": null,
       "flex": null,
       "flex_flow": null,
       "grid_area": null,
       "grid_auto_columns": null,
       "grid_auto_flow": null,
       "grid_auto_rows": null,
       "grid_column": null,
       "grid_gap": null,
       "grid_row": null,
       "grid_template_areas": null,
       "grid_template_columns": null,
       "grid_template_rows": null,
       "height": null,
       "justify_content": null,
       "justify_items": null,
       "left": null,
       "margin": null,
       "max_height": null,
       "max_width": null,
       "min_height": null,
       "min_width": null,
       "object_fit": null,
       "object_position": null,
       "order": null,
       "overflow": null,
       "overflow_x": null,
       "overflow_y": null,
       "padding": null,
       "right": null,
       "top": null,
       "visibility": null,
       "width": null
      }
     }
    },
    "version_major": 2,
    "version_minor": 0
   }
  }
 },
 "nbformat": 4,
 "nbformat_minor": 5
}
