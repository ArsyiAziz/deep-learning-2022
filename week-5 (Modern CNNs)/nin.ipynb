{
 "cells": [
  {
   "cell_type": "markdown",
   "id": "active-mainstream",
   "metadata": {
    "id": "kPUz7s7O0ezG",
    "papermill": {
     "duration": 0.018545,
     "end_time": "2022-04-09T03:02:24.117640",
     "exception": false,
     "start_time": "2022-04-09T03:02:24.099095",
     "status": "completed"
    },
    "tags": []
   },
   "source": [
    " # Assignment 2 - Modern CNNs (NiN)\n",
    "*This notebook was run by Arsyi Syarief Aziz (H071191003) for the Introduction to Deep Learning course (Unhas) taught by Dr. Risman Adnan.*"
   ]
  },
  {
   "cell_type": "markdown",
   "id": "manual-fence",
   "metadata": {
    "id": "1kNAVed00oG_",
    "papermill": {
     "duration": 0.016874,
     "end_time": "2022-04-09T03:02:24.153886",
     "exception": false,
     "start_time": "2022-04-09T03:02:24.137012",
     "status": "completed"
    },
    "tags": []
   },
   "source": [
    "This is part 3/7 of this week's assignment. In this notebook, I will attempt to implement NiN."
   ]
  },
  {
   "cell_type": "code",
   "execution_count": 1,
   "id": "treated-recipe",
   "metadata": {
    "execution": {
     "iopub.execute_input": "2022-04-09T03:02:24.200004Z",
     "iopub.status.busy": "2022-04-09T03:02:24.199252Z",
     "iopub.status.idle": "2022-04-09T03:02:25.762135Z",
     "shell.execute_reply": "2022-04-09T03:02:25.762598Z",
     "shell.execute_reply.started": "2022-04-09T00:10:07.489267Z"
    },
    "id": "BCpzEwH657Mb",
    "papermill": {
     "duration": 1.591065,
     "end_time": "2022-04-09T03:02:25.762872",
     "exception": false,
     "start_time": "2022-04-09T03:02:24.171807",
     "status": "completed"
    },
    "tags": []
   },
   "outputs": [],
   "source": [
    "import torch\n",
    "from torch import nn\n",
    "from torch.utils.data import Dataset\n",
    "from torchvision import datasets, transforms\n",
    "import matplotlib.pyplot as plt\n",
    "from torch.utils.data import DataLoader, SubsetRandomSampler\n",
    "import torch.optim as optim\n",
    "import torch.nn.functional as F"
   ]
  },
  {
   "cell_type": "code",
   "execution_count": 2,
   "id": "sixth-suggestion",
   "metadata": {
    "execution": {
     "iopub.execute_input": "2022-04-09T03:02:25.801705Z",
     "iopub.status.busy": "2022-04-09T03:02:25.800955Z",
     "iopub.status.idle": "2022-04-09T03:02:25.803357Z",
     "shell.execute_reply": "2022-04-09T03:02:25.802970Z",
     "shell.execute_reply.started": "2022-04-09T00:10:09.533318Z"
    },
    "id": "q3-CqlQ1KEEr",
    "papermill": {
     "duration": 0.023238,
     "end_time": "2022-04-09T03:02:25.803472",
     "exception": false,
     "start_time": "2022-04-09T03:02:25.780234",
     "status": "completed"
    },
    "tags": []
   },
   "outputs": [],
   "source": [
    "cuda = torch.device('cuda')"
   ]
  },
  {
   "cell_type": "markdown",
   "id": "smoking-angel",
   "metadata": {
    "id": "bte5iPRGRDNQ",
    "papermill": {
     "duration": 0.016907,
     "end_time": "2022-04-09T03:02:25.837920",
     "exception": false,
     "start_time": "2022-04-09T03:02:25.821013",
     "status": "completed"
    },
    "tags": []
   },
   "source": [
    "## Importing Dataset"
   ]
  },
  {
   "cell_type": "markdown",
   "id": "civic-china",
   "metadata": {
    "id": "PrEHhDb5PkIe",
    "papermill": {
     "duration": 0.017109,
     "end_time": "2022-04-09T03:02:25.872248",
     "exception": false,
     "start_time": "2022-04-09T03:02:25.855139",
     "status": "completed"
    },
    "tags": []
   },
   "source": [
    "I will use the MNIST dataset to train and test the model in this notebook. Because MNIST contains images of shape 28x28 pixels and because NiN accepts images of size 244x244 pixels, I will upscale each image in the dataset to 244x244 pixels."
   ]
  },
  {
   "cell_type": "code",
   "execution_count": 3,
   "id": "grateful-setting",
   "metadata": {
    "execution": {
     "iopub.execute_input": "2022-04-09T03:02:25.909767Z",
     "iopub.status.busy": "2022-04-09T03:02:25.908964Z",
     "iopub.status.idle": "2022-04-09T03:02:27.774559Z",
     "shell.execute_reply": "2022-04-09T03:02:27.773917Z",
     "shell.execute_reply.started": "2022-04-09T00:10:09.542297Z"
    },
    "id": "FhX60lnP8LLq",
    "papermill": {
     "duration": 1.885338,
     "end_time": "2022-04-09T03:02:27.774725",
     "exception": false,
     "start_time": "2022-04-09T03:02:25.889387",
     "status": "completed"
    },
    "tags": []
   },
   "outputs": [
    {
     "name": "stdout",
     "output_type": "stream",
     "text": [
      "Downloading http://yann.lecun.com/exdb/mnist/train-images-idx3-ubyte.gz\n",
      "Downloading http://yann.lecun.com/exdb/mnist/train-images-idx3-ubyte.gz to data/MNIST/raw/train-images-idx3-ubyte.gz\n"
     ]
    },
    {
     "data": {
      "application/vnd.jupyter.widget-view+json": {
       "model_id": "303e16bae0bd4ade8dbf74c589ddcb80",
       "version_major": 2,
       "version_minor": 0
      },
      "text/plain": [
       "  0%|          | 0/9912422 [00:00<?, ?it/s]"
      ]
     },
     "metadata": {},
     "output_type": "display_data"
    },
    {
     "name": "stdout",
     "output_type": "stream",
     "text": [
      "Extracting data/MNIST/raw/train-images-idx3-ubyte.gz to data/MNIST/raw\n",
      "\n",
      "Downloading http://yann.lecun.com/exdb/mnist/train-labels-idx1-ubyte.gz\n",
      "Downloading http://yann.lecun.com/exdb/mnist/train-labels-idx1-ubyte.gz to data/MNIST/raw/train-labels-idx1-ubyte.gz\n"
     ]
    },
    {
     "data": {
      "application/vnd.jupyter.widget-view+json": {
       "model_id": "11dbffa8d5154e5f80121428a5aa6019",
       "version_major": 2,
       "version_minor": 0
      },
      "text/plain": [
       "  0%|          | 0/28881 [00:00<?, ?it/s]"
      ]
     },
     "metadata": {},
     "output_type": "display_data"
    },
    {
     "name": "stdout",
     "output_type": "stream",
     "text": [
      "Extracting data/MNIST/raw/train-labels-idx1-ubyte.gz to data/MNIST/raw\n",
      "\n",
      "Downloading http://yann.lecun.com/exdb/mnist/t10k-images-idx3-ubyte.gz\n",
      "Downloading http://yann.lecun.com/exdb/mnist/t10k-images-idx3-ubyte.gz to data/MNIST/raw/t10k-images-idx3-ubyte.gz\n"
     ]
    },
    {
     "data": {
      "application/vnd.jupyter.widget-view+json": {
       "model_id": "b530c32fdbc846089809485c50c1b35f",
       "version_major": 2,
       "version_minor": 0
      },
      "text/plain": [
       "  0%|          | 0/1648877 [00:00<?, ?it/s]"
      ]
     },
     "metadata": {},
     "output_type": "display_data"
    },
    {
     "name": "stdout",
     "output_type": "stream",
     "text": [
      "Extracting data/MNIST/raw/t10k-images-idx3-ubyte.gz to data/MNIST/raw\n",
      "\n",
      "Downloading http://yann.lecun.com/exdb/mnist/t10k-labels-idx1-ubyte.gz\n",
      "Downloading http://yann.lecun.com/exdb/mnist/t10k-labels-idx1-ubyte.gz to data/MNIST/raw/t10k-labels-idx1-ubyte.gz\n"
     ]
    },
    {
     "data": {
      "application/vnd.jupyter.widget-view+json": {
       "model_id": "c5ada45679074571920cd7cf0d106a59",
       "version_major": 2,
       "version_minor": 0
      },
      "text/plain": [
       "  0%|          | 0/4542 [00:00<?, ?it/s]"
      ]
     },
     "metadata": {},
     "output_type": "display_data"
    },
    {
     "name": "stdout",
     "output_type": "stream",
     "text": [
      "Extracting data/MNIST/raw/t10k-labels-idx1-ubyte.gz to data/MNIST/raw\n",
      "\n"
     ]
    },
    {
     "name": "stderr",
     "output_type": "stream",
     "text": [
      "/opt/conda/lib/python3.7/site-packages/torchvision/datasets/mnist.py:498: UserWarning: The given NumPy array is not writeable, and PyTorch does not support non-writeable tensors. This means you can write to the underlying (supposedly non-writeable) NumPy array using the tensor. You may want to copy the array to protect its data or make it writeable before converting it to a tensor. This type of warning will be suppressed for the rest of this program. (Triggered internally at  /usr/local/src/pytorch/torch/csrc/utils/tensor_numpy.cpp:174.)\n",
      "  return torch.from_numpy(parsed.astype(m[2], copy=False)).view(*s)\n"
     ]
    }
   ],
   "source": [
    "training_data = datasets.MNIST(\n",
    "    root=\"data\",\n",
    "    train=True,\n",
    "    download=True,\n",
    "    transform=transforms.Compose([transforms.ToTensor(), transforms.Resize(224)])\n",
    ")\n",
    "test_data = datasets.MNIST(\n",
    "    root=\"data\",\n",
    "    train=False,\n",
    "    download=True,\n",
    "    transform=transforms.Compose([transforms.ToTensor(), transforms.Resize(224)]) # Upscale to 244x224 pixels\n",
    ")\n"
   ]
  },
  {
   "cell_type": "code",
   "execution_count": 4,
   "id": "mechanical-mistress",
   "metadata": {
    "execution": {
     "iopub.execute_input": "2022-04-09T03:02:27.824806Z",
     "iopub.status.busy": "2022-04-09T03:02:27.824069Z",
     "iopub.status.idle": "2022-04-09T03:02:27.826159Z",
     "shell.execute_reply": "2022-04-09T03:02:27.826674Z",
     "shell.execute_reply.started": "2022-04-09T00:10:11.437687Z"
    },
    "id": "JvCVDzeP3ZMl",
    "papermill": {
     "duration": 0.029583,
     "end_time": "2022-04-09T03:02:27.826815",
     "exception": false,
     "start_time": "2022-04-09T03:02:27.797232",
     "status": "completed"
    },
    "tags": []
   },
   "outputs": [],
   "source": [
    "train_loader = torch.utils.data.DataLoader(\n",
    "                 dataset=training_data,\n",
    "                 batch_size=128,\n",
    "                 shuffle=True,\n",
    "                 num_workers=2,\n",
    "                 pin_memory=True)\n",
    "test_loader = torch.utils.data.DataLoader(\n",
    "                dataset=test_data,\n",
    "                batch_size=512,\n",
    "                shuffle=False,\n",
    "                num_workers=2,\n",
    "                pin_memory=True)"
   ]
  },
  {
   "cell_type": "markdown",
   "id": "simple-mercy",
   "metadata": {
    "id": "jcrx_r_XRoQD",
    "papermill": {
     "duration": 0.021198,
     "end_time": "2022-04-09T03:02:27.869242",
     "exception": false,
     "start_time": "2022-04-09T03:02:27.848044",
     "status": "completed"
    },
    "tags": []
   },
   "source": [
    "Below are nine samples of the dataset"
   ]
  },
  {
   "cell_type": "code",
   "execution_count": 5,
   "id": "historical-madagascar",
   "metadata": {
    "execution": {
     "iopub.execute_input": "2022-04-09T03:02:27.920573Z",
     "iopub.status.busy": "2022-04-09T03:02:27.919695Z",
     "iopub.status.idle": "2022-04-09T03:02:28.376805Z",
     "shell.execute_reply": "2022-04-09T03:02:28.377204Z",
     "shell.execute_reply.started": "2022-04-09T00:10:11.448138Z"
    },
    "id": "t1Me2hEdDRL3",
    "outputId": "e8b2b870-0533-4bc5-830a-1b0741819777",
    "papermill": {
     "duration": 0.485244,
     "end_time": "2022-04-09T03:02:28.377351",
     "exception": false,
     "start_time": "2022-04-09T03:02:27.892107",
     "status": "completed"
    },
    "tags": []
   },
   "outputs": [
    {
     "data": {
      "image/png": "[encoded data removed]",
      "text/plain": [
       "<Figure size 576x576 with 9 Axes>"
      ]
     },
     "metadata": {
      "needs_background": "light"
     },
     "output_type": "display_data"
    }
   ],
   "source": [
    "figure = plt.figure(figsize=(8, 8))\n",
    "cols, rows = 3, 3\n",
    "for i in range(1, cols * rows + 1):\n",
    "    sample_idx = torch.randint(len(training_data), size=(1,)).item()\n",
    "    img, label = training_data[sample_idx]\n",
    "    figure.add_subplot(rows, cols, i)\n",
    "    plt.title(label)\n",
    "    plt.axis(\"off\")\n",
    "    plt.imshow(img.squeeze(), cmap=\"gray\")\n",
    "plt.show()"
   ]
  },
  {
   "cell_type": "markdown",
   "id": "architectural-tuition",
   "metadata": {
    "id": "aTtluDE6mIqc",
    "papermill": {
     "duration": 0.023267,
     "end_time": "2022-04-09T03:02:28.424037",
     "exception": false,
     "start_time": "2022-04-09T03:02:28.400770",
     "status": "completed"
    },
    "tags": []
   },
   "source": [
    "## Definining Helper Functions"
   ]
  },
  {
   "cell_type": "markdown",
   "id": "latin-terminal",
   "metadata": {
    "id": "-CKbG0S0mQKG",
    "papermill": {
     "duration": 0.023053,
     "end_time": "2022-04-09T03:02:28.470168",
     "exception": false,
     "start_time": "2022-04-09T03:02:28.447115",
     "status": "completed"
    },
    "tags": []
   },
   "source": [
    "The function below will be used to train the neural network"
   ]
  },
  {
   "cell_type": "code",
   "execution_count": 6,
   "id": "olive-stuff",
   "metadata": {
    "execution": {
     "iopub.execute_input": "2022-04-09T03:02:28.523988Z",
     "iopub.status.busy": "2022-04-09T03:02:28.523206Z",
     "iopub.status.idle": "2022-04-09T03:02:28.525126Z",
     "shell.execute_reply": "2022-04-09T03:02:28.525551Z",
     "shell.execute_reply.started": "2022-04-09T00:10:12.043237Z"
    },
    "id": "bHmZBkYymNJz",
    "papermill": {
     "duration": 0.032512,
     "end_time": "2022-04-09T03:02:28.525669",
     "exception": false,
     "start_time": "2022-04-09T03:02:28.493157",
     "status": "completed"
    },
    "tags": []
   },
   "outputs": [],
   "source": [
    "def train(net, train_loader, epochs=10, lr=0.001): \n",
    "\n",
    "    optimizer = optim.Adam(net.parameters())\n",
    "    criterion = nn.CrossEntropyLoss()\n",
    "\n",
    "    net.to(cuda)\n",
    "    \n",
    "    for epoch in range(epochs):  # loop over the dataset multiple times\n",
    "        running_loss = 0.0\n",
    "\n",
    "        net.train()\n",
    "        for X, y in train_loader:\n",
    "            X, y = X.to(cuda), y.to(cuda)\n",
    "\n",
    "            # zero the parameter gradients\n",
    "            optimizer.zero_grad(set_to_none=True)\n",
    "\n",
    "            # forward + backward + optimize\n",
    "            outputs = net(X)\n",
    "            loss = criterion(outputs, y)\n",
    "            loss.backward()\n",
    "            optimizer.step()\n",
    "\n",
    "            running_loss += loss.item()\n",
    "        \n",
    "        print(f'Epoch: {epoch + 1}, loss: {running_loss / len(train_loader.dataset):.6f}')\n",
    "\n",
    "    print('Finished Training')\n",
    "    total, correct = test(net, train_loader)\n",
    "    print(f'Train accuracy: {(correct/total)*100}%')"
   ]
  },
  {
   "cell_type": "markdown",
   "id": "specified-orbit",
   "metadata": {
    "id": "spLBgSm4ma_w",
    "papermill": {
     "duration": 0.022796,
     "end_time": "2022-04-09T03:02:28.571672",
     "exception": false,
     "start_time": "2022-04-09T03:02:28.548876",
     "status": "completed"
    },
    "tags": []
   },
   "source": [
    "The function below will be used to calculate the neural network's test accuracy."
   ]
  },
  {
   "cell_type": "code",
   "execution_count": 7,
   "id": "opponent-violin",
   "metadata": {
    "execution": {
     "iopub.execute_input": "2022-04-09T03:02:28.623563Z",
     "iopub.status.busy": "2022-04-09T03:02:28.622718Z",
     "iopub.status.idle": "2022-04-09T03:02:28.625074Z",
     "shell.execute_reply": "2022-04-09T03:02:28.624617Z",
     "shell.execute_reply.started": "2022-04-09T00:10:12.056079Z"
    },
    "id": "Dgw-cVoMm1P8",
    "papermill": {
     "duration": 0.030616,
     "end_time": "2022-04-09T03:02:28.625181",
     "exception": false,
     "start_time": "2022-04-09T03:02:28.594565",
     "status": "completed"
    },
    "tags": []
   },
   "outputs": [],
   "source": [
    "def test(net, test_loader):\n",
    "    \n",
    "    total = 0\n",
    "    correct = 0\n",
    "\n",
    "    for X, y in test_loader:\n",
    "        net.eval()\n",
    "        X, y = X.to(cuda), y.to(cuda)\n",
    "\n",
    "        y_hat = net(X).argmax(axis=1)\n",
    "        total += X.shape[0]\n",
    "        correct += (y_hat == y).sum()\n",
    "\n",
    "    return total, correct\n",
    "  "
   ]
  },
  {
   "cell_type": "markdown",
   "id": "positive-capitol",
   "metadata": {
    "id": "yagl3aDA3Wiz",
    "papermill": {
     "duration": 0.023206,
     "end_time": "2022-04-09T03:02:28.671111",
     "exception": false,
     "start_time": "2022-04-09T03:02:28.647905",
     "status": "completed"
    },
    "tags": []
   },
   "source": [
    "## NiN"
   ]
  },
  {
   "attachments": {
    "de4a0260-2566-4ed0-9ea0-046dbf904605.png": {
     "image/png": "[encoded data removed]"
    },
    "f0d84abf-c0c2-42f2-9a5b-2b5b18e8e8b2.png": {
     "image/png": "[encoded data removed]"
    }
   },
   "cell_type": "markdown",
   "id": "scheduled-rates",
   "metadata": {
    "id": "VxXrSLrzjTM8",
    "papermill": {
     "duration": 0.022985,
     "end_time": "2022-04-09T03:02:28.716963",
     "exception": false,
     "start_time": "2022-04-09T03:02:28.693978",
     "status": "completed"
    },
    "tags": []
   },
   "source": [
    "NiN (Network in Network) uses a slightly different approach than the previous two architectures, in which it uses NiN blocks to integrate two fully connected layers with a convolutional layer. These fully connected layers are applied at each pixel location (one for height and one for width). Equivalently, these fully connected layers can be seen as convolutional layers with kernel size 1x1. \n",
    "\n",
    "![NiN.png](attachment:de4a0260-2566-4ed0-9ea0-046dbf904605.png)\n",
    "\n",
    "Another difference is that the last layers of the NiN model are not fully connected layers. Instead, NiN sets the number of output channels of the last NiN block equal to the number of label classes.\n",
    "\n",
    "![NiN-2.png](attachment:f0d84abf-c0c2-42f2-9a5b-2b5b18e8e8b2.png)\n",
    "\n",
    "In the picture above, it can be seen that the NiN model consists of several NiN blocks, where in between each NiN block is a max-pooling layer, and after the final NiN block is a global average pooling layer."
   ]
  },
  {
   "cell_type": "markdown",
   "id": "neural-hepatitis",
   "metadata": {},
   "source": [
    "Below is an implementation of a NiN block with the ReLU activation function."
   ]
  },
  {
   "cell_type": "code",
   "execution_count": 8,
   "id": "meaning-shopper",
   "metadata": {
    "execution": {
     "iopub.execute_input": "2022-04-09T03:02:28.765616Z",
     "iopub.status.busy": "2022-04-09T03:02:28.764885Z",
     "iopub.status.idle": "2022-04-09T03:02:28.769840Z",
     "shell.execute_reply": "2022-04-09T03:02:28.770281Z",
     "shell.execute_reply.started": "2022-04-09T00:10:12.070564Z"
    },
    "id": "TIcEMc2-DGht",
    "papermill": {
     "duration": 0.030449,
     "end_time": "2022-04-09T03:02:28.770393",
     "exception": false,
     "start_time": "2022-04-09T03:02:28.739944",
     "status": "completed"
    },
    "tags": []
   },
   "outputs": [],
   "source": [
    "def nin_block(in_channels, out_channels, kernel_size, strides, padding):\n",
    "    return nn.Sequential(\n",
    "        nn.Conv2d(in_channels, out_channels, kernel_size, strides, padding),\n",
    "        nn.ReLU(),\n",
    "        nn.Conv2d(out_channels, out_channels, kernel_size=1), nn.ReLU(),\n",
    "        nn.Conv2d(out_channels, out_channels, kernel_size=1), nn.ReLU())"
   ]
  },
  {
   "cell_type": "markdown",
   "id": "fluid-defendant",
   "metadata": {},
   "source": [
    "Below is an implementation of a NiN model with four NiN blocks, each with output channels of size 96, 256, 384, and 10, respectively."
   ]
  },
  {
   "cell_type": "code",
   "execution_count": 9,
   "id": "mechanical-structure",
   "metadata": {
    "execution": {
     "iopub.execute_input": "2022-04-09T03:02:28.824729Z",
     "iopub.status.busy": "2022-04-09T03:02:28.824011Z",
     "iopub.status.idle": "2022-04-09T03:02:28.845488Z",
     "shell.execute_reply": "2022-04-09T03:02:28.845103Z"
    },
    "papermill": {
     "duration": 0.052092,
     "end_time": "2022-04-09T03:02:28.845586",
     "exception": false,
     "start_time": "2022-04-09T03:02:28.793494",
     "status": "completed"
    },
    "tags": []
   },
   "outputs": [],
   "source": [
    "nin = nn.Sequential(\n",
    "    nin_block(1, 96, kernel_size=11, strides=4, padding=0),\n",
    "    nn.MaxPool2d(3, stride=2),\n",
    "    nin_block(96, 256, kernel_size=5, strides=1, padding=2),\n",
    "    nn.MaxPool2d(3, stride=2),\n",
    "    nin_block(256, 384, kernel_size=3, strides=1, padding=1),\n",
    "    nn.MaxPool2d(3, stride=2),\n",
    "    nn.Dropout(0.5),\n",
    "    # There are 10 label classes\n",
    "    nin_block(384, 10, kernel_size=3, strides=1, padding=1),\n",
    "    nn.AdaptiveAvgPool2d((1, 1)),\n",
    "    # Transform the four-dimensional output into two-dimensional output with a\n",
    "    # shape of (batch size, 10)\n",
    "    nn.Flatten())"
   ]
  },
  {
   "cell_type": "markdown",
   "id": "through-interest",
   "metadata": {},
   "source": [
    "I will train VGGNet with a learning rate of 0.001 and a total of 10 epochs."
   ]
  },
  {
   "cell_type": "code",
   "execution_count": 10,
   "id": "instrumental-canvas",
   "metadata": {
    "execution": {
     "iopub.execute_input": "2022-04-09T03:02:28.941653Z",
     "iopub.status.busy": "2022-04-09T03:02:28.941140Z",
     "iopub.status.idle": "2022-04-09T03:16:02.795084Z",
     "shell.execute_reply": "2022-04-09T03:16:02.795725Z",
     "shell.execute_reply.started": "2022-04-09T00:10:12.507097Z"
    },
    "id": "ufhelQkTInz8",
    "outputId": "3bff4799-1487-4565-e52b-d1f36a123af6",
    "papermill": {
     "duration": 813.927252,
     "end_time": "2022-04-09T03:16:02.795936",
     "exception": false,
     "start_time": "2022-04-09T03:02:28.868684",
     "status": "completed"
    },
    "tags": []
   },
   "outputs": [
    {
     "name": "stdout",
     "output_type": "stream",
     "text": [
      "Epoch: 1, loss: 0.010857\n",
      "Epoch: 2, loss: 0.002190\n",
      "Epoch: 3, loss: 0.001142\n",
      "Epoch: 4, loss: 0.000872\n",
      "Epoch: 5, loss: 0.000720\n",
      "Epoch: 6, loss: 0.000651\n",
      "Epoch: 7, loss: 0.000601\n",
      "Epoch: 8, loss: 0.000531\n",
      "Epoch: 9, loss: 0.000490\n",
      "Epoch: 10, loss: 0.000498\n",
      "Finished Training\n",
      "Train accuracy: 98.84166717529297%\n"
     ]
    }
   ],
   "source": [
    "train(nin, train_loader, lr=0.001, epochs=10) "
   ]
  },
  {
   "cell_type": "code",
   "execution_count": 11,
   "id": "yellow-palestine",
   "metadata": {
    "execution": {
     "iopub.execute_input": "2022-04-09T03:16:02.857154Z",
     "iopub.status.busy": "2022-04-09T03:16:02.856369Z",
     "iopub.status.idle": "2022-04-09T03:16:13.636217Z",
     "shell.execute_reply": "2022-04-09T03:16:13.637051Z",
     "shell.execute_reply.started": "2022-04-09T00:25:13.710843Z"
    },
    "id": "C48URL348-eH",
    "papermill": {
     "duration": 10.813631,
     "end_time": "2022-04-09T03:16:13.637235",
     "exception": false,
     "start_time": "2022-04-09T03:16:02.823604",
     "status": "completed"
    },
    "tags": []
   },
   "outputs": [],
   "source": [
    "total, correct = test(nin, test_loader)  "
   ]
  },
  {
   "cell_type": "code",
   "execution_count": 12,
   "id": "positive-click",
   "metadata": {
    "execution": {
     "iopub.execute_input": "2022-04-09T03:16:13.697314Z",
     "iopub.status.busy": "2022-04-09T03:16:13.696649Z",
     "iopub.status.idle": "2022-04-09T03:16:13.699373Z",
     "shell.execute_reply": "2022-04-09T03:16:13.699816Z",
     "shell.execute_reply.started": "2022-04-09T00:25:26.713471Z"
    },
    "id": "v8igdpIIRVtn",
    "papermill": {
     "duration": 0.034786,
     "end_time": "2022-04-09T03:16:13.699947",
     "exception": false,
     "start_time": "2022-04-09T03:16:13.665161",
     "status": "completed"
    },
    "tags": []
   },
   "outputs": [
    {
     "name": "stdout",
     "output_type": "stream",
     "text": [
      "Test Accuracy: 98.75999450683594% (9876/10000)\n"
     ]
    }
   ],
   "source": [
    "print(f\"Test Accuracy: {(correct/total)*100}% ({correct}/{total})\")"
   ]
  },
  {
   "cell_type": "markdown",
   "id": "sexual-cigarette",
   "metadata": {},
   "source": [
    "As you can see, the trained NiN model has a test accuracy of 98.76%."
   ]
  },
  {
   "cell_type": "markdown",
   "id": "limiting-moses",
   "metadata": {},
   "source": [
    "## Visualizing Predictions"
   ]
  },
  {
   "cell_type": "markdown",
   "id": "friendly-creature",
   "metadata": {},
   "source": [
    "Below are five visual representations of the NiN model's predictions."
   ]
  },
  {
   "cell_type": "code",
   "execution_count": 13,
   "id": "liquid-marble",
   "metadata": {
    "execution": {
     "iopub.execute_input": "2022-04-09T03:16:13.761101Z",
     "iopub.status.busy": "2022-04-09T03:16:13.760081Z",
     "iopub.status.idle": "2022-04-09T03:16:13.762015Z",
     "shell.execute_reply": "2022-04-09T03:16:13.762408Z",
     "shell.execute_reply.started": "2022-04-09T00:28:36.717748Z"
    },
    "papermill": {
     "duration": 0.03527,
     "end_time": "2022-04-09T03:16:13.762522",
     "exception": false,
     "start_time": "2022-04-09T03:16:13.727252",
     "status": "completed"
    },
    "tags": []
   },
   "outputs": [],
   "source": [
    "def viz_results(net, dataset, num_samples=5):\n",
    "    net.cpu()\n",
    "    for i, (x, y) in enumerate(iter(dataset), 1):\n",
    "        if i <= num_samples:\n",
    "            \n",
    "            x, y = x, y\n",
    "            x = x.reshape(1, 1, x.shape[1], x.shape[2])\n",
    "\n",
    "            y_hat = net(x).argmax()\n",
    "\n",
    "            plt.imshow(x.reshape(x.shape[1], x.shape[2], -1).squeeze())\n",
    "            plt.title(f'{i}. Actual: {y}; Predicted: {y_hat}')\n",
    "            plt.show()\n",
    "        else:\n",
    "            break"
   ]
  },
  {
   "cell_type": "code",
   "execution_count": 14,
   "id": "requested-collaboration",
   "metadata": {
    "execution": {
     "iopub.execute_input": "2022-04-09T03:16:13.820643Z",
     "iopub.status.busy": "2022-04-09T03:16:13.819807Z",
     "iopub.status.idle": "2022-04-09T03:16:15.083059Z",
     "shell.execute_reply": "2022-04-09T03:16:15.082603Z",
     "shell.execute_reply.started": "2022-04-09T00:28:37.356268Z"
    },
    "papermill": {
     "duration": 1.293698,
     "end_time": "2022-04-09T03:16:15.083189",
     "exception": false,
     "start_time": "2022-04-09T03:16:13.789491",
     "status": "completed"
    },
    "tags": []
   },
   "outputs": [
    {
     "data": {
      "image/png": "[encoded data removed]",
      "text/plain": [
       "<Figure size 432x288 with 1 Axes>"
      ]
     },
     "metadata": {
      "needs_background": "light"
     },
     "output_type": "display_data"
    },
    {
     "data": {
      "image/png": "[encoded data removed]",
      "text/plain": [
       "<Figure size 432x288 with 1 Axes>"
      ]
     },
     "metadata": {
      "needs_background": "light"
     },
     "output_type": "display_data"
    },
    {
     "data": {
      "image/png": "[encoded data removed]",
      "text/plain": [
       "<Figure size 432x288 with 1 Axes>"
      ]
     },
     "metadata": {
      "needs_background": "light"
     },
     "output_type": "display_data"
    },
    {
     "data": {
      "image/png": "[encoded data removed]",
      "text/plain": [
       "<Figure size 432x288 with 1 Axes>"
      ]
     },
     "metadata": {
      "needs_background": "light"
     },
     "output_type": "display_data"
    },
    {
     "data": {
      "image/png": "[encoded data removed]",
      "text/plain": [
       "<Figure size 432x288 with 1 Axes>"
      ]
     },
     "metadata": {
      "needs_background": "light"
     },
     "output_type": "display_data"
    }
   ],
   "source": [
    "viz_results(nin, test_data)"
   ]
  }
 ],
 "metadata": {
  "kernelspec": {
   "display_name": "Python 3",
   "language": "python",
   "name": "python3"
  },
  "language_info": {
   "codemirror_mode": {
    "name": "ipython",
    "version": 3
   },
   "file_extension": ".py",
   "mimetype": "text/x-python",
   "name": "python",
   "nbconvert_exporter": "python",
   "pygments_lexer": "ipython3",
   "version": "3.9.12"
  },
  "papermill": {
   "default_parameters": {},
   "duration": 841.648435,
   "end_time": "2022-04-09T03:16:17.368118",
   "environment_variables": {},
   "exception": null,
   "input_path": "__notebook__.ipynb",
   "output_path": "__notebook__.ipynb",
   "parameters": {},
   "start_time": "2022-04-09T03:02:15.719683",
   "version": "2.3.3"
  },
  "widgets": {
   "application/vnd.jupyter.widget-state+json": {
    "state": {
     "016157f08f774f22b9f094f8b1730ec7": {
      "model_module": "@jupyter-widgets/base",
      "model_module_version": "1.2.0",
      "model_name": "LayoutModel",
      "state": {
       "_model_module": "@jupyter-widgets/base",
       "_model_module_version": "1.2.0",
       "_model_name": "LayoutModel",
       "_view_count": null,
       "_view_module": "@jupyter-widgets/base",
       "_view_module_version": "1.2.0",
       "_view_name": "LayoutView",
       "align_content": null,
       "align_items": null,
       "align_self": null,
       "border": null,
       "bottom": null,
       "display": null,
       "flex": null,
       "flex_flow": null,
       "grid_area": null,
       "grid_auto_columns": null,
       "grid_auto_flow": null,
       "grid_auto_rows": null,
       "grid_column": null,
       "grid_gap": null,
       "grid_row": null,
       "grid_template_areas": null,
       "grid_template_columns": null,
       "grid_template_rows": null,
       "height": null,
       "justify_content": null,
       "justify_items": null,
       "left": null,
       "margin": null,
       "max_height": null,
       "max_width": null,
       "min_height": null,
       "min_width": null,
       "object_fit": null,
       "object_position": null,
       "order": null,
       "overflow": null,
       "overflow_x": null,
       "overflow_y": null,
       "padding": null,
       "right": null,
       "top": null,
       "visibility": null,
       "width": null
      }
     },
     "037ac9d62ceb4695accbcf349481da4d": {
      "model_module": "@jupyter-widgets/controls",
      "model_module_version": "1.5.0",
      "model_name": "ProgressStyleModel",
      "state": {
       "_model_module": "@jupyter-widgets/controls",
       "_model_module_version": "1.5.0",
       "_model_name": "ProgressStyleModel",
       "_view_count": null,
       "_view_module": "@jupyter-widgets/base",
       "_view_module_version": "1.2.0",
       "_view_name": "StyleView",
       "bar_color": null,
       "description_width": ""
      }
     },
     "03bb021cfdac490892c18777185fc009": {
      "model_module": "@jupyter-widgets/controls",
      "model_module_version": "1.5.0",
      "model_name": "DescriptionStyleModel",
      "state": {
       "_model_module": "@jupyter-widgets/controls",
       "_model_module_version": "1.5.0",
       "_model_name": "DescriptionStyleModel",
       "_view_count": null,
       "_view_module": "@jupyter-widgets/base",
       "_view_module_version": "1.2.0",
       "_view_name": "StyleView",
       "description_width": ""
      }
     },
     "080318b4cf4b4d3bb3856ecad03e6de0": {
      "model_module": "@jupyter-widgets/controls",
      "model_module_version": "1.5.0",
      "model_name": "ProgressStyleModel",
      "state": {
       "_model_module": "@jupyter-widgets/controls",
       "_model_module_version": "1.5.0",
       "_model_name": "ProgressStyleModel",
       "_view_count": null,
       "_view_module": "@jupyter-widgets/base",
       "_view_module_version": "1.2.0",
       "_view_name": "StyleView",
       "bar_color": null,
       "description_width": ""
      }
     },
     "0bcaad0d76d14f36b24c88a6c70a1d8f": {
      "model_module": "@jupyter-widgets/base",
      "model_module_version": "1.2.0",
      "model_name": "LayoutModel",
      "state": {
       "_model_module": "@jupyter-widgets/base",
       "_model_module_version": "1.2.0",
       "_model_name": "LayoutModel",
       "_view_count": null,
       "_view_module": "@jupyter-widgets/base",
       "_view_module_version": "1.2.0",
       "_view_name": "LayoutView",
       "align_content": null,
       "align_items": null,
       "align_self": null,
       "border": null,
       "bottom": null,
       "display": null,
       "flex": null,
       "flex_flow": null,
       "grid_area": null,
       "grid_auto_columns": null,
       "grid_auto_flow": null,
       "grid_auto_rows": null,
       "grid_column": null,
       "grid_gap": null,
       "grid_row": null,
       "grid_template_areas": null,
       "grid_template_columns": null,
       "grid_template_rows": null,
       "height": null,
       "justify_content": null,
       "justify_items": null,
       "left": null,
       "margin": null,
       "max_height": null,
       "max_width": null,
       "min_height": null,
       "min_width": null,
       "object_fit": null,
       "object_position": null,
       "order": null,
       "overflow": null,
       "overflow_x": null,
       "overflow_y": null,
       "padding": null,
       "right": null,
       "top": null,
       "visibility": null,
       "width": null
      }
     },
     "0ff45ee15b9c4a5db1f8b917e4f7d62c": {
      "model_module": "@jupyter-widgets/controls",
      "model_module_version": "1.5.0",
      "model_name": "HTMLModel",
      "state": {
       "_dom_classes": [],
       "_model_module": "@jupyter-widgets/controls",
       "_model_module_version": "1.5.0",
       "_model_name": "HTMLModel",
       "_view_count": null,
       "_view_module": "@jupyter-widgets/controls",
       "_view_module_version": "1.5.0",
       "_view_name": "HTMLView",
       "description": "",
       "description_tooltip": null,
       "layout": "IPY_MODEL_8a0b66d613e841e895fb3fd00efc0096",
       "placeholder": "​",
       "style": "IPY_MODEL_447cea03e0354412b4fa2fbc68fad42e",
       "value": ""
      }
     },
     "11dbffa8d5154e5f80121428a5aa6019": {
      "model_module": "@jupyter-widgets/controls",
      "model_module_version": "1.5.0",
      "model_name": "HBoxModel",
      "state": {
       "_dom_classes": [],
       "_model_module": "@jupyter-widgets/controls",
       "_model_module_version": "1.5.0",
       "_model_name": "HBoxModel",
       "_view_count": null,
       "_view_module": "@jupyter-widgets/controls",
       "_view_module_version": "1.5.0",
       "_view_name": "HBoxView",
       "box_style": "",
       "children": [
        "IPY_MODEL_130830a9c253422db6f17ced6bb7bc4f",
        "IPY_MODEL_ea5a47195b2c4c1cb02a3d42788dcc22",
        "IPY_MODEL_326bbfd0a12a4e80afa9ad19ec2c53ea"
       ],
       "layout": "IPY_MODEL_35874a1c428d4a5eb59324138307bdae"
      }
     },
     "130830a9c253422db6f17ced6bb7bc4f": {
      "model_module": "@jupyter-widgets/controls",
      "model_module_version": "1.5.0",
      "model_name": "HTMLModel",
      "state": {
       "_dom_classes": [],
       "_model_module": "@jupyter-widgets/controls",
       "_model_module_version": "1.5.0",
       "_model_name": "HTMLModel",
       "_view_count": null,
       "_view_module": "@jupyter-widgets/controls",
       "_view_module_version": "1.5.0",
       "_view_name": "HTMLView",
       "description": "",
       "description_tooltip": null,
       "layout": "IPY_MODEL_1b52f3c0d90244a8a7bb189c15d01000",
       "placeholder": "​",
       "style": "IPY_MODEL_f545aaf9838847eca0944e2d93737173",
       "value": ""
      }
     },
     "14b6192e5990463a8cedd7dfe5cf7655": {
      "model_module": "@jupyter-widgets/controls",
      "model_module_version": "1.5.0",
      "model_name": "FloatProgressModel",
      "state": {
       "_dom_classes": [],
       "_model_module": "@jupyter-widgets/controls",
       "_model_module_version": "1.5.0",
       "_model_name": "FloatProgressModel",
       "_view_count": null,
       "_view_module": "@jupyter-widgets/controls",
       "_view_module_version": "1.5.0",
       "_view_name": "ProgressView",
       "bar_style": "success",
       "description": "",
       "description_tooltip": null,
       "layout": "IPY_MODEL_b907c2481ccd44aea3e88ef9ec8674a0",
       "max": 4542,
       "min": 0,
       "orientation": "horizontal",
       "style": "IPY_MODEL_89beaa835d6b4bbc9ff402eebc421385",
       "value": 4542
      }
     },
     "1808d79317404cc8944fa65464a92316": {
      "model_module": "@jupyter-widgets/base",
      "model_module_version": "1.2.0",
      "model_name": "LayoutModel",
      "state": {
       "_model_module": "@jupyter-widgets/base",
       "_model_module_version": "1.2.0",
       "_model_name": "LayoutModel",
       "_view_count": null,
       "_view_module": "@jupyter-widgets/base",
       "_view_module_version": "1.2.0",
       "_view_name": "LayoutView",
       "align_content": null,
       "align_items": null,
       "align_self": null,
       "border": null,
       "bottom": null,
       "display": null,
       "flex": null,
       "flex_flow": null,
       "grid_area": null,
       "grid_auto_columns": null,
       "grid_auto_flow": null,
       "grid_auto_rows": null,
       "grid_column": null,
       "grid_gap": null,
       "grid_row": null,
       "grid_template_areas": null,
       "grid_template_columns": null,
       "grid_template_rows": null,
       "height": null,
       "justify_content": null,
       "justify_items": null,
       "left": null,
       "margin": null,
       "max_height": null,
       "max_width": null,
       "min_height": null,
       "min_width": null,
       "object_fit": null,
       "object_position": null,
       "order": null,
       "overflow": null,
       "overflow_x": null,
       "overflow_y": null,
       "padding": null,
       "right": null,
       "top": null,
       "visibility": null,
       "width": null
      }
     },
     "18bf62600c984a4c8931640b9fbd5c54": {
      "model_module": "@jupyter-widgets/base",
      "model_module_version": "1.2.0",
      "model_name": "LayoutModel",
      "state": {
       "_model_module": "@jupyter-widgets/base",
       "_model_module_version": "1.2.0",
       "_model_name": "LayoutModel",
       "_view_count": null,
       "_view_module": "@jupyter-widgets/base",
       "_view_module_version": "1.2.0",
       "_view_name": "LayoutView",
       "align_content": null,
       "align_items": null,
       "align_self": null,
       "border": null,
       "bottom": null,
       "display": null,
       "flex": null,
       "flex_flow": null,
       "grid_area": null,
       "grid_auto_columns": null,
       "grid_auto_flow": null,
       "grid_auto_rows": null,
       "grid_column": null,
       "grid_gap": null,
       "grid_row": null,
       "grid_template_areas": null,
       "grid_template_columns": null,
       "grid_template_rows": null,
       "height": null,
       "justify_content": null,
       "justify_items": null,
       "left": null,
       "margin": null,
       "max_height": null,
       "max_width": null,
       "min_height": null,
       "min_width": null,
       "object_fit": null,
       "object_position": null,
       "order": null,
       "overflow": null,
       "overflow_x": null,
       "overflow_y": null,
       "padding": null,
       "right": null,
       "top": null,
       "visibility": null,
       "width": null
      }
     },
     "1b52f3c0d90244a8a7bb189c15d01000": {
      "model_module": "@jupyter-widgets/base",
      "model_module_version": "1.2.0",
      "model_name": "LayoutModel",
      "state": {
       "_model_module": "@jupyter-widgets/base",
       "_model_module_version": "1.2.0",
       "_model_name": "LayoutModel",
       "_view_count": null,
       "_view_module": "@jupyter-widgets/base",
       "_view_module_version": "1.2.0",
       "_view_name": "LayoutView",
       "align_content": null,
       "align_items": null,
       "align_self": null,
       "border": null,
       "bottom": null,
       "display": null,
       "flex": null,
       "flex_flow": null,
       "grid_area": null,
       "grid_auto_columns": null,
       "grid_auto_flow": null,
       "grid_auto_rows": null,
       "grid_column": null,
       "grid_gap": null,
       "grid_row": null,
       "grid_template_areas": null,
       "grid_template_columns": null,
       "grid_template_rows": null,
       "height": null,
       "justify_content": null,
       "justify_items": null,
       "left": null,
       "margin": null,
       "max_height": null,
       "max_width": null,
       "min_height": null,
       "min_width": null,
       "object_fit": null,
       "object_position": null,
       "order": null,
       "overflow": null,
       "overflow_x": null,
       "overflow_y": null,
       "padding": null,
       "right": null,
       "top": null,
       "visibility": null,
       "width": null
      }
     },
     "2da5185391dd40e690110b4663fd8003": {
      "model_module": "@jupyter-widgets/controls",
      "model_module_version": "1.5.0",
      "model_name": "ProgressStyleModel",
      "state": {
       "_model_module": "@jupyter-widgets/controls",
       "_model_module_version": "1.5.0",
       "_model_name": "ProgressStyleModel",
       "_view_count": null,
       "_view_module": "@jupyter-widgets/base",
       "_view_module_version": "1.2.0",
       "_view_name": "StyleView",
       "bar_color": null,
       "description_width": ""
      }
     },
     "303e16bae0bd4ade8dbf74c589ddcb80": {
      "model_module": "@jupyter-widgets/controls",
      "model_module_version": "1.5.0",
      "model_name": "HBoxModel",
      "state": {
       "_dom_classes": [],
       "_model_module": "@jupyter-widgets/controls",
       "_model_module_version": "1.5.0",
       "_model_name": "HBoxModel",
       "_view_count": null,
       "_view_module": "@jupyter-widgets/controls",
       "_view_module_version": "1.5.0",
       "_view_name": "HBoxView",
       "box_style": "",
       "children": [
        "IPY_MODEL_0ff45ee15b9c4a5db1f8b917e4f7d62c",
        "IPY_MODEL_3efa0586316f4aa89f0fbb7dcc30464d",
        "IPY_MODEL_f6c889489b5444179ac254ab857ae87e"
       ],
       "layout": "IPY_MODEL_0bcaad0d76d14f36b24c88a6c70a1d8f"
      }
     },
     "326bbfd0a12a4e80afa9ad19ec2c53ea": {
      "model_module": "@jupyter-widgets/controls",
      "model_module_version": "1.5.0",
      "model_name": "HTMLModel",
      "state": {
       "_dom_classes": [],
       "_model_module": "@jupyter-widgets/controls",
       "_model_module_version": "1.5.0",
       "_model_name": "HTMLModel",
       "_view_count": null,
       "_view_module": "@jupyter-widgets/controls",
       "_view_module_version": "1.5.0",
       "_view_name": "HTMLView",
       "description": "",
       "description_tooltip": null,
       "layout": "IPY_MODEL_89af90948b10492c9c63026ef39a9f5d",
       "placeholder": "​",
       "style": "IPY_MODEL_03bb021cfdac490892c18777185fc009",
       "value": " 29696/? [00:00&lt;00:00, 1260745.10it/s]"
      }
     },
     "35874a1c428d4a5eb59324138307bdae": {
      "model_module": "@jupyter-widgets/base",
      "model_module_version": "1.2.0",
      "model_name": "LayoutModel",
      "state": {
       "_model_module": "@jupyter-widgets/base",
       "_model_module_version": "1.2.0",
       "_model_name": "LayoutModel",
       "_view_count": null,
       "_view_module": "@jupyter-widgets/base",
       "_view_module_version": "1.2.0",
       "_view_name": "LayoutView",
       "align_content": null,
       "align_items": null,
       "align_self": null,
       "border": null,
       "bottom": null,
       "display": null,
       "flex": null,
       "flex_flow": null,
       "grid_area": null,
       "grid_auto_columns": null,
       "grid_auto_flow": null,
       "grid_auto_rows": null,
       "grid_column": null,
       "grid_gap": null,
       "grid_row": null,
       "grid_template_areas": null,
       "grid_template_columns": null,
       "grid_template_rows": null,
       "height": null,
       "justify_content": null,
       "justify_items": null,
       "left": null,
       "margin": null,
       "max_height": null,
       "max_width": null,
       "min_height": null,
       "min_width": null,
       "object_fit": null,
       "object_position": null,
       "order": null,
       "overflow": null,
       "overflow_x": null,
       "overflow_y": null,
       "padding": null,
       "right": null,
       "top": null,
       "visibility": null,
       "width": null
      }
     },
     "3efa0586316f4aa89f0fbb7dcc30464d": {
      "model_module": "@jupyter-widgets/controls",
      "model_module_version": "1.5.0",
      "model_name": "FloatProgressModel",
      "state": {
       "_dom_classes": [],
       "_model_module": "@jupyter-widgets/controls",
       "_model_module_version": "1.5.0",
       "_model_name": "FloatProgressModel",
       "_view_count": null,
       "_view_module": "@jupyter-widgets/controls",
       "_view_module_version": "1.5.0",
       "_view_name": "ProgressView",
       "bar_style": "success",
       "description": "",
       "description_tooltip": null,
       "layout": "IPY_MODEL_016157f08f774f22b9f094f8b1730ec7",
       "max": 9912422,
       "min": 0,
       "orientation": "horizontal",
       "style": "IPY_MODEL_037ac9d62ceb4695accbcf349481da4d",
       "value": 9912422
      }
     },
     "447cea03e0354412b4fa2fbc68fad42e": {
      "model_module": "@jupyter-widgets/controls",
      "model_module_version": "1.5.0",
      "model_name": "DescriptionStyleModel",
      "state": {
       "_model_module": "@jupyter-widgets/controls",
       "_model_module_version": "1.5.0",
       "_model_name": "DescriptionStyleModel",
       "_view_count": null,
       "_view_module": "@jupyter-widgets/base",
       "_view_module_version": "1.2.0",
       "_view_name": "StyleView",
       "description_width": ""
      }
     },
     "529b4c73ee4a406e93318f37466fa081": {
      "model_module": "@jupyter-widgets/controls",
      "model_module_version": "1.5.0",
      "model_name": "DescriptionStyleModel",
      "state": {
       "_model_module": "@jupyter-widgets/controls",
       "_model_module_version": "1.5.0",
       "_model_name": "DescriptionStyleModel",
       "_view_count": null,
       "_view_module": "@jupyter-widgets/base",
       "_view_module_version": "1.2.0",
       "_view_name": "StyleView",
       "description_width": ""
      }
     },
     "5304665d0d474ab1931706de197aca35": {
      "model_module": "@jupyter-widgets/controls",
      "model_module_version": "1.5.0",
      "model_name": "HTMLModel",
      "state": {
       "_dom_classes": [],
       "_model_module": "@jupyter-widgets/controls",
       "_model_module_version": "1.5.0",
       "_model_name": "HTMLModel",
       "_view_count": null,
       "_view_module": "@jupyter-widgets/controls",
       "_view_module_version": "1.5.0",
       "_view_name": "HTMLView",
       "description": "",
       "description_tooltip": null,
       "layout": "IPY_MODEL_e12a134b9faf4dfebd96032dc3eeb420",
       "placeholder": "​",
       "style": "IPY_MODEL_ce880222629b45ffbf4f202d6e7b0a42",
       "value": ""
      }
     },
     "5a5a7bc3499c4f3397523783517c5373": {
      "model_module": "@jupyter-widgets/base",
      "model_module_version": "1.2.0",
      "model_name": "LayoutModel",
      "state": {
       "_model_module": "@jupyter-widgets/base",
       "_model_module_version": "1.2.0",
       "_model_name": "LayoutModel",
       "_view_count": null,
       "_view_module": "@jupyter-widgets/base",
       "_view_module_version": "1.2.0",
       "_view_name": "LayoutView",
       "align_content": null,
       "align_items": null,
       "align_self": null,
       "border": null,
       "bottom": null,
       "display": null,
       "flex": null,
       "flex_flow": null,
       "grid_area": null,
       "grid_auto_columns": null,
       "grid_auto_flow": null,
       "grid_auto_rows": null,
       "grid_column": null,
       "grid_gap": null,
       "grid_row": null,
       "grid_template_areas": null,
       "grid_template_columns": null,
       "grid_template_rows": null,
       "height": null,
       "justify_content": null,
       "justify_items": null,
       "left": null,
       "margin": null,
       "max_height": null,
       "max_width": null,
       "min_height": null,
       "min_width": null,
       "object_fit": null,
       "object_position": null,
       "order": null,
       "overflow": null,
       "overflow_x": null,
       "overflow_y": null,
       "padding": null,
       "right": null,
       "top": null,
       "visibility": null,
       "width": null
      }
     },
     "76efc1bd0a7f4ad2a979390b30db9d61": {
      "model_module": "@jupyter-widgets/base",
      "model_module_version": "1.2.0",
      "model_name": "LayoutModel",
      "state": {
       "_model_module": "@jupyter-widgets/base",
       "_model_module_version": "1.2.0",
       "_model_name": "LayoutModel",
       "_view_count": null,
       "_view_module": "@jupyter-widgets/base",
       "_view_module_version": "1.2.0",
       "_view_name": "LayoutView",
       "align_content": null,
       "align_items": null,
       "align_self": null,
       "border": null,
       "bottom": null,
       "display": null,
       "flex": null,
       "flex_flow": null,
       "grid_area": null,
       "grid_auto_columns": null,
       "grid_auto_flow": null,
       "grid_auto_rows": null,
       "grid_column": null,
       "grid_gap": null,
       "grid_row": null,
       "grid_template_areas": null,
       "grid_template_columns": null,
       "grid_template_rows": null,
       "height": null,
       "justify_content": null,
       "justify_items": null,
       "left": null,
       "margin": null,
       "max_height": null,
       "max_width": null,
       "min_height": null,
       "min_width": null,
       "object_fit": null,
       "object_position": null,
       "order": null,
       "overflow": null,
       "overflow_x": null,
       "overflow_y": null,
       "padding": null,
       "right": null,
       "top": null,
       "visibility": null,
       "width": null
      }
     },
     "7e273a27861349af9edc8c9fe2e184b4": {
      "model_module": "@jupyter-widgets/controls",
      "model_module_version": "1.5.0",
      "model_name": "FloatProgressModel",
      "state": {
       "_dom_classes": [],
       "_model_module": "@jupyter-widgets/controls",
       "_model_module_version": "1.5.0",
       "_model_name": "FloatProgressModel",
       "_view_count": null,
       "_view_module": "@jupyter-widgets/controls",
       "_view_module_version": "1.5.0",
       "_view_name": "ProgressView",
       "bar_style": "success",
       "description": "",
       "description_tooltip": null,
       "layout": "IPY_MODEL_e0f700c3d87d447cb4e922a3c495c769",
       "max": 1648877,
       "min": 0,
       "orientation": "horizontal",
       "style": "IPY_MODEL_080318b4cf4b4d3bb3856ecad03e6de0",
       "value": 1648877
      }
     },
     "82ee2e6a467543daa4be592322bd1566": {
      "model_module": "@jupyter-widgets/controls",
      "model_module_version": "1.5.0",
      "model_name": "DescriptionStyleModel",
      "state": {
       "_model_module": "@jupyter-widgets/controls",
       "_model_module_version": "1.5.0",
       "_model_name": "DescriptionStyleModel",
       "_view_count": null,
       "_view_module": "@jupyter-widgets/base",
       "_view_module_version": "1.2.0",
       "_view_name": "StyleView",
       "description_width": ""
      }
     },
     "89af90948b10492c9c63026ef39a9f5d": {
      "model_module": "@jupyter-widgets/base",
      "model_module_version": "1.2.0",
      "model_name": "LayoutModel",
      "state": {
       "_model_module": "@jupyter-widgets/base",
       "_model_module_version": "1.2.0",
       "_model_name": "LayoutModel",
       "_view_count": null,
       "_view_module": "@jupyter-widgets/base",
       "_view_module_version": "1.2.0",
       "_view_name": "LayoutView",
       "align_content": null,
       "align_items": null,
       "align_self": null,
       "border": null,
       "bottom": null,
       "display": null,
       "flex": null,
       "flex_flow": null,
       "grid_area": null,
       "grid_auto_columns": null,
       "grid_auto_flow": null,
       "grid_auto_rows": null,
       "grid_column": null,
       "grid_gap": null,
       "grid_row": null,
       "grid_template_areas": null,
       "grid_template_columns": null,
       "grid_template_rows": null,
       "height": null,
       "justify_content": null,
       "justify_items": null,
       "left": null,
       "margin": null,
       "max_height": null,
       "max_width": null,
       "min_height": null,
       "min_width": null,
       "object_fit": null,
       "object_position": null,
       "order": null,
       "overflow": null,
       "overflow_x": null,
       "overflow_y": null,
       "padding": null,
       "right": null,
       "top": null,
       "visibility": null,
       "width": null
      }
     },
     "89beaa835d6b4bbc9ff402eebc421385": {
      "model_module": "@jupyter-widgets/controls",
      "model_module_version": "1.5.0",
      "model_name": "ProgressStyleModel",
      "state": {
       "_model_module": "@jupyter-widgets/controls",
       "_model_module_version": "1.5.0",
       "_model_name": "ProgressStyleModel",
       "_view_count": null,
       "_view_module": "@jupyter-widgets/base",
       "_view_module_version": "1.2.0",
       "_view_name": "StyleView",
       "bar_color": null,
       "description_width": ""
      }
     },
     "8a0b66d613e841e895fb3fd00efc0096": {
      "model_module": "@jupyter-widgets/base",
      "model_module_version": "1.2.0",
      "model_name": "LayoutModel",
      "state": {
       "_model_module": "@jupyter-widgets/base",
       "_model_module_version": "1.2.0",
       "_model_name": "LayoutModel",
       "_view_count": null,
       "_view_module": "@jupyter-widgets/base",
       "_view_module_version": "1.2.0",
       "_view_name": "LayoutView",
       "align_content": null,
       "align_items": null,
       "align_self": null,
       "border": null,
       "bottom": null,
       "display": null,
       "flex": null,
       "flex_flow": null,
       "grid_area": null,
       "grid_auto_columns": null,
       "grid_auto_flow": null,
       "grid_auto_rows": null,
       "grid_column": null,
       "grid_gap": null,
       "grid_row": null,
       "grid_template_areas": null,
       "grid_template_columns": null,
       "grid_template_rows": null,
       "height": null,
       "justify_content": null,
       "justify_items": null,
       "left": null,
       "margin": null,
       "max_height": null,
       "max_width": null,
       "min_height": null,
       "min_width": null,
       "object_fit": null,
       "object_position": null,
       "order": null,
       "overflow": null,
       "overflow_x": null,
       "overflow_y": null,
       "padding": null,
       "right": null,
       "top": null,
       "visibility": null,
       "width": null
      }
     },
     "93d9103bcec44762a6a09d7028ab3e4f": {
      "model_module": "@jupyter-widgets/base",
      "model_module_version": "1.2.0",
      "model_name": "LayoutModel",
      "state": {
       "_model_module": "@jupyter-widgets/base",
       "_model_module_version": "1.2.0",
       "_model_name": "LayoutModel",
       "_view_count": null,
       "_view_module": "@jupyter-widgets/base",
       "_view_module_version": "1.2.0",
       "_view_name": "LayoutView",
       "align_content": null,
       "align_items": null,
       "align_self": null,
       "border": null,
       "bottom": null,
       "display": null,
       "flex": null,
       "flex_flow": null,
       "grid_area": null,
       "grid_auto_columns": null,
       "grid_auto_flow": null,
       "grid_auto_rows": null,
       "grid_column": null,
       "grid_gap": null,
       "grid_row": null,
       "grid_template_areas": null,
       "grid_template_columns": null,
       "grid_template_rows": null,
       "height": null,
       "justify_content": null,
       "justify_items": null,
       "left": null,
       "margin": null,
       "max_height": null,
       "max_width": null,
       "min_height": null,
       "min_width": null,
       "object_fit": null,
       "object_position": null,
       "order": null,
       "overflow": null,
       "overflow_x": null,
       "overflow_y": null,
       "padding": null,
       "right": null,
       "top": null,
       "visibility": null,
       "width": null
      }
     },
     "b530c32fdbc846089809485c50c1b35f": {
      "model_module": "@jupyter-widgets/controls",
      "model_module_version": "1.5.0",
      "model_name": "HBoxModel",
      "state": {
       "_dom_classes": [],
       "_model_module": "@jupyter-widgets/controls",
       "_model_module_version": "1.5.0",
       "_model_name": "HBoxModel",
       "_view_count": null,
       "_view_module": "@jupyter-widgets/controls",
       "_view_module_version": "1.5.0",
       "_view_name": "HBoxView",
       "box_style": "",
       "children": [
        "IPY_MODEL_5304665d0d474ab1931706de197aca35",
        "IPY_MODEL_7e273a27861349af9edc8c9fe2e184b4",
        "IPY_MODEL_b8492b79d2e142488d8dd439d0dc5c72"
       ],
       "layout": "IPY_MODEL_5a5a7bc3499c4f3397523783517c5373"
      }
     },
     "b8492b79d2e142488d8dd439d0dc5c72": {
      "model_module": "@jupyter-widgets/controls",
      "model_module_version": "1.5.0",
      "model_name": "HTMLModel",
      "state": {
       "_dom_classes": [],
       "_model_module": "@jupyter-widgets/controls",
       "_model_module_version": "1.5.0",
       "_model_name": "HTMLModel",
       "_view_count": null,
       "_view_module": "@jupyter-widgets/controls",
       "_view_module_version": "1.5.0",
       "_view_name": "HTMLView",
       "description": "",
       "description_tooltip": null,
       "layout": "IPY_MODEL_93d9103bcec44762a6a09d7028ab3e4f",
       "placeholder": "​",
       "style": "IPY_MODEL_f66ed2a89ae04fc5876ee90f57075322",
       "value": " 1649664/? [00:00&lt;00:00, 33766487.80it/s]"
      }
     },
     "b907c2481ccd44aea3e88ef9ec8674a0": {
      "model_module": "@jupyter-widgets/base",
      "model_module_version": "1.2.0",
      "model_name": "LayoutModel",
      "state": {
       "_model_module": "@jupyter-widgets/base",
       "_model_module_version": "1.2.0",
       "_model_name": "LayoutModel",
       "_view_count": null,
       "_view_module": "@jupyter-widgets/base",
       "_view_module_version": "1.2.0",
       "_view_name": "LayoutView",
       "align_content": null,
       "align_items": null,
       "align_self": null,
       "border": null,
       "bottom": null,
       "display": null,
       "flex": null,
       "flex_flow": null,
       "grid_area": null,
       "grid_auto_columns": null,
       "grid_auto_flow": null,
       "grid_auto_rows": null,
       "grid_column": null,
       "grid_gap": null,
       "grid_row": null,
       "grid_template_areas": null,
       "grid_template_columns": null,
       "grid_template_rows": null,
       "height": null,
       "justify_content": null,
       "justify_items": null,
       "left": null,
       "margin": null,
       "max_height": null,
       "max_width": null,
       "min_height": null,
       "min_width": null,
       "object_fit": null,
       "object_position": null,
       "order": null,
       "overflow": null,
       "overflow_x": null,
       "overflow_y": null,
       "padding": null,
       "right": null,
       "top": null,
       "visibility": null,
       "width": null
      }
     },
     "c5ada45679074571920cd7cf0d106a59": {
      "model_module": "@jupyter-widgets/controls",
      "model_module_version": "1.5.0",
      "model_name": "HBoxModel",
      "state": {
       "_dom_classes": [],
       "_model_module": "@jupyter-widgets/controls",
       "_model_module_version": "1.5.0",
       "_model_name": "HBoxModel",
       "_view_count": null,
       "_view_module": "@jupyter-widgets/controls",
       "_view_module_version": "1.5.0",
       "_view_name": "HBoxView",
       "box_style": "",
       "children": [
        "IPY_MODEL_f8b8f32bd6bd431aa2929787a6b4da2d",
        "IPY_MODEL_14b6192e5990463a8cedd7dfe5cf7655",
        "IPY_MODEL_c70dfb44e17143cfafb053a105301a59"
       ],
       "layout": "IPY_MODEL_18bf62600c984a4c8931640b9fbd5c54"
      }
     },
     "c70dfb44e17143cfafb053a105301a59": {
      "model_module": "@jupyter-widgets/controls",
      "model_module_version": "1.5.0",
      "model_name": "HTMLModel",
      "state": {
       "_dom_classes": [],
       "_model_module": "@jupyter-widgets/controls",
       "_model_module_version": "1.5.0",
       "_model_name": "HTMLModel",
       "_view_count": null,
       "_view_module": "@jupyter-widgets/controls",
       "_view_module_version": "1.5.0",
       "_view_name": "HTMLView",
       "description": "",
       "description_tooltip": null,
       "layout": "IPY_MODEL_dbbf8bfdf5bf48e0ba0b1afbc098e727",
       "placeholder": "​",
       "style": "IPY_MODEL_529b4c73ee4a406e93318f37466fa081",
       "value": " 5120/? [00:00&lt;00:00, 222920.64it/s]"
      }
     },
     "ce880222629b45ffbf4f202d6e7b0a42": {
      "model_module": "@jupyter-widgets/controls",
      "model_module_version": "1.5.0",
      "model_name": "DescriptionStyleModel",
      "state": {
       "_model_module": "@jupyter-widgets/controls",
       "_model_module_version": "1.5.0",
       "_model_name": "DescriptionStyleModel",
       "_view_count": null,
       "_view_module": "@jupyter-widgets/base",
       "_view_module_version": "1.2.0",
       "_view_name": "StyleView",
       "description_width": ""
      }
     },
     "d4cea525608e4e30964677e638a2bc6b": {
      "model_module": "@jupyter-widgets/controls",
      "model_module_version": "1.5.0",
      "model_name": "DescriptionStyleModel",
      "state": {
       "_model_module": "@jupyter-widgets/controls",
       "_model_module_version": "1.5.0",
       "_model_name": "DescriptionStyleModel",
       "_view_count": null,
       "_view_module": "@jupyter-widgets/base",
       "_view_module_version": "1.2.0",
       "_view_name": "StyleView",
       "description_width": ""
      }
     },
     "dbbf8bfdf5bf48e0ba0b1afbc098e727": {
      "model_module": "@jupyter-widgets/base",
      "model_module_version": "1.2.0",
      "model_name": "LayoutModel",
      "state": {
       "_model_module": "@jupyter-widgets/base",
       "_model_module_version": "1.2.0",
       "_model_name": "LayoutModel",
       "_view_count": null,
       "_view_module": "@jupyter-widgets/base",
       "_view_module_version": "1.2.0",
       "_view_name": "LayoutView",
       "align_content": null,
       "align_items": null,
       "align_self": null,
       "border": null,
       "bottom": null,
       "display": null,
       "flex": null,
       "flex_flow": null,
       "grid_area": null,
       "grid_auto_columns": null,
       "grid_auto_flow": null,
       "grid_auto_rows": null,
       "grid_column": null,
       "grid_gap": null,
       "grid_row": null,
       "grid_template_areas": null,
       "grid_template_columns": null,
       "grid_template_rows": null,
       "height": null,
       "justify_content": null,
       "justify_items": null,
       "left": null,
       "margin": null,
       "max_height": null,
       "max_width": null,
       "min_height": null,
       "min_width": null,
       "object_fit": null,
       "object_position": null,
       "order": null,
       "overflow": null,
       "overflow_x": null,
       "overflow_y": null,
       "padding": null,
       "right": null,
       "top": null,
       "visibility": null,
       "width": null
      }
     },
     "dcc7052ff4a5455d99e20e93263df3cf": {
      "model_module": "@jupyter-widgets/base",
      "model_module_version": "1.2.0",
      "model_name": "LayoutModel",
      "state": {
       "_model_module": "@jupyter-widgets/base",
       "_model_module_version": "1.2.0",
       "_model_name": "LayoutModel",
       "_view_count": null,
       "_view_module": "@jupyter-widgets/base",
       "_view_module_version": "1.2.0",
       "_view_name": "LayoutView",
       "align_content": null,
       "align_items": null,
       "align_self": null,
       "border": null,
       "bottom": null,
       "display": null,
       "flex": null,
       "flex_flow": null,
       "grid_area": null,
       "grid_auto_columns": null,
       "grid_auto_flow": null,
       "grid_auto_rows": null,
       "grid_column": null,
       "grid_gap": null,
       "grid_row": null,
       "grid_template_areas": null,
       "grid_template_columns": null,
       "grid_template_rows": null,
       "height": null,
       "justify_content": null,
       "justify_items": null,
       "left": null,
       "margin": null,
       "max_height": null,
       "max_width": null,
       "min_height": null,
       "min_width": null,
       "object_fit": null,
       "object_position": null,
       "order": null,
       "overflow": null,
       "overflow_x": null,
       "overflow_y": null,
       "padding": null,
       "right": null,
       "top": null,
       "visibility": null,
       "width": null
      }
     },
     "e0f700c3d87d447cb4e922a3c495c769": {
      "model_module": "@jupyter-widgets/base",
      "model_module_version": "1.2.0",
      "model_name": "LayoutModel",
      "state": {
       "_model_module": "@jupyter-widgets/base",
       "_model_module_version": "1.2.0",
       "_model_name": "LayoutModel",
       "_view_count": null,
       "_view_module": "@jupyter-widgets/base",
       "_view_module_version": "1.2.0",
       "_view_name": "LayoutView",
       "align_content": null,
       "align_items": null,
       "align_self": null,
       "border": null,
       "bottom": null,
       "display": null,
       "flex": null,
       "flex_flow": null,
       "grid_area": null,
       "grid_auto_columns": null,
       "grid_auto_flow": null,
       "grid_auto_rows": null,
       "grid_column": null,
       "grid_gap": null,
       "grid_row": null,
       "grid_template_areas": null,
       "grid_template_columns": null,
       "grid_template_rows": null,
       "height": null,
       "justify_content": null,
       "justify_items": null,
       "left": null,
       "margin": null,
       "max_height": null,
       "max_width": null,
       "min_height": null,
       "min_width": null,
       "object_fit": null,
       "object_position": null,
       "order": null,
       "overflow": null,
       "overflow_x": null,
       "overflow_y": null,
       "padding": null,
       "right": null,
       "top": null,
       "visibility": null,
       "width": null
      }
     },
     "e12a134b9faf4dfebd96032dc3eeb420": {
      "model_module": "@jupyter-widgets/base",
      "model_module_version": "1.2.0",
      "model_name": "LayoutModel",
      "state": {
       "_model_module": "@jupyter-widgets/base",
       "_model_module_version": "1.2.0",
       "_model_name": "LayoutModel",
       "_view_count": null,
       "_view_module": "@jupyter-widgets/base",
       "_view_module_version": "1.2.0",
       "_view_name": "LayoutView",
       "align_content": null,
       "align_items": null,
       "align_self": null,
       "border": null,
       "bottom": null,
       "display": null,
       "flex": null,
       "flex_flow": null,
       "grid_area": null,
       "grid_auto_columns": null,
       "grid_auto_flow": null,
       "grid_auto_rows": null,
       "grid_column": null,
       "grid_gap": null,
       "grid_row": null,
       "grid_template_areas": null,
       "grid_template_columns": null,
       "grid_template_rows": null,
       "height": null,
       "justify_content": null,
       "justify_items": null,
       "left": null,
       "margin": null,
       "max_height": null,
       "max_width": null,
       "min_height": null,
       "min_width": null,
       "object_fit": null,
       "object_position": null,
       "order": null,
       "overflow": null,
       "overflow_x": null,
       "overflow_y": null,
       "padding": null,
       "right": null,
       "top": null,
       "visibility": null,
       "width": null
      }
     },
     "ea5a47195b2c4c1cb02a3d42788dcc22": {
      "model_module": "@jupyter-widgets/controls",
      "model_module_version": "1.5.0",
      "model_name": "FloatProgressModel",
      "state": {
       "_dom_classes": [],
       "_model_module": "@jupyter-widgets/controls",
       "_model_module_version": "1.5.0",
       "_model_name": "FloatProgressModel",
       "_view_count": null,
       "_view_module": "@jupyter-widgets/controls",
       "_view_module_version": "1.5.0",
       "_view_name": "ProgressView",
       "bar_style": "success",
       "description": "",
       "description_tooltip": null,
       "layout": "IPY_MODEL_dcc7052ff4a5455d99e20e93263df3cf",
       "max": 28881,
       "min": 0,
       "orientation": "horizontal",
       "style": "IPY_MODEL_2da5185391dd40e690110b4663fd8003",
       "value": 28881
      }
     },
     "f545aaf9838847eca0944e2d93737173": {
      "model_module": "@jupyter-widgets/controls",
      "model_module_version": "1.5.0",
      "model_name": "DescriptionStyleModel",
      "state": {
       "_model_module": "@jupyter-widgets/controls",
       "_model_module_version": "1.5.0",
       "_model_name": "DescriptionStyleModel",
       "_view_count": null,
       "_view_module": "@jupyter-widgets/base",
       "_view_module_version": "1.2.0",
       "_view_name": "StyleView",
       "description_width": ""
      }
     },
     "f66ed2a89ae04fc5876ee90f57075322": {
      "model_module": "@jupyter-widgets/controls",
      "model_module_version": "1.5.0",
      "model_name": "DescriptionStyleModel",
      "state": {
       "_model_module": "@jupyter-widgets/controls",
       "_model_module_version": "1.5.0",
       "_model_name": "DescriptionStyleModel",
       "_view_count": null,
       "_view_module": "@jupyter-widgets/base",
       "_view_module_version": "1.2.0",
       "_view_name": "StyleView",
       "description_width": ""
      }
     },
     "f6c889489b5444179ac254ab857ae87e": {
      "model_module": "@jupyter-widgets/controls",
      "model_module_version": "1.5.0",
      "model_name": "HTMLModel",
      "state": {
       "_dom_classes": [],
       "_model_module": "@jupyter-widgets/controls",
       "_model_module_version": "1.5.0",
       "_model_name": "HTMLModel",
       "_view_count": null,
       "_view_module": "@jupyter-widgets/controls",
       "_view_module_version": "1.5.0",
       "_view_name": "HTMLView",
       "description": "",
       "description_tooltip": null,
       "layout": "IPY_MODEL_76efc1bd0a7f4ad2a979390b30db9d61",
       "placeholder": "​",
       "style": "IPY_MODEL_d4cea525608e4e30964677e638a2bc6b",
       "value": " 9913344/? [00:00&lt;00:00, 79857457.07it/s]"
      }
     },
     "f8b8f32bd6bd431aa2929787a6b4da2d": {
      "model_module": "@jupyter-widgets/controls",
      "model_module_version": "1.5.0",
      "model_name": "HTMLModel",
      "state": {
       "_dom_classes": [],
       "_model_module": "@jupyter-widgets/controls",
       "_model_module_version": "1.5.0",
       "_model_name": "HTMLModel",
       "_view_count": null,
       "_view_module": "@jupyter-widgets/controls",
       "_view_module_version": "1.5.0",
       "_view_name": "HTMLView",
       "description": "",
       "description_tooltip": null,
       "layout": "IPY_MODEL_1808d79317404cc8944fa65464a92316",
       "placeholder": "​",
       "style": "IPY_MODEL_82ee2e6a467543daa4be592322bd1566",
       "value": ""
      }
     }
    },
    "version_major": 2,
    "version_minor": 0
   }
  }
 },
 "nbformat": 4,
 "nbformat_minor": 5
}
