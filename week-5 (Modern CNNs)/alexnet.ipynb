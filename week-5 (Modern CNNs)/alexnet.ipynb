{
 "cells": [
  {
   "cell_type": "markdown",
   "id": "capital-timing",
   "metadata": {
    "id": "kPUz7s7O0ezG",
    "papermill": {
     "duration": 0.017761,
     "end_time": "2022-04-09T00:48:33.648631",
     "exception": false,
     "start_time": "2022-04-09T00:48:33.630870",
     "status": "completed"
    },
    "tags": []
   },
   "source": [
    " # Assignment 2 - Modern CNNs (AlexNet)\n",
    "*This notebook was run by Arsyi Syarief Aziz (H071191003) for the Introduction to Deep Learning course (Unhas) taught by Dr. Risman Adnan.*"
   ]
  },
  {
   "cell_type": "markdown",
   "id": "blocked-capital",
   "metadata": {
    "id": "1kNAVed00oG_",
    "papermill": {
     "duration": 0.016187,
     "end_time": "2022-04-09T00:48:33.681819",
     "exception": false,
     "start_time": "2022-04-09T00:48:33.665632",
     "status": "completed"
    },
    "tags": []
   },
   "source": [
    "This is part 1/7 of this assignment. In this notebook, I will attempt to implement AlexNet."
   ]
  },
  {
   "cell_type": "code",
   "execution_count": 1,
   "id": "continuing-orchestra",
   "metadata": {
    "execution": {
     "iopub.execute_input": "2022-04-09T00:48:33.734775Z",
     "iopub.status.busy": "2022-04-09T00:48:33.732379Z",
     "iopub.status.idle": "2022-04-09T00:48:35.302771Z",
     "shell.execute_reply": "2022-04-09T00:48:35.302195Z",
     "shell.execute_reply.started": "2022-04-09T00:10:07.489267Z"
    },
    "id": "BCpzEwH657Mb",
    "papermill": {
     "duration": 1.604307,
     "end_time": "2022-04-09T00:48:35.302917",
     "exception": false,
     "start_time": "2022-04-09T00:48:33.698610",
     "status": "completed"
    },
    "tags": []
   },
   "outputs": [],
   "source": [
    "import torch\n",
    "from torch import nn\n",
    "from torch.utils.data import Dataset\n",
    "from torchvision import datasets, transforms\n",
    "import matplotlib.pyplot as plt\n",
    "from torch.utils.data import DataLoader, SubsetRandomSampler\n",
    "import torch.optim as optim\n",
    "import torch.nn.functional as F"
   ]
  },
  {
   "cell_type": "code",
   "execution_count": 2,
   "id": "determined-traveler",
   "metadata": {
    "execution": {
     "iopub.execute_input": "2022-04-09T00:48:35.340619Z",
     "iopub.status.busy": "2022-04-09T00:48:35.339703Z",
     "iopub.status.idle": "2022-04-09T00:48:35.342513Z",
     "shell.execute_reply": "2022-04-09T00:48:35.342075Z",
     "shell.execute_reply.started": "2022-04-09T00:10:09.533318Z"
    },
    "id": "q3-CqlQ1KEEr",
    "papermill": {
     "duration": 0.022923,
     "end_time": "2022-04-09T00:48:35.342622",
     "exception": false,
     "start_time": "2022-04-09T00:48:35.319699",
     "status": "completed"
    },
    "tags": []
   },
   "outputs": [],
   "source": [
    "cuda = torch.device('cuda')"
   ]
  },
  {
   "cell_type": "markdown",
   "id": "honest-traffic",
   "metadata": {
    "id": "bte5iPRGRDNQ",
    "papermill": {
     "duration": 0.016532,
     "end_time": "2022-04-09T00:48:35.375585",
     "exception": false,
     "start_time": "2022-04-09T00:48:35.359053",
     "status": "completed"
    },
    "tags": []
   },
   "source": [
    "## Importing Dataset"
   ]
  },
  {
   "cell_type": "markdown",
   "id": "assisted-azerbaijan",
   "metadata": {
    "id": "PrEHhDb5PkIe",
    "papermill": {
     "duration": 0.016468,
     "end_time": "2022-04-09T00:48:35.408357",
     "exception": false,
     "start_time": "2022-04-09T00:48:35.391889",
     "status": "completed"
    },
    "tags": []
   },
   "source": [
    "I will use the MNIST dataset to train and test the model in this notebook. Because MNIST contains images of shape 28x28 pixels and because AlexNet accepts images of size 244x244 pixels, I will upscale each image in the dataset to 244x244 pixels."
   ]
  },
  {
   "cell_type": "code",
   "execution_count": 3,
   "id": "enhanced-third",
   "metadata": {
    "execution": {
     "iopub.execute_input": "2022-04-09T00:48:35.447360Z",
     "iopub.status.busy": "2022-04-09T00:48:35.446603Z",
     "iopub.status.idle": "2022-04-09T00:48:36.847058Z",
     "shell.execute_reply": "2022-04-09T00:48:36.847705Z",
     "shell.execute_reply.started": "2022-04-09T00:10:09.542297Z"
    },
    "id": "FhX60lnP8LLq",
    "papermill": {
     "duration": 1.422948,
     "end_time": "2022-04-09T00:48:36.847898",
     "exception": false,
     "start_time": "2022-04-09T00:48:35.424950",
     "status": "completed"
    },
    "tags": []
   },
   "outputs": [
    {
     "name": "stdout",
     "output_type": "stream",
     "text": [
      "Downloading http://yann.lecun.com/exdb/mnist/train-images-idx3-ubyte.gz\n",
      "Downloading http://yann.lecun.com/exdb/mnist/train-images-idx3-ubyte.gz to data/MNIST/raw/train-images-idx3-ubyte.gz\n"
     ]
    },
    {
     "data": {
      "application/vnd.jupyter.widget-view+json": {
       "model_id": "d50919c19a904932b21068552a5330fa",
       "version_major": 2,
       "version_minor": 0
      },
      "text/plain": [
       "  0%|          | 0/9912422 [00:00<?, ?it/s]"
      ]
     },
     "metadata": {},
     "output_type": "display_data"
    },
    {
     "name": "stdout",
     "output_type": "stream",
     "text": [
      "Extracting data/MNIST/raw/train-images-idx3-ubyte.gz to data/MNIST/raw\n",
      "\n",
      "Downloading http://yann.lecun.com/exdb/mnist/train-labels-idx1-ubyte.gz\n",
      "Downloading http://yann.lecun.com/exdb/mnist/train-labels-idx1-ubyte.gz to data/MNIST/raw/train-labels-idx1-ubyte.gz\n"
     ]
    },
    {
     "data": {
      "application/vnd.jupyter.widget-view+json": {
       "model_id": "e79e6d1082744190b1142cad3d970520",
       "version_major": 2,
       "version_minor": 0
      },
      "text/plain": [
       "  0%|          | 0/28881 [00:00<?, ?it/s]"
      ]
     },
     "metadata": {},
     "output_type": "display_data"
    },
    {
     "name": "stdout",
     "output_type": "stream",
     "text": [
      "Extracting data/MNIST/raw/train-labels-idx1-ubyte.gz to data/MNIST/raw\n",
      "\n",
      "Downloading http://yann.lecun.com/exdb/mnist/t10k-images-idx3-ubyte.gz\n",
      "Downloading http://yann.lecun.com/exdb/mnist/t10k-images-idx3-ubyte.gz to data/MNIST/raw/t10k-images-idx3-ubyte.gz\n"
     ]
    },
    {
     "data": {
      "application/vnd.jupyter.widget-view+json": {
       "model_id": "6a82029a78e54fcb980ece2c90012245",
       "version_major": 2,
       "version_minor": 0
      },
      "text/plain": [
       "  0%|          | 0/1648877 [00:00<?, ?it/s]"
      ]
     },
     "metadata": {},
     "output_type": "display_data"
    },
    {
     "name": "stdout",
     "output_type": "stream",
     "text": [
      "Extracting data/MNIST/raw/t10k-images-idx3-ubyte.gz to data/MNIST/raw\n",
      "\n",
      "Downloading http://yann.lecun.com/exdb/mnist/t10k-labels-idx1-ubyte.gz\n",
      "Downloading http://yann.lecun.com/exdb/mnist/t10k-labels-idx1-ubyte.gz to data/MNIST/raw/t10k-labels-idx1-ubyte.gz\n"
     ]
    },
    {
     "data": {
      "application/vnd.jupyter.widget-view+json": {
       "model_id": "d489708db703481580932b284fb4fec3",
       "version_major": 2,
       "version_minor": 0
      },
      "text/plain": [
       "  0%|          | 0/4542 [00:00<?, ?it/s]"
      ]
     },
     "metadata": {},
     "output_type": "display_data"
    },
    {
     "name": "stdout",
     "output_type": "stream",
     "text": [
      "Extracting data/MNIST/raw/t10k-labels-idx1-ubyte.gz to data/MNIST/raw\n",
      "\n"
     ]
    },
    {
     "name": "stderr",
     "output_type": "stream",
     "text": [
      "/opt/conda/lib/python3.7/site-packages/torchvision/datasets/mnist.py:498: UserWarning: The given NumPy array is not writeable, and PyTorch does not support non-writeable tensors. This means you can write to the underlying (supposedly non-writeable) NumPy array using the tensor. You may want to copy the array to protect its data or make it writeable before converting it to a tensor. This type of warning will be suppressed for the rest of this program. (Triggered internally at  /usr/local/src/pytorch/torch/csrc/utils/tensor_numpy.cpp:174.)\n",
      "  return torch.from_numpy(parsed.astype(m[2], copy=False)).view(*s)\n"
     ]
    }
   ],
   "source": [
    "training_data = datasets.MNIST(\n",
    "    root=\"data\",\n",
    "    train=True,\n",
    "    download=True,\n",
    "    transform=transforms.Compose([transforms.ToTensor(), transforms.Resize(224)])\n",
    ")\n",
    "test_data = datasets.MNIST(\n",
    "    root=\"data\",\n",
    "    train=False,\n",
    "    download=True,\n",
    "    transform=transforms.Compose([transforms.ToTensor(), transforms.Resize(224)]) # Upscale to 244x224 pixels\n",
    ")\n"
   ]
  },
  {
   "cell_type": "code",
   "execution_count": 4,
   "id": "single-scout",
   "metadata": {
    "execution": {
     "iopub.execute_input": "2022-04-09T00:48:36.899230Z",
     "iopub.status.busy": "2022-04-09T00:48:36.897532Z",
     "iopub.status.idle": "2022-04-09T00:48:36.899831Z",
     "shell.execute_reply": "2022-04-09T00:48:36.900265Z",
     "shell.execute_reply.started": "2022-04-09T00:10:11.437687Z"
    },
    "id": "JvCVDzeP3ZMl",
    "papermill": {
     "duration": 0.029577,
     "end_time": "2022-04-09T00:48:36.900398",
     "exception": false,
     "start_time": "2022-04-09T00:48:36.870821",
     "status": "completed"
    },
    "tags": []
   },
   "outputs": [],
   "source": [
    "train_loader = torch.utils.data.DataLoader(\n",
    "                 dataset=training_data,\n",
    "                 batch_size=512,\n",
    "                 shuffle=True,\n",
    "                 num_workers=2,\n",
    "                 pin_memory=True)\n",
    "test_loader = torch.utils.data.DataLoader(\n",
    "                dataset=test_data,\n",
    "                batch_size=512,\n",
    "                shuffle=False,\n",
    "                num_workers=2,\n",
    "                pin_memory=True)"
   ]
  },
  {
   "cell_type": "markdown",
   "id": "entertaining-voltage",
   "metadata": {
    "id": "jcrx_r_XRoQD",
    "papermill": {
     "duration": 0.022215,
     "end_time": "2022-04-09T00:48:36.944045",
     "exception": false,
     "start_time": "2022-04-09T00:48:36.921830",
     "status": "completed"
    },
    "tags": []
   },
   "source": [
    "Below are nine samples of the dataset"
   ]
  },
  {
   "cell_type": "code",
   "execution_count": 5,
   "id": "substantial-matter",
   "metadata": {
    "execution": {
     "iopub.execute_input": "2022-04-09T00:48:36.994170Z",
     "iopub.status.busy": "2022-04-09T00:48:36.993577Z",
     "iopub.status.idle": "2022-04-09T00:48:37.461984Z",
     "shell.execute_reply": "2022-04-09T00:48:37.462412Z",
     "shell.execute_reply.started": "2022-04-09T00:10:11.448138Z"
    },
    "id": "t1Me2hEdDRL3",
    "outputId": "e8b2b870-0533-4bc5-830a-1b0741819777",
    "papermill": {
     "duration": 0.496875,
     "end_time": "2022-04-09T00:48:37.462562",
     "exception": false,
     "start_time": "2022-04-09T00:48:36.965687",
     "status": "completed"
    },
    "tags": []
   },
   "outputs": [
    {
     "data": {
      "image/png": "[encoded data removed]",
      "text/plain": [
       "<Figure size 576x576 with 9 Axes>"
      ]
     },
     "metadata": {
      "needs_background": "light"
     },
     "output_type": "display_data"
    }
   ],
   "source": [
    "figure = plt.figure(figsize=(8, 8))\n",
    "cols, rows = 3, 3\n",
    "for i in range(1, cols * rows + 1):\n",
    "    sample_idx = torch.randint(len(training_data), size=(1,)).item()\n",
    "    img, label = training_data[sample_idx]\n",
    "    figure.add_subplot(rows, cols, i)\n",
    "    plt.title(label)\n",
    "    plt.axis(\"off\")\n",
    "    plt.imshow(img.squeeze(), cmap=\"gray\")\n",
    "plt.show()"
   ]
  },
  {
   "cell_type": "markdown",
   "id": "billion-addition",
   "metadata": {
    "id": "aTtluDE6mIqc",
    "papermill": {
     "duration": 0.022872,
     "end_time": "2022-04-09T00:48:37.510019",
     "exception": false,
     "start_time": "2022-04-09T00:48:37.487147",
     "status": "completed"
    },
    "tags": []
   },
   "source": [
    "## Definining Helper Functions"
   ]
  },
  {
   "cell_type": "markdown",
   "id": "major-article",
   "metadata": {
    "id": "-CKbG0S0mQKG",
    "papermill": {
     "duration": 0.022253,
     "end_time": "2022-04-09T00:48:37.554918",
     "exception": false,
     "start_time": "2022-04-09T00:48:37.532665",
     "status": "completed"
    },
    "tags": []
   },
   "source": [
    "The function below will be used to train the neural network"
   ]
  },
  {
   "cell_type": "code",
   "execution_count": 6,
   "id": "continued-arizona",
   "metadata": {
    "execution": {
     "iopub.execute_input": "2022-04-09T00:48:37.607115Z",
     "iopub.status.busy": "2022-04-09T00:48:37.606393Z",
     "iopub.status.idle": "2022-04-09T00:48:37.608868Z",
     "shell.execute_reply": "2022-04-09T00:48:37.608444Z",
     "shell.execute_reply.started": "2022-04-09T00:10:12.043237Z"
    },
    "id": "bHmZBkYymNJz",
    "papermill": {
     "duration": 0.031915,
     "end_time": "2022-04-09T00:48:37.608970",
     "exception": false,
     "start_time": "2022-04-09T00:48:37.577055",
     "status": "completed"
    },
    "tags": []
   },
   "outputs": [],
   "source": [
    "def train(net, train_loader, epochs=10, lr=0.001, momentum=0.9, weight_decay=0.0005): \n",
    "\n",
    "    optimizer = optim.SGD(net.parameters(), lr=lr, momentum=momentum)\n",
    "    criterion = nn.CrossEntropyLoss()\n",
    "\n",
    "    net.to(cuda)\n",
    "    \n",
    "    for epoch in range(epochs):  # loop over the dataset multiple times\n",
    "        running_loss = 0.0\n",
    "\n",
    "        net.train()\n",
    "        for X, y in train_loader:\n",
    "            X, y = X.to(cuda), y.to(cuda)\n",
    "\n",
    "            # zero the parameter gradients\n",
    "            optimizer.zero_grad(set_to_none=True)\n",
    "\n",
    "            # forward + backward + optimize\n",
    "            outputs = net(X)\n",
    "            loss = criterion(outputs, y)\n",
    "            loss.backward()\n",
    "            optimizer.step()\n",
    "\n",
    "            running_loss += loss.item()\n",
    "        \n",
    "        print(f'Epoch: {epoch + 1}, loss: {running_loss / len(train_loader.dataset):.6f}')\n",
    "\n",
    "    print('Finished Training')\n",
    "    total, correct = test(net, train_loader)\n",
    "    print(f'Train accuracy: {(correct/total)*100}%')"
   ]
  },
  {
   "cell_type": "markdown",
   "id": "decreased-commitment",
   "metadata": {
    "id": "spLBgSm4ma_w",
    "papermill": {
     "duration": 0.022599,
     "end_time": "2022-04-09T00:48:37.653745",
     "exception": false,
     "start_time": "2022-04-09T00:48:37.631146",
     "status": "completed"
    },
    "tags": []
   },
   "source": [
    "The function below will be used to calculate the neural network's test accuracy."
   ]
  },
  {
   "cell_type": "code",
   "execution_count": 7,
   "id": "exposed-throw",
   "metadata": {
    "execution": {
     "iopub.execute_input": "2022-04-09T00:48:37.703526Z",
     "iopub.status.busy": "2022-04-09T00:48:37.702820Z",
     "iopub.status.idle": "2022-04-09T00:48:37.705038Z",
     "shell.execute_reply": "2022-04-09T00:48:37.705447Z",
     "shell.execute_reply.started": "2022-04-09T00:10:12.056079Z"
    },
    "id": "Dgw-cVoMm1P8",
    "papermill": {
     "duration": 0.029775,
     "end_time": "2022-04-09T00:48:37.705575",
     "exception": false,
     "start_time": "2022-04-09T00:48:37.675800",
     "status": "completed"
    },
    "tags": []
   },
   "outputs": [],
   "source": [
    "def test(net, test_loader):\n",
    "    \n",
    "    total = 0\n",
    "    correct = 0\n",
    "\n",
    "    for X, y in test_loader:\n",
    "        net.eval()\n",
    "        X, y = X.to(cuda), y.to(cuda)\n",
    "\n",
    "        y_hat = net(X).argmax(axis=1)\n",
    "        total += X.shape[0]\n",
    "        correct += (y_hat == y).sum()\n",
    "\n",
    "    return total, correct\n",
    "  "
   ]
  },
  {
   "cell_type": "markdown",
   "id": "mineral-gardening",
   "metadata": {
    "id": "yagl3aDA3Wiz",
    "papermill": {
     "duration": 0.022466,
     "end_time": "2022-04-09T00:48:37.750089",
     "exception": false,
     "start_time": "2022-04-09T00:48:37.727623",
     "status": "completed"
    },
    "tags": []
   },
   "source": [
    "## AlexNet"
   ]
  },
  {
   "attachments": {
    "892e2da6-f7e4-4346-8be4-304c95ac559a.png": {
     "image/png": "[encoded data removed]"
    }
   },
   "cell_type": "markdown",
   "id": "formal-mileage",
   "metadata": {
    "id": "VxXrSLrzjTM8",
    "papermill": {
     "duration": 0.022387,
     "end_time": "2022-04-09T00:48:37.794954",
     "exception": false,
     "start_time": "2022-04-09T00:48:37.772567",
     "status": "completed"
    },
    "tags": []
   },
   "source": [
    "The first architecture that I will implement is AlexNet. This architecture is similar to LeNet, but has more convolutional layers; consisting of five convolutional layers and three fully connected layers.\n",
    "\n",
    "![AlexNet.png](attachment:892e2da6-f7e4-4346-8be4-304c95ac559a.png)\n",
    "\n",
    "\n",
    "The first convolution layer filters a 244x244 pixel image against 96 kernels of size 11x11 with a stride of 4 pixels. The second convolutional layer takes the output of the first layer and filters it against 256 kernels of size 5x5 and max pools it against a kernel of size 3x3. Unlike the first and second convolutional layers, the third and fourth layers don't have any max pooling layers. The third convolutional layer filters the second layer's output against 384 kernels of size 3x3, and the fourth convolutional layer filters the third layer's output against 384 kernels of size 3x3. Continuing on, the output of the fourth layer is inputted into the fifth convolutional layer with 256 kernels of size 3x3, which is then max pooled with a kernel of size 3x3. Finally, the output of the fifth layer is inputted into three fully connected layers, each containing 4096, 4096, and 10 neurons respectively.\n",
    "\n",
    "In addition to having more layer's than LeNet, AlexNet also has a different activation function: ReLU. This activation function is computationally simpler than LeNet's activation function (tanh) and has the capability of training a model much faster, due to its constant gradient (when z > 0)."
   ]
  },
  {
   "cell_type": "code",
   "execution_count": 8,
   "id": "herbal-stock",
   "metadata": {
    "execution": {
     "iopub.execute_input": "2022-04-09T00:48:37.850189Z",
     "iopub.status.busy": "2022-04-09T00:48:37.849405Z",
     "iopub.status.idle": "2022-04-09T00:48:38.233866Z",
     "shell.execute_reply": "2022-04-09T00:48:38.233374Z",
     "shell.execute_reply.started": "2022-04-09T00:10:12.070564Z"
    },
    "id": "TIcEMc2-DGht",
    "papermill": {
     "duration": 0.41635,
     "end_time": "2022-04-09T00:48:38.233996",
     "exception": false,
     "start_time": "2022-04-09T00:48:37.817646",
     "status": "completed"
    },
    "tags": []
   },
   "outputs": [],
   "source": [
    "alex_net = nn.Sequential(\n",
    "    nn.Conv2d(1, 96, kernel_size=11, stride=4, padding=1), nn.ReLU(),\n",
    "    nn.MaxPool2d(kernel_size=3, stride=2),\n",
    "    nn.Conv2d(96, 256, kernel_size=5, padding=2), nn.ReLU(),\n",
    "    nn.MaxPool2d(kernel_size=3, stride=2),\n",
    "    nn.Conv2d(256, 384, kernel_size=3, padding=1), nn.ReLU(),\n",
    "    nn.Conv2d(384, 384, kernel_size=3, padding=1), nn.ReLU(),\n",
    "    nn.Conv2d(384, 256, kernel_size=3, padding=1), nn.ReLU(),\n",
    "    nn.MaxPool2d(kernel_size=3, stride=2),\n",
    "    nn.Flatten(),\n",
    "    nn.Linear(6400, 4096), nn.ReLU(),\n",
    "    nn.Dropout(p=0.5),\n",
    "    nn.Linear(4096, 4096), nn.ReLU(),\n",
    "    nn.Dropout(p=0.5),\n",
    "    nn.Linear(4096, 10)\n",
    ")"
   ]
  },
  {
   "cell_type": "markdown",
   "id": "stunning-pride",
   "metadata": {},
   "source": [
    "I will train AlexNet with a learning rate of 0.01 and a total of 10 epochs."
   ]
  },
  {
   "cell_type": "code",
   "execution_count": 9,
   "id": "french-elements",
   "metadata": {
    "execution": {
     "iopub.execute_input": "2022-04-09T00:48:38.339350Z",
     "iopub.status.busy": "2022-04-09T00:48:38.338768Z",
     "iopub.status.idle": "2022-04-09T01:01:36.815958Z",
     "shell.execute_reply": "2022-04-09T01:01:36.819210Z",
     "shell.execute_reply.started": "2022-04-09T00:10:12.507097Z"
    },
    "id": "ufhelQkTInz8",
    "outputId": "3bff4799-1487-4565-e52b-d1f36a123af6",
    "papermill": {
     "duration": 778.5568,
     "end_time": "2022-04-09T01:01:36.819468",
     "exception": false,
     "start_time": "2022-04-09T00:48:38.262668",
     "status": "completed"
    },
    "tags": []
   },
   "outputs": [
    {
     "name": "stdout",
     "output_type": "stream",
     "text": [
      "Epoch: 1, loss: 0.004524\n",
      "Epoch: 2, loss: 0.004491\n",
      "Epoch: 3, loss: 0.004524\n",
      "Epoch: 4, loss: 0.004410\n",
      "Epoch: 5, loss: 0.001203\n",
      "Epoch: 6, loss: 0.000251\n",
      "Epoch: 7, loss: 0.000172\n",
      "Epoch: 8, loss: 0.000138\n",
      "Epoch: 9, loss: 0.000116\n",
      "Epoch: 10, loss: 0.000100\n",
      "Finished Training\n",
      "Train accuracy: 98.81999969482422%\n"
     ]
    }
   ],
   "source": [
    "train(alex_net, train_loader, lr=0.01, epochs=10) "
   ]
  },
  {
   "cell_type": "code",
   "execution_count": 10,
   "id": "completed-laser",
   "metadata": {
    "execution": {
     "iopub.execute_input": "2022-04-09T01:01:36.931263Z",
     "iopub.status.busy": "2022-04-09T01:01:36.930411Z",
     "iopub.status.idle": "2022-04-09T01:01:47.901649Z",
     "shell.execute_reply": "2022-04-09T01:01:47.899681Z",
     "shell.execute_reply.started": "2022-04-09T00:25:13.710843Z"
    },
    "id": "C48URL348-eH",
    "papermill": {
     "duration": 11.026923,
     "end_time": "2022-04-09T01:01:47.901930",
     "exception": false,
     "start_time": "2022-04-09T01:01:36.875007",
     "status": "completed"
    },
    "tags": []
   },
   "outputs": [],
   "source": [
    "total, correct = test(alex_net, test_loader)  "
   ]
  },
  {
   "cell_type": "code",
   "execution_count": 11,
   "id": "conceptual-northern",
   "metadata": {
    "execution": {
     "iopub.execute_input": "2022-04-09T01:01:48.023313Z",
     "iopub.status.busy": "2022-04-09T01:01:48.021069Z",
     "iopub.status.idle": "2022-04-09T01:01:48.027649Z",
     "shell.execute_reply": "2022-04-09T01:01:48.026295Z",
     "shell.execute_reply.started": "2022-04-09T00:25:26.713471Z"
    },
    "id": "v8igdpIIRVtn",
    "papermill": {
     "duration": 0.063092,
     "end_time": "2022-04-09T01:01:48.027927",
     "exception": false,
     "start_time": "2022-04-09T01:01:47.964835",
     "status": "completed"
    },
    "tags": []
   },
   "outputs": [
    {
     "name": "stdout",
     "output_type": "stream",
     "text": [
      "Test Accuracy: 98.7699966430664% (9877/10000)\n"
     ]
    }
   ],
   "source": [
    "print(f\"Test Accuracy: {(correct/total)*100}% ({correct}/{total})\")"
   ]
  },
  {
   "cell_type": "markdown",
   "id": "southeast-genetics",
   "metadata": {},
   "source": [
    "As you can see, the trained AlexNet model has a test accuracy of 98.77%."
   ]
  },
  {
   "cell_type": "markdown",
   "id": "iraqi-cooking",
   "metadata": {},
   "source": [
    "## Visualizing Predictions"
   ]
  },
  {
   "cell_type": "markdown",
   "id": "planned-collector",
   "metadata": {},
   "source": [
    "Below are five visual representations of AlexNet's predictions."
   ]
  },
  {
   "cell_type": "code",
   "execution_count": 12,
   "id": "apart-carol",
   "metadata": {
    "execution": {
     "iopub.execute_input": "2022-04-09T01:01:48.122424Z",
     "iopub.status.busy": "2022-04-09T01:01:48.121684Z",
     "iopub.status.idle": "2022-04-09T01:01:48.125919Z",
     "shell.execute_reply": "2022-04-09T01:01:48.126507Z",
     "shell.execute_reply.started": "2022-04-09T00:28:36.717748Z"
    },
    "papermill": {
     "duration": 0.054879,
     "end_time": "2022-04-09T01:01:48.126685",
     "exception": false,
     "start_time": "2022-04-09T01:01:48.071806",
     "status": "completed"
    },
    "tags": []
   },
   "outputs": [],
   "source": [
    "def viz_results(net, dataset, num_samples=5):\n",
    "    net.cpu()\n",
    "    for i, (x, y) in enumerate(iter(dataset), 1):\n",
    "        if i <= num_samples:\n",
    "            \n",
    "            x, y = x, y\n",
    "            x = x.reshape(1, 1, x.shape[1], x.shape[2])\n",
    "\n",
    "            y_hat = net(x).argmax()\n",
    "\n",
    "            plt.imshow(x.reshape(x.shape[1], x.shape[2], -1).squeeze())\n",
    "            plt.title(f'{i}. Actual: {y}; Predicted: {y_hat}')\n",
    "            plt.show()\n",
    "        else:\n",
    "            break"
   ]
  },
  {
   "cell_type": "code",
   "execution_count": 13,
   "id": "overhead-quilt",
   "metadata": {
    "execution": {
     "iopub.execute_input": "2022-04-09T01:01:48.214950Z",
     "iopub.status.busy": "2022-04-09T01:01:48.214087Z",
     "iopub.status.idle": "2022-04-09T01:01:49.801229Z",
     "shell.execute_reply": "2022-04-09T01:01:49.801665Z",
     "shell.execute_reply.started": "2022-04-09T00:28:37.356268Z"
    },
    "papermill": {
     "duration": 1.632829,
     "end_time": "2022-04-09T01:01:49.801825",
     "exception": false,
     "start_time": "2022-04-09T01:01:48.168996",
     "status": "completed"
    },
    "tags": []
   },
   "outputs": [
    {
     "data": {
      "image/png": "[encoded data removed]",
      "text/plain": [
       "<Figure size 432x288 with 1 Axes>"
      ]
     },
     "metadata": {
      "needs_background": "light"
     },
     "output_type": "display_data"
    },
    {
     "data": {
      "image/png": "[encoded data removed]",
      "text/plain": [
       "<Figure size 432x288 with 1 Axes>"
      ]
     },
     "metadata": {
      "needs_background": "light"
     },
     "output_type": "display_data"
    },
    {
     "data": {
      "image/png": "[encoded data removed]",
      "text/plain": [
       "<Figure size 432x288 with 1 Axes>"
      ]
     },
     "metadata": {
      "needs_background": "light"
     },
     "output_type": "display_data"
    },
    {
     "data": {
      "image/png": "[encoded data removed]",
      "text/plain": [
       "<Figure size 432x288 with 1 Axes>"
      ]
     },
     "metadata": {
      "needs_background": "light"
     },
     "output_type": "display_data"
    },
    {
     "data": {
      "image/png": "[encoded data removed]",
      "text/plain": [
       "<Figure size 432x288 with 1 Axes>"
      ]
     },
     "metadata": {
      "needs_background": "light"
     },
     "output_type": "display_data"
    }
   ],
   "source": [
    "viz_results(alex_net, test_data)"
   ]
  }
 ],
 "metadata": {
  "kernelspec": {
   "display_name": "Python 3",
   "language": "python",
   "name": "python3"
  },
  "language_info": {
   "codemirror_mode": {
    "name": "ipython",
    "version": 3
   },
   "file_extension": ".py",
   "mimetype": "text/x-python",
   "name": "python",
   "nbconvert_exporter": "python",
   "pygments_lexer": "ipython3",
   "version": "3.9.12"
  },
  "papermill": {
   "default_parameters": {},
   "duration": 805.507284,
   "end_time": "2022-04-09T01:01:51.246615",
   "environment_variables": {},
   "exception": null,
   "input_path": "__notebook__.ipynb",
   "output_path": "__notebook__.ipynb",
   "parameters": {},
   "start_time": "2022-04-09T00:48:25.739331",
   "version": "2.3.3"
  },
  "widgets": {
   "application/vnd.jupyter.widget-state+json": {
    "state": {
     "01e7f9271ccc41bdb62c60db12207bdf": {
      "model_module": "@jupyter-widgets/controls",
      "model_module_version": "1.5.0",
      "model_name": "DescriptionStyleModel",
      "state": {
       "_model_module": "@jupyter-widgets/controls",
       "_model_module_version": "1.5.0",
       "_model_name": "DescriptionStyleModel",
       "_view_count": null,
       "_view_module": "@jupyter-widgets/base",
       "_view_module_version": "1.2.0",
       "_view_name": "StyleView",
       "description_width": ""
      }
     },
     "0a4e38563c1c4ada93a47073a2d53c2b": {
      "model_module": "@jupyter-widgets/controls",
      "model_module_version": "1.5.0",
      "model_name": "ProgressStyleModel",
      "state": {
       "_model_module": "@jupyter-widgets/controls",
       "_model_module_version": "1.5.0",
       "_model_name": "ProgressStyleModel",
       "_view_count": null,
       "_view_module": "@jupyter-widgets/base",
       "_view_module_version": "1.2.0",
       "_view_name": "StyleView",
       "bar_color": null,
       "description_width": ""
      }
     },
     "0beddf976e3d4e39ba586802e2a39481": {
      "model_module": "@jupyter-widgets/base",
      "model_module_version": "1.2.0",
      "model_name": "LayoutModel",
      "state": {
       "_model_module": "@jupyter-widgets/base",
       "_model_module_version": "1.2.0",
       "_model_name": "LayoutModel",
       "_view_count": null,
       "_view_module": "@jupyter-widgets/base",
       "_view_module_version": "1.2.0",
       "_view_name": "LayoutView",
       "align_content": null,
       "align_items": null,
       "align_self": null,
       "border": null,
       "bottom": null,
       "display": null,
       "flex": null,
       "flex_flow": null,
       "grid_area": null,
       "grid_auto_columns": null,
       "grid_auto_flow": null,
       "grid_auto_rows": null,
       "grid_column": null,
       "grid_gap": null,
       "grid_row": null,
       "grid_template_areas": null,
       "grid_template_columns": null,
       "grid_template_rows": null,
       "height": null,
       "justify_content": null,
       "justify_items": null,
       "left": null,
       "margin": null,
       "max_height": null,
       "max_width": null,
       "min_height": null,
       "min_width": null,
       "object_fit": null,
       "object_position": null,
       "order": null,
       "overflow": null,
       "overflow_x": null,
       "overflow_y": null,
       "padding": null,
       "right": null,
       "top": null,
       "visibility": null,
       "width": null
      }
     },
     "0d7eb13d632c4694918f48d2538c878e": {
      "model_module": "@jupyter-widgets/controls",
      "model_module_version": "1.5.0",
      "model_name": "DescriptionStyleModel",
      "state": {
       "_model_module": "@jupyter-widgets/controls",
       "_model_module_version": "1.5.0",
       "_model_name": "DescriptionStyleModel",
       "_view_count": null,
       "_view_module": "@jupyter-widgets/base",
       "_view_module_version": "1.2.0",
       "_view_name": "StyleView",
       "description_width": ""
      }
     },
     "0e551f7f75424380ae78e72931ea54b7": {
      "model_module": "@jupyter-widgets/controls",
      "model_module_version": "1.5.0",
      "model_name": "FloatProgressModel",
      "state": {
       "_dom_classes": [],
       "_model_module": "@jupyter-widgets/controls",
       "_model_module_version": "1.5.0",
       "_model_name": "FloatProgressModel",
       "_view_count": null,
       "_view_module": "@jupyter-widgets/controls",
       "_view_module_version": "1.5.0",
       "_view_name": "ProgressView",
       "bar_style": "success",
       "description": "",
       "description_tooltip": null,
       "layout": "IPY_MODEL_49b476b7cbfa4524afe4099342d7a0ed",
       "max": 1648877,
       "min": 0,
       "orientation": "horizontal",
       "style": "IPY_MODEL_0a4e38563c1c4ada93a47073a2d53c2b",
       "value": 1648877
      }
     },
     "0f89b25111f645468aa7de01c1fbc688": {
      "model_module": "@jupyter-widgets/base",
      "model_module_version": "1.2.0",
      "model_name": "LayoutModel",
      "state": {
       "_model_module": "@jupyter-widgets/base",
       "_model_module_version": "1.2.0",
       "_model_name": "LayoutModel",
       "_view_count": null,
       "_view_module": "@jupyter-widgets/base",
       "_view_module_version": "1.2.0",
       "_view_name": "LayoutView",
       "align_content": null,
       "align_items": null,
       "align_self": null,
       "border": null,
       "bottom": null,
       "display": null,
       "flex": null,
       "flex_flow": null,
       "grid_area": null,
       "grid_auto_columns": null,
       "grid_auto_flow": null,
       "grid_auto_rows": null,
       "grid_column": null,
       "grid_gap": null,
       "grid_row": null,
       "grid_template_areas": null,
       "grid_template_columns": null,
       "grid_template_rows": null,
       "height": null,
       "justify_content": null,
       "justify_items": null,
       "left": null,
       "margin": null,
       "max_height": null,
       "max_width": null,
       "min_height": null,
       "min_width": null,
       "object_fit": null,
       "object_position": null,
       "order": null,
       "overflow": null,
       "overflow_x": null,
       "overflow_y": null,
       "padding": null,
       "right": null,
       "top": null,
       "visibility": null,
       "width": null
      }
     },
     "13ed3a94218641f8b6d2141388145807": {
      "model_module": "@jupyter-widgets/controls",
      "model_module_version": "1.5.0",
      "model_name": "HTMLModel",
      "state": {
       "_dom_classes": [],
       "_model_module": "@jupyter-widgets/controls",
       "_model_module_version": "1.5.0",
       "_model_name": "HTMLModel",
       "_view_count": null,
       "_view_module": "@jupyter-widgets/controls",
       "_view_module_version": "1.5.0",
       "_view_name": "HTMLView",
       "description": "",
       "description_tooltip": null,
       "layout": "IPY_MODEL_8c0846b1cbfa49fc9d3281f1aac5944c",
       "placeholder": "​",
       "style": "IPY_MODEL_7103ac54002541c6843218e53530abab",
       "value": " 29696/? [00:00&lt;00:00, 1124611.09it/s]"
      }
     },
     "17c7e46d070c41e28842344bd4aee478": {
      "model_module": "@jupyter-widgets/controls",
      "model_module_version": "1.5.0",
      "model_name": "HTMLModel",
      "state": {
       "_dom_classes": [],
       "_model_module": "@jupyter-widgets/controls",
       "_model_module_version": "1.5.0",
       "_model_name": "HTMLModel",
       "_view_count": null,
       "_view_module": "@jupyter-widgets/controls",
       "_view_module_version": "1.5.0",
       "_view_name": "HTMLView",
       "description": "",
       "description_tooltip": null,
       "layout": "IPY_MODEL_c85f3b8573424f35ad0d47b453ae14a3",
       "placeholder": "​",
       "style": "IPY_MODEL_546b5a9e591d46608dbfddb4c3124298",
       "value": ""
      }
     },
     "1cc28a725c2b44debfba967924cdbf07": {
      "model_module": "@jupyter-widgets/base",
      "model_module_version": "1.2.0",
      "model_name": "LayoutModel",
      "state": {
       "_model_module": "@jupyter-widgets/base",
       "_model_module_version": "1.2.0",
       "_model_name": "LayoutModel",
       "_view_count": null,
       "_view_module": "@jupyter-widgets/base",
       "_view_module_version": "1.2.0",
       "_view_name": "LayoutView",
       "align_content": null,
       "align_items": null,
       "align_self": null,
       "border": null,
       "bottom": null,
       "display": null,
       "flex": null,
       "flex_flow": null,
       "grid_area": null,
       "grid_auto_columns": null,
       "grid_auto_flow": null,
       "grid_auto_rows": null,
       "grid_column": null,
       "grid_gap": null,
       "grid_row": null,
       "grid_template_areas": null,
       "grid_template_columns": null,
       "grid_template_rows": null,
       "height": null,
       "justify_content": null,
       "justify_items": null,
       "left": null,
       "margin": null,
       "max_height": null,
       "max_width": null,
       "min_height": null,
       "min_width": null,
       "object_fit": null,
       "object_position": null,
       "order": null,
       "overflow": null,
       "overflow_x": null,
       "overflow_y": null,
       "padding": null,
       "right": null,
       "top": null,
       "visibility": null,
       "width": null
      }
     },
     "25f50a56edb947b4930c4bb2a91d103f": {
      "model_module": "@jupyter-widgets/controls",
      "model_module_version": "1.5.0",
      "model_name": "ProgressStyleModel",
      "state": {
       "_model_module": "@jupyter-widgets/controls",
       "_model_module_version": "1.5.0",
       "_model_name": "ProgressStyleModel",
       "_view_count": null,
       "_view_module": "@jupyter-widgets/base",
       "_view_module_version": "1.2.0",
       "_view_name": "StyleView",
       "bar_color": null,
       "description_width": ""
      }
     },
     "2f621f3e09cb44c2a222dc4ef150e73e": {
      "model_module": "@jupyter-widgets/base",
      "model_module_version": "1.2.0",
      "model_name": "LayoutModel",
      "state": {
       "_model_module": "@jupyter-widgets/base",
       "_model_module_version": "1.2.0",
       "_model_name": "LayoutModel",
       "_view_count": null,
       "_view_module": "@jupyter-widgets/base",
       "_view_module_version": "1.2.0",
       "_view_name": "LayoutView",
       "align_content": null,
       "align_items": null,
       "align_self": null,
       "border": null,
       "bottom": null,
       "display": null,
       "flex": null,
       "flex_flow": null,
       "grid_area": null,
       "grid_auto_columns": null,
       "grid_auto_flow": null,
       "grid_auto_rows": null,
       "grid_column": null,
       "grid_gap": null,
       "grid_row": null,
       "grid_template_areas": null,
       "grid_template_columns": null,
       "grid_template_rows": null,
       "height": null,
       "justify_content": null,
       "justify_items": null,
       "left": null,
       "margin": null,
       "max_height": null,
       "max_width": null,
       "min_height": null,
       "min_width": null,
       "object_fit": null,
       "object_position": null,
       "order": null,
       "overflow": null,
       "overflow_x": null,
       "overflow_y": null,
       "padding": null,
       "right": null,
       "top": null,
       "visibility": null,
       "width": null
      }
     },
     "30e09be315f24e99b8b35731fb140bad": {
      "model_module": "@jupyter-widgets/controls",
      "model_module_version": "1.5.0",
      "model_name": "DescriptionStyleModel",
      "state": {
       "_model_module": "@jupyter-widgets/controls",
       "_model_module_version": "1.5.0",
       "_model_name": "DescriptionStyleModel",
       "_view_count": null,
       "_view_module": "@jupyter-widgets/base",
       "_view_module_version": "1.2.0",
       "_view_name": "StyleView",
       "description_width": ""
      }
     },
     "46951fc5e9734e70ab8df3781fc840f8": {
      "model_module": "@jupyter-widgets/controls",
      "model_module_version": "1.5.0",
      "model_name": "DescriptionStyleModel",
      "state": {
       "_model_module": "@jupyter-widgets/controls",
       "_model_module_version": "1.5.0",
       "_model_name": "DescriptionStyleModel",
       "_view_count": null,
       "_view_module": "@jupyter-widgets/base",
       "_view_module_version": "1.2.0",
       "_view_name": "StyleView",
       "description_width": ""
      }
     },
     "49577d353a904e1c88484ba714a7cc8c": {
      "model_module": "@jupyter-widgets/base",
      "model_module_version": "1.2.0",
      "model_name": "LayoutModel",
      "state": {
       "_model_module": "@jupyter-widgets/base",
       "_model_module_version": "1.2.0",
       "_model_name": "LayoutModel",
       "_view_count": null,
       "_view_module": "@jupyter-widgets/base",
       "_view_module_version": "1.2.0",
       "_view_name": "LayoutView",
       "align_content": null,
       "align_items": null,
       "align_self": null,
       "border": null,
       "bottom": null,
       "display": null,
       "flex": null,
       "flex_flow": null,
       "grid_area": null,
       "grid_auto_columns": null,
       "grid_auto_flow": null,
       "grid_auto_rows": null,
       "grid_column": null,
       "grid_gap": null,
       "grid_row": null,
       "grid_template_areas": null,
       "grid_template_columns": null,
       "grid_template_rows": null,
       "height": null,
       "justify_content": null,
       "justify_items": null,
       "left": null,
       "margin": null,
       "max_height": null,
       "max_width": null,
       "min_height": null,
       "min_width": null,
       "object_fit": null,
       "object_position": null,
       "order": null,
       "overflow": null,
       "overflow_x": null,
       "overflow_y": null,
       "padding": null,
       "right": null,
       "top": null,
       "visibility": null,
       "width": null
      }
     },
     "49b476b7cbfa4524afe4099342d7a0ed": {
      "model_module": "@jupyter-widgets/base",
      "model_module_version": "1.2.0",
      "model_name": "LayoutModel",
      "state": {
       "_model_module": "@jupyter-widgets/base",
       "_model_module_version": "1.2.0",
       "_model_name": "LayoutModel",
       "_view_count": null,
       "_view_module": "@jupyter-widgets/base",
       "_view_module_version": "1.2.0",
       "_view_name": "LayoutView",
       "align_content": null,
       "align_items": null,
       "align_self": null,
       "border": null,
       "bottom": null,
       "display": null,
       "flex": null,
       "flex_flow": null,
       "grid_area": null,
       "grid_auto_columns": null,
       "grid_auto_flow": null,
       "grid_auto_rows": null,
       "grid_column": null,
       "grid_gap": null,
       "grid_row": null,
       "grid_template_areas": null,
       "grid_template_columns": null,
       "grid_template_rows": null,
       "height": null,
       "justify_content": null,
       "justify_items": null,
       "left": null,
       "margin": null,
       "max_height": null,
       "max_width": null,
       "min_height": null,
       "min_width": null,
       "object_fit": null,
       "object_position": null,
       "order": null,
       "overflow": null,
       "overflow_x": null,
       "overflow_y": null,
       "padding": null,
       "right": null,
       "top": null,
       "visibility": null,
       "width": null
      }
     },
     "546b5a9e591d46608dbfddb4c3124298": {
      "model_module": "@jupyter-widgets/controls",
      "model_module_version": "1.5.0",
      "model_name": "DescriptionStyleModel",
      "state": {
       "_model_module": "@jupyter-widgets/controls",
       "_model_module_version": "1.5.0",
       "_model_name": "DescriptionStyleModel",
       "_view_count": null,
       "_view_module": "@jupyter-widgets/base",
       "_view_module_version": "1.2.0",
       "_view_name": "StyleView",
       "description_width": ""
      }
     },
     "672236d9f5d74c7c99401c07a11054c9": {
      "model_module": "@jupyter-widgets/controls",
      "model_module_version": "1.5.0",
      "model_name": "ProgressStyleModel",
      "state": {
       "_model_module": "@jupyter-widgets/controls",
       "_model_module_version": "1.5.0",
       "_model_name": "ProgressStyleModel",
       "_view_count": null,
       "_view_module": "@jupyter-widgets/base",
       "_view_module_version": "1.2.0",
       "_view_name": "StyleView",
       "bar_color": null,
       "description_width": ""
      }
     },
     "6a1036d4eaef4eb6aa1c3ff17350f81f": {
      "model_module": "@jupyter-widgets/controls",
      "model_module_version": "1.5.0",
      "model_name": "HTMLModel",
      "state": {
       "_dom_classes": [],
       "_model_module": "@jupyter-widgets/controls",
       "_model_module_version": "1.5.0",
       "_model_name": "HTMLModel",
       "_view_count": null,
       "_view_module": "@jupyter-widgets/controls",
       "_view_module_version": "1.5.0",
       "_view_name": "HTMLView",
       "description": "",
       "description_tooltip": null,
       "layout": "IPY_MODEL_bc50ad1dd30843bbbfa14ba3778e9837",
       "placeholder": "​",
       "style": "IPY_MODEL_01e7f9271ccc41bdb62c60db12207bdf",
       "value": " 9913344/? [00:00&lt;00:00, 35418420.45it/s]"
      }
     },
     "6a82029a78e54fcb980ece2c90012245": {
      "model_module": "@jupyter-widgets/controls",
      "model_module_version": "1.5.0",
      "model_name": "HBoxModel",
      "state": {
       "_dom_classes": [],
       "_model_module": "@jupyter-widgets/controls",
       "_model_module_version": "1.5.0",
       "_model_name": "HBoxModel",
       "_view_count": null,
       "_view_module": "@jupyter-widgets/controls",
       "_view_module_version": "1.5.0",
       "_view_name": "HBoxView",
       "box_style": "",
       "children": [
        "IPY_MODEL_bb9ab37e23fa4f3e8c73f205a471aece",
        "IPY_MODEL_0e551f7f75424380ae78e72931ea54b7",
        "IPY_MODEL_8666d26260a0423594d074cdc61b9c05"
       ],
       "layout": "IPY_MODEL_9ec80326d3ea444a9b2dae876f8496ce"
      }
     },
     "6b4674b2371e42e990841488406272d6": {
      "model_module": "@jupyter-widgets/controls",
      "model_module_version": "1.5.0",
      "model_name": "FloatProgressModel",
      "state": {
       "_dom_classes": [],
       "_model_module": "@jupyter-widgets/controls",
       "_model_module_version": "1.5.0",
       "_model_name": "FloatProgressModel",
       "_view_count": null,
       "_view_module": "@jupyter-widgets/controls",
       "_view_module_version": "1.5.0",
       "_view_name": "ProgressView",
       "bar_style": "success",
       "description": "",
       "description_tooltip": null,
       "layout": "IPY_MODEL_ed09ec3500624b419c2fa68197526ee6",
       "max": 28881,
       "min": 0,
       "orientation": "horizontal",
       "style": "IPY_MODEL_672236d9f5d74c7c99401c07a11054c9",
       "value": 28881
      }
     },
     "7103ac54002541c6843218e53530abab": {
      "model_module": "@jupyter-widgets/controls",
      "model_module_version": "1.5.0",
      "model_name": "DescriptionStyleModel",
      "state": {
       "_model_module": "@jupyter-widgets/controls",
       "_model_module_version": "1.5.0",
       "_model_name": "DescriptionStyleModel",
       "_view_count": null,
       "_view_module": "@jupyter-widgets/base",
       "_view_module_version": "1.2.0",
       "_view_name": "StyleView",
       "description_width": ""
      }
     },
     "8666d26260a0423594d074cdc61b9c05": {
      "model_module": "@jupyter-widgets/controls",
      "model_module_version": "1.5.0",
      "model_name": "HTMLModel",
      "state": {
       "_dom_classes": [],
       "_model_module": "@jupyter-widgets/controls",
       "_model_module_version": "1.5.0",
       "_model_name": "HTMLModel",
       "_view_count": null,
       "_view_module": "@jupyter-widgets/controls",
       "_view_module_version": "1.5.0",
       "_view_name": "HTMLView",
       "description": "",
       "description_tooltip": null,
       "layout": "IPY_MODEL_e4e19a85d1d24ffdaf72b5e239316580",
       "placeholder": "​",
       "style": "IPY_MODEL_d0a46a3c4a3c4dc9932c336e469b9d45",
       "value": " 1649664/? [00:00&lt;00:00, 7915169.00it/s]"
      }
     },
     "88ac7b44954245a68a78f20c20b6e3e5": {
      "model_module": "@jupyter-widgets/controls",
      "model_module_version": "1.5.0",
      "model_name": "ProgressStyleModel",
      "state": {
       "_model_module": "@jupyter-widgets/controls",
       "_model_module_version": "1.5.0",
       "_model_name": "ProgressStyleModel",
       "_view_count": null,
       "_view_module": "@jupyter-widgets/base",
       "_view_module_version": "1.2.0",
       "_view_name": "StyleView",
       "bar_color": null,
       "description_width": ""
      }
     },
     "890c5c999c97476e9c900579872bb908": {
      "model_module": "@jupyter-widgets/controls",
      "model_module_version": "1.5.0",
      "model_name": "FloatProgressModel",
      "state": {
       "_dom_classes": [],
       "_model_module": "@jupyter-widgets/controls",
       "_model_module_version": "1.5.0",
       "_model_name": "FloatProgressModel",
       "_view_count": null,
       "_view_module": "@jupyter-widgets/controls",
       "_view_module_version": "1.5.0",
       "_view_name": "ProgressView",
       "bar_style": "success",
       "description": "",
       "description_tooltip": null,
       "layout": "IPY_MODEL_c65aa890fe0f4a2b8dcb1418c6de8c08",
       "max": 4542,
       "min": 0,
       "orientation": "horizontal",
       "style": "IPY_MODEL_88ac7b44954245a68a78f20c20b6e3e5",
       "value": 4542
      }
     },
     "8c0846b1cbfa49fc9d3281f1aac5944c": {
      "model_module": "@jupyter-widgets/base",
      "model_module_version": "1.2.0",
      "model_name": "LayoutModel",
      "state": {
       "_model_module": "@jupyter-widgets/base",
       "_model_module_version": "1.2.0",
       "_model_name": "LayoutModel",
       "_view_count": null,
       "_view_module": "@jupyter-widgets/base",
       "_view_module_version": "1.2.0",
       "_view_name": "LayoutView",
       "align_content": null,
       "align_items": null,
       "align_self": null,
       "border": null,
       "bottom": null,
       "display": null,
       "flex": null,
       "flex_flow": null,
       "grid_area": null,
       "grid_auto_columns": null,
       "grid_auto_flow": null,
       "grid_auto_rows": null,
       "grid_column": null,
       "grid_gap": null,
       "grid_row": null,
       "grid_template_areas": null,
       "grid_template_columns": null,
       "grid_template_rows": null,
       "height": null,
       "justify_content": null,
       "justify_items": null,
       "left": null,
       "margin": null,
       "max_height": null,
       "max_width": null,
       "min_height": null,
       "min_width": null,
       "object_fit": null,
       "object_position": null,
       "order": null,
       "overflow": null,
       "overflow_x": null,
       "overflow_y": null,
       "padding": null,
       "right": null,
       "top": null,
       "visibility": null,
       "width": null
      }
     },
     "976c43b505834ff380d88aa5a291f7d6": {
      "model_module": "@jupyter-widgets/controls",
      "model_module_version": "1.5.0",
      "model_name": "HTMLModel",
      "state": {
       "_dom_classes": [],
       "_model_module": "@jupyter-widgets/controls",
       "_model_module_version": "1.5.0",
       "_model_name": "HTMLModel",
       "_view_count": null,
       "_view_module": "@jupyter-widgets/controls",
       "_view_module_version": "1.5.0",
       "_view_name": "HTMLView",
       "description": "",
       "description_tooltip": null,
       "layout": "IPY_MODEL_0beddf976e3d4e39ba586802e2a39481",
       "placeholder": "​",
       "style": "IPY_MODEL_0d7eb13d632c4694918f48d2538c878e",
       "value": ""
      }
     },
     "9a86a06a0e374f3994591c213ad98910": {
      "model_module": "@jupyter-widgets/base",
      "model_module_version": "1.2.0",
      "model_name": "LayoutModel",
      "state": {
       "_model_module": "@jupyter-widgets/base",
       "_model_module_version": "1.2.0",
       "_model_name": "LayoutModel",
       "_view_count": null,
       "_view_module": "@jupyter-widgets/base",
       "_view_module_version": "1.2.0",
       "_view_name": "LayoutView",
       "align_content": null,
       "align_items": null,
       "align_self": null,
       "border": null,
       "bottom": null,
       "display": null,
       "flex": null,
       "flex_flow": null,
       "grid_area": null,
       "grid_auto_columns": null,
       "grid_auto_flow": null,
       "grid_auto_rows": null,
       "grid_column": null,
       "grid_gap": null,
       "grid_row": null,
       "grid_template_areas": null,
       "grid_template_columns": null,
       "grid_template_rows": null,
       "height": null,
       "justify_content": null,
       "justify_items": null,
       "left": null,
       "margin": null,
       "max_height": null,
       "max_width": null,
       "min_height": null,
       "min_width": null,
       "object_fit": null,
       "object_position": null,
       "order": null,
       "overflow": null,
       "overflow_x": null,
       "overflow_y": null,
       "padding": null,
       "right": null,
       "top": null,
       "visibility": null,
       "width": null
      }
     },
     "9ec80326d3ea444a9b2dae876f8496ce": {
      "model_module": "@jupyter-widgets/base",
      "model_module_version": "1.2.0",
      "model_name": "LayoutModel",
      "state": {
       "_model_module": "@jupyter-widgets/base",
       "_model_module_version": "1.2.0",
       "_model_name": "LayoutModel",
       "_view_count": null,
       "_view_module": "@jupyter-widgets/base",
       "_view_module_version": "1.2.0",
       "_view_name": "LayoutView",
       "align_content": null,
       "align_items": null,
       "align_self": null,
       "border": null,
       "bottom": null,
       "display": null,
       "flex": null,
       "flex_flow": null,
       "grid_area": null,
       "grid_auto_columns": null,
       "grid_auto_flow": null,
       "grid_auto_rows": null,
       "grid_column": null,
       "grid_gap": null,
       "grid_row": null,
       "grid_template_areas": null,
       "grid_template_columns": null,
       "grid_template_rows": null,
       "height": null,
       "justify_content": null,
       "justify_items": null,
       "left": null,
       "margin": null,
       "max_height": null,
       "max_width": null,
       "min_height": null,
       "min_width": null,
       "object_fit": null,
       "object_position": null,
       "order": null,
       "overflow": null,
       "overflow_x": null,
       "overflow_y": null,
       "padding": null,
       "right": null,
       "top": null,
       "visibility": null,
       "width": null
      }
     },
     "b6c36c78c2504b77bc348ddff4dd5cbe": {
      "model_module": "@jupyter-widgets/controls",
      "model_module_version": "1.5.0",
      "model_name": "FloatProgressModel",
      "state": {
       "_dom_classes": [],
       "_model_module": "@jupyter-widgets/controls",
       "_model_module_version": "1.5.0",
       "_model_name": "FloatProgressModel",
       "_view_count": null,
       "_view_module": "@jupyter-widgets/controls",
       "_view_module_version": "1.5.0",
       "_view_name": "ProgressView",
       "bar_style": "success",
       "description": "",
       "description_tooltip": null,
       "layout": "IPY_MODEL_fa1f6cde49b045029edeabdb97156600",
       "max": 9912422,
       "min": 0,
       "orientation": "horizontal",
       "style": "IPY_MODEL_25f50a56edb947b4930c4bb2a91d103f",
       "value": 9912422
      }
     },
     "ba8b2105af7243b6b8e5de375f5cba90": {
      "model_module": "@jupyter-widgets/controls",
      "model_module_version": "1.5.0",
      "model_name": "DescriptionStyleModel",
      "state": {
       "_model_module": "@jupyter-widgets/controls",
       "_model_module_version": "1.5.0",
       "_model_name": "DescriptionStyleModel",
       "_view_count": null,
       "_view_module": "@jupyter-widgets/base",
       "_view_module_version": "1.2.0",
       "_view_name": "StyleView",
       "description_width": ""
      }
     },
     "bb9ab37e23fa4f3e8c73f205a471aece": {
      "model_module": "@jupyter-widgets/controls",
      "model_module_version": "1.5.0",
      "model_name": "HTMLModel",
      "state": {
       "_dom_classes": [],
       "_model_module": "@jupyter-widgets/controls",
       "_model_module_version": "1.5.0",
       "_model_name": "HTMLModel",
       "_view_count": null,
       "_view_module": "@jupyter-widgets/controls",
       "_view_module_version": "1.5.0",
       "_view_name": "HTMLView",
       "description": "",
       "description_tooltip": null,
       "layout": "IPY_MODEL_0f89b25111f645468aa7de01c1fbc688",
       "placeholder": "​",
       "style": "IPY_MODEL_ba8b2105af7243b6b8e5de375f5cba90",
       "value": ""
      }
     },
     "bc3578f0bf9f4da5a23c7c6c72b40f6a": {
      "model_module": "@jupyter-widgets/base",
      "model_module_version": "1.2.0",
      "model_name": "LayoutModel",
      "state": {
       "_model_module": "@jupyter-widgets/base",
       "_model_module_version": "1.2.0",
       "_model_name": "LayoutModel",
       "_view_count": null,
       "_view_module": "@jupyter-widgets/base",
       "_view_module_version": "1.2.0",
       "_view_name": "LayoutView",
       "align_content": null,
       "align_items": null,
       "align_self": null,
       "border": null,
       "bottom": null,
       "display": null,
       "flex": null,
       "flex_flow": null,
       "grid_area": null,
       "grid_auto_columns": null,
       "grid_auto_flow": null,
       "grid_auto_rows": null,
       "grid_column": null,
       "grid_gap": null,
       "grid_row": null,
       "grid_template_areas": null,
       "grid_template_columns": null,
       "grid_template_rows": null,
       "height": null,
       "justify_content": null,
       "justify_items": null,
       "left": null,
       "margin": null,
       "max_height": null,
       "max_width": null,
       "min_height": null,
       "min_width": null,
       "object_fit": null,
       "object_position": null,
       "order": null,
       "overflow": null,
       "overflow_x": null,
       "overflow_y": null,
       "padding": null,
       "right": null,
       "top": null,
       "visibility": null,
       "width": null
      }
     },
     "bc50ad1dd30843bbbfa14ba3778e9837": {
      "model_module": "@jupyter-widgets/base",
      "model_module_version": "1.2.0",
      "model_name": "LayoutModel",
      "state": {
       "_model_module": "@jupyter-widgets/base",
       "_model_module_version": "1.2.0",
       "_model_name": "LayoutModel",
       "_view_count": null,
       "_view_module": "@jupyter-widgets/base",
       "_view_module_version": "1.2.0",
       "_view_name": "LayoutView",
       "align_content": null,
       "align_items": null,
       "align_self": null,
       "border": null,
       "bottom": null,
       "display": null,
       "flex": null,
       "flex_flow": null,
       "grid_area": null,
       "grid_auto_columns": null,
       "grid_auto_flow": null,
       "grid_auto_rows": null,
       "grid_column": null,
       "grid_gap": null,
       "grid_row": null,
       "grid_template_areas": null,
       "grid_template_columns": null,
       "grid_template_rows": null,
       "height": null,
       "justify_content": null,
       "justify_items": null,
       "left": null,
       "margin": null,
       "max_height": null,
       "max_width": null,
       "min_height": null,
       "min_width": null,
       "object_fit": null,
       "object_position": null,
       "order": null,
       "overflow": null,
       "overflow_x": null,
       "overflow_y": null,
       "padding": null,
       "right": null,
       "top": null,
       "visibility": null,
       "width": null
      }
     },
     "bfaae3df5597425cb9ca793be109c1bf": {
      "model_module": "@jupyter-widgets/controls",
      "model_module_version": "1.5.0",
      "model_name": "HTMLModel",
      "state": {
       "_dom_classes": [],
       "_model_module": "@jupyter-widgets/controls",
       "_model_module_version": "1.5.0",
       "_model_name": "HTMLModel",
       "_view_count": null,
       "_view_module": "@jupyter-widgets/controls",
       "_view_module_version": "1.5.0",
       "_view_name": "HTMLView",
       "description": "",
       "description_tooltip": null,
       "layout": "IPY_MODEL_2f621f3e09cb44c2a222dc4ef150e73e",
       "placeholder": "​",
       "style": "IPY_MODEL_46951fc5e9734e70ab8df3781fc840f8",
       "value": " 5120/? [00:00&lt;00:00, 213980.18it/s]"
      }
     },
     "c65aa890fe0f4a2b8dcb1418c6de8c08": {
      "model_module": "@jupyter-widgets/base",
      "model_module_version": "1.2.0",
      "model_name": "LayoutModel",
      "state": {
       "_model_module": "@jupyter-widgets/base",
       "_model_module_version": "1.2.0",
       "_model_name": "LayoutModel",
       "_view_count": null,
       "_view_module": "@jupyter-widgets/base",
       "_view_module_version": "1.2.0",
       "_view_name": "LayoutView",
       "align_content": null,
       "align_items": null,
       "align_self": null,
       "border": null,
       "bottom": null,
       "display": null,
       "flex": null,
       "flex_flow": null,
       "grid_area": null,
       "grid_auto_columns": null,
       "grid_auto_flow": null,
       "grid_auto_rows": null,
       "grid_column": null,
       "grid_gap": null,
       "grid_row": null,
       "grid_template_areas": null,
       "grid_template_columns": null,
       "grid_template_rows": null,
       "height": null,
       "justify_content": null,
       "justify_items": null,
       "left": null,
       "margin": null,
       "max_height": null,
       "max_width": null,
       "min_height": null,
       "min_width": null,
       "object_fit": null,
       "object_position": null,
       "order": null,
       "overflow": null,
       "overflow_x": null,
       "overflow_y": null,
       "padding": null,
       "right": null,
       "top": null,
       "visibility": null,
       "width": null
      }
     },
     "c85f3b8573424f35ad0d47b453ae14a3": {
      "model_module": "@jupyter-widgets/base",
      "model_module_version": "1.2.0",
      "model_name": "LayoutModel",
      "state": {
       "_model_module": "@jupyter-widgets/base",
       "_model_module_version": "1.2.0",
       "_model_name": "LayoutModel",
       "_view_count": null,
       "_view_module": "@jupyter-widgets/base",
       "_view_module_version": "1.2.0",
       "_view_name": "LayoutView",
       "align_content": null,
       "align_items": null,
       "align_self": null,
       "border": null,
       "bottom": null,
       "display": null,
       "flex": null,
       "flex_flow": null,
       "grid_area": null,
       "grid_auto_columns": null,
       "grid_auto_flow": null,
       "grid_auto_rows": null,
       "grid_column": null,
       "grid_gap": null,
       "grid_row": null,
       "grid_template_areas": null,
       "grid_template_columns": null,
       "grid_template_rows": null,
       "height": null,
       "justify_content": null,
       "justify_items": null,
       "left": null,
       "margin": null,
       "max_height": null,
       "max_width": null,
       "min_height": null,
       "min_width": null,
       "object_fit": null,
       "object_position": null,
       "order": null,
       "overflow": null,
       "overflow_x": null,
       "overflow_y": null,
       "padding": null,
       "right": null,
       "top": null,
       "visibility": null,
       "width": null
      }
     },
     "d0a46a3c4a3c4dc9932c336e469b9d45": {
      "model_module": "@jupyter-widgets/controls",
      "model_module_version": "1.5.0",
      "model_name": "DescriptionStyleModel",
      "state": {
       "_model_module": "@jupyter-widgets/controls",
       "_model_module_version": "1.5.0",
       "_model_name": "DescriptionStyleModel",
       "_view_count": null,
       "_view_module": "@jupyter-widgets/base",
       "_view_module_version": "1.2.0",
       "_view_name": "StyleView",
       "description_width": ""
      }
     },
     "d489708db703481580932b284fb4fec3": {
      "model_module": "@jupyter-widgets/controls",
      "model_module_version": "1.5.0",
      "model_name": "HBoxModel",
      "state": {
       "_dom_classes": [],
       "_model_module": "@jupyter-widgets/controls",
       "_model_module_version": "1.5.0",
       "_model_name": "HBoxModel",
       "_view_count": null,
       "_view_module": "@jupyter-widgets/controls",
       "_view_module_version": "1.5.0",
       "_view_name": "HBoxView",
       "box_style": "",
       "children": [
        "IPY_MODEL_e196a63a08e74ed080a8adc12257dccc",
        "IPY_MODEL_890c5c999c97476e9c900579872bb908",
        "IPY_MODEL_bfaae3df5597425cb9ca793be109c1bf"
       ],
       "layout": "IPY_MODEL_9a86a06a0e374f3994591c213ad98910"
      }
     },
     "d50919c19a904932b21068552a5330fa": {
      "model_module": "@jupyter-widgets/controls",
      "model_module_version": "1.5.0",
      "model_name": "HBoxModel",
      "state": {
       "_dom_classes": [],
       "_model_module": "@jupyter-widgets/controls",
       "_model_module_version": "1.5.0",
       "_model_name": "HBoxModel",
       "_view_count": null,
       "_view_module": "@jupyter-widgets/controls",
       "_view_module_version": "1.5.0",
       "_view_name": "HBoxView",
       "box_style": "",
       "children": [
        "IPY_MODEL_17c7e46d070c41e28842344bd4aee478",
        "IPY_MODEL_b6c36c78c2504b77bc348ddff4dd5cbe",
        "IPY_MODEL_6a1036d4eaef4eb6aa1c3ff17350f81f"
       ],
       "layout": "IPY_MODEL_bc3578f0bf9f4da5a23c7c6c72b40f6a"
      }
     },
     "e196a63a08e74ed080a8adc12257dccc": {
      "model_module": "@jupyter-widgets/controls",
      "model_module_version": "1.5.0",
      "model_name": "HTMLModel",
      "state": {
       "_dom_classes": [],
       "_model_module": "@jupyter-widgets/controls",
       "_model_module_version": "1.5.0",
       "_model_name": "HTMLModel",
       "_view_count": null,
       "_view_module": "@jupyter-widgets/controls",
       "_view_module_version": "1.5.0",
       "_view_name": "HTMLView",
       "description": "",
       "description_tooltip": null,
       "layout": "IPY_MODEL_1cc28a725c2b44debfba967924cdbf07",
       "placeholder": "​",
       "style": "IPY_MODEL_30e09be315f24e99b8b35731fb140bad",
       "value": ""
      }
     },
     "e4e19a85d1d24ffdaf72b5e239316580": {
      "model_module": "@jupyter-widgets/base",
      "model_module_version": "1.2.0",
      "model_name": "LayoutModel",
      "state": {
       "_model_module": "@jupyter-widgets/base",
       "_model_module_version": "1.2.0",
       "_model_name": "LayoutModel",
       "_view_count": null,
       "_view_module": "@jupyter-widgets/base",
       "_view_module_version": "1.2.0",
       "_view_name": "LayoutView",
       "align_content": null,
       "align_items": null,
       "align_self": null,
       "border": null,
       "bottom": null,
       "display": null,
       "flex": null,
       "flex_flow": null,
       "grid_area": null,
       "grid_auto_columns": null,
       "grid_auto_flow": null,
       "grid_auto_rows": null,
       "grid_column": null,
       "grid_gap": null,
       "grid_row": null,
       "grid_template_areas": null,
       "grid_template_columns": null,
       "grid_template_rows": null,
       "height": null,
       "justify_content": null,
       "justify_items": null,
       "left": null,
       "margin": null,
       "max_height": null,
       "max_width": null,
       "min_height": null,
       "min_width": null,
       "object_fit": null,
       "object_position": null,
       "order": null,
       "overflow": null,
       "overflow_x": null,
       "overflow_y": null,
       "padding": null,
       "right": null,
       "top": null,
       "visibility": null,
       "width": null
      }
     },
     "e79e6d1082744190b1142cad3d970520": {
      "model_module": "@jupyter-widgets/controls",
      "model_module_version": "1.5.0",
      "model_name": "HBoxModel",
      "state": {
       "_dom_classes": [],
       "_model_module": "@jupyter-widgets/controls",
       "_model_module_version": "1.5.0",
       "_model_name": "HBoxModel",
       "_view_count": null,
       "_view_module": "@jupyter-widgets/controls",
       "_view_module_version": "1.5.0",
       "_view_name": "HBoxView",
       "box_style": "",
       "children": [
        "IPY_MODEL_976c43b505834ff380d88aa5a291f7d6",
        "IPY_MODEL_6b4674b2371e42e990841488406272d6",
        "IPY_MODEL_13ed3a94218641f8b6d2141388145807"
       ],
       "layout": "IPY_MODEL_49577d353a904e1c88484ba714a7cc8c"
      }
     },
     "ed09ec3500624b419c2fa68197526ee6": {
      "model_module": "@jupyter-widgets/base",
      "model_module_version": "1.2.0",
      "model_name": "LayoutModel",
      "state": {
       "_model_module": "@jupyter-widgets/base",
       "_model_module_version": "1.2.0",
       "_model_name": "LayoutModel",
       "_view_count": null,
       "_view_module": "@jupyter-widgets/base",
       "_view_module_version": "1.2.0",
       "_view_name": "LayoutView",
       "align_content": null,
       "align_items": null,
       "align_self": null,
       "border": null,
       "bottom": null,
       "display": null,
       "flex": null,
       "flex_flow": null,
       "grid_area": null,
       "grid_auto_columns": null,
       "grid_auto_flow": null,
       "grid_auto_rows": null,
       "grid_column": null,
       "grid_gap": null,
       "grid_row": null,
       "grid_template_areas": null,
       "grid_template_columns": null,
       "grid_template_rows": null,
       "height": null,
       "justify_content": null,
       "justify_items": null,
       "left": null,
       "margin": null,
       "max_height": null,
       "max_width": null,
       "min_height": null,
       "min_width": null,
       "object_fit": null,
       "object_position": null,
       "order": null,
       "overflow": null,
       "overflow_x": null,
       "overflow_y": null,
       "padding": null,
       "right": null,
       "top": null,
       "visibility": null,
       "width": null
      }
     },
     "fa1f6cde49b045029edeabdb97156600": {
      "model_module": "@jupyter-widgets/base",
      "model_module_version": "1.2.0",
      "model_name": "LayoutModel",
      "state": {
       "_model_module": "@jupyter-widgets/base",
       "_model_module_version": "1.2.0",
       "_model_name": "LayoutModel",
       "_view_count": null,
       "_view_module": "@jupyter-widgets/base",
       "_view_module_version": "1.2.0",
       "_view_name": "LayoutView",
       "align_content": null,
       "align_items": null,
       "align_self": null,
       "border": null,
       "bottom": null,
       "display": null,
       "flex": null,
       "flex_flow": null,
       "grid_area": null,
       "grid_auto_columns": null,
       "grid_auto_flow": null,
       "grid_auto_rows": null,
       "grid_column": null,
       "grid_gap": null,
       "grid_row": null,
       "grid_template_areas": null,
       "grid_template_columns": null,
       "grid_template_rows": null,
       "height": null,
       "justify_content": null,
       "justify_items": null,
       "left": null,
       "margin": null,
       "max_height": null,
       "max_width": null,
       "min_height": null,
       "min_width": null,
       "object_fit": null,
       "object_position": null,
       "order": null,
       "overflow": null,
       "overflow_x": null,
       "overflow_y": null,
       "padding": null,
       "right": null,
       "top": null,
       "visibility": null,
       "width": null
      }
     }
    },
    "version_major": 2,
    "version_minor": 0
   }
  }
 },
 "nbformat": 4,
 "nbformat_minor": 5
}
