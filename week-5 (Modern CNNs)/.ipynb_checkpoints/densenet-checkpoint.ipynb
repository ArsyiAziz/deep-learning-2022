{
 "cells": [
  {
   "cell_type": "markdown",
   "id": "large-posting",
   "metadata": {
    "id": "kPUz7s7O0ezG",
    "papermill": {
     "duration": 0.020771,
     "end_time": "2022-04-09T06:22:44.411141",
     "exception": false,
     "start_time": "2022-04-09T06:22:44.390370",
     "status": "completed"
    },
    "tags": []
   },
   "source": [
    " # Assignment 2 - Modern CNNs (DenseNet)\n",
    "*This notebook was run by Arsyi Syarief Aziz (H071191003) for the Introduction to Deep Learning course (Unhas) taught by Dr. Risman Adnan.*"
   ]
  },
  {
   "cell_type": "markdown",
   "id": "exclusive-county",
   "metadata": {
    "id": "1kNAVed00oG_",
    "papermill": {
     "duration": 0.019436,
     "end_time": "2022-04-09T06:22:44.450714",
     "exception": false,
     "start_time": "2022-04-09T06:22:44.431278",
     "status": "completed"
    },
    "tags": []
   },
   "source": [
    "This is part 7/7 of this week's assignment. In this notebook, I will attempt to implement DenseNet."
   ]
  },
  {
   "cell_type": "code",
   "execution_count": 1,
   "id": "viral-determination",
   "metadata": {
    "execution": {
     "iopub.execute_input": "2022-04-09T06:22:44.500559Z",
     "iopub.status.busy": "2022-04-09T06:22:44.499955Z",
     "iopub.status.idle": "2022-04-09T06:22:46.066200Z",
     "shell.execute_reply": "2022-04-09T06:22:46.064706Z",
     "shell.execute_reply.started": "2022-04-09T00:10:07.489267Z"
    },
    "id": "BCpzEwH657Mb",
    "papermill": {
     "duration": 1.596025,
     "end_time": "2022-04-09T06:22:46.066407",
     "exception": false,
     "start_time": "2022-04-09T06:22:44.470382",
     "status": "completed"
    },
    "tags": []
   },
   "outputs": [],
   "source": [
    "import torch\n",
    "from torch import nn\n",
    "from torch.utils.data import Dataset\n",
    "from torchvision import datasets, transforms\n",
    "import matplotlib.pyplot as plt\n",
    "from torch.utils.data import DataLoader, SubsetRandomSampler\n",
    "import torch.optim as optim\n",
    "import torch.nn.functional as F"
   ]
  },
  {
   "cell_type": "code",
   "execution_count": 2,
   "id": "suspended-justice",
   "metadata": {
    "execution": {
     "iopub.execute_input": "2022-04-09T06:22:46.120981Z",
     "iopub.status.busy": "2022-04-09T06:22:46.119416Z",
     "iopub.status.idle": "2022-04-09T06:22:46.121632Z",
     "shell.execute_reply": "2022-04-09T06:22:46.122037Z",
     "shell.execute_reply.started": "2022-04-09T00:10:09.533318Z"
    },
    "id": "q3-CqlQ1KEEr",
    "papermill": {
     "duration": 0.025882,
     "end_time": "2022-04-09T06:22:46.122162",
     "exception": false,
     "start_time": "2022-04-09T06:22:46.096280",
     "status": "completed"
    },
    "tags": []
   },
   "outputs": [],
   "source": [
    "cuda = torch.device('cuda')"
   ]
  },
  {
   "cell_type": "markdown",
   "id": "limiting-venture",
   "metadata": {
    "id": "bte5iPRGRDNQ",
    "papermill": {
     "duration": 0.019303,
     "end_time": "2022-04-09T06:22:46.160986",
     "exception": false,
     "start_time": "2022-04-09T06:22:46.141683",
     "status": "completed"
    },
    "tags": []
   },
   "source": [
    "## Importing Dataset"
   ]
  },
  {
   "cell_type": "markdown",
   "id": "crude-certification",
   "metadata": {
    "id": "PrEHhDb5PkIe",
    "papermill": {
     "duration": 0.019293,
     "end_time": "2022-04-09T06:22:46.199786",
     "exception": false,
     "start_time": "2022-04-09T06:22:46.180493",
     "status": "completed"
    },
    "tags": []
   },
   "source": [
    "I will use the MNIST dataset to train and test the model in this notebook. Because MNIST contains images of shape 28x28 pixels and because DenseNet accepts images of size 244x244 pixels, I will upscale each image in the dataset to 244x244 pixels."
   ]
  },
  {
   "cell_type": "code",
   "execution_count": 3,
   "id": "imported-keeping",
   "metadata": {
    "execution": {
     "iopub.execute_input": "2022-04-09T06:22:46.244225Z",
     "iopub.status.busy": "2022-04-09T06:22:46.243451Z",
     "iopub.status.idle": "2022-04-09T06:22:47.976804Z",
     "shell.execute_reply": "2022-04-09T06:22:47.976170Z",
     "shell.execute_reply.started": "2022-04-09T00:10:09.542297Z"
    },
    "id": "FhX60lnP8LLq",
    "papermill": {
     "duration": 1.75763,
     "end_time": "2022-04-09T06:22:47.976966",
     "exception": false,
     "start_time": "2022-04-09T06:22:46.219336",
     "status": "completed"
    },
    "tags": []
   },
   "outputs": [
    {
     "name": "stdout",
     "output_type": "stream",
     "text": [
      "Downloading http://yann.lecun.com/exdb/mnist/train-images-idx3-ubyte.gz\n",
      "Downloading http://yann.lecun.com/exdb/mnist/train-images-idx3-ubyte.gz to data/MNIST/raw/train-images-idx3-ubyte.gz\n"
     ]
    },
    {
     "data": {
      "application/vnd.jupyter.widget-view+json": {
       "model_id": "a47af0e6db794fe8982c6d476b682fc0",
       "version_major": 2,
       "version_minor": 0
      },
      "text/plain": [
       "  0%|          | 0/9912422 [00:00<?, ?it/s]"
      ]
     },
     "metadata": {},
     "output_type": "display_data"
    },
    {
     "name": "stdout",
     "output_type": "stream",
     "text": [
      "Extracting data/MNIST/raw/train-images-idx3-ubyte.gz to data/MNIST/raw\n",
      "\n",
      "Downloading http://yann.lecun.com/exdb/mnist/train-labels-idx1-ubyte.gz\n",
      "Downloading http://yann.lecun.com/exdb/mnist/train-labels-idx1-ubyte.gz to data/MNIST/raw/train-labels-idx1-ubyte.gz\n"
     ]
    },
    {
     "data": {
      "application/vnd.jupyter.widget-view+json": {
       "model_id": "9ef1b3509d764ed0b6c22aa54cb70087",
       "version_major": 2,
       "version_minor": 0
      },
      "text/plain": [
       "  0%|          | 0/28881 [00:00<?, ?it/s]"
      ]
     },
     "metadata": {},
     "output_type": "display_data"
    },
    {
     "name": "stdout",
     "output_type": "stream",
     "text": [
      "Extracting data/MNIST/raw/train-labels-idx1-ubyte.gz to data/MNIST/raw\n",
      "\n",
      "Downloading http://yann.lecun.com/exdb/mnist/t10k-images-idx3-ubyte.gz\n",
      "Downloading http://yann.lecun.com/exdb/mnist/t10k-images-idx3-ubyte.gz to data/MNIST/raw/t10k-images-idx3-ubyte.gz\n"
     ]
    },
    {
     "data": {
      "application/vnd.jupyter.widget-view+json": {
       "model_id": "0a0ff8692b584229b8ba1f5af9d50330",
       "version_major": 2,
       "version_minor": 0
      },
      "text/plain": [
       "  0%|          | 0/1648877 [00:00<?, ?it/s]"
      ]
     },
     "metadata": {},
     "output_type": "display_data"
    },
    {
     "name": "stdout",
     "output_type": "stream",
     "text": [
      "Extracting data/MNIST/raw/t10k-images-idx3-ubyte.gz to data/MNIST/raw\n",
      "\n",
      "Downloading http://yann.lecun.com/exdb/mnist/t10k-labels-idx1-ubyte.gz\n",
      "Downloading http://yann.lecun.com/exdb/mnist/t10k-labels-idx1-ubyte.gz to data/MNIST/raw/t10k-labels-idx1-ubyte.gz\n"
     ]
    },
    {
     "data": {
      "application/vnd.jupyter.widget-view+json": {
       "model_id": "340efeba85b94dab87d59886c2840ff3",
       "version_major": 2,
       "version_minor": 0
      },
      "text/plain": [
       "  0%|          | 0/4542 [00:00<?, ?it/s]"
      ]
     },
     "metadata": {},
     "output_type": "display_data"
    },
    {
     "name": "stdout",
     "output_type": "stream",
     "text": [
      "Extracting data/MNIST/raw/t10k-labels-idx1-ubyte.gz to data/MNIST/raw\n",
      "\n"
     ]
    },
    {
     "name": "stderr",
     "output_type": "stream",
     "text": [
      "/opt/conda/lib/python3.7/site-packages/torchvision/datasets/mnist.py:498: UserWarning: The given NumPy array is not writeable, and PyTorch does not support non-writeable tensors. This means you can write to the underlying (supposedly non-writeable) NumPy array using the tensor. You may want to copy the array to protect its data or make it writeable before converting it to a tensor. This type of warning will be suppressed for the rest of this program. (Triggered internally at  /usr/local/src/pytorch/torch/csrc/utils/tensor_numpy.cpp:174.)\n",
      "  return torch.from_numpy(parsed.astype(m[2], copy=False)).view(*s)\n"
     ]
    }
   ],
   "source": [
    "training_data = datasets.MNIST(\n",
    "    root=\"data\",\n",
    "    train=True,\n",
    "    download=True,\n",
    "    transform=transforms.Compose([transforms.ToTensor(), transforms.Resize(224)])\n",
    ")\n",
    "test_data = datasets.MNIST(\n",
    "    root=\"data\",\n",
    "    train=False,\n",
    "    download=True,\n",
    "    transform=transforms.Compose([transforms.ToTensor(), transforms.Resize(224)]) # Upscale to 244x224 pixels\n",
    ")\n"
   ]
  },
  {
   "cell_type": "code",
   "execution_count": 4,
   "id": "urban-alberta",
   "metadata": {
    "execution": {
     "iopub.execute_input": "2022-04-09T06:22:48.034240Z",
     "iopub.status.busy": "2022-04-09T06:22:48.032654Z",
     "iopub.status.idle": "2022-04-09T06:22:48.034860Z",
     "shell.execute_reply": "2022-04-09T06:22:48.035316Z",
     "shell.execute_reply.started": "2022-04-09T00:10:11.437687Z"
    },
    "id": "JvCVDzeP3ZMl",
    "papermill": {
     "duration": 0.031314,
     "end_time": "2022-04-09T06:22:48.035460",
     "exception": false,
     "start_time": "2022-04-09T06:22:48.004146",
     "status": "completed"
    },
    "tags": []
   },
   "outputs": [],
   "source": [
    "train_loader = torch.utils.data.DataLoader(\n",
    "                 dataset=training_data,\n",
    "                 batch_size=256,\n",
    "                 shuffle=True,\n",
    "                 num_workers=2,\n",
    "                 pin_memory=True)\n",
    "test_loader = torch.utils.data.DataLoader(\n",
    "                dataset=test_data,\n",
    "                batch_size=256,\n",
    "                shuffle=False,\n",
    "                num_workers=2,\n",
    "                pin_memory=True)"
   ]
  },
  {
   "cell_type": "markdown",
   "id": "abroad-bridges",
   "metadata": {
    "id": "jcrx_r_XRoQD",
    "papermill": {
     "duration": 0.023415,
     "end_time": "2022-04-09T06:22:48.082261",
     "exception": false,
     "start_time": "2022-04-09T06:22:48.058846",
     "status": "completed"
    },
    "tags": []
   },
   "source": [
    "Below are nine samples of the dataset"
   ]
  },
  {
   "cell_type": "code",
   "execution_count": 5,
   "id": "exposed-torture",
   "metadata": {
    "execution": {
     "iopub.execute_input": "2022-04-09T06:22:48.136360Z",
     "iopub.status.busy": "2022-04-09T06:22:48.135785Z",
     "iopub.status.idle": "2022-04-09T06:22:48.593315Z",
     "shell.execute_reply": "2022-04-09T06:22:48.593751Z",
     "shell.execute_reply.started": "2022-04-09T00:10:11.448138Z"
    },
    "id": "t1Me2hEdDRL3",
    "outputId": "e8b2b870-0533-4bc5-830a-1b0741819777",
    "papermill": {
     "duration": 0.48776,
     "end_time": "2022-04-09T06:22:48.593895",
     "exception": false,
     "start_time": "2022-04-09T06:22:48.106135",
     "status": "completed"
    },
    "tags": []
   },
   "outputs": [
    {
     "data": {
      "image/png": "[encoded data removed]",
      "text/plain": [
       "<Figure size 576x576 with 9 Axes>"
      ]
     },
     "metadata": {
      "needs_background": "light"
     },
     "output_type": "display_data"
    }
   ],
   "source": [
    "figure = plt.figure(figsize=(8, 8))\n",
    "cols, rows = 3, 3\n",
    "for i in range(1, cols * rows + 1):\n",
    "    sample_idx = torch.randint(len(training_data), size=(1,)).item()\n",
    "    img, label = training_data[sample_idx]\n",
    "    figure.add_subplot(rows, cols, i)\n",
    "    plt.title(label)\n",
    "    plt.axis(\"off\")\n",
    "    plt.imshow(img.squeeze(), cmap=\"gray\")\n",
    "plt.show()"
   ]
  },
  {
   "cell_type": "markdown",
   "id": "confident-nickel",
   "metadata": {
    "id": "aTtluDE6mIqc",
    "papermill": {
     "duration": 0.025797,
     "end_time": "2022-04-09T06:22:48.645635",
     "exception": false,
     "start_time": "2022-04-09T06:22:48.619838",
     "status": "completed"
    },
    "tags": []
   },
   "source": [
    "## Definining Helper Functions"
   ]
  },
  {
   "cell_type": "markdown",
   "id": "intelligent-archives",
   "metadata": {
    "id": "-CKbG0S0mQKG",
    "papermill": {
     "duration": 0.025175,
     "end_time": "2022-04-09T06:22:48.696604",
     "exception": false,
     "start_time": "2022-04-09T06:22:48.671429",
     "status": "completed"
    },
    "tags": []
   },
   "source": [
    "The function below will be used to train the neural network"
   ]
  },
  {
   "cell_type": "code",
   "execution_count": 6,
   "id": "found-lover",
   "metadata": {
    "execution": {
     "iopub.execute_input": "2022-04-09T06:22:48.756807Z",
     "iopub.status.busy": "2022-04-09T06:22:48.755247Z",
     "iopub.status.idle": "2022-04-09T06:22:48.757409Z",
     "shell.execute_reply": "2022-04-09T06:22:48.757860Z",
     "shell.execute_reply.started": "2022-04-09T00:10:12.043237Z"
    },
    "id": "bHmZBkYymNJz",
    "papermill": {
     "duration": 0.035395,
     "end_time": "2022-04-09T06:22:48.757988",
     "exception": false,
     "start_time": "2022-04-09T06:22:48.722593",
     "status": "completed"
    },
    "tags": []
   },
   "outputs": [],
   "source": [
    "def train(net, train_loader, epochs=10, lr=0.001): \n",
    "\n",
    "    optimizer = optim.Adam(net.parameters())\n",
    "    criterion = nn.CrossEntropyLoss()\n",
    "\n",
    "    net.to(cuda)\n",
    "    \n",
    "    for epoch in range(epochs):  # loop over the dataset multiple times\n",
    "        running_loss = 0.0\n",
    "\n",
    "        net.train()\n",
    "        for X, y in train_loader:\n",
    "            X, y = X.to(cuda), y.to(cuda)\n",
    "\n",
    "            # zero the parameter gradients\n",
    "            optimizer.zero_grad(set_to_none=True)\n",
    "\n",
    "            # forward + backward + optimize\n",
    "            outputs = net(X)\n",
    "            loss = criterion(outputs, y)\n",
    "            loss.backward()\n",
    "            optimizer.step()\n",
    "\n",
    "            running_loss += loss.item()\n",
    "        \n",
    "        print(f'Epoch: {epoch + 1}, loss: {running_loss / len(train_loader.dataset):.6f}')\n",
    "\n",
    "    print('Finished Training')\n",
    "    total, correct = test(net, train_loader)\n",
    "    print(f'Train accuracy: {(correct/total)*100}%')"
   ]
  },
  {
   "cell_type": "markdown",
   "id": "advised-journalism",
   "metadata": {
    "id": "spLBgSm4ma_w",
    "papermill": {
     "duration": 0.025332,
     "end_time": "2022-04-09T06:22:48.808756",
     "exception": false,
     "start_time": "2022-04-09T06:22:48.783424",
     "status": "completed"
    },
    "tags": []
   },
   "source": [
    "The function below will be used to calculate the neural network's test accuracy."
   ]
  },
  {
   "cell_type": "code",
   "execution_count": 7,
   "id": "hired-meeting",
   "metadata": {
    "execution": {
     "iopub.execute_input": "2022-04-09T06:22:48.866344Z",
     "iopub.status.busy": "2022-04-09T06:22:48.865559Z",
     "iopub.status.idle": "2022-04-09T06:22:48.867650Z",
     "shell.execute_reply": "2022-04-09T06:22:48.868028Z",
     "shell.execute_reply.started": "2022-04-09T00:10:12.056079Z"
    },
    "id": "Dgw-cVoMm1P8",
    "papermill": {
     "duration": 0.033999,
     "end_time": "2022-04-09T06:22:48.868160",
     "exception": false,
     "start_time": "2022-04-09T06:22:48.834161",
     "status": "completed"
    },
    "tags": []
   },
   "outputs": [],
   "source": [
    "def test(net, test_loader):\n",
    "    \n",
    "    total = 0\n",
    "    correct = 0\n",
    "\n",
    "    for X, y in test_loader:\n",
    "        net.eval()\n",
    "        X, y = X.to(cuda), y.to(cuda)\n",
    "\n",
    "        y_hat = net(X).argmax(axis=1)\n",
    "        total += X.shape[0]\n",
    "        correct += (y_hat == y).sum()\n",
    "\n",
    "    return total, correct\n",
    "  "
   ]
  },
  {
   "cell_type": "markdown",
   "id": "periodic-logan",
   "metadata": {
    "id": "yagl3aDA3Wiz",
    "papermill": {
     "duration": 0.025357,
     "end_time": "2022-04-09T06:22:48.918928",
     "exception": false,
     "start_time": "2022-04-09T06:22:48.893571",
     "status": "completed"
    },
    "tags": []
   },
   "source": [
    "## DenseNet"
   ]
  },
  {
   "cell_type": "markdown",
   "id": "comparable-survivor",
   "metadata": {
    "id": "VxXrSLrzjTM8",
    "papermill": {
     "duration": 0.0252,
     "end_time": "2022-04-09T06:22:48.969584",
     "exception": false,
     "start_time": "2022-04-09T06:22:48.944384",
     "status": "completed"
    },
    "tags": []
   },
   "source": [
    "DenseNet is similar to ResNet, however instead of adding $g(x)$ with $x$, $g(x)$ is concatenated with $x$.\n",
    "\n",
    "*Note: $g(x)=f(x)-x$ in ResNet*"
   ]
  },
  {
   "cell_type": "markdown",
   "id": "medium-update",
   "metadata": {},
   "source": [
    "DenseNet uses the batch normalization, activation, and convolution structure seen in ResNet. Below is an implementation of this structure"
   ]
  },
  {
   "cell_type": "code",
   "execution_count": 8,
   "id": "configured-surgeon",
   "metadata": {
    "execution": {
     "iopub.execute_input": "2022-04-09T06:22:49.026160Z",
     "iopub.status.busy": "2022-04-09T06:22:49.024738Z",
     "iopub.status.idle": "2022-04-09T06:22:49.026799Z",
     "shell.execute_reply": "2022-04-09T06:22:49.027193Z",
     "shell.execute_reply.started": "2022-04-09T00:10:12.070564Z"
    },
    "id": "TIcEMc2-DGht",
    "papermill": {
     "duration": 0.032061,
     "end_time": "2022-04-09T06:22:49.027307",
     "exception": false,
     "start_time": "2022-04-09T06:22:48.995246",
     "status": "completed"
    },
    "tags": []
   },
   "outputs": [],
   "source": [
    "def conv_block(input_channels, num_channels):\n",
    "    return nn.Sequential(\n",
    "        nn.BatchNorm2d(input_channels), nn.ReLU(),\n",
    "        nn.Conv2d(input_channels, num_channels, kernel_size=3, padding=1))"
   ]
  },
  {
   "cell_type": "markdown",
   "id": "objective-match",
   "metadata": {},
   "source": [
    "A dense block consists of multiple convolution blocks with the same number of output channels. In the final layer of each block, $g(x)$ and $x$ are concatenated. "
   ]
  },
  {
   "cell_type": "code",
   "execution_count": 9,
   "id": "portuguese-applicant",
   "metadata": {
    "execution": {
     "iopub.execute_input": "2022-04-09T06:22:49.088824Z",
     "iopub.status.busy": "2022-04-09T06:22:49.088182Z",
     "iopub.status.idle": "2022-04-09T06:22:49.091649Z",
     "shell.execute_reply": "2022-04-09T06:22:49.091153Z"
    },
    "papermill": {
     "duration": 0.038978,
     "end_time": "2022-04-09T06:22:49.091772",
     "exception": false,
     "start_time": "2022-04-09T06:22:49.052794",
     "status": "completed"
    },
    "tags": []
   },
   "outputs": [],
   "source": [
    "class DenseBlock(nn.Module):\n",
    "    def __init__(self, num_convs, input_channels, num_channels):\n",
    "        super(DenseBlock, self).__init__()\n",
    "        layer = []\n",
    "        for i in range(num_convs):\n",
    "            layer.append(conv_block(\n",
    "                num_channels * i + input_channels, num_channels))\n",
    "        self.net = nn.Sequential(*layer)\n",
    "\n",
    "    def forward(self, X):\n",
    "        for blk in self.net:\n",
    "            Y = blk(X)\n",
    "            # Concatenate the input and output of each block on the channel\n",
    "            # dimension\n",
    "            X = torch.cat((X, Y), dim=1)\n",
    "        return X"
   ]
  },
  {
   "cell_type": "markdown",
   "id": "legislative-mission",
   "metadata": {},
   "source": [
    "Because the output dimension is a result of concatenation, each dense block will increase the number of channels. To control the complexity of the model a transition block is used. A transition block reduces the number of channels by using a  1x1 convolutional layer and halves its height and width by using an average pooling layer with stride of 2."
   ]
  },
  {
   "cell_type": "code",
   "execution_count": 10,
   "id": "offensive-feelings",
   "metadata": {
    "execution": {
     "iopub.execute_input": "2022-04-09T06:22:49.159179Z",
     "iopub.status.busy": "2022-04-09T06:22:49.158177Z",
     "iopub.status.idle": "2022-04-09T06:22:49.160882Z",
     "shell.execute_reply": "2022-04-09T06:22:49.160370Z"
    },
    "papermill": {
     "duration": 0.038202,
     "end_time": "2022-04-09T06:22:49.161002",
     "exception": false,
     "start_time": "2022-04-09T06:22:49.122800",
     "status": "completed"
    },
    "tags": []
   },
   "outputs": [],
   "source": [
    "def transition_block(input_channels, num_channels):\n",
    "    return nn.Sequential(\n",
    "        nn.BatchNorm2d(input_channels), nn.ReLU(),\n",
    "        nn.Conv2d(input_channels, num_channels, kernel_size=1),\n",
    "        nn.AvgPool2d(kernel_size=2, stride=2))"
   ]
  },
  {
   "cell_type": "markdown",
   "id": "accessible-guyana",
   "metadata": {},
   "source": [
    "**DenseNet Model**\n",
    "\n",
    "The first module of DenseNet is the same as ResNet, which it contains a single convolutional layer and a max-pooling layer."
   ]
  },
  {
   "cell_type": "code",
   "execution_count": 11,
   "id": "imported-yahoo",
   "metadata": {
    "execution": {
     "iopub.execute_input": "2022-04-09T06:22:49.221099Z",
     "iopub.status.busy": "2022-04-09T06:22:49.220351Z",
     "iopub.status.idle": "2022-04-09T06:22:49.229711Z",
     "shell.execute_reply": "2022-04-09T06:22:49.229256Z"
    },
    "papermill": {
     "duration": 0.041326,
     "end_time": "2022-04-09T06:22:49.229821",
     "exception": false,
     "start_time": "2022-04-09T06:22:49.188495",
     "status": "completed"
    },
    "tags": []
   },
   "outputs": [],
   "source": [
    "b1 = nn.Sequential(\n",
    "    nn.Conv2d(1, 64, kernel_size=7, stride=2, padding=3),\n",
    "    nn.BatchNorm2d(64), nn.ReLU(),\n",
    "    nn.MaxPool2d(kernel_size=3, stride=2, padding=1))"
   ]
  },
  {
   "cell_type": "markdown",
   "id": "minor-consultancy",
   "metadata": {},
   "source": [
    "After the first module comes four dense blocks. In this implementation I will set the number of convolutions of each dense block to four, the inputs of each dense block to 64 channels, and the growth rate to 32. In between each dense block, there is also a transition block, which halves the number of channels, width, and height of each dense block."
   ]
  },
  {
   "cell_type": "code",
   "execution_count": 12,
   "id": "realistic-aircraft",
   "metadata": {
    "execution": {
     "iopub.execute_input": "2022-04-09T06:22:49.287326Z",
     "iopub.status.busy": "2022-04-09T06:22:49.286561Z",
     "iopub.status.idle": "2022-04-09T06:22:49.301174Z",
     "shell.execute_reply": "2022-04-09T06:22:49.300731Z"
    },
    "papermill": {
     "duration": 0.045666,
     "end_time": "2022-04-09T06:22:49.301285",
     "exception": false,
     "start_time": "2022-04-09T06:22:49.255619",
     "status": "completed"
    },
    "tags": []
   },
   "outputs": [],
   "source": [
    "num_channels, growth_rate = 64, 32\n",
    "num_convs_in_dense_blocks = [4, 4, 4, 4]\n",
    "blks = []\n",
    "for i, num_convs in enumerate(num_convs_in_dense_blocks):\n",
    "    blks.append(DenseBlock(num_convs, num_channels, growth_rate))\n",
    "    # This is the number of output channels in the previous dense block\n",
    "    num_channels += num_convs * growth_rate\n",
    "    # A transition layer that halves the number of channels is added between\n",
    "    # the dense blocks\n",
    "    if i != len(num_convs_in_dense_blocks) - 1:\n",
    "        blks.append(transition_block(num_channels, num_channels // 2))\n",
    "        num_channels = num_channels // 2"
   ]
  },
  {
   "cell_type": "markdown",
   "id": "apparent-california",
   "metadata": {},
   "source": [
    "Finally, in the last two layers, average pooling and a fully connected layer with the number of output channels equal to the number of labels is used."
   ]
  },
  {
   "cell_type": "code",
   "execution_count": 13,
   "id": "compatible-dutch",
   "metadata": {
    "execution": {
     "iopub.execute_input": "2022-04-09T06:22:49.359683Z",
     "iopub.status.busy": "2022-04-09T06:22:49.359095Z",
     "iopub.status.idle": "2022-04-09T06:22:49.362949Z",
     "shell.execute_reply": "2022-04-09T06:22:49.363309Z"
    },
    "papermill": {
     "duration": 0.035804,
     "end_time": "2022-04-09T06:22:49.363432",
     "exception": false,
     "start_time": "2022-04-09T06:22:49.327628",
     "status": "completed"
    },
    "tags": []
   },
   "outputs": [],
   "source": [
    "dense_net = nn.Sequential(\n",
    "    b1, *blks,\n",
    "    nn.BatchNorm2d(num_channels), nn.ReLU(),\n",
    "    nn.AdaptiveAvgPool2d((1, 1)),\n",
    "    nn.Flatten(),\n",
    "    nn.Linear(num_channels, 10))"
   ]
  },
  {
   "cell_type": "markdown",
   "id": "copyrighted-textbook",
   "metadata": {},
   "source": [
    "I will train DenseNet with a learning rate of 0.1 and a total of 10 epochs."
   ]
  },
  {
   "cell_type": "code",
   "execution_count": 14,
   "id": "objective-lancaster",
   "metadata": {
    "execution": {
     "iopub.execute_input": "2022-04-09T06:22:49.471429Z",
     "iopub.status.busy": "2022-04-09T06:22:49.470863Z",
     "iopub.status.idle": "2022-04-09T06:38:35.563819Z",
     "shell.execute_reply": "2022-04-09T06:38:35.564265Z",
     "shell.execute_reply.started": "2022-04-09T00:10:12.507097Z"
    },
    "id": "ufhelQkTInz8",
    "outputId": "3bff4799-1487-4565-e52b-d1f36a123af6",
    "papermill": {
     "duration": 946.174324,
     "end_time": "2022-04-09T06:38:35.564419",
     "exception": false,
     "start_time": "2022-04-09T06:22:49.390095",
     "status": "completed"
    },
    "tags": []
   },
   "outputs": [
    {
     "name": "stdout",
     "output_type": "stream",
     "text": [
      "Epoch: 1, loss: 0.001024\n",
      "Epoch: 2, loss: 0.000182\n",
      "Epoch: 3, loss: 0.000135\n",
      "Epoch: 4, loss: 0.000110\n",
      "Epoch: 5, loss: 0.000099\n",
      "Epoch: 6, loss: 0.000078\n",
      "Epoch: 7, loss: 0.000078\n",
      "Epoch: 8, loss: 0.000070\n",
      "Epoch: 9, loss: 0.000061\n",
      "Epoch: 10, loss: 0.000056\n",
      "Finished Training\n",
      "Train accuracy: 99.36833190917969%\n"
     ]
    }
   ],
   "source": [
    "train(dense_net, train_loader, lr=0.1, epochs=10) "
   ]
  },
  {
   "cell_type": "code",
   "execution_count": 15,
   "id": "substantial-place",
   "metadata": {
    "execution": {
     "iopub.execute_input": "2022-04-09T06:38:35.628712Z",
     "iopub.status.busy": "2022-04-09T06:38:35.627408Z",
     "iopub.status.idle": "2022-04-09T06:38:46.336808Z",
     "shell.execute_reply": "2022-04-09T06:38:46.337238Z",
     "shell.execute_reply.started": "2022-04-09T00:25:13.710843Z"
    },
    "id": "C48URL348-eH",
    "papermill": {
     "duration": 10.743631,
     "end_time": "2022-04-09T06:38:46.337405",
     "exception": false,
     "start_time": "2022-04-09T06:38:35.593774",
     "status": "completed"
    },
    "tags": []
   },
   "outputs": [],
   "source": [
    "total, correct = test(dense_net, test_loader)"
   ]
  },
  {
   "cell_type": "code",
   "execution_count": 16,
   "id": "variable-basketball",
   "metadata": {
    "execution": {
     "iopub.execute_input": "2022-04-09T06:38:46.403846Z",
     "iopub.status.busy": "2022-04-09T06:38:46.403193Z",
     "iopub.status.idle": "2022-04-09T06:38:46.405961Z",
     "shell.execute_reply": "2022-04-09T06:38:46.406367Z",
     "shell.execute_reply.started": "2022-04-09T00:25:26.713471Z"
    },
    "id": "v8igdpIIRVtn",
    "papermill": {
     "duration": 0.03819,
     "end_time": "2022-04-09T06:38:46.406491",
     "exception": false,
     "start_time": "2022-04-09T06:38:46.368301",
     "status": "completed"
    },
    "tags": []
   },
   "outputs": [
    {
     "name": "stdout",
     "output_type": "stream",
     "text": [
      "Test Accuracy: 99.06999206542969% (9907/10000)\n"
     ]
    }
   ],
   "source": [
    "print(f\"Test Accuracy: {(correct/total)*100}% ({correct}/{total})\")"
   ]
  },
  {
   "cell_type": "markdown",
   "id": "stone-abuse",
   "metadata": {},
   "source": [
    "As you can see, the trained DenseNet model has a test accuracy of 99.07%. "
   ]
  },
  {
   "cell_type": "markdown",
   "id": "experienced-photograph",
   "metadata": {},
   "source": [
    "## Visualizing Predictions"
   ]
  },
  {
   "cell_type": "markdown",
   "id": "explicit-association",
   "metadata": {},
   "source": [
    "Below are five visual representations of ResNet's predictions."
   ]
  },
  {
   "cell_type": "code",
   "execution_count": 17,
   "id": "disciplinary-survey",
   "metadata": {
    "execution": {
     "iopub.execute_input": "2022-04-09T06:38:46.473268Z",
     "iopub.status.busy": "2022-04-09T06:38:46.472486Z",
     "iopub.status.idle": "2022-04-09T06:38:46.475132Z",
     "shell.execute_reply": "2022-04-09T06:38:46.474676Z",
     "shell.execute_reply.started": "2022-04-09T00:28:36.717748Z"
    },
    "papermill": {
     "duration": 0.038691,
     "end_time": "2022-04-09T06:38:46.475229",
     "exception": false,
     "start_time": "2022-04-09T06:38:46.436538",
     "status": "completed"
    },
    "tags": []
   },
   "outputs": [],
   "source": [
    "def viz_results(net, dataset, num_samples=5):\n",
    "    net.cpu()\n",
    "    for i, (x, y) in enumerate(iter(dataset), 1):\n",
    "        if i <= num_samples:\n",
    "            \n",
    "            x, y = x, y\n",
    "            x = x.reshape(1, 1, x.shape[1], x.shape[2])\n",
    "\n",
    "            y_hat = net(x).argmax()\n",
    "\n",
    "            plt.imshow(x.reshape(x.shape[1], x.shape[2], -1).squeeze())\n",
    "            plt.title(f'{i}. Actual: {y}; Predicted: {y_hat}')\n",
    "            plt.show()\n",
    "        else:\n",
    "            break"
   ]
  },
  {
   "cell_type": "code",
   "execution_count": 18,
   "id": "persistent-links",
   "metadata": {
    "execution": {
     "iopub.execute_input": "2022-04-09T06:38:46.539061Z",
     "iopub.status.busy": "2022-04-09T06:38:46.538257Z",
     "iopub.status.idle": "2022-04-09T06:38:47.849954Z",
     "shell.execute_reply": "2022-04-09T06:38:47.850340Z",
     "shell.execute_reply.started": "2022-04-09T00:28:37.356268Z"
    },
    "papermill": {
     "duration": 1.345208,
     "end_time": "2022-04-09T06:38:47.850486",
     "exception": false,
     "start_time": "2022-04-09T06:38:46.505278",
     "status": "completed"
    },
    "tags": []
   },
   "outputs": [
    {
     "data": {
      "image/png": "[encoded data removed]",
      "text/plain": [
       "<Figure size 432x288 with 1 Axes>"
      ]
     },
     "metadata": {
      "needs_background": "light"
     },
     "output_type": "display_data"
    },
    {
     "data": {
      "image/png": "[encoded data removed]",
      "text/plain": [
       "<Figure size 432x288 with 1 Axes>"
      ]
     },
     "metadata": {
      "needs_background": "light"
     },
     "output_type": "display_data"
    },
    {
     "data": {
      "image/png": "[encoded data removed]",
      "text/plain": [
       "<Figure size 432x288 with 1 Axes>"
      ]
     },
     "metadata": {
      "needs_background": "light"
     },
     "output_type": "display_data"
    },
    {
     "data": {
      "image/png": "[encoded data removed]",
      "text/plain": [
       "<Figure size 432x288 with 1 Axes>"
      ]
     },
     "metadata": {
      "needs_background": "light"
     },
     "output_type": "display_data"
    },
    {
     "data": {
      "image/png": "[encoded data removed]",
      "text/plain": [
       "<Figure size 432x288 with 1 Axes>"
      ]
     },
     "metadata": {
      "needs_background": "light"
     },
     "output_type": "display_data"
    }
   ],
   "source": [
    "viz_results(dense_net, test_data)"
   ]
  }
 ],
 "metadata": {
  "kernelspec": {
   "display_name": "Python 3",
   "language": "python",
   "name": "python3"
  },
  "language_info": {
   "codemirror_mode": {
    "name": "ipython",
    "version": 3
   },
   "file_extension": ".py",
   "mimetype": "text/x-python",
   "name": "python",
   "nbconvert_exporter": "python",
   "pygments_lexer": "ipython3",
   "version": "3.9.12"
  },
  "papermill": {
   "default_parameters": {},
   "duration": 974.716108,
   "end_time": "2022-04-09T06:38:51.085243",
   "environment_variables": {},
   "exception": null,
   "input_path": "__notebook__.ipynb",
   "output_path": "__notebook__.ipynb",
   "parameters": {},
   "start_time": "2022-04-09T06:22:36.369135",
   "version": "2.3.3"
  },
  "widgets": {
   "application/vnd.jupyter.widget-state+json": {
    "state": {
     "0415113c64fe4ff6bda131648aeba587": {
      "model_module": "@jupyter-widgets/base",
      "model_module_version": "1.2.0",
      "model_name": "LayoutModel",
      "state": {
       "_model_module": "@jupyter-widgets/base",
       "_model_module_version": "1.2.0",
       "_model_name": "LayoutModel",
       "_view_count": null,
       "_view_module": "@jupyter-widgets/base",
       "_view_module_version": "1.2.0",
       "_view_name": "LayoutView",
       "align_content": null,
       "align_items": null,
       "align_self": null,
       "border": null,
       "bottom": null,
       "display": null,
       "flex": null,
       "flex_flow": null,
       "grid_area": null,
       "grid_auto_columns": null,
       "grid_auto_flow": null,
       "grid_auto_rows": null,
       "grid_column": null,
       "grid_gap": null,
       "grid_row": null,
       "grid_template_areas": null,
       "grid_template_columns": null,
       "grid_template_rows": null,
       "height": null,
       "justify_content": null,
       "justify_items": null,
       "left": null,
       "margin": null,
       "max_height": null,
       "max_width": null,
       "min_height": null,
       "min_width": null,
       "object_fit": null,
       "object_position": null,
       "order": null,
       "overflow": null,
       "overflow_x": null,
       "overflow_y": null,
       "padding": null,
       "right": null,
       "top": null,
       "visibility": null,
       "width": null
      }
     },
     "05932db1a91843b6a9f6758ae4565254": {
      "model_module": "@jupyter-widgets/controls",
      "model_module_version": "1.5.0",
      "model_name": "HTMLModel",
      "state": {
       "_dom_classes": [],
       "_model_module": "@jupyter-widgets/controls",
       "_model_module_version": "1.5.0",
       "_model_name": "HTMLModel",
       "_view_count": null,
       "_view_module": "@jupyter-widgets/controls",
       "_view_module_version": "1.5.0",
       "_view_name": "HTMLView",
       "description": "",
       "description_tooltip": null,
       "layout": "IPY_MODEL_5a254e71b80a48f78bd96f449c792405",
       "placeholder": "​",
       "style": "IPY_MODEL_5a5a7a9bdfdb48b49460d2f4e3f5020d",
       "value": ""
      }
     },
     "097925358fc34093a4b13289605b96d1": {
      "model_module": "@jupyter-widgets/base",
      "model_module_version": "1.2.0",
      "model_name": "LayoutModel",
      "state": {
       "_model_module": "@jupyter-widgets/base",
       "_model_module_version": "1.2.0",
       "_model_name": "LayoutModel",
       "_view_count": null,
       "_view_module": "@jupyter-widgets/base",
       "_view_module_version": "1.2.0",
       "_view_name": "LayoutView",
       "align_content": null,
       "align_items": null,
       "align_self": null,
       "border": null,
       "bottom": null,
       "display": null,
       "flex": null,
       "flex_flow": null,
       "grid_area": null,
       "grid_auto_columns": null,
       "grid_auto_flow": null,
       "grid_auto_rows": null,
       "grid_column": null,
       "grid_gap": null,
       "grid_row": null,
       "grid_template_areas": null,
       "grid_template_columns": null,
       "grid_template_rows": null,
       "height": null,
       "justify_content": null,
       "justify_items": null,
       "left": null,
       "margin": null,
       "max_height": null,
       "max_width": null,
       "min_height": null,
       "min_width": null,
       "object_fit": null,
       "object_position": null,
       "order": null,
       "overflow": null,
       "overflow_x": null,
       "overflow_y": null,
       "padding": null,
       "right": null,
       "top": null,
       "visibility": null,
       "width": null
      }
     },
     "0a0ff8692b584229b8ba1f5af9d50330": {
      "model_module": "@jupyter-widgets/controls",
      "model_module_version": "1.5.0",
      "model_name": "HBoxModel",
      "state": {
       "_dom_classes": [],
       "_model_module": "@jupyter-widgets/controls",
       "_model_module_version": "1.5.0",
       "_model_name": "HBoxModel",
       "_view_count": null,
       "_view_module": "@jupyter-widgets/controls",
       "_view_module_version": "1.5.0",
       "_view_name": "HBoxView",
       "box_style": "",
       "children": [
        "IPY_MODEL_ee9349c322ed446c9bf9032f7017c84a",
        "IPY_MODEL_96580dcabe284aa89bf747189c32c561",
        "IPY_MODEL_a159bb604b3342e9b6aa5dbbf1e1dde8"
       ],
       "layout": "IPY_MODEL_ca62ae0db6a44a0f9707acea808040d5"
      }
     },
     "0ad4e6f8e6ac4eef8e714d76db5a3668": {
      "model_module": "@jupyter-widgets/base",
      "model_module_version": "1.2.0",
      "model_name": "LayoutModel",
      "state": {
       "_model_module": "@jupyter-widgets/base",
       "_model_module_version": "1.2.0",
       "_model_name": "LayoutModel",
       "_view_count": null,
       "_view_module": "@jupyter-widgets/base",
       "_view_module_version": "1.2.0",
       "_view_name": "LayoutView",
       "align_content": null,
       "align_items": null,
       "align_self": null,
       "border": null,
       "bottom": null,
       "display": null,
       "flex": null,
       "flex_flow": null,
       "grid_area": null,
       "grid_auto_columns": null,
       "grid_auto_flow": null,
       "grid_auto_rows": null,
       "grid_column": null,
       "grid_gap": null,
       "grid_row": null,
       "grid_template_areas": null,
       "grid_template_columns": null,
       "grid_template_rows": null,
       "height": null,
       "justify_content": null,
       "justify_items": null,
       "left": null,
       "margin": null,
       "max_height": null,
       "max_width": null,
       "min_height": null,
       "min_width": null,
       "object_fit": null,
       "object_position": null,
       "order": null,
       "overflow": null,
       "overflow_x": null,
       "overflow_y": null,
       "padding": null,
       "right": null,
       "top": null,
       "visibility": null,
       "width": null
      }
     },
     "128159e4f7324f9ebdc9c1d2278d1d81": {
      "model_module": "@jupyter-widgets/controls",
      "model_module_version": "1.5.0",
      "model_name": "FloatProgressModel",
      "state": {
       "_dom_classes": [],
       "_model_module": "@jupyter-widgets/controls",
       "_model_module_version": "1.5.0",
       "_model_name": "FloatProgressModel",
       "_view_count": null,
       "_view_module": "@jupyter-widgets/controls",
       "_view_module_version": "1.5.0",
       "_view_name": "ProgressView",
       "bar_style": "success",
       "description": "",
       "description_tooltip": null,
       "layout": "IPY_MODEL_606c65db3f7b4e2daca765818d6158cd",
       "max": 4542,
       "min": 0,
       "orientation": "horizontal",
       "style": "IPY_MODEL_4615231683c749e0a6126b2ee63c9621",
       "value": 4542
      }
     },
     "189307122eb24fb58a453174e842f64f": {
      "model_module": "@jupyter-widgets/base",
      "model_module_version": "1.2.0",
      "model_name": "LayoutModel",
      "state": {
       "_model_module": "@jupyter-widgets/base",
       "_model_module_version": "1.2.0",
       "_model_name": "LayoutModel",
       "_view_count": null,
       "_view_module": "@jupyter-widgets/base",
       "_view_module_version": "1.2.0",
       "_view_name": "LayoutView",
       "align_content": null,
       "align_items": null,
       "align_self": null,
       "border": null,
       "bottom": null,
       "display": null,
       "flex": null,
       "flex_flow": null,
       "grid_area": null,
       "grid_auto_columns": null,
       "grid_auto_flow": null,
       "grid_auto_rows": null,
       "grid_column": null,
       "grid_gap": null,
       "grid_row": null,
       "grid_template_areas": null,
       "grid_template_columns": null,
       "grid_template_rows": null,
       "height": null,
       "justify_content": null,
       "justify_items": null,
       "left": null,
       "margin": null,
       "max_height": null,
       "max_width": null,
       "min_height": null,
       "min_width": null,
       "object_fit": null,
       "object_position": null,
       "order": null,
       "overflow": null,
       "overflow_x": null,
       "overflow_y": null,
       "padding": null,
       "right": null,
       "top": null,
       "visibility": null,
       "width": null
      }
     },
     "1bbfd2eb7b0341ea9e1b9145317c3298": {
      "model_module": "@jupyter-widgets/controls",
      "model_module_version": "1.5.0",
      "model_name": "DescriptionStyleModel",
      "state": {
       "_model_module": "@jupyter-widgets/controls",
       "_model_module_version": "1.5.0",
       "_model_name": "DescriptionStyleModel",
       "_view_count": null,
       "_view_module": "@jupyter-widgets/base",
       "_view_module_version": "1.2.0",
       "_view_name": "StyleView",
       "description_width": ""
      }
     },
     "1d84691ece2f44e6b5265dbfb1e740db": {
      "model_module": "@jupyter-widgets/controls",
      "model_module_version": "1.5.0",
      "model_name": "FloatProgressModel",
      "state": {
       "_dom_classes": [],
       "_model_module": "@jupyter-widgets/controls",
       "_model_module_version": "1.5.0",
       "_model_name": "FloatProgressModel",
       "_view_count": null,
       "_view_module": "@jupyter-widgets/controls",
       "_view_module_version": "1.5.0",
       "_view_name": "ProgressView",
       "bar_style": "success",
       "description": "",
       "description_tooltip": null,
       "layout": "IPY_MODEL_d2855a9f3dce496a826109666451fd83",
       "max": 9912422,
       "min": 0,
       "orientation": "horizontal",
       "style": "IPY_MODEL_e36a3e3421f047e18bf29dcb6e0240ab",
       "value": 9912422
      }
     },
     "210d7cf7dd804ea8b087562f7260969e": {
      "model_module": "@jupyter-widgets/controls",
      "model_module_version": "1.5.0",
      "model_name": "DescriptionStyleModel",
      "state": {
       "_model_module": "@jupyter-widgets/controls",
       "_model_module_version": "1.5.0",
       "_model_name": "DescriptionStyleModel",
       "_view_count": null,
       "_view_module": "@jupyter-widgets/base",
       "_view_module_version": "1.2.0",
       "_view_name": "StyleView",
       "description_width": ""
      }
     },
     "273fa032a2c0469894a8ba3c88fc65eb": {
      "model_module": "@jupyter-widgets/controls",
      "model_module_version": "1.5.0",
      "model_name": "DescriptionStyleModel",
      "state": {
       "_model_module": "@jupyter-widgets/controls",
       "_model_module_version": "1.5.0",
       "_model_name": "DescriptionStyleModel",
       "_view_count": null,
       "_view_module": "@jupyter-widgets/base",
       "_view_module_version": "1.2.0",
       "_view_name": "StyleView",
       "description_width": ""
      }
     },
     "340efeba85b94dab87d59886c2840ff3": {
      "model_module": "@jupyter-widgets/controls",
      "model_module_version": "1.5.0",
      "model_name": "HBoxModel",
      "state": {
       "_dom_classes": [],
       "_model_module": "@jupyter-widgets/controls",
       "_model_module_version": "1.5.0",
       "_model_name": "HBoxModel",
       "_view_count": null,
       "_view_module": "@jupyter-widgets/controls",
       "_view_module_version": "1.5.0",
       "_view_name": "HBoxView",
       "box_style": "",
       "children": [
        "IPY_MODEL_05932db1a91843b6a9f6758ae4565254",
        "IPY_MODEL_128159e4f7324f9ebdc9c1d2278d1d81",
        "IPY_MODEL_bf24159d93a6470ca3a6967191e6ae01"
       ],
       "layout": "IPY_MODEL_394fa6066a1b49c799f36caaf537d508"
      }
     },
     "394fa6066a1b49c799f36caaf537d508": {
      "model_module": "@jupyter-widgets/base",
      "model_module_version": "1.2.0",
      "model_name": "LayoutModel",
      "state": {
       "_model_module": "@jupyter-widgets/base",
       "_model_module_version": "1.2.0",
       "_model_name": "LayoutModel",
       "_view_count": null,
       "_view_module": "@jupyter-widgets/base",
       "_view_module_version": "1.2.0",
       "_view_name": "LayoutView",
       "align_content": null,
       "align_items": null,
       "align_self": null,
       "border": null,
       "bottom": null,
       "display": null,
       "flex": null,
       "flex_flow": null,
       "grid_area": null,
       "grid_auto_columns": null,
       "grid_auto_flow": null,
       "grid_auto_rows": null,
       "grid_column": null,
       "grid_gap": null,
       "grid_row": null,
       "grid_template_areas": null,
       "grid_template_columns": null,
       "grid_template_rows": null,
       "height": null,
       "justify_content": null,
       "justify_items": null,
       "left": null,
       "margin": null,
       "max_height": null,
       "max_width": null,
       "min_height": null,
       "min_width": null,
       "object_fit": null,
       "object_position": null,
       "order": null,
       "overflow": null,
       "overflow_x": null,
       "overflow_y": null,
       "padding": null,
       "right": null,
       "top": null,
       "visibility": null,
       "width": null
      }
     },
     "3a0845eacbeb48c5a5892e19def9268d": {
      "model_module": "@jupyter-widgets/controls",
      "model_module_version": "1.5.0",
      "model_name": "FloatProgressModel",
      "state": {
       "_dom_classes": [],
       "_model_module": "@jupyter-widgets/controls",
       "_model_module_version": "1.5.0",
       "_model_name": "FloatProgressModel",
       "_view_count": null,
       "_view_module": "@jupyter-widgets/controls",
       "_view_module_version": "1.5.0",
       "_view_name": "ProgressView",
       "bar_style": "success",
       "description": "",
       "description_tooltip": null,
       "layout": "IPY_MODEL_5d89cbea77344e38b7e13f5421e90092",
       "max": 28881,
       "min": 0,
       "orientation": "horizontal",
       "style": "IPY_MODEL_6fcbd99dcc5e4bafb04af61874e421e4",
       "value": 28881
      }
     },
     "4615231683c749e0a6126b2ee63c9621": {
      "model_module": "@jupyter-widgets/controls",
      "model_module_version": "1.5.0",
      "model_name": "ProgressStyleModel",
      "state": {
       "_model_module": "@jupyter-widgets/controls",
       "_model_module_version": "1.5.0",
       "_model_name": "ProgressStyleModel",
       "_view_count": null,
       "_view_module": "@jupyter-widgets/base",
       "_view_module_version": "1.2.0",
       "_view_name": "StyleView",
       "bar_color": null,
       "description_width": ""
      }
     },
     "4969e886589846a19dded6f8d2c63940": {
      "model_module": "@jupyter-widgets/controls",
      "model_module_version": "1.5.0",
      "model_name": "HTMLModel",
      "state": {
       "_dom_classes": [],
       "_model_module": "@jupyter-widgets/controls",
       "_model_module_version": "1.5.0",
       "_model_name": "HTMLModel",
       "_view_count": null,
       "_view_module": "@jupyter-widgets/controls",
       "_view_module_version": "1.5.0",
       "_view_name": "HTMLView",
       "description": "",
       "description_tooltip": null,
       "layout": "IPY_MODEL_742366558181492b9610e214fc7b487b",
       "placeholder": "​",
       "style": "IPY_MODEL_9f673e282d31434da47cbf0d8f743ad9",
       "value": ""
      }
     },
     "4b7cabd65f7949c4b10a2e4b9f75030d": {
      "model_module": "@jupyter-widgets/base",
      "model_module_version": "1.2.0",
      "model_name": "LayoutModel",
      "state": {
       "_model_module": "@jupyter-widgets/base",
       "_model_module_version": "1.2.0",
       "_model_name": "LayoutModel",
       "_view_count": null,
       "_view_module": "@jupyter-widgets/base",
       "_view_module_version": "1.2.0",
       "_view_name": "LayoutView",
       "align_content": null,
       "align_items": null,
       "align_self": null,
       "border": null,
       "bottom": null,
       "display": null,
       "flex": null,
       "flex_flow": null,
       "grid_area": null,
       "grid_auto_columns": null,
       "grid_auto_flow": null,
       "grid_auto_rows": null,
       "grid_column": null,
       "grid_gap": null,
       "grid_row": null,
       "grid_template_areas": null,
       "grid_template_columns": null,
       "grid_template_rows": null,
       "height": null,
       "justify_content": null,
       "justify_items": null,
       "left": null,
       "margin": null,
       "max_height": null,
       "max_width": null,
       "min_height": null,
       "min_width": null,
       "object_fit": null,
       "object_position": null,
       "order": null,
       "overflow": null,
       "overflow_x": null,
       "overflow_y": null,
       "padding": null,
       "right": null,
       "top": null,
       "visibility": null,
       "width": null
      }
     },
     "5357994b0e104a3fb64a83ace05455ad": {
      "model_module": "@jupyter-widgets/controls",
      "model_module_version": "1.5.0",
      "model_name": "ProgressStyleModel",
      "state": {
       "_model_module": "@jupyter-widgets/controls",
       "_model_module_version": "1.5.0",
       "_model_name": "ProgressStyleModel",
       "_view_count": null,
       "_view_module": "@jupyter-widgets/base",
       "_view_module_version": "1.2.0",
       "_view_name": "StyleView",
       "bar_color": null,
       "description_width": ""
      }
     },
     "5a254e71b80a48f78bd96f449c792405": {
      "model_module": "@jupyter-widgets/base",
      "model_module_version": "1.2.0",
      "model_name": "LayoutModel",
      "state": {
       "_model_module": "@jupyter-widgets/base",
       "_model_module_version": "1.2.0",
       "_model_name": "LayoutModel",
       "_view_count": null,
       "_view_module": "@jupyter-widgets/base",
       "_view_module_version": "1.2.0",
       "_view_name": "LayoutView",
       "align_content": null,
       "align_items": null,
       "align_self": null,
       "border": null,
       "bottom": null,
       "display": null,
       "flex": null,
       "flex_flow": null,
       "grid_area": null,
       "grid_auto_columns": null,
       "grid_auto_flow": null,
       "grid_auto_rows": null,
       "grid_column": null,
       "grid_gap": null,
       "grid_row": null,
       "grid_template_areas": null,
       "grid_template_columns": null,
       "grid_template_rows": null,
       "height": null,
       "justify_content": null,
       "justify_items": null,
       "left": null,
       "margin": null,
       "max_height": null,
       "max_width": null,
       "min_height": null,
       "min_width": null,
       "object_fit": null,
       "object_position": null,
       "order": null,
       "overflow": null,
       "overflow_x": null,
       "overflow_y": null,
       "padding": null,
       "right": null,
       "top": null,
       "visibility": null,
       "width": null
      }
     },
     "5a5a7a9bdfdb48b49460d2f4e3f5020d": {
      "model_module": "@jupyter-widgets/controls",
      "model_module_version": "1.5.0",
      "model_name": "DescriptionStyleModel",
      "state": {
       "_model_module": "@jupyter-widgets/controls",
       "_model_module_version": "1.5.0",
       "_model_name": "DescriptionStyleModel",
       "_view_count": null,
       "_view_module": "@jupyter-widgets/base",
       "_view_module_version": "1.2.0",
       "_view_name": "StyleView",
       "description_width": ""
      }
     },
     "5ca7b5114a0b40b8bbdb0f52fbf8319f": {
      "model_module": "@jupyter-widgets/controls",
      "model_module_version": "1.5.0",
      "model_name": "HTMLModel",
      "state": {
       "_dom_classes": [],
       "_model_module": "@jupyter-widgets/controls",
       "_model_module_version": "1.5.0",
       "_model_name": "HTMLModel",
       "_view_count": null,
       "_view_module": "@jupyter-widgets/controls",
       "_view_module_version": "1.5.0",
       "_view_name": "HTMLView",
       "description": "",
       "description_tooltip": null,
       "layout": "IPY_MODEL_0415113c64fe4ff6bda131648aeba587",
       "placeholder": "​",
       "style": "IPY_MODEL_210d7cf7dd804ea8b087562f7260969e",
       "value": ""
      }
     },
     "5d89cbea77344e38b7e13f5421e90092": {
      "model_module": "@jupyter-widgets/base",
      "model_module_version": "1.2.0",
      "model_name": "LayoutModel",
      "state": {
       "_model_module": "@jupyter-widgets/base",
       "_model_module_version": "1.2.0",
       "_model_name": "LayoutModel",
       "_view_count": null,
       "_view_module": "@jupyter-widgets/base",
       "_view_module_version": "1.2.0",
       "_view_name": "LayoutView",
       "align_content": null,
       "align_items": null,
       "align_self": null,
       "border": null,
       "bottom": null,
       "display": null,
       "flex": null,
       "flex_flow": null,
       "grid_area": null,
       "grid_auto_columns": null,
       "grid_auto_flow": null,
       "grid_auto_rows": null,
       "grid_column": null,
       "grid_gap": null,
       "grid_row": null,
       "grid_template_areas": null,
       "grid_template_columns": null,
       "grid_template_rows": null,
       "height": null,
       "justify_content": null,
       "justify_items": null,
       "left": null,
       "margin": null,
       "max_height": null,
       "max_width": null,
       "min_height": null,
       "min_width": null,
       "object_fit": null,
       "object_position": null,
       "order": null,
       "overflow": null,
       "overflow_x": null,
       "overflow_y": null,
       "padding": null,
       "right": null,
       "top": null,
       "visibility": null,
       "width": null
      }
     },
     "606c65db3f7b4e2daca765818d6158cd": {
      "model_module": "@jupyter-widgets/base",
      "model_module_version": "1.2.0",
      "model_name": "LayoutModel",
      "state": {
       "_model_module": "@jupyter-widgets/base",
       "_model_module_version": "1.2.0",
       "_model_name": "LayoutModel",
       "_view_count": null,
       "_view_module": "@jupyter-widgets/base",
       "_view_module_version": "1.2.0",
       "_view_name": "LayoutView",
       "align_content": null,
       "align_items": null,
       "align_self": null,
       "border": null,
       "bottom": null,
       "display": null,
       "flex": null,
       "flex_flow": null,
       "grid_area": null,
       "grid_auto_columns": null,
       "grid_auto_flow": null,
       "grid_auto_rows": null,
       "grid_column": null,
       "grid_gap": null,
       "grid_row": null,
       "grid_template_areas": null,
       "grid_template_columns": null,
       "grid_template_rows": null,
       "height": null,
       "justify_content": null,
       "justify_items": null,
       "left": null,
       "margin": null,
       "max_height": null,
       "max_width": null,
       "min_height": null,
       "min_width": null,
       "object_fit": null,
       "object_position": null,
       "order": null,
       "overflow": null,
       "overflow_x": null,
       "overflow_y": null,
       "padding": null,
       "right": null,
       "top": null,
       "visibility": null,
       "width": null
      }
     },
     "6fcbd99dcc5e4bafb04af61874e421e4": {
      "model_module": "@jupyter-widgets/controls",
      "model_module_version": "1.5.0",
      "model_name": "ProgressStyleModel",
      "state": {
       "_model_module": "@jupyter-widgets/controls",
       "_model_module_version": "1.5.0",
       "_model_name": "ProgressStyleModel",
       "_view_count": null,
       "_view_module": "@jupyter-widgets/base",
       "_view_module_version": "1.2.0",
       "_view_name": "StyleView",
       "bar_color": null,
       "description_width": ""
      }
     },
     "710c39fcc56a4d4bb2f1493b023144eb": {
      "model_module": "@jupyter-widgets/controls",
      "model_module_version": "1.5.0",
      "model_name": "DescriptionStyleModel",
      "state": {
       "_model_module": "@jupyter-widgets/controls",
       "_model_module_version": "1.5.0",
       "_model_name": "DescriptionStyleModel",
       "_view_count": null,
       "_view_module": "@jupyter-widgets/base",
       "_view_module_version": "1.2.0",
       "_view_name": "StyleView",
       "description_width": ""
      }
     },
     "742366558181492b9610e214fc7b487b": {
      "model_module": "@jupyter-widgets/base",
      "model_module_version": "1.2.0",
      "model_name": "LayoutModel",
      "state": {
       "_model_module": "@jupyter-widgets/base",
       "_model_module_version": "1.2.0",
       "_model_name": "LayoutModel",
       "_view_count": null,
       "_view_module": "@jupyter-widgets/base",
       "_view_module_version": "1.2.0",
       "_view_name": "LayoutView",
       "align_content": null,
       "align_items": null,
       "align_self": null,
       "border": null,
       "bottom": null,
       "display": null,
       "flex": null,
       "flex_flow": null,
       "grid_area": null,
       "grid_auto_columns": null,
       "grid_auto_flow": null,
       "grid_auto_rows": null,
       "grid_column": null,
       "grid_gap": null,
       "grid_row": null,
       "grid_template_areas": null,
       "grid_template_columns": null,
       "grid_template_rows": null,
       "height": null,
       "justify_content": null,
       "justify_items": null,
       "left": null,
       "margin": null,
       "max_height": null,
       "max_width": null,
       "min_height": null,
       "min_width": null,
       "object_fit": null,
       "object_position": null,
       "order": null,
       "overflow": null,
       "overflow_x": null,
       "overflow_y": null,
       "padding": null,
       "right": null,
       "top": null,
       "visibility": null,
       "width": null
      }
     },
     "768a0c934bcb4d61b30f22110f62d408": {
      "model_module": "@jupyter-widgets/base",
      "model_module_version": "1.2.0",
      "model_name": "LayoutModel",
      "state": {
       "_model_module": "@jupyter-widgets/base",
       "_model_module_version": "1.2.0",
       "_model_name": "LayoutModel",
       "_view_count": null,
       "_view_module": "@jupyter-widgets/base",
       "_view_module_version": "1.2.0",
       "_view_name": "LayoutView",
       "align_content": null,
       "align_items": null,
       "align_self": null,
       "border": null,
       "bottom": null,
       "display": null,
       "flex": null,
       "flex_flow": null,
       "grid_area": null,
       "grid_auto_columns": null,
       "grid_auto_flow": null,
       "grid_auto_rows": null,
       "grid_column": null,
       "grid_gap": null,
       "grid_row": null,
       "grid_template_areas": null,
       "grid_template_columns": null,
       "grid_template_rows": null,
       "height": null,
       "justify_content": null,
       "justify_items": null,
       "left": null,
       "margin": null,
       "max_height": null,
       "max_width": null,
       "min_height": null,
       "min_width": null,
       "object_fit": null,
       "object_position": null,
       "order": null,
       "overflow": null,
       "overflow_x": null,
       "overflow_y": null,
       "padding": null,
       "right": null,
       "top": null,
       "visibility": null,
       "width": null
      }
     },
     "7af5ff498a314d28bb67f753b4d1e10f": {
      "model_module": "@jupyter-widgets/base",
      "model_module_version": "1.2.0",
      "model_name": "LayoutModel",
      "state": {
       "_model_module": "@jupyter-widgets/base",
       "_model_module_version": "1.2.0",
       "_model_name": "LayoutModel",
       "_view_count": null,
       "_view_module": "@jupyter-widgets/base",
       "_view_module_version": "1.2.0",
       "_view_name": "LayoutView",
       "align_content": null,
       "align_items": null,
       "align_self": null,
       "border": null,
       "bottom": null,
       "display": null,
       "flex": null,
       "flex_flow": null,
       "grid_area": null,
       "grid_auto_columns": null,
       "grid_auto_flow": null,
       "grid_auto_rows": null,
       "grid_column": null,
       "grid_gap": null,
       "grid_row": null,
       "grid_template_areas": null,
       "grid_template_columns": null,
       "grid_template_rows": null,
       "height": null,
       "justify_content": null,
       "justify_items": null,
       "left": null,
       "margin": null,
       "max_height": null,
       "max_width": null,
       "min_height": null,
       "min_width": null,
       "object_fit": null,
       "object_position": null,
       "order": null,
       "overflow": null,
       "overflow_x": null,
       "overflow_y": null,
       "padding": null,
       "right": null,
       "top": null,
       "visibility": null,
       "width": null
      }
     },
     "7e275f8be9d0400ea0452b599909753a": {
      "model_module": "@jupyter-widgets/controls",
      "model_module_version": "1.5.0",
      "model_name": "DescriptionStyleModel",
      "state": {
       "_model_module": "@jupyter-widgets/controls",
       "_model_module_version": "1.5.0",
       "_model_name": "DescriptionStyleModel",
       "_view_count": null,
       "_view_module": "@jupyter-widgets/base",
       "_view_module_version": "1.2.0",
       "_view_name": "StyleView",
       "description_width": ""
      }
     },
     "8fb6050ff17947b19f08a9204398a983": {
      "model_module": "@jupyter-widgets/controls",
      "model_module_version": "1.5.0",
      "model_name": "DescriptionStyleModel",
      "state": {
       "_model_module": "@jupyter-widgets/controls",
       "_model_module_version": "1.5.0",
       "_model_name": "DescriptionStyleModel",
       "_view_count": null,
       "_view_module": "@jupyter-widgets/base",
       "_view_module_version": "1.2.0",
       "_view_name": "StyleView",
       "description_width": ""
      }
     },
     "8fcbb094c94747499ea430fb8855df8c": {
      "model_module": "@jupyter-widgets/controls",
      "model_module_version": "1.5.0",
      "model_name": "HTMLModel",
      "state": {
       "_dom_classes": [],
       "_model_module": "@jupyter-widgets/controls",
       "_model_module_version": "1.5.0",
       "_model_name": "HTMLModel",
       "_view_count": null,
       "_view_module": "@jupyter-widgets/controls",
       "_view_module_version": "1.5.0",
       "_view_name": "HTMLView",
       "description": "",
       "description_tooltip": null,
       "layout": "IPY_MODEL_0ad4e6f8e6ac4eef8e714d76db5a3668",
       "placeholder": "​",
       "style": "IPY_MODEL_8fb6050ff17947b19f08a9204398a983",
       "value": " 9913344/? [00:00&lt;00:00, 73359255.06it/s]"
      }
     },
     "96580dcabe284aa89bf747189c32c561": {
      "model_module": "@jupyter-widgets/controls",
      "model_module_version": "1.5.0",
      "model_name": "FloatProgressModel",
      "state": {
       "_dom_classes": [],
       "_model_module": "@jupyter-widgets/controls",
       "_model_module_version": "1.5.0",
       "_model_name": "FloatProgressModel",
       "_view_count": null,
       "_view_module": "@jupyter-widgets/controls",
       "_view_module_version": "1.5.0",
       "_view_name": "ProgressView",
       "bar_style": "success",
       "description": "",
       "description_tooltip": null,
       "layout": "IPY_MODEL_deeaa58d82d740b0a017f9c2340e686f",
       "max": 1648877,
       "min": 0,
       "orientation": "horizontal",
       "style": "IPY_MODEL_5357994b0e104a3fb64a83ace05455ad",
       "value": 1648877
      }
     },
     "9ef1b3509d764ed0b6c22aa54cb70087": {
      "model_module": "@jupyter-widgets/controls",
      "model_module_version": "1.5.0",
      "model_name": "HBoxModel",
      "state": {
       "_dom_classes": [],
       "_model_module": "@jupyter-widgets/controls",
       "_model_module_version": "1.5.0",
       "_model_name": "HBoxModel",
       "_view_count": null,
       "_view_module": "@jupyter-widgets/controls",
       "_view_module_version": "1.5.0",
       "_view_name": "HBoxView",
       "box_style": "",
       "children": [
        "IPY_MODEL_4969e886589846a19dded6f8d2c63940",
        "IPY_MODEL_3a0845eacbeb48c5a5892e19def9268d",
        "IPY_MODEL_dc9a7f7a6fe743158d8d4edd9e4d8ebf"
       ],
       "layout": "IPY_MODEL_189307122eb24fb58a453174e842f64f"
      }
     },
     "9f673e282d31434da47cbf0d8f743ad9": {
      "model_module": "@jupyter-widgets/controls",
      "model_module_version": "1.5.0",
      "model_name": "DescriptionStyleModel",
      "state": {
       "_model_module": "@jupyter-widgets/controls",
       "_model_module_version": "1.5.0",
       "_model_name": "DescriptionStyleModel",
       "_view_count": null,
       "_view_module": "@jupyter-widgets/base",
       "_view_module_version": "1.2.0",
       "_view_name": "StyleView",
       "description_width": ""
      }
     },
     "a159bb604b3342e9b6aa5dbbf1e1dde8": {
      "model_module": "@jupyter-widgets/controls",
      "model_module_version": "1.5.0",
      "model_name": "HTMLModel",
      "state": {
       "_dom_classes": [],
       "_model_module": "@jupyter-widgets/controls",
       "_model_module_version": "1.5.0",
       "_model_name": "HTMLModel",
       "_view_count": null,
       "_view_module": "@jupyter-widgets/controls",
       "_view_module_version": "1.5.0",
       "_view_name": "HTMLView",
       "description": "",
       "description_tooltip": null,
       "layout": "IPY_MODEL_4b7cabd65f7949c4b10a2e4b9f75030d",
       "placeholder": "​",
       "style": "IPY_MODEL_7e275f8be9d0400ea0452b599909753a",
       "value": " 1649664/? [00:00&lt;00:00, 22022809.36it/s]"
      }
     },
     "a47af0e6db794fe8982c6d476b682fc0": {
      "model_module": "@jupyter-widgets/controls",
      "model_module_version": "1.5.0",
      "model_name": "HBoxModel",
      "state": {
       "_dom_classes": [],
       "_model_module": "@jupyter-widgets/controls",
       "_model_module_version": "1.5.0",
       "_model_name": "HBoxModel",
       "_view_count": null,
       "_view_module": "@jupyter-widgets/controls",
       "_view_module_version": "1.5.0",
       "_view_name": "HBoxView",
       "box_style": "",
       "children": [
        "IPY_MODEL_5ca7b5114a0b40b8bbdb0f52fbf8319f",
        "IPY_MODEL_1d84691ece2f44e6b5265dbfb1e740db",
        "IPY_MODEL_8fcbb094c94747499ea430fb8855df8c"
       ],
       "layout": "IPY_MODEL_7af5ff498a314d28bb67f753b4d1e10f"
      }
     },
     "bf24159d93a6470ca3a6967191e6ae01": {
      "model_module": "@jupyter-widgets/controls",
      "model_module_version": "1.5.0",
      "model_name": "HTMLModel",
      "state": {
       "_dom_classes": [],
       "_model_module": "@jupyter-widgets/controls",
       "_model_module_version": "1.5.0",
       "_model_name": "HTMLModel",
       "_view_count": null,
       "_view_module": "@jupyter-widgets/controls",
       "_view_module_version": "1.5.0",
       "_view_name": "HTMLView",
       "description": "",
       "description_tooltip": null,
       "layout": "IPY_MODEL_d93c8f85aaaa409686e4e5adb8dcb8f4",
       "placeholder": "​",
       "style": "IPY_MODEL_273fa032a2c0469894a8ba3c88fc65eb",
       "value": " 5120/? [00:00&lt;00:00, 221907.09it/s]"
      }
     },
     "ca62ae0db6a44a0f9707acea808040d5": {
      "model_module": "@jupyter-widgets/base",
      "model_module_version": "1.2.0",
      "model_name": "LayoutModel",
      "state": {
       "_model_module": "@jupyter-widgets/base",
       "_model_module_version": "1.2.0",
       "_model_name": "LayoutModel",
       "_view_count": null,
       "_view_module": "@jupyter-widgets/base",
       "_view_module_version": "1.2.0",
       "_view_name": "LayoutView",
       "align_content": null,
       "align_items": null,
       "align_self": null,
       "border": null,
       "bottom": null,
       "display": null,
       "flex": null,
       "flex_flow": null,
       "grid_area": null,
       "grid_auto_columns": null,
       "grid_auto_flow": null,
       "grid_auto_rows": null,
       "grid_column": null,
       "grid_gap": null,
       "grid_row": null,
       "grid_template_areas": null,
       "grid_template_columns": null,
       "grid_template_rows": null,
       "height": null,
       "justify_content": null,
       "justify_items": null,
       "left": null,
       "margin": null,
       "max_height": null,
       "max_width": null,
       "min_height": null,
       "min_width": null,
       "object_fit": null,
       "object_position": null,
       "order": null,
       "overflow": null,
       "overflow_x": null,
       "overflow_y": null,
       "padding": null,
       "right": null,
       "top": null,
       "visibility": null,
       "width": null
      }
     },
     "d2855a9f3dce496a826109666451fd83": {
      "model_module": "@jupyter-widgets/base",
      "model_module_version": "1.2.0",
      "model_name": "LayoutModel",
      "state": {
       "_model_module": "@jupyter-widgets/base",
       "_model_module_version": "1.2.0",
       "_model_name": "LayoutModel",
       "_view_count": null,
       "_view_module": "@jupyter-widgets/base",
       "_view_module_version": "1.2.0",
       "_view_name": "LayoutView",
       "align_content": null,
       "align_items": null,
       "align_self": null,
       "border": null,
       "bottom": null,
       "display": null,
       "flex": null,
       "flex_flow": null,
       "grid_area": null,
       "grid_auto_columns": null,
       "grid_auto_flow": null,
       "grid_auto_rows": null,
       "grid_column": null,
       "grid_gap": null,
       "grid_row": null,
       "grid_template_areas": null,
       "grid_template_columns": null,
       "grid_template_rows": null,
       "height": null,
       "justify_content": null,
       "justify_items": null,
       "left": null,
       "margin": null,
       "max_height": null,
       "max_width": null,
       "min_height": null,
       "min_width": null,
       "object_fit": null,
       "object_position": null,
       "order": null,
       "overflow": null,
       "overflow_x": null,
       "overflow_y": null,
       "padding": null,
       "right": null,
       "top": null,
       "visibility": null,
       "width": null
      }
     },
     "d93c8f85aaaa409686e4e5adb8dcb8f4": {
      "model_module": "@jupyter-widgets/base",
      "model_module_version": "1.2.0",
      "model_name": "LayoutModel",
      "state": {
       "_model_module": "@jupyter-widgets/base",
       "_model_module_version": "1.2.0",
       "_model_name": "LayoutModel",
       "_view_count": null,
       "_view_module": "@jupyter-widgets/base",
       "_view_module_version": "1.2.0",
       "_view_name": "LayoutView",
       "align_content": null,
       "align_items": null,
       "align_self": null,
       "border": null,
       "bottom": null,
       "display": null,
       "flex": null,
       "flex_flow": null,
       "grid_area": null,
       "grid_auto_columns": null,
       "grid_auto_flow": null,
       "grid_auto_rows": null,
       "grid_column": null,
       "grid_gap": null,
       "grid_row": null,
       "grid_template_areas": null,
       "grid_template_columns": null,
       "grid_template_rows": null,
       "height": null,
       "justify_content": null,
       "justify_items": null,
       "left": null,
       "margin": null,
       "max_height": null,
       "max_width": null,
       "min_height": null,
       "min_width": null,
       "object_fit": null,
       "object_position": null,
       "order": null,
       "overflow": null,
       "overflow_x": null,
       "overflow_y": null,
       "padding": null,
       "right": null,
       "top": null,
       "visibility": null,
       "width": null
      }
     },
     "dc9a7f7a6fe743158d8d4edd9e4d8ebf": {
      "model_module": "@jupyter-widgets/controls",
      "model_module_version": "1.5.0",
      "model_name": "HTMLModel",
      "state": {
       "_dom_classes": [],
       "_model_module": "@jupyter-widgets/controls",
       "_model_module_version": "1.5.0",
       "_model_name": "HTMLModel",
       "_view_count": null,
       "_view_module": "@jupyter-widgets/controls",
       "_view_module_version": "1.5.0",
       "_view_name": "HTMLView",
       "description": "",
       "description_tooltip": null,
       "layout": "IPY_MODEL_768a0c934bcb4d61b30f22110f62d408",
       "placeholder": "​",
       "style": "IPY_MODEL_710c39fcc56a4d4bb2f1493b023144eb",
       "value": " 29696/? [00:00&lt;00:00, 1238665.92it/s]"
      }
     },
     "deeaa58d82d740b0a017f9c2340e686f": {
      "model_module": "@jupyter-widgets/base",
      "model_module_version": "1.2.0",
      "model_name": "LayoutModel",
      "state": {
       "_model_module": "@jupyter-widgets/base",
       "_model_module_version": "1.2.0",
       "_model_name": "LayoutModel",
       "_view_count": null,
       "_view_module": "@jupyter-widgets/base",
       "_view_module_version": "1.2.0",
       "_view_name": "LayoutView",
       "align_content": null,
       "align_items": null,
       "align_self": null,
       "border": null,
       "bottom": null,
       "display": null,
       "flex": null,
       "flex_flow": null,
       "grid_area": null,
       "grid_auto_columns": null,
       "grid_auto_flow": null,
       "grid_auto_rows": null,
       "grid_column": null,
       "grid_gap": null,
       "grid_row": null,
       "grid_template_areas": null,
       "grid_template_columns": null,
       "grid_template_rows": null,
       "height": null,
       "justify_content": null,
       "justify_items": null,
       "left": null,
       "margin": null,
       "max_height": null,
       "max_width": null,
       "min_height": null,
       "min_width": null,
       "object_fit": null,
       "object_position": null,
       "order": null,
       "overflow": null,
       "overflow_x": null,
       "overflow_y": null,
       "padding": null,
       "right": null,
       "top": null,
       "visibility": null,
       "width": null
      }
     },
     "e36a3e3421f047e18bf29dcb6e0240ab": {
      "model_module": "@jupyter-widgets/controls",
      "model_module_version": "1.5.0",
      "model_name": "ProgressStyleModel",
      "state": {
       "_model_module": "@jupyter-widgets/controls",
       "_model_module_version": "1.5.0",
       "_model_name": "ProgressStyleModel",
       "_view_count": null,
       "_view_module": "@jupyter-widgets/base",
       "_view_module_version": "1.2.0",
       "_view_name": "StyleView",
       "bar_color": null,
       "description_width": ""
      }
     },
     "ee9349c322ed446c9bf9032f7017c84a": {
      "model_module": "@jupyter-widgets/controls",
      "model_module_version": "1.5.0",
      "model_name": "HTMLModel",
      "state": {
       "_dom_classes": [],
       "_model_module": "@jupyter-widgets/controls",
       "_model_module_version": "1.5.0",
       "_model_name": "HTMLModel",
       "_view_count": null,
       "_view_module": "@jupyter-widgets/controls",
       "_view_module_version": "1.5.0",
       "_view_name": "HTMLView",
       "description": "",
       "description_tooltip": null,
       "layout": "IPY_MODEL_097925358fc34093a4b13289605b96d1",
       "placeholder": "​",
       "style": "IPY_MODEL_1bbfd2eb7b0341ea9e1b9145317c3298",
       "value": ""
      }
     }
    },
    "version_major": 2,
    "version_minor": 0
   }
  }
 },
 "nbformat": 4,
 "nbformat_minor": 5
}
