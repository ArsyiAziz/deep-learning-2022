{
 "cells": [
  {
   "cell_type": "markdown",
   "metadata": {},
   "source": [
    " # Assignment 2 - Modern CNNs (Batch Normalization)\n",
    "*This notebook was run by Arsyi Syarief Aziz (H071191003) for the Introduction to Deep Learning course (Unhas) taught by Dr. Risman Adnan.*"
   ]
  },
  {
   "cell_type": "markdown",
   "metadata": {},
   "source": [
    "This is part 5/7 of this week's assignment. In this notebook, I will attempt to implement Batch Normalization."
   ]
  },
  {
   "cell_type": "code",
   "execution_count": 1,
   "metadata": {
    "id": "IYSo08WoITsl"
   },
   "outputs": [],
   "source": [
    "import torch\n",
    "from torch import nn\n",
    "from torch.utils.data import Dataset\n",
    "from torchvision import datasets, transforms\n",
    "import matplotlib.pyplot as plt\n",
    "from torch.utils.data import DataLoader, SubsetRandomSampler\n",
    "import torch.optim as optim\n",
    "import torch.nn.functional as F"
   ]
  },
  {
   "cell_type": "code",
   "execution_count": 2,
   "metadata": {
    "id": "wseWTNjqIUP5"
   },
   "outputs": [],
   "source": [
    "cuda = torch.device('cuda')"
   ]
  },
  {
   "cell_type": "markdown",
   "metadata": {},
   "source": [
    "## Importing Dataset"
   ]
  },
  {
   "cell_type": "markdown",
   "metadata": {},
   "source": [
    "I will use the MNIST dataset to train and test the model in this notebook. Unlike the previous notebooks, I will not upscale the images."
   ]
  },
  {
   "cell_type": "code",
   "execution_count": 3,
   "metadata": {
    "id": "wm4Rq83zIWFO"
   },
   "outputs": [],
   "source": [
    "training_data = datasets.MNIST(\n",
    "    root=\"data\",\n",
    "    train=True,\n",
    "    download=True,\n",
    "    transform=transforms.Compose([transforms.ToTensor()])\n",
    ")\n",
    "test_data = datasets.MNIST(\n",
    "    root=\"data\",\n",
    "    train=False,\n",
    "    download=True,\n",
    "    transform=transforms.Compose([transforms.ToTensor()])\n",
    ")\n"
   ]
  },
  {
   "cell_type": "code",
   "execution_count": 4,
   "metadata": {
    "id": "JcvLY2IYIXDA"
   },
   "outputs": [],
   "source": [
    "train_loader = torch.utils.data.DataLoader(\n",
    "                 dataset=training_data,\n",
    "                 batch_size=512,\n",
    "                 shuffle=True,\n",
    "                 num_workers=2,\n",
    "                 pin_memory=True)\n",
    "test_loader = torch.utils.data.DataLoader(\n",
    "                dataset=test_data,\n",
    "                batch_size=512,\n",
    "                shuffle=False,\n",
    "                num_workers=2,\n",
    "                pin_memory=True)"
   ]
  },
  {
   "cell_type": "markdown",
   "metadata": {},
   "source": [
    "Below are nine samples of the dataset"
   ]
  },
  {
   "cell_type": "code",
   "execution_count": 5,
   "metadata": {
    "colab": {
     "base_uri": "https://localhost:8080/",
     "height": 482
    },
    "id": "X9nGXY_GIYLL",
    "outputId": "2218cf8d-7408-4833-9c4b-5131034a473b"
   },
   "outputs": [
    {
     "data": {
      "image/png": "[encoded data removed]",
      "text/plain": [
       "<Figure size 576x576 with 9 Axes>"
      ]
     },
     "metadata": {
      "needs_background": "light"
     },
     "output_type": "display_data"
    }
   ],
   "source": [
    "figure = plt.figure(figsize=(8, 8))\n",
    "cols, rows = 3, 3\n",
    "for i in range(1, cols * rows + 1):\n",
    "    sample_idx = torch.randint(len(training_data), size=(1,)).item()\n",
    "    img, label = training_data[sample_idx]\n",
    "    figure.add_subplot(rows, cols, i)\n",
    "    plt.title(label)\n",
    "    plt.axis(\"off\")\n",
    "    plt.imshow(img.squeeze(), cmap=\"gray\")\n",
    "plt.show()"
   ]
  },
  {
   "cell_type": "markdown",
   "metadata": {},
   "source": [
    "## Definining Helper Functions"
   ]
  },
  {
   "cell_type": "markdown",
   "metadata": {},
   "source": [
    "The function below will be used to train the neural network"
   ]
  },
  {
   "cell_type": "code",
   "execution_count": 6,
   "metadata": {
    "id": "0HPwtFVSIZKJ"
   },
   "outputs": [],
   "source": [
    "def train(net, train_loader, epochs=10, lr=0.001, momentum=0.9, weight_decay=0.0005): \n",
    "\n",
    "    optimizer = optim.SGD(net.parameters(), lr=lr, momentum=momentum)\n",
    "    criterion = nn.CrossEntropyLoss()\n",
    "\n",
    "    net.to(cuda)\n",
    "    \n",
    "    for epoch in range(epochs):  # loop over the dataset multiple times\n",
    "        running_loss = 0.0\n",
    "\n",
    "        net.train()\n",
    "        for X, y in train_loader:\n",
    "            X, y = X.to(cuda), y.to(cuda)\n",
    "\n",
    "            # zero the parameter gradients\n",
    "            optimizer.zero_grad(set_to_none=True)\n",
    "\n",
    "            # forward + backward + optimize\n",
    "            outputs = net(X)\n",
    "            loss = criterion(outputs, y)\n",
    "            loss.backward()\n",
    "            optimizer.step()\n",
    "\n",
    "            running_loss += loss.item()\n",
    "        \n",
    "        print(f'Epoch: {epoch + 1}, loss: {running_loss / len(train_loader.dataset):.6f}')\n",
    "\n",
    "    print('Finished Training')\n",
    "    total, correct = test(net, train_loader)\n",
    "    print(f'Train accuracy: {(correct/total)*100}%')"
   ]
  },
  {
   "cell_type": "markdown",
   "metadata": {},
   "source": [
    "The function below will be used to calculate the neural network's test accuracy."
   ]
  },
  {
   "cell_type": "code",
   "execution_count": 7,
   "metadata": {
    "id": "mhWEqG-1IaN-"
   },
   "outputs": [],
   "source": [
    "def test(net, test_loader):\n",
    "    \n",
    "    total = 0\n",
    "    correct = 0\n",
    "\n",
    "    for X, y in test_loader:\n",
    "        net.eval()\n",
    "        X, y = X.to(cuda), y.to(cuda)\n",
    "\n",
    "        y_hat = net(X).argmax(axis=1)\n",
    "        total += X.shape[0]\n",
    "        correct += (y_hat == y).sum()\n",
    "\n",
    "    return total, correct\n",
    "  "
   ]
  },
  {
   "cell_type": "markdown",
   "metadata": {},
   "source": [
    "## Batch Normalization"
   ]
  },
  {
   "cell_type": "markdown",
   "metadata": {},
   "source": [
    "Batch normalization is a method used to help speed up convergence of a neural network. This method works by normalizing the inputs of a layer and applying a scale coefficient and a scale offset. \n",
    "\n",
    "Formally, batch normalization is formulated as:\n",
    "$$\n",
    "BN(X)=\\gamma \\odot \\frac{x-\\hat{\\mu}_{\\mathcal{B}}}{\\hat{\\sigma}_{\\mathcal{B}}}  + \\beta\n",
    "$$\n",
    "where:\n",
    "1. $x\\in \\mathcal{B}$\n",
    "2. $\\mathcal{B}$ is a minibatch\n",
    "3. $\\hat{\\mu}_{\\mathcal{B}}$ is the sample mean\n",
    "4. $\\hat{\\sigma}_{\\mathcal{B}}$ is the sample variancle\n",
    "5. $\\gamma$ is the scale parameter\n",
    "6. $\\beta$ is the shift parameter\n",
    "\n",
    "and\n",
    "$$\\hat{\\mu}_{\\mathcal{B}}=\\frac{1}{|\\mathcal{B}|}\\sum_{x\\in \\mathcal{B}}{x},$$\n",
    "$$\\hat{\\sigma}_{\\mathcal{B}}=\\frac{1}{|\\mathcal{B}|}\\sum_{x\\in \\mathcal{B}}{(x-\\hat{\\mu}_{\\mathcal{B}})^2 + \\epsilon}.$$\n",
    "\n",
    "\\* Epsilon is a small constant $\\epsilon > 0$ that ensures that division by zero does not occur."
   ]
  },
  {
   "cell_type": "markdown",
   "metadata": {},
   "source": [
    "Batch normalization is usually applied to a CNN after a convolution and before the nonlinear activation function. \n",
    "\n",
    "\n",
    "During training, batch normalization uses the sample mean and sample variance of a batch, meanwhile, during testing it uses a the mean and variance of the testing data."
   ]
  },
  {
   "cell_type": "markdown",
   "metadata": {},
   "source": [
    "Below I attempt to implement batch normalization to the LeNet model I created last week. In the following two cells are implementations of the ScaledTanh activation function and the RBF layer seen in LeCun's paper."
   ]
  },
  {
   "cell_type": "code",
   "execution_count": 8,
   "metadata": {
    "id": "Fmy8UkkpIdSc"
   },
   "outputs": [],
   "source": [
    "class ScaledTanh(nn.Module):\n",
    "    def __init__(self, amplitude=1.7159, slope=2/3): # Amplitude and slope are defined in LeCun's paper (check Appendix A)\n",
    "        super().__init__()\n",
    "        self.amplitude = amplitude\n",
    "        self.slope = slope\n",
    "\n",
    "    def forward(self, x):\n",
    "        return self.amplitude * torch.tanh(self.slope * x)"
   ]
  },
  {
   "cell_type": "code",
   "execution_count": 9,
   "metadata": {
    "id": "zW_Ptl7fIeVd"
   },
   "outputs": [],
   "source": [
    "class RBF(nn.Module):\n",
    "    def __init__(self, input_features, output_features):\n",
    "        super().__init__()\n",
    "        self.input_features = input_features\n",
    "        self.output_features = output_features\n",
    "        self.weight = nn.Parameter(torch.Tensor(output_features, input_features))\n",
    "        nn.init.uniform_(self.weight, -1, 1)\n",
    "\n",
    "    def forward(self, x):\n",
    "        dif = x[:, None, :] - self.weight # (m, 1, input_features) - (output_features, input_features)\n",
    "        out = torch.sum(torch.pow(dif, 2), axis=2)\n",
    "        return out"
   ]
  },
  {
   "cell_type": "markdown",
   "metadata": {},
   "source": [
    "Below, you can see batch nomalization being applied after a convolution and before the activation function (for the convolutional layers), and before the activation function (for the fully connected layers)."
   ]
  },
  {
   "cell_type": "code",
   "execution_count": 10,
   "metadata": {
    "id": "bICgDahFIfRa"
   },
   "outputs": [],
   "source": [
    "lenet = nn.Sequential(\n",
    "    nn.Conv2d(1, 6, kernel_size=5, padding=2), nn.BatchNorm2d(6), ScaledTanh(),\n",
    "    nn.AvgPool2d(kernel_size=2),\n",
    "    nn.Conv2d(6, 16, kernel_size=5), nn.BatchNorm2d(16), ScaledTanh(),\n",
    "    nn.AvgPool2d(kernel_size=2),\n",
    "    nn.Flatten(),\n",
    "    nn.Linear(16 * 5 * 5, 120), nn.BatchNorm1d(120), ScaledTanh(),\n",
    "    nn.Linear(120, 84), nn.BatchNorm1d(84), ScaledTanh(), \n",
    "    RBF(84, 10),\n",
    ")"
   ]
  },
  {
   "cell_type": "markdown",
   "metadata": {},
   "source": [
    "I will train LeNet with a learning rate of 0.003 and a total of 10 epochs."
   ]
  },
  {
   "cell_type": "code",
   "execution_count": 11,
   "metadata": {
    "colab": {
     "base_uri": "https://localhost:8080/"
    },
    "id": "Oabw3ihtIgVK",
    "outputId": "e14bc639-bf6a-4ca4-9676-7d4ecdd75b89"
   },
   "outputs": [
    {
     "name": "stdout",
     "output_type": "stream",
     "text": [
      "Epoch: 1, loss: 0.001305\n",
      "Epoch: 2, loss: 0.000292\n",
      "Epoch: 3, loss: 0.000205\n",
      "Epoch: 4, loss: 0.000162\n",
      "Epoch: 5, loss: 0.000138\n",
      "Epoch: 6, loss: 0.000124\n",
      "Epoch: 7, loss: 0.000108\n",
      "Epoch: 8, loss: 0.000098\n",
      "Epoch: 9, loss: 0.000089\n",
      "Epoch: 10, loss: 0.000081\n",
      "Finished Training\n",
      "Train accuracy: 98.77166748046875%\n"
     ]
    }
   ],
   "source": [
    "train(lenet, train_loader, lr=0.003, epochs=10) "
   ]
  },
  {
   "cell_type": "code",
   "execution_count": 12,
   "metadata": {
    "id": "5Xwn_C3TIhtC"
   },
   "outputs": [],
   "source": [
    "total, correct = test(lenet, test_loader)  "
   ]
  },
  {
   "cell_type": "code",
   "execution_count": 13,
   "metadata": {
    "colab": {
     "base_uri": "https://localhost:8080/"
    },
    "id": "p5RpZeyjIizW",
    "outputId": "45abd9a6-15d4-484f-a9cb-dddec6b74a99"
   },
   "outputs": [
    {
     "name": "stdout",
     "output_type": "stream",
     "text": [
      "Test Accuracy: 98.25999450683594% (9826/10000)\n"
     ]
    }
   ],
   "source": [
    "print(f\"Test Accuracy: {(correct/total)*100}% ({correct}/{total})\")"
   ]
  },
  {
   "cell_type": "markdown",
   "metadata": {},
   "source": [
    "As you can see, the trained LeNet model has a test accuracy of 98.26%. This shows that batch normalization helps the model converge faster (10 epochs compared to 20 epochs in the previous implementation)."
   ]
  },
  {
   "cell_type": "markdown",
   "metadata": {},
   "source": [
    "## Visualizing Predictions\n"
   ]
  },
  {
   "cell_type": "markdown",
   "metadata": {},
   "source": [
    "Below are five visual representations of LeNet's predictions."
   ]
  },
  {
   "cell_type": "code",
   "execution_count": 14,
   "metadata": {
    "id": "_zYFZM4DIj3-"
   },
   "outputs": [],
   "source": [
    "def viz_results(net, dataset, num_samples=5):\n",
    "    net.cpu()\n",
    "    for i, (x, y) in enumerate(iter(dataset), 1):\n",
    "        if i <= num_samples:\n",
    "            \n",
    "            x, y = x, y\n",
    "            x = x.reshape(1, 1, x.shape[1], x.shape[2])\n",
    "\n",
    "            y_hat = net(x).argmax()\n",
    "\n",
    "            plt.imshow(x.reshape(x.shape[1], x.shape[2], -1).squeeze())\n",
    "            plt.title(f'{i}. Actual: {y}; Predicted: {y_hat}')\n",
    "            plt.show()\n",
    "        else:\n",
    "            break"
   ]
  },
  {
   "cell_type": "code",
   "execution_count": 15,
   "metadata": {
    "colab": {
     "base_uri": "https://localhost:8080/",
     "height": 1000
    },
    "id": "m4HZZCO8IlQX",
    "outputId": "0a07976a-6b92-41b7-e601-8dd76ec9858b"
   },
   "outputs": [
    {
     "data": {
      "image/png": "[encoded data removed]",
      "text/plain": [
       "<Figure size 432x288 with 1 Axes>"
      ]
     },
     "metadata": {
      "needs_background": "light"
     },
     "output_type": "display_data"
    },
    {
     "data": {
      "image/png": "[encoded data removed]",
      "text/plain": [
       "<Figure size 432x288 with 1 Axes>"
      ]
     },
     "metadata": {
      "needs_background": "light"
     },
     "output_type": "display_data"
    },
    {
     "data": {
      "image/png": "[encoded data removed]",
      "text/plain": [
       "<Figure size 432x288 with 1 Axes>"
      ]
     },
     "metadata": {
      "needs_background": "light"
     },
     "output_type": "display_data"
    },
    {
     "data": {
      "image/png": "[encoded data removed]",
      "text/plain": [
       "<Figure size 432x288 with 1 Axes>"
      ]
     },
     "metadata": {
      "needs_background": "light"
     },
     "output_type": "display_data"
    },
    {
     "data": {
      "image/png": "[encoded data removed]",
      "text/plain": [
       "<Figure size 432x288 with 1 Axes>"
      ]
     },
     "metadata": {
      "needs_background": "light"
     },
     "output_type": "display_data"
    }
   ],
   "source": [
    "viz_results(lenet, test_data)"
   ]
  }
 ],
 "metadata": {
  "accelerator": "GPU",
  "colab": {
   "name": "Untitled4.ipynb",
   "provenance": []
  },
  "kernelspec": {
   "display_name": "Python 3",
   "language": "python",
   "name": "python3"
  },
  "language_info": {
   "codemirror_mode": {
    "name": "ipython",
    "version": 3
   },
   "file_extension": ".py",
   "mimetype": "text/x-python",
   "name": "python",
   "nbconvert_exporter": "python",
   "pygments_lexer": "ipython3",
   "version": "3.9.12"
  }
 },
 "nbformat": 4,
 "nbformat_minor": 4
}
