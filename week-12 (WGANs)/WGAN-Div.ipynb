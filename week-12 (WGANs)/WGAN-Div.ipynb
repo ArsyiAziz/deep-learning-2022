{
  "nbformat": 4,
  "nbformat_minor": 0,
  "metadata": {
    "colab": {
      "name": "Untitled5.ipynb",
      "provenance": [],
      "collapsed_sections": []
    },
    "kernelspec": {
      "name": "python3",
      "display_name": "Python 3"
    },
    "language_info": {
      "name": "python"
    },
    "accelerator": "GPU"
  },
  "cells": [
    {
      "cell_type": "markdown",
      "source": [
        "# WGAN Divergence (WGAN-Div)\n",
        "*This notebook was run by Arsyi Syarief Aziz (H071191003) for the Introduction to Deep Learning course (Unhas) taught by Dr. Risman Adnan.*\n",
        "\n",
        "-------\n",
        "This notebook is adapted from the UI-SRIN Introduction to GANs github repository (https://github.com/DSC-UI-SRIN/Introduction-to-GAN/blob/master/2%20-%20Wasserstein%20GANs/WGAN.ipynb)."
      ],
      "metadata": {
        "id": "8ba2kZgeaaGX"
      }
    },
    {
      "cell_type": "markdown",
      "source": [
        "## Introduction\n",
        "In this notebook I will implement the Wassertein GAN (WGAN) algorithm with Wasserstein divergence (W-div) to generate synthetic images that resemble images in the CIFAR10 dataset. \n",
        "\n",
        "This algorithm works by approximating W-div through optimization."
      ],
      "metadata": {
        "id": "Xl7m9iVcayuI"
      }
    },
    {
      "cell_type": "markdown",
      "source": [
        "## 1. Importing Libraries and Configuring the Environment"
      ],
      "metadata": {
        "id": "oJqiPtFQa8oo"
      }
    },
    {
      "cell_type": "code",
      "execution_count": 1,
      "metadata": {
        "colab": {
          "base_uri": "https://localhost:8080/"
        },
        "id": "2iy95VOnaYWk",
        "outputId": "17ffa8fd-52c5-43fa-db2a-e96da765a3b8"
      },
      "outputs": [
        {
          "output_type": "stream",
          "name": "stdout",
          "text": [
            "Drive already mounted at /content/drive; to attempt to forcibly remount, call drive.mount(\"/content/drive\", force_remount=True).\n"
          ]
        }
      ],
      "source": [
        "from google.colab import drive\n",
        "drive.mount('/content/drive')"
      ]
    },
    {
      "cell_type": "code",
      "source": [
        "import torch\n",
        "import torch.nn as nn\n",
        "import torch.nn.functional as F\n",
        "import torch.optim as optim\n",
        "from torchvision import datasets, transforms\n",
        "import torch.autograd as autograd\n",
        "from torch.autograd import Variable\n",
        "from torchvision.utils import save_image\n",
        "import numpy as np\n",
        "import os\n",
        "\n",
        "# Device configuration\n",
        "device = torch.device('cuda' if torch.cuda.is_available() else 'cpu')\n",
        "ROOT = \"/content/drive/My Drive/Colab Notebooks/WGANs/WGAN-Div\"\n",
        "sample_dir = os.path.join(ROOT, 'sample')\n",
        "# Make dir if no exist\n",
        "if not os.path.exists(sample_dir):\n",
        "    os.makedirs(sample_dir)"
      ],
      "metadata": {
        "id": "Dm8y5t_KbBBB"
      },
      "execution_count": 2,
      "outputs": []
    },
    {
      "cell_type": "markdown",
      "source": [
        "## 2. Dataset"
      ],
      "metadata": {
        "id": "v3LRgE80bJJV"
      }
    },
    {
      "cell_type": "markdown",
      "source": [
        "### 2.1 Importing the dataset"
      ],
      "metadata": {
        "id": "-KSyf-u1bYCQ"
      }
    },
    {
      "cell_type": "code",
      "source": [
        "batch_size = 100\n",
        "\n",
        "# FashionMNIST Dataset\n",
        "transform = transforms.Compose([\n",
        "    transforms.ToTensor()])\n",
        "\n",
        "train_dataset = datasets.FashionMNIST(root='./FashionMNNIST/', train=True, transform=transform, download=True)\n",
        "\n",
        "# Data Loader (Input Pipeline)\n",
        "train_loader = torch.utils.data.DataLoader(dataset=train_dataset, batch_size=batch_size, shuffle=True)\n",
        "\n",
        "examples = enumerate(train_loader)\n",
        "batch_idx, (example_data, example_targets) = next(examples)\n"
      ],
      "metadata": {
        "id": "wYc_yMC8bLUK"
      },
      "execution_count": 3,
      "outputs": []
    },
    {
      "cell_type": "code",
      "source": [
        "example_data.shape"
      ],
      "metadata": {
        "colab": {
          "base_uri": "https://localhost:8080/"
        },
        "id": "PikX2hu3icGA",
        "outputId": "94338a14-05da-4536-ebae-4b66a0115904"
      },
      "execution_count": 4,
      "outputs": [
        {
          "output_type": "execute_result",
          "data": {
            "text/plain": [
              "torch.Size([100, 1, 28, 28])"
            ]
          },
          "metadata": {},
          "execution_count": 4
        }
      ]
    },
    {
      "cell_type": "code",
      "source": [
        "LABELS = ['T-shirt/top',\n",
        "'Trouser',\n",
        "'Pullover',\n",
        "'Dress',\n",
        "'Coat',\n",
        "'Sandal',\n",
        "'Shirt',\n",
        "'Sneaker',\n",
        "'Bag',\n",
        "'Ankle boot'\n",
        "]"
      ],
      "metadata": {
        "id": "HC-tYtFagbA3"
      },
      "execution_count": 5,
      "outputs": []
    },
    {
      "cell_type": "markdown",
      "source": [
        "### 2.2 Previewing the dataset"
      ],
      "metadata": {
        "id": "sXf7jv4BbOu8"
      }
    },
    {
      "cell_type": "code",
      "source": [
        "## Print example\n",
        "import matplotlib.pyplot as plt\n",
        "\n",
        "fig = plt.figure()\n",
        "for i in range(6):\n",
        "  plt.subplot(3,2,i+1)\n",
        "  plt.tight_layout()\n",
        "  plt.imshow(example_data[i][0], cmap='gray', interpolation='none')\n",
        "  plt.title(\"Ground Truth: {}\".format(LABELS[example_targets[i]]))\n",
        "  plt.xticks([])\n",
        "  plt.yticks([])\n",
        "fig"
      ],
      "metadata": {
        "colab": {
          "base_uri": "https://localhost:8080/",
          "height": 551
        },
        "id": "AL5EEydTbdXi",
        "outputId": "496429a7-048e-4e95-c69e-d3c1c4882d04"
      },
      "execution_count": 6,
      "outputs": [
        {
          "output_type": "execute_result",
          "data": {
            "text/plain": [
              "<Figure size 432x288 with 6 Axes>"
            ],
            "image/png": "[encoded data removed]"
          },
          "metadata": {},
          "execution_count": 6
        },
        {
          "output_type": "display_data",
          "data": {
            "text/plain": [
              "<Figure size 432x288 with 6 Axes>"
            ],
            "image/png": "[encoded data removed]"
          },
          "metadata": {}
        }
      ]
    },
    {
      "cell_type": "markdown",
      "source": [
        "## 3. Building the models"
      ],
      "metadata": {
        "id": "pU6RhxpJbe8Q"
      }
    },
    {
      "cell_type": "markdown",
      "source": [
        "### 3.1 The Generator"
      ],
      "metadata": {
        "id": "_5E5JYXRbim8"
      }
    },
    {
      "cell_type": "code",
      "source": [
        "class Generator(nn.Module):\n",
        "    def __init__(self, g_input_dim, g_output_dim):\n",
        "        super(Generator, self).__init__()\n",
        "\n",
        "        def block(in_feat, out_feat, normalize=True):\n",
        "            layers = [nn.Linear(in_feat, out_feat)]\n",
        "            if normalize:\n",
        "                layers.append(nn.BatchNorm1d(out_feat, 0.8))\n",
        "            layers.append(nn.LeakyReLU(0.2, inplace=True))\n",
        "            return layers\n",
        "\n",
        "        self.model = nn.Sequential(\n",
        "            *block(g_input_dim, 128, normalize=False),\n",
        "            *block(128, 256),\n",
        "            *block(256, 512),\n",
        "            *block(512, 1024),\n",
        "            nn.Linear(1024, g_output_dim), \n",
        "            nn.Tanh())\n",
        "\n",
        "    def forward(self, z):\n",
        "        image = self.model(z)\n",
        "        image = image.view(image.size(0), -1)\n",
        "        return image"
      ],
      "metadata": {
        "id": "36uyuy6VbsT5"
      },
      "execution_count": 7,
      "outputs": []
    },
    {
      "cell_type": "markdown",
      "source": [
        "### 3.2 The Discriminator"
      ],
      "metadata": {
        "id": "zEUaQwp-bmO-"
      }
    },
    {
      "cell_type": "code",
      "source": [
        "class Discriminator(nn.Module):\n",
        "    def __init__(self, d_input_dim):\n",
        "        super(Discriminator, self).__init__()\n",
        "\n",
        "        self.model = nn.Sequential(\n",
        "            nn.Linear(d_input_dim, 512),\n",
        "            nn.LeakyReLU(0.2, inplace=True),\n",
        "            nn.Linear(512, 256),\n",
        "            nn.LeakyReLU(0.2, inplace=True),\n",
        "            nn.Linear(256, 1),\n",
        "            nn.Sigmoid(),\n",
        "        )\n",
        "\n",
        "    def forward(self, image):\n",
        "        img_flat = image.view(image.size(0), -1)\n",
        "        validity = self.model(img_flat)\n",
        "        return validity"
      ],
      "metadata": {
        "id": "XBAGcfZxbhx6"
      },
      "execution_count": 8,
      "outputs": []
    },
    {
      "cell_type": "markdown",
      "source": [
        "## 4. Building the Network"
      ],
      "metadata": {
        "id": "CMlERADTbuq_"
      }
    },
    {
      "cell_type": "code",
      "source": [
        "# build network\n",
        "z_dim = 100\n",
        "cfar10_dim = train_dataset.data.shape[1] * train_dataset.data.shape[2] \n",
        "G = Generator(g_input_dim = z_dim, g_output_dim = cfar10_dim).to(device)\n",
        "D = Discriminator(cfar10_dim).to(device)"
      ],
      "metadata": {
        "id": "766I3Wumbwzg"
      },
      "execution_count": 9,
      "outputs": []
    },
    {
      "cell_type": "code",
      "source": [
        "print(G, D)"
      ],
      "metadata": {
        "colab": {
          "base_uri": "https://localhost:8080/"
        },
        "id": "FcFycHr6b0Nk",
        "outputId": "08ea721c-f14b-46b7-e6a1-ca2d1305091c"
      },
      "execution_count": 10,
      "outputs": [
        {
          "output_type": "stream",
          "name": "stdout",
          "text": [
            "Generator(\n",
            "  (model): Sequential(\n",
            "    (0): Linear(in_features=100, out_features=128, bias=True)\n",
            "    (1): LeakyReLU(negative_slope=0.2, inplace=True)\n",
            "    (2): Linear(in_features=128, out_features=256, bias=True)\n",
            "    (3): BatchNorm1d(256, eps=0.8, momentum=0.1, affine=True, track_running_stats=True)\n",
            "    (4): LeakyReLU(negative_slope=0.2, inplace=True)\n",
            "    (5): Linear(in_features=256, out_features=512, bias=True)\n",
            "    (6): BatchNorm1d(512, eps=0.8, momentum=0.1, affine=True, track_running_stats=True)\n",
            "    (7): LeakyReLU(negative_slope=0.2, inplace=True)\n",
            "    (8): Linear(in_features=512, out_features=1024, bias=True)\n",
            "    (9): BatchNorm1d(1024, eps=0.8, momentum=0.1, affine=True, track_running_stats=True)\n",
            "    (10): LeakyReLU(negative_slope=0.2, inplace=True)\n",
            "    (11): Linear(in_features=1024, out_features=784, bias=True)\n",
            "    (12): Tanh()\n",
            "  )\n",
            ") Discriminator(\n",
            "  (model): Sequential(\n",
            "    (0): Linear(in_features=784, out_features=512, bias=True)\n",
            "    (1): LeakyReLU(negative_slope=0.2, inplace=True)\n",
            "    (2): Linear(in_features=512, out_features=256, bias=True)\n",
            "    (3): LeakyReLU(negative_slope=0.2, inplace=True)\n",
            "    (4): Linear(in_features=256, out_features=1, bias=True)\n",
            "    (5): Sigmoid()\n",
            "  )\n",
            ")\n"
          ]
        }
      ]
    },
    {
      "cell_type": "markdown",
      "source": [
        "## 6. Training the Model"
      ],
      "metadata": {
        "id": "MbTwad_zb3JD"
      }
    },
    {
      "cell_type": "code",
      "source": [
        "k = 2\n",
        "p = 6\n",
        "\n",
        "# optimizer\n",
        "lr = 0.0002\n",
        "n_critic =  3\n",
        "b1 = 0.5\n",
        "b2 = 0.999\n",
        "\n",
        "optimizer_G = torch.optim.Adam(G.parameters(), lr=lr, betas=(b1, b2))\n",
        "optimizer_D = torch.optim.Adam(D.parameters(), lr=lr, betas=(b1, b2))"
      ],
      "metadata": {
        "id": "WERy3ky6b5FA"
      },
      "execution_count": 11,
      "outputs": []
    },
    {
      "cell_type": "code",
      "source": [
        "Tensor = torch.cuda.FloatTensor if torch.cuda.is_available() else torch.FloatTensor\n",
        "epochs = 200\n",
        "list_loss_D = []\n",
        "list_loss_G = []\n",
        "for epoch in range(epochs):\n",
        "\n",
        "    for i, (imgs, _) in enumerate(train_loader):\n",
        "\n",
        "        # Configure input\n",
        "        real_imgs = Variable(imgs.type(Tensor), requires_grad=True)\n",
        "\n",
        "        # ---------------------\n",
        "        #  Train Discriminator\n",
        "        # ---------------------\n",
        "\n",
        "        optimizer_D.zero_grad()\n",
        "\n",
        "        # Sample noise as generator input\n",
        "        z = Variable(Tensor(np.random.normal(0, 1, (imgs.shape[0], z_dim))))\n",
        "\n",
        "        # Generate a batch of images\n",
        "        fake_imgs = G(z)\n",
        "\n",
        "        # Real images\n",
        "        real_validity = D(real_imgs)\n",
        "\n",
        "        # Fake images\n",
        "        fake_validity = D(fake_imgs)\n",
        "\n",
        "        # Compute W-div gradient penalty\n",
        "        real_grad_out = Variable(Tensor(real_imgs.size(0), 1).fill_(1.0), requires_grad=False)\n",
        "        real_grad = autograd.grad(\n",
        "            real_validity, real_imgs, real_grad_out, create_graph=True, retain_graph=True, only_inputs=True\n",
        "        )[0]\n",
        "        real_grad_norm = real_grad.view(real_grad.size(0), -1).pow(2).sum(1) ** (p / 2)\n",
        "\n",
        "        fake_grad_out = Variable(Tensor(fake_imgs.size(0), 1).fill_(1.0), requires_grad=False)\n",
        "        fake_grad = autograd.grad(\n",
        "            fake_validity, fake_imgs, fake_grad_out, create_graph=True, retain_graph=True, only_inputs=True\n",
        "        )[0]\n",
        "        fake_grad_norm = fake_grad.view(fake_grad.size(0), -1).pow(2).sum(1) ** (p / 2)\n",
        "\n",
        "        div_gp = torch.mean(real_grad_norm + fake_grad_norm) * k / 2\n",
        "\n",
        "        # Adversarial loss\n",
        "        d_loss = -torch.mean(real_validity) + torch.mean(fake_validity) + div_gp\n",
        "\n",
        "        d_loss.backward()\n",
        "        optimizer_D.step()\n",
        "\n",
        "        optimizer_G.zero_grad()\n",
        "\n",
        "        # -----------------\n",
        "        #  Train Generator\n",
        "        # -----------------\n",
        "        if i % n_critic == 0:\n",
        "\n",
        "            # Generate a batch of images\n",
        "            gen_imgs = G(z)\n",
        "            # Adversarial loss\n",
        "            g_loss = -torch.mean(D(gen_imgs))\n",
        "\n",
        "            g_loss.backward()\n",
        "            optimizer_G.step()\n",
        "\n",
        "            list_loss_D.append(d_loss.item())\n",
        "            list_loss_G.append(g_loss.item())\n",
        "        if i % 300 == 0:\n",
        "            print(\n",
        "              \"[Epoch %d/%d] [Batch %d/%d] [D loss: %f] [G loss: %f]\"\n",
        "              % (epoch, epochs, i, len(train_loader), d_loss.item(), g_loss.item()))\n",
        "\n",
        "    if epoch % 5 == 0:\n",
        "        save_image(gen_imgs.view(gen_imgs.size(0), 1, 28, 28), os.path.join(sample_dir, \"%d.png\" % epoch), nrow=5, normalize=True)\n",
        "\n",
        "torch.save(G, os.path.join(ROOT,'G.pt'))\n",
        "torch.save(D, os.path.join(ROOT,'D.pt'))"
      ],
      "metadata": {
        "colab": {
          "base_uri": "https://localhost:8080/"
        },
        "id": "3TLWFSVZb7L7",
        "outputId": "8f361d46-282f-4410-cf95-06f2d02e089b"
      },
      "execution_count": 12,
      "outputs": [
        {
          "output_type": "stream",
          "name": "stdout",
          "text": [
            "[Epoch 0/200] [Batch 0/600] [D loss: -0.012244] [G loss: -0.482533]\n",
            "[Epoch 0/200] [Batch 300/600] [D loss: 0.001807] [G loss: -0.999594]\n",
            "[Epoch 1/200] [Batch 0/600] [D loss: 0.000346] [G loss: -0.999994]\n",
            "[Epoch 1/200] [Batch 300/600] [D loss: 0.000116] [G loss: -1.000000]\n",
            "[Epoch 2/200] [Batch 0/600] [D loss: 0.000012] [G loss: -1.000000]\n",
            "[Epoch 2/200] [Batch 300/600] [D loss: 0.000005] [G loss: -1.000000]\n",
            "[Epoch 3/200] [Batch 0/600] [D loss: 0.000006] [G loss: -1.000000]\n",
            "[Epoch 3/200] [Batch 300/600] [D loss: 0.000003] [G loss: -1.000000]\n",
            "[Epoch 4/200] [Batch 0/600] [D loss: 0.000005] [G loss: -1.000000]\n",
            "[Epoch 4/200] [Batch 300/600] [D loss: 0.000000] [G loss: -1.000000]\n",
            "[Epoch 5/200] [Batch 0/600] [D loss: 0.000011] [G loss: -1.000000]\n",
            "[Epoch 5/200] [Batch 300/600] [D loss: 0.000001] [G loss: -1.000000]\n",
            "[Epoch 6/200] [Batch 0/600] [D loss: 0.000025] [G loss: -1.000000]\n",
            "[Epoch 6/200] [Batch 300/600] [D loss: 0.000001] [G loss: -1.000000]\n",
            "[Epoch 7/200] [Batch 0/600] [D loss: 0.000002] [G loss: -1.000000]\n",
            "[Epoch 7/200] [Batch 300/600] [D loss: 0.000000] [G loss: -1.000000]\n",
            "[Epoch 8/200] [Batch 0/600] [D loss: 0.000001] [G loss: -1.000000]\n",
            "[Epoch 8/200] [Batch 300/600] [D loss: 0.000000] [G loss: -1.000000]\n",
            "[Epoch 9/200] [Batch 0/600] [D loss: 0.000004] [G loss: -1.000000]\n",
            "[Epoch 9/200] [Batch 300/600] [D loss: 0.000000] [G loss: -1.000000]\n",
            "[Epoch 10/200] [Batch 0/600] [D loss: 0.000000] [G loss: -1.000000]\n",
            "[Epoch 10/200] [Batch 300/600] [D loss: 0.000001] [G loss: -1.000000]\n",
            "[Epoch 11/200] [Batch 0/600] [D loss: 0.000000] [G loss: -1.000000]\n",
            "[Epoch 11/200] [Batch 300/600] [D loss: 0.000002] [G loss: -1.000000]\n",
            "[Epoch 12/200] [Batch 0/600] [D loss: 0.000000] [G loss: -1.000000]\n",
            "[Epoch 12/200] [Batch 300/600] [D loss: 0.000032] [G loss: -1.000000]\n",
            "[Epoch 13/200] [Batch 0/600] [D loss: 0.000000] [G loss: -1.000000]\n",
            "[Epoch 13/200] [Batch 300/600] [D loss: 0.000000] [G loss: -1.000000]\n",
            "[Epoch 14/200] [Batch 0/600] [D loss: 0.000000] [G loss: -1.000000]\n",
            "[Epoch 14/200] [Batch 300/600] [D loss: 0.000000] [G loss: -1.000000]\n",
            "[Epoch 15/200] [Batch 0/600] [D loss: 0.000000] [G loss: -1.000000]\n",
            "[Epoch 15/200] [Batch 300/600] [D loss: 0.000000] [G loss: -1.000000]\n",
            "[Epoch 16/200] [Batch 0/600] [D loss: 0.000000] [G loss: -1.000000]\n",
            "[Epoch 16/200] [Batch 300/600] [D loss: 0.000000] [G loss: -1.000000]\n",
            "[Epoch 17/200] [Batch 0/600] [D loss: 0.000000] [G loss: -1.000000]\n",
            "[Epoch 17/200] [Batch 300/600] [D loss: 0.000000] [G loss: -1.000000]\n",
            "[Epoch 18/200] [Batch 0/600] [D loss: 0.000000] [G loss: -1.000000]\n",
            "[Epoch 18/200] [Batch 300/600] [D loss: 0.000000] [G loss: -1.000000]\n",
            "[Epoch 19/200] [Batch 0/600] [D loss: 0.000000] [G loss: -1.000000]\n",
            "[Epoch 19/200] [Batch 300/600] [D loss: 0.000000] [G loss: -1.000000]\n",
            "[Epoch 20/200] [Batch 0/600] [D loss: 0.000000] [G loss: -1.000000]\n",
            "[Epoch 20/200] [Batch 300/600] [D loss: 0.000000] [G loss: -1.000000]\n",
            "[Epoch 21/200] [Batch 0/600] [D loss: 0.000000] [G loss: -1.000000]\n",
            "[Epoch 21/200] [Batch 300/600] [D loss: 0.000000] [G loss: -1.000000]\n",
            "[Epoch 22/200] [Batch 0/600] [D loss: 0.000000] [G loss: -1.000000]\n",
            "[Epoch 22/200] [Batch 300/600] [D loss: 0.000000] [G loss: -1.000000]\n",
            "[Epoch 23/200] [Batch 0/600] [D loss: 0.000000] [G loss: -1.000000]\n",
            "[Epoch 23/200] [Batch 300/600] [D loss: 0.000000] [G loss: -1.000000]\n",
            "[Epoch 24/200] [Batch 0/600] [D loss: 0.000000] [G loss: -1.000000]\n",
            "[Epoch 24/200] [Batch 300/600] [D loss: 0.000000] [G loss: -1.000000]\n",
            "[Epoch 25/200] [Batch 0/600] [D loss: 0.000000] [G loss: -1.000000]\n",
            "[Epoch 25/200] [Batch 300/600] [D loss: 0.000000] [G loss: -1.000000]\n",
            "[Epoch 26/200] [Batch 0/600] [D loss: 0.000000] [G loss: -1.000000]\n",
            "[Epoch 26/200] [Batch 300/600] [D loss: 0.000000] [G loss: -1.000000]\n",
            "[Epoch 27/200] [Batch 0/600] [D loss: 0.000000] [G loss: -1.000000]\n",
            "[Epoch 27/200] [Batch 300/600] [D loss: 0.000000] [G loss: -1.000000]\n",
            "[Epoch 28/200] [Batch 0/600] [D loss: 0.000000] [G loss: -1.000000]\n",
            "[Epoch 28/200] [Batch 300/600] [D loss: 0.000000] [G loss: -1.000000]\n",
            "[Epoch 29/200] [Batch 0/600] [D loss: 0.000000] [G loss: -1.000000]\n",
            "[Epoch 29/200] [Batch 300/600] [D loss: 0.000000] [G loss: -1.000000]\n",
            "[Epoch 30/200] [Batch 0/600] [D loss: 0.000000] [G loss: -1.000000]\n",
            "[Epoch 30/200] [Batch 300/600] [D loss: 0.000000] [G loss: -1.000000]\n",
            "[Epoch 31/200] [Batch 0/600] [D loss: 0.000000] [G loss: -1.000000]\n",
            "[Epoch 31/200] [Batch 300/600] [D loss: 0.000000] [G loss: -1.000000]\n",
            "[Epoch 32/200] [Batch 0/600] [D loss: 0.000000] [G loss: -1.000000]\n",
            "[Epoch 32/200] [Batch 300/600] [D loss: 0.000000] [G loss: -1.000000]\n",
            "[Epoch 33/200] [Batch 0/600] [D loss: 0.000000] [G loss: -1.000000]\n",
            "[Epoch 33/200] [Batch 300/600] [D loss: 0.000000] [G loss: -1.000000]\n",
            "[Epoch 34/200] [Batch 0/600] [D loss: 0.000000] [G loss: -1.000000]\n",
            "[Epoch 34/200] [Batch 300/600] [D loss: 0.000000] [G loss: -1.000000]\n",
            "[Epoch 35/200] [Batch 0/600] [D loss: 0.000000] [G loss: -1.000000]\n",
            "[Epoch 35/200] [Batch 300/600] [D loss: 0.000000] [G loss: -1.000000]\n",
            "[Epoch 36/200] [Batch 0/600] [D loss: 0.000000] [G loss: -1.000000]\n",
            "[Epoch 36/200] [Batch 300/600] [D loss: 0.000000] [G loss: -1.000000]\n",
            "[Epoch 37/200] [Batch 0/600] [D loss: 0.000000] [G loss: -1.000000]\n",
            "[Epoch 37/200] [Batch 300/600] [D loss: 0.000000] [G loss: -1.000000]\n",
            "[Epoch 38/200] [Batch 0/600] [D loss: 0.000000] [G loss: -1.000000]\n",
            "[Epoch 38/200] [Batch 300/600] [D loss: 0.000000] [G loss: -1.000000]\n",
            "[Epoch 39/200] [Batch 0/600] [D loss: 0.000000] [G loss: -1.000000]\n",
            "[Epoch 39/200] [Batch 300/600] [D loss: 0.000000] [G loss: -1.000000]\n",
            "[Epoch 40/200] [Batch 0/600] [D loss: 0.000000] [G loss: -1.000000]\n",
            "[Epoch 40/200] [Batch 300/600] [D loss: 0.000000] [G loss: -1.000000]\n",
            "[Epoch 41/200] [Batch 0/600] [D loss: 0.000000] [G loss: -1.000000]\n",
            "[Epoch 41/200] [Batch 300/600] [D loss: 0.000000] [G loss: -1.000000]\n",
            "[Epoch 42/200] [Batch 0/600] [D loss: 0.000000] [G loss: -1.000000]\n",
            "[Epoch 42/200] [Batch 300/600] [D loss: 0.000000] [G loss: -1.000000]\n",
            "[Epoch 43/200] [Batch 0/600] [D loss: 0.000000] [G loss: -1.000000]\n",
            "[Epoch 43/200] [Batch 300/600] [D loss: 0.000000] [G loss: -1.000000]\n",
            "[Epoch 44/200] [Batch 0/600] [D loss: 0.000000] [G loss: -1.000000]\n",
            "[Epoch 44/200] [Batch 300/600] [D loss: 0.000000] [G loss: -1.000000]\n",
            "[Epoch 45/200] [Batch 0/600] [D loss: 0.000000] [G loss: -1.000000]\n",
            "[Epoch 45/200] [Batch 300/600] [D loss: 0.000000] [G loss: -1.000000]\n",
            "[Epoch 46/200] [Batch 0/600] [D loss: 0.000000] [G loss: -1.000000]\n",
            "[Epoch 46/200] [Batch 300/600] [D loss: 0.000000] [G loss: -1.000000]\n",
            "[Epoch 47/200] [Batch 0/600] [D loss: 0.000000] [G loss: -1.000000]\n",
            "[Epoch 47/200] [Batch 300/600] [D loss: 0.000000] [G loss: -1.000000]\n",
            "[Epoch 48/200] [Batch 0/600] [D loss: 0.000000] [G loss: -1.000000]\n",
            "[Epoch 48/200] [Batch 300/600] [D loss: 0.000000] [G loss: -1.000000]\n",
            "[Epoch 49/200] [Batch 0/600] [D loss: 0.000000] [G loss: -1.000000]\n",
            "[Epoch 49/200] [Batch 300/600] [D loss: 0.000000] [G loss: -1.000000]\n",
            "[Epoch 50/200] [Batch 0/600] [D loss: 0.000000] [G loss: -1.000000]\n",
            "[Epoch 50/200] [Batch 300/600] [D loss: 0.000000] [G loss: -1.000000]\n",
            "[Epoch 51/200] [Batch 0/600] [D loss: 0.000000] [G loss: -1.000000]\n",
            "[Epoch 51/200] [Batch 300/600] [D loss: 0.000000] [G loss: -1.000000]\n",
            "[Epoch 52/200] [Batch 0/600] [D loss: 0.000000] [G loss: -1.000000]\n",
            "[Epoch 52/200] [Batch 300/600] [D loss: 0.000000] [G loss: -1.000000]\n",
            "[Epoch 53/200] [Batch 0/600] [D loss: 0.000000] [G loss: -1.000000]\n",
            "[Epoch 53/200] [Batch 300/600] [D loss: 0.000000] [G loss: -1.000000]\n",
            "[Epoch 54/200] [Batch 0/600] [D loss: 0.000000] [G loss: -1.000000]\n",
            "[Epoch 54/200] [Batch 300/600] [D loss: 0.000000] [G loss: -1.000000]\n",
            "[Epoch 55/200] [Batch 0/600] [D loss: 0.000000] [G loss: -1.000000]\n",
            "[Epoch 55/200] [Batch 300/600] [D loss: 0.000000] [G loss: -1.000000]\n",
            "[Epoch 56/200] [Batch 0/600] [D loss: 0.000000] [G loss: -1.000000]\n",
            "[Epoch 56/200] [Batch 300/600] [D loss: 0.000000] [G loss: -1.000000]\n",
            "[Epoch 57/200] [Batch 0/600] [D loss: 0.000000] [G loss: -1.000000]\n",
            "[Epoch 57/200] [Batch 300/600] [D loss: 0.000000] [G loss: -1.000000]\n",
            "[Epoch 58/200] [Batch 0/600] [D loss: 0.000000] [G loss: -1.000000]\n",
            "[Epoch 58/200] [Batch 300/600] [D loss: 0.000000] [G loss: -1.000000]\n",
            "[Epoch 59/200] [Batch 0/600] [D loss: 0.000000] [G loss: -1.000000]\n",
            "[Epoch 59/200] [Batch 300/600] [D loss: 0.000000] [G loss: -1.000000]\n",
            "[Epoch 60/200] [Batch 0/600] [D loss: 0.000000] [G loss: -1.000000]\n",
            "[Epoch 60/200] [Batch 300/600] [D loss: 0.000000] [G loss: -1.000000]\n",
            "[Epoch 61/200] [Batch 0/600] [D loss: 0.000000] [G loss: -1.000000]\n",
            "[Epoch 61/200] [Batch 300/600] [D loss: 0.000000] [G loss: -1.000000]\n",
            "[Epoch 62/200] [Batch 0/600] [D loss: 0.000000] [G loss: -1.000000]\n",
            "[Epoch 62/200] [Batch 300/600] [D loss: 0.000000] [G loss: -1.000000]\n",
            "[Epoch 63/200] [Batch 0/600] [D loss: 0.000000] [G loss: -1.000000]\n",
            "[Epoch 63/200] [Batch 300/600] [D loss: 0.000000] [G loss: -1.000000]\n",
            "[Epoch 64/200] [Batch 0/600] [D loss: 0.000000] [G loss: -1.000000]\n",
            "[Epoch 64/200] [Batch 300/600] [D loss: 0.000000] [G loss: -1.000000]\n",
            "[Epoch 65/200] [Batch 0/600] [D loss: 0.000000] [G loss: -1.000000]\n",
            "[Epoch 65/200] [Batch 300/600] [D loss: 0.000000] [G loss: -1.000000]\n",
            "[Epoch 66/200] [Batch 0/600] [D loss: 0.000000] [G loss: -1.000000]\n",
            "[Epoch 66/200] [Batch 300/600] [D loss: 0.000000] [G loss: -1.000000]\n",
            "[Epoch 67/200] [Batch 0/600] [D loss: 0.000000] [G loss: -1.000000]\n",
            "[Epoch 67/200] [Batch 300/600] [D loss: 0.000000] [G loss: -1.000000]\n",
            "[Epoch 68/200] [Batch 0/600] [D loss: 0.000000] [G loss: -1.000000]\n",
            "[Epoch 68/200] [Batch 300/600] [D loss: 0.000000] [G loss: -1.000000]\n",
            "[Epoch 69/200] [Batch 0/600] [D loss: 0.000000] [G loss: -1.000000]\n",
            "[Epoch 69/200] [Batch 300/600] [D loss: 0.000000] [G loss: -1.000000]\n",
            "[Epoch 70/200] [Batch 0/600] [D loss: 0.000000] [G loss: -1.000000]\n",
            "[Epoch 70/200] [Batch 300/600] [D loss: 0.000000] [G loss: -1.000000]\n",
            "[Epoch 71/200] [Batch 0/600] [D loss: 0.000000] [G loss: -1.000000]\n",
            "[Epoch 71/200] [Batch 300/600] [D loss: 0.000000] [G loss: -1.000000]\n",
            "[Epoch 72/200] [Batch 0/600] [D loss: 0.000000] [G loss: -1.000000]\n",
            "[Epoch 72/200] [Batch 300/600] [D loss: 0.000000] [G loss: -1.000000]\n",
            "[Epoch 73/200] [Batch 0/600] [D loss: 0.000000] [G loss: -1.000000]\n",
            "[Epoch 73/200] [Batch 300/600] [D loss: 0.000000] [G loss: -1.000000]\n",
            "[Epoch 74/200] [Batch 0/600] [D loss: 0.000000] [G loss: -1.000000]\n",
            "[Epoch 74/200] [Batch 300/600] [D loss: 0.000000] [G loss: -1.000000]\n",
            "[Epoch 75/200] [Batch 0/600] [D loss: 0.000000] [G loss: -1.000000]\n",
            "[Epoch 75/200] [Batch 300/600] [D loss: 0.000000] [G loss: -1.000000]\n",
            "[Epoch 76/200] [Batch 0/600] [D loss: 0.000000] [G loss: -1.000000]\n",
            "[Epoch 76/200] [Batch 300/600] [D loss: 0.000000] [G loss: -1.000000]\n",
            "[Epoch 77/200] [Batch 0/600] [D loss: 0.000000] [G loss: -1.000000]\n",
            "[Epoch 77/200] [Batch 300/600] [D loss: 0.000000] [G loss: -1.000000]\n",
            "[Epoch 78/200] [Batch 0/600] [D loss: 0.000000] [G loss: -1.000000]\n",
            "[Epoch 78/200] [Batch 300/600] [D loss: 0.000000] [G loss: -1.000000]\n",
            "[Epoch 79/200] [Batch 0/600] [D loss: 0.000000] [G loss: -1.000000]\n",
            "[Epoch 79/200] [Batch 300/600] [D loss: 0.000000] [G loss: -1.000000]\n",
            "[Epoch 80/200] [Batch 0/600] [D loss: 0.000000] [G loss: -1.000000]\n",
            "[Epoch 80/200] [Batch 300/600] [D loss: 0.000000] [G loss: -1.000000]\n",
            "[Epoch 81/200] [Batch 0/600] [D loss: 0.000000] [G loss: -1.000000]\n",
            "[Epoch 81/200] [Batch 300/600] [D loss: 0.000000] [G loss: -1.000000]\n",
            "[Epoch 82/200] [Batch 0/600] [D loss: 0.000000] [G loss: -1.000000]\n",
            "[Epoch 82/200] [Batch 300/600] [D loss: 0.000000] [G loss: -1.000000]\n",
            "[Epoch 83/200] [Batch 0/600] [D loss: 0.000000] [G loss: -1.000000]\n",
            "[Epoch 83/200] [Batch 300/600] [D loss: 0.000000] [G loss: -1.000000]\n",
            "[Epoch 84/200] [Batch 0/600] [D loss: 0.000000] [G loss: -1.000000]\n",
            "[Epoch 84/200] [Batch 300/600] [D loss: 0.000000] [G loss: -1.000000]\n",
            "[Epoch 85/200] [Batch 0/600] [D loss: 0.000000] [G loss: -1.000000]\n",
            "[Epoch 85/200] [Batch 300/600] [D loss: 0.000000] [G loss: -1.000000]\n",
            "[Epoch 86/200] [Batch 0/600] [D loss: 0.000000] [G loss: -1.000000]\n",
            "[Epoch 86/200] [Batch 300/600] [D loss: 0.000000] [G loss: -1.000000]\n",
            "[Epoch 87/200] [Batch 0/600] [D loss: 0.000000] [G loss: -1.000000]\n",
            "[Epoch 87/200] [Batch 300/600] [D loss: 0.000000] [G loss: -1.000000]\n",
            "[Epoch 88/200] [Batch 0/600] [D loss: 0.000000] [G loss: -1.000000]\n",
            "[Epoch 88/200] [Batch 300/600] [D loss: 0.000000] [G loss: -1.000000]\n",
            "[Epoch 89/200] [Batch 0/600] [D loss: 0.000000] [G loss: -1.000000]\n",
            "[Epoch 89/200] [Batch 300/600] [D loss: 0.000000] [G loss: -1.000000]\n",
            "[Epoch 90/200] [Batch 0/600] [D loss: 0.000000] [G loss: -1.000000]\n",
            "[Epoch 90/200] [Batch 300/600] [D loss: 0.000000] [G loss: -1.000000]\n",
            "[Epoch 91/200] [Batch 0/600] [D loss: 0.000000] [G loss: -1.000000]\n",
            "[Epoch 91/200] [Batch 300/600] [D loss: 0.000000] [G loss: -1.000000]\n",
            "[Epoch 92/200] [Batch 0/600] [D loss: 0.000000] [G loss: -1.000000]\n",
            "[Epoch 92/200] [Batch 300/600] [D loss: 0.000000] [G loss: -1.000000]\n",
            "[Epoch 93/200] [Batch 0/600] [D loss: 0.000000] [G loss: -1.000000]\n",
            "[Epoch 93/200] [Batch 300/600] [D loss: 0.000000] [G loss: -1.000000]\n",
            "[Epoch 94/200] [Batch 0/600] [D loss: 0.000000] [G loss: -1.000000]\n",
            "[Epoch 94/200] [Batch 300/600] [D loss: 0.000000] [G loss: -1.000000]\n",
            "[Epoch 95/200] [Batch 0/600] [D loss: 0.000000] [G loss: -1.000000]\n",
            "[Epoch 95/200] [Batch 300/600] [D loss: 0.000000] [G loss: -1.000000]\n",
            "[Epoch 96/200] [Batch 0/600] [D loss: 0.000000] [G loss: -1.000000]\n",
            "[Epoch 96/200] [Batch 300/600] [D loss: 0.000000] [G loss: -1.000000]\n",
            "[Epoch 97/200] [Batch 0/600] [D loss: 0.000000] [G loss: -1.000000]\n",
            "[Epoch 97/200] [Batch 300/600] [D loss: 0.000000] [G loss: -1.000000]\n",
            "[Epoch 98/200] [Batch 0/600] [D loss: 0.000000] [G loss: -1.000000]\n",
            "[Epoch 98/200] [Batch 300/600] [D loss: 0.000000] [G loss: -1.000000]\n",
            "[Epoch 99/200] [Batch 0/600] [D loss: 0.000000] [G loss: -1.000000]\n",
            "[Epoch 99/200] [Batch 300/600] [D loss: 0.000000] [G loss: -1.000000]\n",
            "[Epoch 100/200] [Batch 0/600] [D loss: 0.000000] [G loss: -1.000000]\n",
            "[Epoch 100/200] [Batch 300/600] [D loss: 0.000000] [G loss: -1.000000]\n",
            "[Epoch 101/200] [Batch 0/600] [D loss: 0.000000] [G loss: -1.000000]\n",
            "[Epoch 101/200] [Batch 300/600] [D loss: 0.000000] [G loss: -1.000000]\n",
            "[Epoch 102/200] [Batch 0/600] [D loss: 0.000000] [G loss: -1.000000]\n",
            "[Epoch 102/200] [Batch 300/600] [D loss: 0.000000] [G loss: -1.000000]\n",
            "[Epoch 103/200] [Batch 0/600] [D loss: 0.000000] [G loss: -1.000000]\n",
            "[Epoch 103/200] [Batch 300/600] [D loss: 0.000000] [G loss: -1.000000]\n",
            "[Epoch 104/200] [Batch 0/600] [D loss: 0.000000] [G loss: -1.000000]\n",
            "[Epoch 104/200] [Batch 300/600] [D loss: 0.000000] [G loss: -1.000000]\n",
            "[Epoch 105/200] [Batch 0/600] [D loss: 0.000000] [G loss: -1.000000]\n",
            "[Epoch 105/200] [Batch 300/600] [D loss: 0.000000] [G loss: -1.000000]\n",
            "[Epoch 106/200] [Batch 0/600] [D loss: 0.000000] [G loss: -1.000000]\n",
            "[Epoch 106/200] [Batch 300/600] [D loss: 0.000000] [G loss: -1.000000]\n",
            "[Epoch 107/200] [Batch 0/600] [D loss: 0.000000] [G loss: -1.000000]\n",
            "[Epoch 107/200] [Batch 300/600] [D loss: 0.000000] [G loss: -1.000000]\n",
            "[Epoch 108/200] [Batch 0/600] [D loss: 0.000000] [G loss: -1.000000]\n",
            "[Epoch 108/200] [Batch 300/600] [D loss: 0.000000] [G loss: -1.000000]\n",
            "[Epoch 109/200] [Batch 0/600] [D loss: 0.000000] [G loss: -1.000000]\n",
            "[Epoch 109/200] [Batch 300/600] [D loss: 0.000000] [G loss: -1.000000]\n",
            "[Epoch 110/200] [Batch 0/600] [D loss: 0.000000] [G loss: -1.000000]\n",
            "[Epoch 110/200] [Batch 300/600] [D loss: 0.000000] [G loss: -1.000000]\n",
            "[Epoch 111/200] [Batch 0/600] [D loss: 0.000000] [G loss: -1.000000]\n",
            "[Epoch 111/200] [Batch 300/600] [D loss: 0.000000] [G loss: -1.000000]\n",
            "[Epoch 112/200] [Batch 0/600] [D loss: 0.000000] [G loss: -1.000000]\n",
            "[Epoch 112/200] [Batch 300/600] [D loss: 0.000000] [G loss: -1.000000]\n",
            "[Epoch 113/200] [Batch 0/600] [D loss: 0.000000] [G loss: -1.000000]\n",
            "[Epoch 113/200] [Batch 300/600] [D loss: 0.000000] [G loss: -1.000000]\n",
            "[Epoch 114/200] [Batch 0/600] [D loss: 0.000000] [G loss: -1.000000]\n",
            "[Epoch 114/200] [Batch 300/600] [D loss: 0.000000] [G loss: -1.000000]\n",
            "[Epoch 115/200] [Batch 0/600] [D loss: 0.000000] [G loss: -1.000000]\n",
            "[Epoch 115/200] [Batch 300/600] [D loss: 0.000000] [G loss: -1.000000]\n",
            "[Epoch 116/200] [Batch 0/600] [D loss: 0.000000] [G loss: -1.000000]\n",
            "[Epoch 116/200] [Batch 300/600] [D loss: 0.000000] [G loss: -1.000000]\n",
            "[Epoch 117/200] [Batch 0/600] [D loss: 0.000000] [G loss: -1.000000]\n",
            "[Epoch 117/200] [Batch 300/600] [D loss: 0.000000] [G loss: -1.000000]\n",
            "[Epoch 118/200] [Batch 0/600] [D loss: 0.000000] [G loss: -1.000000]\n",
            "[Epoch 118/200] [Batch 300/600] [D loss: 0.000000] [G loss: -1.000000]\n",
            "[Epoch 119/200] [Batch 0/600] [D loss: 0.000000] [G loss: -1.000000]\n",
            "[Epoch 119/200] [Batch 300/600] [D loss: 0.000000] [G loss: -1.000000]\n",
            "[Epoch 120/200] [Batch 0/600] [D loss: 0.000000] [G loss: -1.000000]\n",
            "[Epoch 120/200] [Batch 300/600] [D loss: 0.000000] [G loss: -1.000000]\n",
            "[Epoch 121/200] [Batch 0/600] [D loss: 0.000000] [G loss: -1.000000]\n",
            "[Epoch 121/200] [Batch 300/600] [D loss: 0.000000] [G loss: -1.000000]\n",
            "[Epoch 122/200] [Batch 0/600] [D loss: 0.000000] [G loss: -1.000000]\n",
            "[Epoch 122/200] [Batch 300/600] [D loss: 0.000000] [G loss: -1.000000]\n",
            "[Epoch 123/200] [Batch 0/600] [D loss: 0.000000] [G loss: -1.000000]\n",
            "[Epoch 123/200] [Batch 300/600] [D loss: 0.000000] [G loss: -1.000000]\n",
            "[Epoch 124/200] [Batch 0/600] [D loss: 0.000000] [G loss: -1.000000]\n",
            "[Epoch 124/200] [Batch 300/600] [D loss: 0.000000] [G loss: -1.000000]\n",
            "[Epoch 125/200] [Batch 0/600] [D loss: 0.000000] [G loss: -1.000000]\n",
            "[Epoch 125/200] [Batch 300/600] [D loss: 0.000000] [G loss: -1.000000]\n",
            "[Epoch 126/200] [Batch 0/600] [D loss: 0.000000] [G loss: -1.000000]\n",
            "[Epoch 126/200] [Batch 300/600] [D loss: 0.000000] [G loss: -1.000000]\n",
            "[Epoch 127/200] [Batch 0/600] [D loss: 0.000000] [G loss: -1.000000]\n",
            "[Epoch 127/200] [Batch 300/600] [D loss: 0.000000] [G loss: -1.000000]\n",
            "[Epoch 128/200] [Batch 0/600] [D loss: 0.000000] [G loss: -1.000000]\n",
            "[Epoch 128/200] [Batch 300/600] [D loss: 0.000000] [G loss: -1.000000]\n",
            "[Epoch 129/200] [Batch 300/600] [D loss: 0.000000] [G loss: -1.000000]\n",
            "[Epoch 130/200] [Batch 0/600] [D loss: 0.000000] [G loss: -1.000000]\n",
            "[Epoch 130/200] [Batch 300/600] [D loss: 0.000000] [G loss: -1.000000]\n",
            "[Epoch 131/200] [Batch 0/600] [D loss: 0.000000] [G loss: -1.000000]\n",
            "[Epoch 131/200] [Batch 300/600] [D loss: 0.000000] [G loss: -1.000000]\n",
            "[Epoch 132/200] [Batch 0/600] [D loss: 0.000000] [G loss: -1.000000]\n",
            "[Epoch 132/200] [Batch 300/600] [D loss: 0.000000] [G loss: -1.000000]\n",
            "[Epoch 133/200] [Batch 0/600] [D loss: 0.000000] [G loss: -1.000000]\n",
            "[Epoch 133/200] [Batch 300/600] [D loss: 0.000000] [G loss: -1.000000]\n",
            "[Epoch 134/200] [Batch 0/600] [D loss: 0.000000] [G loss: -1.000000]\n",
            "[Epoch 134/200] [Batch 300/600] [D loss: 0.000000] [G loss: -1.000000]\n",
            "[Epoch 135/200] [Batch 0/600] [D loss: 0.000000] [G loss: -1.000000]\n",
            "[Epoch 135/200] [Batch 300/600] [D loss: 0.000000] [G loss: -1.000000]\n",
            "[Epoch 136/200] [Batch 0/600] [D loss: 0.000000] [G loss: -1.000000]\n",
            "[Epoch 136/200] [Batch 300/600] [D loss: 0.000000] [G loss: -1.000000]\n",
            "[Epoch 137/200] [Batch 0/600] [D loss: 0.000000] [G loss: -1.000000]\n",
            "[Epoch 137/200] [Batch 300/600] [D loss: 0.000000] [G loss: -1.000000]\n",
            "[Epoch 138/200] [Batch 0/600] [D loss: 0.000000] [G loss: -1.000000]\n",
            "[Epoch 138/200] [Batch 300/600] [D loss: 0.000000] [G loss: -1.000000]\n",
            "[Epoch 139/200] [Batch 0/600] [D loss: 0.000000] [G loss: -1.000000]\n",
            "[Epoch 139/200] [Batch 300/600] [D loss: 0.000000] [G loss: -1.000000]\n",
            "[Epoch 140/200] [Batch 0/600] [D loss: 0.000000] [G loss: -1.000000]\n",
            "[Epoch 140/200] [Batch 300/600] [D loss: 0.000000] [G loss: -1.000000]\n",
            "[Epoch 141/200] [Batch 0/600] [D loss: 0.000000] [G loss: -1.000000]\n",
            "[Epoch 141/200] [Batch 300/600] [D loss: 0.000000] [G loss: -1.000000]\n",
            "[Epoch 142/200] [Batch 0/600] [D loss: 0.000000] [G loss: -1.000000]\n",
            "[Epoch 142/200] [Batch 300/600] [D loss: 0.000000] [G loss: -1.000000]\n",
            "[Epoch 143/200] [Batch 0/600] [D loss: 0.000000] [G loss: -1.000000]\n",
            "[Epoch 143/200] [Batch 300/600] [D loss: 0.000000] [G loss: -1.000000]\n",
            "[Epoch 144/200] [Batch 0/600] [D loss: 0.000000] [G loss: -1.000000]\n",
            "[Epoch 144/200] [Batch 300/600] [D loss: 0.000000] [G loss: -1.000000]\n",
            "[Epoch 145/200] [Batch 0/600] [D loss: 0.000000] [G loss: -1.000000]\n",
            "[Epoch 145/200] [Batch 300/600] [D loss: 0.000000] [G loss: -1.000000]\n",
            "[Epoch 146/200] [Batch 0/600] [D loss: 0.000000] [G loss: -1.000000]\n",
            "[Epoch 146/200] [Batch 300/600] [D loss: 0.000000] [G loss: -1.000000]\n",
            "[Epoch 147/200] [Batch 0/600] [D loss: 0.000000] [G loss: -1.000000]\n",
            "[Epoch 147/200] [Batch 300/600] [D loss: 0.000000] [G loss: -1.000000]\n",
            "[Epoch 148/200] [Batch 0/600] [D loss: 0.000000] [G loss: -1.000000]\n",
            "[Epoch 148/200] [Batch 300/600] [D loss: 0.000000] [G loss: -1.000000]\n",
            "[Epoch 149/200] [Batch 0/600] [D loss: 0.000000] [G loss: -1.000000]\n",
            "[Epoch 149/200] [Batch 300/600] [D loss: 0.000000] [G loss: -1.000000]\n",
            "[Epoch 150/200] [Batch 0/600] [D loss: 0.000000] [G loss: -1.000000]\n",
            "[Epoch 150/200] [Batch 300/600] [D loss: 0.000000] [G loss: -1.000000]\n",
            "[Epoch 151/200] [Batch 0/600] [D loss: 0.000000] [G loss: -1.000000]\n",
            "[Epoch 151/200] [Batch 300/600] [D loss: 0.000000] [G loss: -1.000000]\n",
            "[Epoch 152/200] [Batch 0/600] [D loss: 0.000000] [G loss: -1.000000]\n",
            "[Epoch 152/200] [Batch 300/600] [D loss: 0.000000] [G loss: -1.000000]\n",
            "[Epoch 153/200] [Batch 0/600] [D loss: 0.000000] [G loss: -1.000000]\n",
            "[Epoch 153/200] [Batch 300/600] [D loss: 0.000000] [G loss: -1.000000]\n",
            "[Epoch 154/200] [Batch 0/600] [D loss: 0.000000] [G loss: -1.000000]\n",
            "[Epoch 154/200] [Batch 300/600] [D loss: 0.000000] [G loss: -1.000000]\n",
            "[Epoch 155/200] [Batch 0/600] [D loss: 0.000000] [G loss: -1.000000]\n",
            "[Epoch 155/200] [Batch 300/600] [D loss: 0.000000] [G loss: -1.000000]\n",
            "[Epoch 156/200] [Batch 0/600] [D loss: 0.000000] [G loss: -1.000000]\n",
            "[Epoch 156/200] [Batch 300/600] [D loss: 0.000000] [G loss: -1.000000]\n",
            "[Epoch 157/200] [Batch 0/600] [D loss: 0.000000] [G loss: -1.000000]\n",
            "[Epoch 157/200] [Batch 300/600] [D loss: 0.000000] [G loss: -1.000000]\n",
            "[Epoch 158/200] [Batch 0/600] [D loss: 0.000000] [G loss: -1.000000]\n",
            "[Epoch 158/200] [Batch 300/600] [D loss: 0.000000] [G loss: -1.000000]\n",
            "[Epoch 159/200] [Batch 0/600] [D loss: 0.000000] [G loss: -1.000000]\n",
            "[Epoch 159/200] [Batch 300/600] [D loss: 0.000000] [G loss: -1.000000]\n",
            "[Epoch 160/200] [Batch 0/600] [D loss: 0.000000] [G loss: -1.000000]\n",
            "[Epoch 160/200] [Batch 300/600] [D loss: 0.000000] [G loss: -1.000000]\n",
            "[Epoch 161/200] [Batch 0/600] [D loss: 0.000000] [G loss: -1.000000]\n",
            "[Epoch 161/200] [Batch 300/600] [D loss: 0.000000] [G loss: -1.000000]\n",
            "[Epoch 162/200] [Batch 0/600] [D loss: 0.000000] [G loss: -1.000000]\n",
            "[Epoch 162/200] [Batch 300/600] [D loss: 0.000000] [G loss: -1.000000]\n",
            "[Epoch 163/200] [Batch 0/600] [D loss: 0.000000] [G loss: -1.000000]\n",
            "[Epoch 163/200] [Batch 300/600] [D loss: 0.000000] [G loss: -1.000000]\n",
            "[Epoch 164/200] [Batch 0/600] [D loss: 0.000000] [G loss: -1.000000]\n",
            "[Epoch 164/200] [Batch 300/600] [D loss: 0.000000] [G loss: -1.000000]\n",
            "[Epoch 165/200] [Batch 0/600] [D loss: 0.000000] [G loss: -1.000000]\n",
            "[Epoch 165/200] [Batch 300/600] [D loss: 0.000000] [G loss: -1.000000]\n",
            "[Epoch 166/200] [Batch 0/600] [D loss: 0.000000] [G loss: -1.000000]\n",
            "[Epoch 166/200] [Batch 300/600] [D loss: 0.000000] [G loss: -1.000000]\n",
            "[Epoch 167/200] [Batch 0/600] [D loss: 0.000000] [G loss: -1.000000]\n",
            "[Epoch 167/200] [Batch 300/600] [D loss: 0.000000] [G loss: -1.000000]\n",
            "[Epoch 168/200] [Batch 0/600] [D loss: 0.000000] [G loss: -1.000000]\n",
            "[Epoch 168/200] [Batch 300/600] [D loss: 0.000000] [G loss: -1.000000]\n",
            "[Epoch 169/200] [Batch 0/600] [D loss: 0.000000] [G loss: -1.000000]\n",
            "[Epoch 169/200] [Batch 300/600] [D loss: 0.000000] [G loss: -1.000000]\n",
            "[Epoch 170/200] [Batch 0/600] [D loss: 0.000000] [G loss: -1.000000]\n",
            "[Epoch 170/200] [Batch 300/600] [D loss: 0.000000] [G loss: -1.000000]\n",
            "[Epoch 171/200] [Batch 0/600] [D loss: 0.000000] [G loss: -1.000000]\n",
            "[Epoch 171/200] [Batch 300/600] [D loss: 0.000000] [G loss: -1.000000]\n",
            "[Epoch 172/200] [Batch 0/600] [D loss: 0.000000] [G loss: -1.000000]\n",
            "[Epoch 172/200] [Batch 300/600] [D loss: 0.000000] [G loss: -1.000000]\n",
            "[Epoch 173/200] [Batch 0/600] [D loss: 0.000000] [G loss: -1.000000]\n",
            "[Epoch 173/200] [Batch 300/600] [D loss: 0.000000] [G loss: -1.000000]\n",
            "[Epoch 174/200] [Batch 0/600] [D loss: 0.000000] [G loss: -1.000000]\n",
            "[Epoch 174/200] [Batch 300/600] [D loss: 0.000000] [G loss: -1.000000]\n",
            "[Epoch 175/200] [Batch 0/600] [D loss: 0.000000] [G loss: -1.000000]\n",
            "[Epoch 175/200] [Batch 300/600] [D loss: 0.000000] [G loss: -1.000000]\n",
            "[Epoch 176/200] [Batch 0/600] [D loss: 0.000000] [G loss: -1.000000]\n",
            "[Epoch 176/200] [Batch 300/600] [D loss: 0.000000] [G loss: -1.000000]\n",
            "[Epoch 177/200] [Batch 0/600] [D loss: 0.000000] [G loss: -1.000000]\n",
            "[Epoch 177/200] [Batch 300/600] [D loss: 0.000000] [G loss: -1.000000]\n",
            "[Epoch 178/200] [Batch 0/600] [D loss: 0.000000] [G loss: -1.000000]\n",
            "[Epoch 178/200] [Batch 300/600] [D loss: 0.000000] [G loss: -1.000000]\n",
            "[Epoch 179/200] [Batch 0/600] [D loss: 0.000000] [G loss: -1.000000]\n",
            "[Epoch 179/200] [Batch 300/600] [D loss: 0.000000] [G loss: -1.000000]\n",
            "[Epoch 180/200] [Batch 0/600] [D loss: 0.000000] [G loss: -1.000000]\n",
            "[Epoch 180/200] [Batch 300/600] [D loss: 0.000000] [G loss: -1.000000]\n",
            "[Epoch 181/200] [Batch 0/600] [D loss: 0.000000] [G loss: -1.000000]\n",
            "[Epoch 181/200] [Batch 300/600] [D loss: 0.000000] [G loss: -1.000000]\n",
            "[Epoch 182/200] [Batch 0/600] [D loss: 0.000000] [G loss: -1.000000]\n",
            "[Epoch 182/200] [Batch 300/600] [D loss: 0.000000] [G loss: -1.000000]\n",
            "[Epoch 183/200] [Batch 0/600] [D loss: 0.000000] [G loss: -1.000000]\n",
            "[Epoch 183/200] [Batch 300/600] [D loss: 0.000000] [G loss: -1.000000]\n",
            "[Epoch 184/200] [Batch 0/600] [D loss: 0.000000] [G loss: -1.000000]\n",
            "[Epoch 184/200] [Batch 300/600] [D loss: 0.000000] [G loss: -1.000000]\n",
            "[Epoch 185/200] [Batch 0/600] [D loss: 0.000000] [G loss: -1.000000]\n",
            "[Epoch 185/200] [Batch 300/600] [D loss: 0.000000] [G loss: -1.000000]\n",
            "[Epoch 186/200] [Batch 0/600] [D loss: 0.000000] [G loss: -1.000000]\n",
            "[Epoch 186/200] [Batch 300/600] [D loss: 0.000000] [G loss: -1.000000]\n",
            "[Epoch 187/200] [Batch 0/600] [D loss: 0.000000] [G loss: -1.000000]\n",
            "[Epoch 187/200] [Batch 300/600] [D loss: 0.000000] [G loss: -1.000000]\n",
            "[Epoch 188/200] [Batch 0/600] [D loss: 0.000000] [G loss: -1.000000]\n",
            "[Epoch 188/200] [Batch 300/600] [D loss: 0.000000] [G loss: -1.000000]\n",
            "[Epoch 189/200] [Batch 0/600] [D loss: 0.000000] [G loss: -1.000000]\n",
            "[Epoch 189/200] [Batch 300/600] [D loss: 0.000000] [G loss: -1.000000]\n",
            "[Epoch 190/200] [Batch 0/600] [D loss: 0.000000] [G loss: -1.000000]\n",
            "[Epoch 190/200] [Batch 300/600] [D loss: 0.000000] [G loss: -1.000000]\n",
            "[Epoch 191/200] [Batch 0/600] [D loss: 0.000000] [G loss: -1.000000]\n",
            "[Epoch 191/200] [Batch 300/600] [D loss: 0.000000] [G loss: -1.000000]\n",
            "[Epoch 192/200] [Batch 0/600] [D loss: 0.000000] [G loss: -1.000000]\n",
            "[Epoch 192/200] [Batch 300/600] [D loss: 0.000000] [G loss: -1.000000]\n",
            "[Epoch 193/200] [Batch 0/600] [D loss: 0.000000] [G loss: -1.000000]\n",
            "[Epoch 193/200] [Batch 300/600] [D loss: 0.000000] [G loss: -1.000000]\n",
            "[Epoch 194/200] [Batch 0/600] [D loss: 0.000000] [G loss: -1.000000]\n",
            "[Epoch 194/200] [Batch 300/600] [D loss: 0.000000] [G loss: -1.000000]\n",
            "[Epoch 195/200] [Batch 0/600] [D loss: 0.000000] [G loss: -1.000000]\n",
            "[Epoch 195/200] [Batch 300/600] [D loss: 0.000000] [G loss: -1.000000]\n",
            "[Epoch 196/200] [Batch 0/600] [D loss: 0.000000] [G loss: -1.000000]\n",
            "[Epoch 196/200] [Batch 300/600] [D loss: 0.000000] [G loss: -1.000000]\n",
            "[Epoch 197/200] [Batch 0/600] [D loss: 0.000000] [G loss: -1.000000]\n",
            "[Epoch 197/200] [Batch 300/600] [D loss: 0.000000] [G loss: -1.000000]\n",
            "[Epoch 198/200] [Batch 0/600] [D loss: 0.000000] [G loss: -1.000000]\n",
            "[Epoch 198/200] [Batch 300/600] [D loss: 0.000000] [G loss: -1.000000]\n",
            "[Epoch 199/200] [Batch 0/600] [D loss: 0.000000] [G loss: -1.000000]\n",
            "[Epoch 199/200] [Batch 300/600] [D loss: 0.000000] [G loss: -1.000000]\n"
          ]
        }
      ]
    },
    {
      "cell_type": "markdown",
      "source": [
        "## 7. Viewing the results"
      ],
      "metadata": {
        "id": "-IZC3M8doRw5"
      }
    },
    {
      "cell_type": "code",
      "source": [
        "Tensor = torch.cuda.FloatTensor if torch.cuda.is_available() else torch.FloatTensor\n",
        "z = Variable(Tensor(np.random.normal(0, 1, (15, z_dim))))\n",
        "gen_imgs = G(z).detach()\n",
        "fig = plt.figure()\n",
        "for i in range(15):\n",
        "    plt.subplot(5,3,i+1)\n",
        "    plt.tight_layout()\n",
        "    plt.imshow(gen_imgs[i].cpu().view(28, 28), cmap='gray', interpolation='none')\n",
        "    plt.xticks([])\n",
        "    plt.yticks([])"
      ],
      "metadata": {
        "id": "zKLutyq_iUWy",
        "colab": {
          "base_uri": "https://localhost:8080/",
          "height": 284
        },
        "outputId": "3f27a7c3-c307-4465-f12e-491e5c3c9e6f"
      },
      "execution_count": 13,
      "outputs": [
        {
          "output_type": "display_data",
          "data": {
            "text/plain": [
              "<Figure size 432x288 with 15 Axes>"
            ],
            "image/png": "[encoded data removed]"
          },
          "metadata": {}
        }
      ]
    }
  ]
}