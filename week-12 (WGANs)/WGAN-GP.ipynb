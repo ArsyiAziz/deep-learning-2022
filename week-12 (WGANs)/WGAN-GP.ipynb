{
  "nbformat": 4,
  "nbformat_minor": 0,
  "metadata": {
    "colab": {
      "name": "Untitled5.ipynb",
      "provenance": [],
      "collapsed_sections": []
    },
    "kernelspec": {
      "name": "python3",
      "display_name": "Python 3"
    },
    "language_info": {
      "name": "python"
    },
    "accelerator": "GPU"
  },
  "cells": [
    {
      "cell_type": "markdown",
      "source": [
        "# WGAN Gradient Penalty (WGAN-GP)\n",
        "*This notebook was run by Arsyi Syarief Aziz (H071191003) for the Introduction to Deep Learning course (Unhas) taught by Dr. Risman Adnan.*\n",
        "\n",
        "-------\n",
        "This notebook is adapted from the UI-SRIN Introduction to GANs github repository (https://github.com/DSC-UI-SRIN/Introduction-to-GAN/blob/master/2%20-%20Wasserstein%20GANs/WGAN.ipynb)."
      ],
      "metadata": {
        "id": "8ba2kZgeaaGX"
      }
    },
    {
      "cell_type": "markdown",
      "source": [
        "## Introduction\n",
        "In this notebook I will implement the Wassertein GAN (WGAN) algorithm with gradient penalty (GP) to generate synthetic images that resemble images in the CIFAR10 dataset. \n",
        "\n",
        "Spectral normalization is weight normalization technique used to stabilize the training of a discriminator. "
      ],
      "metadata": {
        "id": "Xl7m9iVcayuI"
      }
    },
    {
      "cell_type": "markdown",
      "source": [
        "## 1. Importing Libraries and Configuring the Environment"
      ],
      "metadata": {
        "id": "oJqiPtFQa8oo"
      }
    },
    {
      "cell_type": "code",
      "execution_count": 1,
      "metadata": {
        "colab": {
          "base_uri": "https://localhost:8080/"
        },
        "id": "2iy95VOnaYWk",
        "outputId": "5c3e14a2-c30b-44d4-8875-6550e8bd23df"
      },
      "outputs": [
        {
          "output_type": "stream",
          "name": "stdout",
          "text": [
            "Drive already mounted at /content/drive; to attempt to forcibly remount, call drive.mount(\"/content/drive\", force_remount=True).\n"
          ]
        }
      ],
      "source": [
        "from google.colab import drive\n",
        "drive.mount('/content/drive')"
      ]
    },
    {
      "cell_type": "code",
      "source": [
        "import torch\n",
        "import torch.nn as nn\n",
        "import torch.nn.functional as F\n",
        "import torch.optim as optim\n",
        "from torchvision import datasets, transforms\n",
        "import torch.autograd as autograd\n",
        "from torch.autograd import Variable\n",
        "from torchvision.utils import save_image\n",
        "import numpy as np\n",
        "import os\n",
        "\n",
        "# Device configuration\n",
        "device = torch.device('cuda' if torch.cuda.is_available() else 'cpu')\n",
        "ROOT = \"/content/drive/My Drive/Colab Notebooks/WGANs/WGAN-GP\"\n",
        "sample_dir = os.path.join(ROOT, 'sample')\n",
        "# Make dir if no exist\n",
        "if not os.path.exists(sample_dir):\n",
        "    os.makedirs(sample_dir)"
      ],
      "metadata": {
        "id": "Dm8y5t_KbBBB"
      },
      "execution_count": 2,
      "outputs": []
    },
    {
      "cell_type": "markdown",
      "source": [
        "## 2. Dataset"
      ],
      "metadata": {
        "id": "v3LRgE80bJJV"
      }
    },
    {
      "cell_type": "markdown",
      "source": [
        "### 2.1 Importing the dataset"
      ],
      "metadata": {
        "id": "-KSyf-u1bYCQ"
      }
    },
    {
      "cell_type": "code",
      "source": [
        "batch_size = 100\n",
        "\n",
        "# FashionMNIST Dataset\n",
        "transform = transforms.Compose([\n",
        "    transforms.ToTensor()])\n",
        "\n",
        "train_dataset = datasets.FashionMNIST(root='./FashionMNNIST/', train=True, transform=transform, download=True)\n",
        "\n",
        "# Data Loader (Input Pipeline)\n",
        "train_loader = torch.utils.data.DataLoader(dataset=train_dataset, batch_size=batch_size, shuffle=True)\n",
        "\n",
        "examples = enumerate(train_loader)\n",
        "batch_idx, (example_data, example_targets) = next(examples)\n"
      ],
      "metadata": {
        "id": "wYc_yMC8bLUK"
      },
      "execution_count": 3,
      "outputs": []
    },
    {
      "cell_type": "code",
      "source": [
        "example_data.shape"
      ],
      "metadata": {
        "colab": {
          "base_uri": "https://localhost:8080/"
        },
        "id": "PikX2hu3icGA",
        "outputId": "0de03391-60ae-4c79-8167-990f5a7c2a1c"
      },
      "execution_count": 4,
      "outputs": [
        {
          "output_type": "execute_result",
          "data": {
            "text/plain": [
              "torch.Size([100, 1, 28, 28])"
            ]
          },
          "metadata": {},
          "execution_count": 4
        }
      ]
    },
    {
      "cell_type": "code",
      "source": [
        "LABELS = ['T-shirt/top',\n",
        "'Trouser',\n",
        "'Pullover',\n",
        "'Dress',\n",
        "'Coat',\n",
        "'Sandal',\n",
        "'Shirt',\n",
        "'Sneaker',\n",
        "'Bag',\n",
        "'Ankle boot'\n",
        "]"
      ],
      "metadata": {
        "id": "HC-tYtFagbA3"
      },
      "execution_count": 5,
      "outputs": []
    },
    {
      "cell_type": "markdown",
      "source": [
        "### 2.2 Previewing the dataset"
      ],
      "metadata": {
        "id": "sXf7jv4BbOu8"
      }
    },
    {
      "cell_type": "code",
      "source": [
        "## Print example\n",
        "import matplotlib.pyplot as plt\n",
        "\n",
        "fig = plt.figure()\n",
        "for i in range(6):\n",
        "  plt.subplot(3,2,i+1)\n",
        "  plt.tight_layout()\n",
        "  plt.imshow(example_data[i][0], cmap='gray', interpolation='none')\n",
        "  plt.title(\"Ground Truth: {}\".format(LABELS[example_targets[i]]))\n",
        "  plt.xticks([])\n",
        "  plt.yticks([])\n",
        "fig"
      ],
      "metadata": {
        "colab": {
          "base_uri": "https://localhost:8080/",
          "height": 551
        },
        "id": "AL5EEydTbdXi",
        "outputId": "b9cc592d-bfc3-468d-b5bb-f9bb1c68984e"
      },
      "execution_count": 6,
      "outputs": [
        {
          "output_type": "execute_result",
          "data": {
            "text/plain": [
              "<Figure size 432x288 with 6 Axes>"
            ],
            "image/png": "[encoded data removed]"
          },
          "metadata": {},
          "execution_count": 6
        },
        {
          "output_type": "display_data",
          "data": {
            "text/plain": [
              "<Figure size 432x288 with 6 Axes>"
            ],
            "image/png": "[encoded data removed]"
          },
          "metadata": {}
        }
      ]
    },
    {
      "cell_type": "markdown",
      "source": [
        "## 3. Building the models"
      ],
      "metadata": {
        "id": "pU6RhxpJbe8Q"
      }
    },
    {
      "cell_type": "markdown",
      "source": [
        "### 3.1 The Generator"
      ],
      "metadata": {
        "id": "_5E5JYXRbim8"
      }
    },
    {
      "cell_type": "code",
      "source": [
        "class Generator(nn.Module):\n",
        "    def __init__(self, g_input_dim, g_output_dim):\n",
        "        super(Generator, self).__init__()\n",
        "\n",
        "        def block(in_feat, out_feat, normalize=True):\n",
        "            layers = [nn.Linear(in_feat, out_feat)]\n",
        "            if normalize:\n",
        "                layers.append(nn.BatchNorm1d(out_feat, 0.8))\n",
        "            layers.append(nn.LeakyReLU(0.2, inplace=True))\n",
        "            return layers\n",
        "\n",
        "        self.model = nn.Sequential(\n",
        "            *block(g_input_dim, 128, normalize=False),\n",
        "            *block(128, 256),\n",
        "            *block(256, 512),\n",
        "            *block(512, 1024),\n",
        "            nn.Linear(1024, g_output_dim), \n",
        "            nn.Tanh())\n",
        "\n",
        "    def forward(self, z):\n",
        "        image = self.model(z)\n",
        "        image = image.view(image.size(0), *example_data.shape[1:])\n",
        "        return image"
      ],
      "metadata": {
        "id": "36uyuy6VbsT5"
      },
      "execution_count": 7,
      "outputs": []
    },
    {
      "cell_type": "markdown",
      "source": [
        "### 3.2 The Discriminator"
      ],
      "metadata": {
        "id": "zEUaQwp-bmO-"
      }
    },
    {
      "cell_type": "code",
      "source": [
        "class Discriminator(nn.Module):\n",
        "    def __init__(self, d_input_dim):\n",
        "        super(Discriminator, self).__init__()\n",
        "\n",
        "        self.model = nn.Sequential(\n",
        "            nn.Linear(d_input_dim, 512),\n",
        "            nn.LeakyReLU(0.2, inplace=True),\n",
        "            nn.Linear(512, 256),\n",
        "            nn.LeakyReLU(0.2, inplace=True),\n",
        "            nn.Linear(256, 1),\n",
        "            nn.Sigmoid(),\n",
        "        )\n",
        "\n",
        "    def forward(self, image):\n",
        "        img_flat = image.view(image.size(0), -1)\n",
        "        validity = self.model(img_flat)\n",
        "        return validity\n"
      ],
      "metadata": {
        "id": "XBAGcfZxbhx6"
      },
      "execution_count": 8,
      "outputs": []
    },
    {
      "cell_type": "markdown",
      "source": [
        "## 4. Building the Network"
      ],
      "metadata": {
        "id": "CMlERADTbuq_"
      }
    },
    {
      "cell_type": "code",
      "source": [
        "# build network\n",
        "z_dim = 100\n",
        "cfar10_dim = train_dataset.data.shape[1] * train_dataset.data.shape[2] \n",
        "G = Generator(g_input_dim = z_dim, g_output_dim = cfar10_dim).to(device)\n",
        "D = Discriminator(cfar10_dim).to(device)"
      ],
      "metadata": {
        "id": "766I3Wumbwzg"
      },
      "execution_count": 9,
      "outputs": []
    },
    {
      "cell_type": "code",
      "source": [
        "print(G, D)"
      ],
      "metadata": {
        "colab": {
          "base_uri": "https://localhost:8080/"
        },
        "id": "FcFycHr6b0Nk",
        "outputId": "5b44ec42-071e-4471-d4db-6f876ad7e2a7"
      },
      "execution_count": 10,
      "outputs": [
        {
          "output_type": "stream",
          "name": "stdout",
          "text": [
            "Generator(\n",
            "  (model): Sequential(\n",
            "    (0): Linear(in_features=100, out_features=128, bias=True)\n",
            "    (1): LeakyReLU(negative_slope=0.2, inplace=True)\n",
            "    (2): Linear(in_features=128, out_features=256, bias=True)\n",
            "    (3): BatchNorm1d(256, eps=0.8, momentum=0.1, affine=True, track_running_stats=True)\n",
            "    (4): LeakyReLU(negative_slope=0.2, inplace=True)\n",
            "    (5): Linear(in_features=256, out_features=512, bias=True)\n",
            "    (6): BatchNorm1d(512, eps=0.8, momentum=0.1, affine=True, track_running_stats=True)\n",
            "    (7): LeakyReLU(negative_slope=0.2, inplace=True)\n",
            "    (8): Linear(in_features=512, out_features=1024, bias=True)\n",
            "    (9): BatchNorm1d(1024, eps=0.8, momentum=0.1, affine=True, track_running_stats=True)\n",
            "    (10): LeakyReLU(negative_slope=0.2, inplace=True)\n",
            "    (11): Linear(in_features=1024, out_features=784, bias=True)\n",
            "    (12): Tanh()\n",
            "  )\n",
            ") Discriminator(\n",
            "  (model): Sequential(\n",
            "    (0): Linear(in_features=784, out_features=512, bias=True)\n",
            "    (1): LeakyReLU(negative_slope=0.2, inplace=True)\n",
            "    (2): Linear(in_features=512, out_features=256, bias=True)\n",
            "    (3): LeakyReLU(negative_slope=0.2, inplace=True)\n",
            "    (4): Linear(in_features=256, out_features=1, bias=True)\n",
            "    (5): Sigmoid()\n",
            "  )\n",
            ")\n"
          ]
        }
      ]
    },
    {
      "cell_type": "markdown",
      "source": [
        "## 5. Defining Gradient Penalty"
      ],
      "metadata": {
        "id": "gQHfBie_LRHO"
      }
    },
    {
      "cell_type": "code",
      "source": [
        "def compute_gradient_penalty(D, real_samples, fake_samples):\n",
        "    \"\"\"Calculates the gradient penalty loss for WGAN GP\"\"\"\n",
        "    # Random weight term for interpolation between real and fake samples\n",
        "    alpha = Tensor(np.random.random((real_samples.size(0), 1, 1, 1)))\n",
        "    # Get random interpolation between real and fake samples\n",
        "    interpolates = (alpha * real_samples + ((1 - alpha) * fake_samples)).requires_grad_(True)\n",
        "    d_interpolates = D(interpolates)\n",
        "    fake = Variable(Tensor(real_samples.shape[0], 1).fill_(1.0), requires_grad=False)\n",
        "    # Get gradient w.r.t. interpolates\n",
        "    gradients = autograd.grad(\n",
        "        outputs=d_interpolates,\n",
        "        inputs=interpolates,\n",
        "        grad_outputs=fake,\n",
        "        create_graph=True,\n",
        "        retain_graph=True,\n",
        "        only_inputs=True,\n",
        "    )[0]\n",
        "    gradients = gradients.view(gradients.size(0), -1)\n",
        "    gradient_penalty = ((gradients.norm(2, dim=1) - 1) ** 2).mean()\n",
        "    return gradient_penalty"
      ],
      "metadata": {
        "id": "Keo7-04DLUsG"
      },
      "execution_count": 11,
      "outputs": []
    },
    {
      "cell_type": "markdown",
      "source": [
        "## 6. Training the Model"
      ],
      "metadata": {
        "id": "MbTwad_zb3JD"
      }
    },
    {
      "cell_type": "code",
      "source": [
        "# Loss weight for gradient penalty\n",
        "lambda_gp = 10\n",
        "\n",
        "# optimizer\n",
        "lr = 0.0002\n",
        "n_critic =  5\n",
        "b1 = 0.5\n",
        "b2 = 0.999\n",
        "\n",
        "optimizer_G = torch.optim.Adam(G.parameters(), lr=lr, betas=(b1, b2))\n",
        "optimizer_D = torch.optim.Adam(D.parameters(), lr=lr, betas=(b1, b2))"
      ],
      "metadata": {
        "id": "WERy3ky6b5FA"
      },
      "execution_count": 12,
      "outputs": []
    },
    {
      "cell_type": "code",
      "source": [
        "Tensor = torch.cuda.FloatTensor if torch.cuda.is_available() else torch.FloatTensor\n",
        "epochs = 200\n",
        "list_loss_D = []\n",
        "list_loss_G = []\n",
        "for epoch in range(epochs):\n",
        "    for i, (imgs, _) in enumerate(train_loader):\n",
        "        # Configure input\n",
        "        real_imgs = Variable(imgs.type(Tensor))\n",
        "\n",
        "        # ---------------------\n",
        "        #  Train Discriminator\n",
        "        # ---------------------\n",
        "\n",
        "        optimizer_D.zero_grad()\n",
        "\n",
        "        # Sample noise as generator input\n",
        "        z = Variable(Tensor(np.random.normal(0, 1, (imgs.shape[0], z_dim))))\n",
        "\n",
        "        # Generate a batch of images\n",
        "        fake_imgs = G(z).detach()\n",
        "\n",
        "        # Gradient penalty\n",
        "        gradient_penalty = compute_gradient_penalty(D, real_imgs.data, fake_imgs.data)\n",
        "\n",
        "        # Adversarial loss\n",
        "        d_loss = -torch.mean(D(real_imgs)) + torch.mean(D(fake_imgs)) + lambda_gp * gradient_penalty\n",
        "\n",
        "        d_loss.backward()\n",
        "        optimizer_D.step()\n",
        "\n",
        "        # Train the generator every n_critic iterations\n",
        "        if i % n_critic == 0:\n",
        "\n",
        "            # -----------------\n",
        "            #  Train Generator\n",
        "            # -----------------\n",
        "\n",
        "            optimizer_G.zero_grad()\n",
        "\n",
        "            # Generate a batch of images\n",
        "            gen_imgs = G(z)\n",
        "            # Adversarial loss\n",
        "            g_loss = -torch.mean(D(gen_imgs))\n",
        "\n",
        "            g_loss.backward()\n",
        "            optimizer_G.step()\n",
        "\n",
        "            list_loss_D.append(d_loss.item())\n",
        "            list_loss_G.append(g_loss.item())\n",
        "        if i % 300 == 0:\n",
        "            print(\n",
        "              \"[Epoch %d/%d] [Batch %d/%d] [D loss: %f] [G loss: %f]\"\n",
        "              % (epoch, epochs, i, len(train_loader), d_loss.item(), g_loss.item()))\n",
        "\n",
        "    if epoch % 5 == 0:\n",
        "        save_image(gen_imgs.view(gen_imgs.size(0), 1, 28, 28), os.path.join(sample_dir, \"%d.png\" % epoch), nrow=5, normalize=True)\n",
        "\n",
        "torch.save(G, os.path.join(ROOT, 'G.pt'))\n",
        "torch.save(D, os.path.join(ROOT, 'D.pt'))"
      ],
      "metadata": {
        "colab": {
          "base_uri": "https://localhost:8080/"
        },
        "id": "3TLWFSVZb7L7",
        "outputId": "98e031fd-4cfc-4284-cc4c-4757998d4f08"
      },
      "execution_count": 13,
      "outputs": [
        {
          "output_type": "stream",
          "name": "stdout",
          "text": [
            "[Epoch 0/200] [Batch 0/600] [D loss: 9.463260] [G loss: -0.485976]\n",
            "[Epoch 0/200] [Batch 300/600] [D loss: 3.410667] [G loss: -0.334292]\n",
            "[Epoch 1/200] [Batch 0/600] [D loss: 4.352021] [G loss: -0.311956]\n",
            "[Epoch 1/200] [Batch 300/600] [D loss: 5.478914] [G loss: -0.207759]\n",
            "[Epoch 2/200] [Batch 0/600] [D loss: 4.595310] [G loss: -0.142933]\n",
            "[Epoch 2/200] [Batch 300/600] [D loss: 7.925518] [G loss: -0.983207]\n",
            "[Epoch 3/200] [Batch 0/600] [D loss: 1.149880] [G loss: -0.939823]\n",
            "[Epoch 3/200] [Batch 300/600] [D loss: 1.789029] [G loss: -0.426302]\n",
            "[Epoch 4/200] [Batch 0/600] [D loss: 5.063324] [G loss: -0.998950]\n",
            "[Epoch 4/200] [Batch 300/600] [D loss: 6.662524] [G loss: -0.746853]\n",
            "[Epoch 5/200] [Batch 0/600] [D loss: 1.811653] [G loss: -0.990042]\n",
            "[Epoch 5/200] [Batch 300/600] [D loss: 4.589396] [G loss: -0.988366]\n",
            "[Epoch 6/200] [Batch 0/600] [D loss: 6.305082] [G loss: -0.000000]\n",
            "[Epoch 6/200] [Batch 300/600] [D loss: 1.686157] [G loss: -0.318294]\n",
            "[Epoch 7/200] [Batch 0/600] [D loss: 2.748981] [G loss: -0.645765]\n",
            "[Epoch 7/200] [Batch 300/600] [D loss: 4.759177] [G loss: -0.600411]\n",
            "[Epoch 8/200] [Batch 0/600] [D loss: 3.222701] [G loss: -0.686876]\n",
            "[Epoch 8/200] [Batch 300/600] [D loss: 9.393131] [G loss: -0.429582]\n",
            "[Epoch 9/200] [Batch 0/600] [D loss: 8.921824] [G loss: -0.499931]\n",
            "[Epoch 9/200] [Batch 300/600] [D loss: 9.357668] [G loss: -0.796804]\n",
            "[Epoch 10/200] [Batch 0/600] [D loss: 2.307351] [G loss: -0.460114]\n",
            "[Epoch 10/200] [Batch 300/600] [D loss: 0.983103] [G loss: -0.408056]\n",
            "[Epoch 11/200] [Batch 0/600] [D loss: 1.037224] [G loss: -0.298473]\n",
            "[Epoch 11/200] [Batch 300/600] [D loss: 0.988511] [G loss: -0.416606]\n",
            "[Epoch 12/200] [Batch 0/600] [D loss: 0.801657] [G loss: -0.393112]\n",
            "[Epoch 12/200] [Batch 300/600] [D loss: 0.549974] [G loss: -0.453245]\n",
            "[Epoch 13/200] [Batch 0/600] [D loss: 0.338203] [G loss: -0.458850]\n",
            "[Epoch 13/200] [Batch 300/600] [D loss: 0.543121] [G loss: -0.600415]\n",
            "[Epoch 14/200] [Batch 0/600] [D loss: 0.688586] [G loss: -0.703175]\n",
            "[Epoch 14/200] [Batch 300/600] [D loss: 0.503442] [G loss: -0.633523]\n",
            "[Epoch 15/200] [Batch 0/600] [D loss: 0.784510] [G loss: -0.735710]\n",
            "[Epoch 15/200] [Batch 300/600] [D loss: 0.322158] [G loss: -0.560808]\n",
            "[Epoch 16/200] [Batch 0/600] [D loss: 0.363399] [G loss: -0.590918]\n",
            "[Epoch 16/200] [Batch 300/600] [D loss: 0.557904] [G loss: -0.548596]\n",
            "[Epoch 17/200] [Batch 0/600] [D loss: 0.312328] [G loss: -0.526455]\n",
            "[Epoch 17/200] [Batch 300/600] [D loss: 0.164992] [G loss: -0.456149]\n",
            "[Epoch 18/200] [Batch 0/600] [D loss: 2.671516] [G loss: -0.568419]\n",
            "[Epoch 18/200] [Batch 300/600] [D loss: 0.206500] [G loss: -0.533265]\n",
            "[Epoch 19/200] [Batch 0/600] [D loss: 0.012378] [G loss: -0.369632]\n",
            "[Epoch 19/200] [Batch 300/600] [D loss: -0.019336] [G loss: -0.357645]\n",
            "[Epoch 20/200] [Batch 0/600] [D loss: 0.375967] [G loss: -0.699110]\n",
            "[Epoch 20/200] [Batch 300/600] [D loss: -0.109252] [G loss: -0.293802]\n",
            "[Epoch 21/200] [Batch 0/600] [D loss: 0.049472] [G loss: -0.517317]\n",
            "[Epoch 21/200] [Batch 300/600] [D loss: -0.131812] [G loss: -0.280132]\n",
            "[Epoch 22/200] [Batch 0/600] [D loss: -0.110086] [G loss: -0.500071]\n",
            "[Epoch 22/200] [Batch 300/600] [D loss: -0.069742] [G loss: -0.261689]\n",
            "[Epoch 23/200] [Batch 0/600] [D loss: 4.825757] [G loss: -0.480000]\n",
            "[Epoch 23/200] [Batch 300/600] [D loss: -0.221945] [G loss: -0.295730]\n",
            "[Epoch 24/200] [Batch 0/600] [D loss: 0.597163] [G loss: -0.702472]\n",
            "[Epoch 24/200] [Batch 300/600] [D loss: 0.306639] [G loss: -0.661403]\n",
            "[Epoch 25/200] [Batch 0/600] [D loss: -0.042644] [G loss: -0.439491]\n",
            "[Epoch 25/200] [Batch 300/600] [D loss: -0.165811] [G loss: -0.349085]\n",
            "[Epoch 26/200] [Batch 0/600] [D loss: -0.126326] [G loss: -0.374751]\n",
            "[Epoch 26/200] [Batch 300/600] [D loss: -0.186190] [G loss: -0.343966]\n",
            "[Epoch 27/200] [Batch 0/600] [D loss: -0.025804] [G loss: -0.436582]\n",
            "[Epoch 27/200] [Batch 300/600] [D loss: -0.144793] [G loss: -0.417750]\n",
            "[Epoch 28/200] [Batch 0/600] [D loss: -0.158370] [G loss: -0.367947]\n",
            "[Epoch 28/200] [Batch 300/600] [D loss: -0.105270] [G loss: -0.392427]\n",
            "[Epoch 29/200] [Batch 0/600] [D loss: -0.027071] [G loss: -0.448471]\n",
            "[Epoch 29/200] [Batch 300/600] [D loss: -0.103602] [G loss: -0.426453]\n",
            "[Epoch 30/200] [Batch 0/600] [D loss: -0.167930] [G loss: -0.378970]\n",
            "[Epoch 30/200] [Batch 300/600] [D loss: -0.065204] [G loss: -0.347714]\n",
            "[Epoch 31/200] [Batch 0/600] [D loss: -0.094300] [G loss: -0.411984]\n",
            "[Epoch 31/200] [Batch 300/600] [D loss: -0.108751] [G loss: -0.380975]\n",
            "[Epoch 32/200] [Batch 0/600] [D loss: -0.111401] [G loss: -0.371355]\n",
            "[Epoch 32/200] [Batch 300/600] [D loss: -0.157987] [G loss: -0.387716]\n",
            "[Epoch 33/200] [Batch 0/600] [D loss: -0.133012] [G loss: -0.321348]\n",
            "[Epoch 33/200] [Batch 300/600] [D loss: 1.693251] [G loss: -0.177666]\n",
            "[Epoch 34/200] [Batch 0/600] [D loss: 0.418717] [G loss: -0.504835]\n",
            "[Epoch 34/200] [Batch 300/600] [D loss: 0.182060] [G loss: -0.417543]\n",
            "[Epoch 35/200] [Batch 0/600] [D loss: 0.343076] [G loss: -0.810557]\n",
            "[Epoch 35/200] [Batch 300/600] [D loss: 0.621219] [G loss: -0.918550]\n",
            "[Epoch 36/200] [Batch 0/600] [D loss: 0.350706] [G loss: -0.922395]\n",
            "[Epoch 36/200] [Batch 300/600] [D loss: 0.266846] [G loss: -0.870057]\n",
            "[Epoch 37/200] [Batch 0/600] [D loss: 0.143811] [G loss: -0.746779]\n",
            "[Epoch 37/200] [Batch 300/600] [D loss: 0.291677] [G loss: -0.766964]\n",
            "[Epoch 38/200] [Batch 0/600] [D loss: 0.177171] [G loss: -0.764007]\n",
            "[Epoch 38/200] [Batch 300/600] [D loss: -0.072752] [G loss: -0.460407]\n",
            "[Epoch 39/200] [Batch 0/600] [D loss: -0.214416] [G loss: -0.328812]\n",
            "[Epoch 39/200] [Batch 300/600] [D loss: -0.204418] [G loss: -0.359399]\n",
            "[Epoch 40/200] [Batch 0/600] [D loss: -0.160187] [G loss: -0.324719]\n",
            "[Epoch 40/200] [Batch 300/600] [D loss: -0.148643] [G loss: -0.349844]\n",
            "[Epoch 41/200] [Batch 0/600] [D loss: -0.134192] [G loss: -0.343834]\n",
            "[Epoch 41/200] [Batch 300/600] [D loss: -0.113800] [G loss: -0.437460]\n",
            "[Epoch 42/200] [Batch 0/600] [D loss: -0.120149] [G loss: -0.378985]\n",
            "[Epoch 42/200] [Batch 300/600] [D loss: -0.123529] [G loss: -0.358934]\n",
            "[Epoch 43/200] [Batch 0/600] [D loss: -0.108628] [G loss: -0.446804]\n",
            "[Epoch 43/200] [Batch 300/600] [D loss: -0.135994] [G loss: -0.389400]\n",
            "[Epoch 44/200] [Batch 0/600] [D loss: -0.146085] [G loss: -0.407246]\n",
            "[Epoch 44/200] [Batch 300/600] [D loss: 0.009073] [G loss: -0.420793]\n",
            "[Epoch 45/200] [Batch 0/600] [D loss: -0.128133] [G loss: -0.401970]\n",
            "[Epoch 45/200] [Batch 300/600] [D loss: -0.126840] [G loss: -0.446496]\n",
            "[Epoch 46/200] [Batch 0/600] [D loss: -0.151789] [G loss: -0.417027]\n",
            "[Epoch 46/200] [Batch 300/600] [D loss: 0.009214] [G loss: -0.605431]\n",
            "[Epoch 47/200] [Batch 0/600] [D loss: -0.185083] [G loss: -0.409407]\n",
            "[Epoch 47/200] [Batch 300/600] [D loss: -0.064629] [G loss: -0.461738]\n",
            "[Epoch 48/200] [Batch 0/600] [D loss: 0.537373] [G loss: -0.639368]\n",
            "[Epoch 48/200] [Batch 300/600] [D loss: 11.054534] [G loss: -0.227821]\n",
            "[Epoch 49/200] [Batch 0/600] [D loss: -0.058446] [G loss: -0.434265]\n",
            "[Epoch 49/200] [Batch 300/600] [D loss: 1.165970] [G loss: -0.876846]\n",
            "[Epoch 50/200] [Batch 0/600] [D loss: 0.232852] [G loss: -0.726899]\n",
            "[Epoch 50/200] [Batch 300/600] [D loss: 0.432557] [G loss: -0.891476]\n",
            "[Epoch 51/200] [Batch 0/600] [D loss: -0.062916] [G loss: -0.450417]\n",
            "[Epoch 51/200] [Batch 300/600] [D loss: -0.147550] [G loss: -0.425815]\n",
            "[Epoch 52/200] [Batch 0/600] [D loss: -0.220197] [G loss: -0.340166]\n",
            "[Epoch 52/200] [Batch 300/600] [D loss: -0.192728] [G loss: -0.348084]\n",
            "[Epoch 53/200] [Batch 0/600] [D loss: -0.200374] [G loss: -0.389295]\n",
            "[Epoch 53/200] [Batch 300/600] [D loss: -0.057712] [G loss: -0.500490]\n",
            "[Epoch 54/200] [Batch 0/600] [D loss: -0.107614] [G loss: -0.380709]\n",
            "[Epoch 54/200] [Batch 300/600] [D loss: -0.144174] [G loss: -0.394089]\n",
            "[Epoch 55/200] [Batch 0/600] [D loss: -0.148165] [G loss: -0.401331]\n",
            "[Epoch 55/200] [Batch 300/600] [D loss: -0.135277] [G loss: -0.368754]\n",
            "[Epoch 56/200] [Batch 0/600] [D loss: -0.110062] [G loss: -0.453305]\n",
            "[Epoch 56/200] [Batch 300/600] [D loss: -0.121715] [G loss: -0.437570]\n",
            "[Epoch 57/200] [Batch 0/600] [D loss: -0.138393] [G loss: -0.399421]\n",
            "[Epoch 57/200] [Batch 300/600] [D loss: -0.153712] [G loss: -0.375674]\n",
            "[Epoch 58/200] [Batch 0/600] [D loss: 0.886702] [G loss: -0.631179]\n",
            "[Epoch 58/200] [Batch 300/600] [D loss: -0.122283] [G loss: -0.418029]\n",
            "[Epoch 59/200] [Batch 0/600] [D loss: -0.130877] [G loss: -0.442253]\n",
            "[Epoch 59/200] [Batch 300/600] [D loss: -0.158692] [G loss: -0.432739]\n",
            "[Epoch 60/200] [Batch 0/600] [D loss: -0.166635] [G loss: -0.411486]\n",
            "[Epoch 60/200] [Batch 300/600] [D loss: -0.168521] [G loss: -0.404845]\n",
            "[Epoch 61/200] [Batch 0/600] [D loss: -0.131981] [G loss: -0.375179]\n",
            "[Epoch 61/200] [Batch 300/600] [D loss: -0.182161] [G loss: -0.396777]\n",
            "[Epoch 62/200] [Batch 0/600] [D loss: -0.143869] [G loss: -0.395824]\n",
            "[Epoch 62/200] [Batch 300/600] [D loss: -0.187911] [G loss: -0.430366]\n",
            "[Epoch 63/200] [Batch 0/600] [D loss: -0.141781] [G loss: -0.470062]\n",
            "[Epoch 63/200] [Batch 300/600] [D loss: -0.158467] [G loss: -0.361311]\n",
            "[Epoch 64/200] [Batch 0/600] [D loss: -0.124039] [G loss: -0.447682]\n",
            "[Epoch 64/200] [Batch 300/600] [D loss: -0.135976] [G loss: -0.393294]\n",
            "[Epoch 65/200] [Batch 0/600] [D loss: -0.068409] [G loss: -0.476043]\n",
            "[Epoch 65/200] [Batch 300/600] [D loss: -0.110488] [G loss: -0.443857]\n",
            "[Epoch 66/200] [Batch 0/600] [D loss: -0.059323] [G loss: -0.534846]\n",
            "[Epoch 66/200] [Batch 300/600] [D loss: -0.119815] [G loss: -0.436862]\n",
            "[Epoch 67/200] [Batch 0/600] [D loss: -0.169924] [G loss: -0.421869]\n",
            "[Epoch 67/200] [Batch 300/600] [D loss: -0.154842] [G loss: -0.377239]\n",
            "[Epoch 68/200] [Batch 0/600] [D loss: -0.133955] [G loss: -0.391650]\n",
            "[Epoch 68/200] [Batch 300/600] [D loss: -0.095686] [G loss: -0.421962]\n",
            "[Epoch 69/200] [Batch 0/600] [D loss: 0.053856] [G loss: -0.380685]\n",
            "[Epoch 69/200] [Batch 300/600] [D loss: -0.141815] [G loss: -0.411026]\n",
            "[Epoch 70/200] [Batch 0/600] [D loss: -0.135738] [G loss: -0.477853]\n",
            "[Epoch 70/200] [Batch 300/600] [D loss: -0.122430] [G loss: -0.498911]\n",
            "[Epoch 71/200] [Batch 0/600] [D loss: 0.012240] [G loss: -0.509579]\n",
            "[Epoch 71/200] [Batch 300/600] [D loss: -0.115855] [G loss: -0.497247]\n",
            "[Epoch 72/200] [Batch 0/600] [D loss: -0.079851] [G loss: -0.428948]\n",
            "[Epoch 72/200] [Batch 300/600] [D loss: -0.134412] [G loss: -0.387108]\n",
            "[Epoch 73/200] [Batch 0/600] [D loss: -0.109994] [G loss: -0.397577]\n",
            "[Epoch 73/200] [Batch 300/600] [D loss: -0.055975] [G loss: -0.320133]\n",
            "[Epoch 74/200] [Batch 0/600] [D loss: -0.105267] [G loss: -0.398979]\n",
            "[Epoch 74/200] [Batch 300/600] [D loss: -0.128541] [G loss: -0.434525]\n",
            "[Epoch 75/200] [Batch 0/600] [D loss: 0.033497] [G loss: -0.287049]\n",
            "[Epoch 75/200] [Batch 300/600] [D loss: -0.060721] [G loss: -0.362139]\n",
            "[Epoch 76/200] [Batch 0/600] [D loss: -0.084399] [G loss: -0.443704]\n",
            "[Epoch 76/200] [Batch 300/600] [D loss: -0.114877] [G loss: -0.443359]\n",
            "[Epoch 77/200] [Batch 0/600] [D loss: -0.138669] [G loss: -0.419899]\n",
            "[Epoch 77/200] [Batch 300/600] [D loss: -0.136671] [G loss: -0.398963]\n",
            "[Epoch 78/200] [Batch 0/600] [D loss: -0.135983] [G loss: -0.391157]\n",
            "[Epoch 78/200] [Batch 300/600] [D loss: -0.023061] [G loss: -0.402978]\n",
            "[Epoch 79/200] [Batch 0/600] [D loss: -0.145729] [G loss: -0.413839]\n",
            "[Epoch 79/200] [Batch 300/600] [D loss: 0.046061] [G loss: -0.360453]\n",
            "[Epoch 80/200] [Batch 0/600] [D loss: 0.110510] [G loss: -0.454532]\n",
            "[Epoch 80/200] [Batch 300/600] [D loss: 0.059037] [G loss: -0.430898]\n",
            "[Epoch 81/200] [Batch 0/600] [D loss: 0.031302] [G loss: -0.477001]\n",
            "[Epoch 81/200] [Batch 300/600] [D loss: -0.123853] [G loss: -0.407502]\n",
            "[Epoch 82/200] [Batch 0/600] [D loss: -0.023305] [G loss: -0.466669]\n",
            "[Epoch 82/200] [Batch 300/600] [D loss: -0.132124] [G loss: -0.407531]\n",
            "[Epoch 83/200] [Batch 0/600] [D loss: -0.067634] [G loss: -0.483342]\n",
            "[Epoch 83/200] [Batch 300/600] [D loss: -0.150517] [G loss: -0.439363]\n",
            "[Epoch 84/200] [Batch 0/600] [D loss: -0.177487] [G loss: -0.449152]\n",
            "[Epoch 84/200] [Batch 300/600] [D loss: -0.091032] [G loss: -0.500807]\n",
            "[Epoch 85/200] [Batch 0/600] [D loss: -0.112756] [G loss: -0.289584]\n",
            "[Epoch 85/200] [Batch 300/600] [D loss: -0.173679] [G loss: -0.456725]\n",
            "[Epoch 86/200] [Batch 0/600] [D loss: 0.011168] [G loss: -0.373895]\n",
            "[Epoch 86/200] [Batch 300/600] [D loss: -0.130034] [G loss: -0.383127]\n",
            "[Epoch 87/200] [Batch 0/600] [D loss: -0.171332] [G loss: -0.363008]\n",
            "[Epoch 87/200] [Batch 300/600] [D loss: -0.127498] [G loss: -0.448373]\n",
            "[Epoch 88/200] [Batch 0/600] [D loss: 0.057531] [G loss: -0.416260]\n",
            "[Epoch 88/200] [Batch 300/600] [D loss: -0.123076] [G loss: -0.437360]\n",
            "[Epoch 89/200] [Batch 0/600] [D loss: -0.136204] [G loss: -0.415559]\n",
            "[Epoch 89/200] [Batch 300/600] [D loss: -0.146665] [G loss: -0.331590]\n",
            "[Epoch 90/200] [Batch 0/600] [D loss: -0.172513] [G loss: -0.437816]\n",
            "[Epoch 90/200] [Batch 300/600] [D loss: -0.175854] [G loss: -0.426762]\n",
            "[Epoch 91/200] [Batch 0/600] [D loss: -0.115746] [G loss: -0.425239]\n",
            "[Epoch 91/200] [Batch 300/600] [D loss: -0.135789] [G loss: -0.457015]\n",
            "[Epoch 92/200] [Batch 0/600] [D loss: -0.155877] [G loss: -0.436145]\n",
            "[Epoch 92/200] [Batch 300/600] [D loss: -0.162151] [G loss: -0.419818]\n",
            "[Epoch 93/200] [Batch 0/600] [D loss: -0.128215] [G loss: -0.397962]\n",
            "[Epoch 93/200] [Batch 300/600] [D loss: -0.128751] [G loss: -0.414728]\n",
            "[Epoch 94/200] [Batch 0/600] [D loss: 9.998542] [G loss: -0.999974]\n",
            "[Epoch 94/200] [Batch 300/600] [D loss: 0.031068] [G loss: -0.549845]\n",
            "[Epoch 95/200] [Batch 0/600] [D loss: -0.053638] [G loss: -0.536876]\n",
            "[Epoch 95/200] [Batch 300/600] [D loss: -0.102716] [G loss: -0.431773]\n",
            "[Epoch 96/200] [Batch 0/600] [D loss: -0.132500] [G loss: -0.396467]\n",
            "[Epoch 96/200] [Batch 300/600] [D loss: -0.144654] [G loss: -0.429895]\n",
            "[Epoch 97/200] [Batch 0/600] [D loss: -0.185387] [G loss: -0.393445]\n",
            "[Epoch 97/200] [Batch 300/600] [D loss: -0.144873] [G loss: -0.401530]\n",
            "[Epoch 98/200] [Batch 0/600] [D loss: -0.091668] [G loss: -0.395142]\n",
            "[Epoch 98/200] [Batch 300/600] [D loss: -0.101991] [G loss: -0.427877]\n",
            "[Epoch 99/200] [Batch 0/600] [D loss: -0.173521] [G loss: -0.402090]\n",
            "[Epoch 99/200] [Batch 300/600] [D loss: -0.184739] [G loss: -0.368570]\n",
            "[Epoch 100/200] [Batch 0/600] [D loss: -0.144488] [G loss: -0.478511]\n",
            "[Epoch 100/200] [Batch 300/600] [D loss: -0.189406] [G loss: -0.406548]\n",
            "[Epoch 101/200] [Batch 0/600] [D loss: -0.161102] [G loss: -0.388186]\n",
            "[Epoch 101/200] [Batch 300/600] [D loss: -0.137981] [G loss: -0.415945]\n",
            "[Epoch 102/200] [Batch 0/600] [D loss: 0.219473] [G loss: -0.480507]\n",
            "[Epoch 102/200] [Batch 300/600] [D loss: -0.122740] [G loss: -0.386964]\n",
            "[Epoch 103/200] [Batch 0/600] [D loss: -0.147148] [G loss: -0.389936]\n",
            "[Epoch 103/200] [Batch 300/600] [D loss: -0.171974] [G loss: -0.365317]\n",
            "[Epoch 104/200] [Batch 0/600] [D loss: -0.174850] [G loss: -0.444189]\n",
            "[Epoch 104/200] [Batch 300/600] [D loss: -0.188796] [G loss: -0.410498]\n",
            "[Epoch 105/200] [Batch 0/600] [D loss: -0.162685] [G loss: -0.445339]\n",
            "[Epoch 105/200] [Batch 300/600] [D loss: -0.196693] [G loss: -0.418065]\n",
            "[Epoch 106/200] [Batch 0/600] [D loss: -0.205697] [G loss: -0.387365]\n",
            "[Epoch 106/200] [Batch 300/600] [D loss: -0.051339] [G loss: -0.412052]\n",
            "[Epoch 107/200] [Batch 0/600] [D loss: -0.149832] [G loss: -0.457652]\n",
            "[Epoch 107/200] [Batch 300/600] [D loss: -0.171502] [G loss: -0.424756]\n",
            "[Epoch 108/200] [Batch 0/600] [D loss: -0.159887] [G loss: -0.340564]\n",
            "[Epoch 108/200] [Batch 300/600] [D loss: -0.179239] [G loss: -0.457108]\n",
            "[Epoch 109/200] [Batch 0/600] [D loss: -0.084041] [G loss: -0.358400]\n",
            "[Epoch 109/200] [Batch 300/600] [D loss: -0.160003] [G loss: -0.373243]\n",
            "[Epoch 110/200] [Batch 0/600] [D loss: -0.121559] [G loss: -0.401080]\n",
            "[Epoch 110/200] [Batch 300/600] [D loss: -0.146297] [G loss: -0.442405]\n",
            "[Epoch 111/200] [Batch 0/600] [D loss: -0.173636] [G loss: -0.403441]\n",
            "[Epoch 111/200] [Batch 300/600] [D loss: -0.092081] [G loss: -0.351707]\n",
            "[Epoch 112/200] [Batch 0/600] [D loss: -0.105764] [G loss: -0.462525]\n",
            "[Epoch 112/200] [Batch 300/600] [D loss: -0.145068] [G loss: -0.424826]\n",
            "[Epoch 113/200] [Batch 0/600] [D loss: 0.142177] [G loss: -0.518003]\n",
            "[Epoch 113/200] [Batch 300/600] [D loss: -0.027878] [G loss: -0.521464]\n",
            "[Epoch 114/200] [Batch 0/600] [D loss: -0.087005] [G loss: -0.440820]\n",
            "[Epoch 114/200] [Batch 300/600] [D loss: -0.151667] [G loss: -0.418948]\n",
            "[Epoch 115/200] [Batch 0/600] [D loss: 0.001949] [G loss: -0.464261]\n",
            "[Epoch 115/200] [Batch 300/600] [D loss: -0.139300] [G loss: -0.435770]\n",
            "[Epoch 116/200] [Batch 0/600] [D loss: -0.045914] [G loss: -0.463069]\n",
            "[Epoch 116/200] [Batch 300/600] [D loss: -0.072486] [G loss: -0.501684]\n",
            "[Epoch 117/200] [Batch 0/600] [D loss: -0.162132] [G loss: -0.403744]\n",
            "[Epoch 117/200] [Batch 300/600] [D loss: -0.099705] [G loss: -0.323139]\n",
            "[Epoch 118/200] [Batch 0/600] [D loss: -0.164273] [G loss: -0.411000]\n",
            "[Epoch 118/200] [Batch 300/600] [D loss: -0.167176] [G loss: -0.419053]\n",
            "[Epoch 119/200] [Batch 0/600] [D loss: -0.091364] [G loss: -0.466802]\n",
            "[Epoch 119/200] [Batch 300/600] [D loss: -0.184464] [G loss: -0.447407]\n",
            "[Epoch 120/200] [Batch 0/600] [D loss: -0.154174] [G loss: -0.468656]\n",
            "[Epoch 120/200] [Batch 300/600] [D loss: 0.097224] [G loss: -0.564808]\n",
            "[Epoch 121/200] [Batch 0/600] [D loss: -0.122331] [G loss: -0.312702]\n",
            "[Epoch 121/200] [Batch 300/600] [D loss: -0.163542] [G loss: -0.436883]\n",
            "[Epoch 122/200] [Batch 0/600] [D loss: 0.026334] [G loss: -0.365055]\n",
            "[Epoch 122/200] [Batch 300/600] [D loss: 0.139003] [G loss: -0.587142]\n",
            "[Epoch 123/200] [Batch 0/600] [D loss: -0.055134] [G loss: -0.462887]\n",
            "[Epoch 123/200] [Batch 300/600] [D loss: -0.185550] [G loss: -0.383646]\n",
            "[Epoch 124/200] [Batch 0/600] [D loss: -0.108126] [G loss: -0.474650]\n",
            "[Epoch 124/200] [Batch 300/600] [D loss: -0.139716] [G loss: -0.417400]\n",
            "[Epoch 125/200] [Batch 0/600] [D loss: -0.144727] [G loss: -0.472716]\n",
            "[Epoch 125/200] [Batch 300/600] [D loss: -0.122545] [G loss: -0.468239]\n",
            "[Epoch 126/200] [Batch 0/600] [D loss: -0.110277] [G loss: -0.481779]\n",
            "[Epoch 126/200] [Batch 300/600] [D loss: -0.159168] [G loss: -0.493744]\n",
            "[Epoch 127/200] [Batch 0/600] [D loss: -0.132460] [G loss: -0.373232]\n",
            "[Epoch 127/200] [Batch 300/600] [D loss: -0.156105] [G loss: -0.351819]\n",
            "[Epoch 128/200] [Batch 0/600] [D loss: -0.129387] [G loss: -0.384443]\n",
            "[Epoch 128/200] [Batch 300/600] [D loss: -0.143356] [G loss: -0.370901]\n",
            "[Epoch 129/200] [Batch 0/600] [D loss: -0.157218] [G loss: -0.441374]\n",
            "[Epoch 129/200] [Batch 300/600] [D loss: 0.008933] [G loss: -0.392087]\n",
            "[Epoch 130/200] [Batch 0/600] [D loss: -0.134199] [G loss: -0.470432]\n",
            "[Epoch 130/200] [Batch 300/600] [D loss: 9.993698] [G loss: -0.999970]\n",
            "[Epoch 131/200] [Batch 0/600] [D loss: -0.137035] [G loss: -0.443807]\n",
            "[Epoch 131/200] [Batch 300/600] [D loss: -0.145645] [G loss: -0.424974]\n",
            "[Epoch 132/200] [Batch 0/600] [D loss: -0.161774] [G loss: -0.428321]\n",
            "[Epoch 132/200] [Batch 300/600] [D loss: -0.146194] [G loss: -0.471262]\n",
            "[Epoch 133/200] [Batch 0/600] [D loss: -0.134711] [G loss: -0.421877]\n",
            "[Epoch 133/200] [Batch 300/600] [D loss: -0.171118] [G loss: -0.455979]\n",
            "[Epoch 134/200] [Batch 0/600] [D loss: -0.125168] [G loss: -0.430672]\n",
            "[Epoch 134/200] [Batch 300/600] [D loss: -0.180184] [G loss: -0.412018]\n",
            "[Epoch 135/200] [Batch 0/600] [D loss: -0.141043] [G loss: -0.467097]\n",
            "[Epoch 135/200] [Batch 300/600] [D loss: -0.086625] [G loss: -0.408738]\n",
            "[Epoch 136/200] [Batch 0/600] [D loss: -0.194817] [G loss: -0.425162]\n",
            "[Epoch 136/200] [Batch 300/600] [D loss: -0.156914] [G loss: -0.379796]\n",
            "[Epoch 137/200] [Batch 0/600] [D loss: -0.141170] [G loss: -0.472322]\n",
            "[Epoch 137/200] [Batch 300/600] [D loss: 0.577936] [G loss: -0.661636]\n",
            "[Epoch 138/200] [Batch 0/600] [D loss: 0.739806] [G loss: -0.729505]\n",
            "[Epoch 138/200] [Batch 300/600] [D loss: -0.118746] [G loss: -0.426267]\n",
            "[Epoch 139/200] [Batch 0/600] [D loss: 0.314851] [G loss: -0.665644]\n",
            "[Epoch 139/200] [Batch 300/600] [D loss: -0.131020] [G loss: -0.429684]\n",
            "[Epoch 140/200] [Batch 0/600] [D loss: 0.007503] [G loss: -0.567415]\n",
            "[Epoch 140/200] [Batch 300/600] [D loss: 0.015886] [G loss: -0.486886]\n",
            "[Epoch 141/200] [Batch 0/600] [D loss: -0.125602] [G loss: -0.439057]\n",
            "[Epoch 141/200] [Batch 300/600] [D loss: -0.144010] [G loss: -0.443408]\n",
            "[Epoch 142/200] [Batch 0/600] [D loss: -0.133826] [G loss: -0.398910]\n",
            "[Epoch 142/200] [Batch 300/600] [D loss: -0.065405] [G loss: -0.389402]\n",
            "[Epoch 143/200] [Batch 0/600] [D loss: -0.148125] [G loss: -0.481778]\n",
            "[Epoch 143/200] [Batch 300/600] [D loss: -0.139254] [G loss: -0.467956]\n",
            "[Epoch 144/200] [Batch 0/600] [D loss: -0.186420] [G loss: -0.381513]\n",
            "[Epoch 144/200] [Batch 300/600] [D loss: -0.119833] [G loss: -0.500556]\n",
            "[Epoch 145/200] [Batch 0/600] [D loss: -0.051112] [G loss: -0.359132]\n",
            "[Epoch 145/200] [Batch 300/600] [D loss: 0.044707] [G loss: -0.431677]\n",
            "[Epoch 146/200] [Batch 0/600] [D loss: -0.112638] [G loss: -0.434178]\n",
            "[Epoch 146/200] [Batch 300/600] [D loss: -0.070313] [G loss: -0.416815]\n",
            "[Epoch 147/200] [Batch 0/600] [D loss: -0.091010] [G loss: -0.404464]\n",
            "[Epoch 147/200] [Batch 300/600] [D loss: -0.124409] [G loss: -0.312084]\n",
            "[Epoch 148/200] [Batch 0/600] [D loss: -0.147939] [G loss: -0.366912]\n",
            "[Epoch 148/200] [Batch 300/600] [D loss: -0.141027] [G loss: -0.444390]\n",
            "[Epoch 149/200] [Batch 0/600] [D loss: -0.142522] [G loss: -0.485794]\n",
            "[Epoch 149/200] [Batch 300/600] [D loss: -0.151975] [G loss: -0.416411]\n",
            "[Epoch 150/200] [Batch 0/600] [D loss: -0.198481] [G loss: -0.365482]\n",
            "[Epoch 150/200] [Batch 300/600] [D loss: -0.167529] [G loss: -0.418072]\n",
            "[Epoch 151/200] [Batch 0/600] [D loss: -0.139947] [G loss: -0.390793]\n",
            "[Epoch 151/200] [Batch 300/600] [D loss: -0.144291] [G loss: -0.381922]\n",
            "[Epoch 152/200] [Batch 0/600] [D loss: -0.142363] [G loss: -0.408785]\n",
            "[Epoch 152/200] [Batch 300/600] [D loss: -0.138077] [G loss: -0.469803]\n",
            "[Epoch 153/200] [Batch 0/600] [D loss: -0.180419] [G loss: -0.422328]\n",
            "[Epoch 153/200] [Batch 300/600] [D loss: -0.155081] [G loss: -0.420519]\n",
            "[Epoch 154/200] [Batch 0/600] [D loss: -0.201948] [G loss: -0.407389]\n",
            "[Epoch 154/200] [Batch 300/600] [D loss: -0.137313] [G loss: -0.435418]\n",
            "[Epoch 155/200] [Batch 0/600] [D loss: -0.163196] [G loss: -0.404323]\n",
            "[Epoch 155/200] [Batch 300/600] [D loss: -0.185046] [G loss: -0.442537]\n",
            "[Epoch 156/200] [Batch 0/600] [D loss: -0.166042] [G loss: -0.456278]\n",
            "[Epoch 156/200] [Batch 300/600] [D loss: -0.163916] [G loss: -0.443079]\n",
            "[Epoch 157/200] [Batch 0/600] [D loss: 0.079988] [G loss: -0.419925]\n",
            "[Epoch 157/200] [Batch 300/600] [D loss: 0.284037] [G loss: -0.557095]\n",
            "[Epoch 158/200] [Batch 0/600] [D loss: -0.110901] [G loss: -0.563898]\n",
            "[Epoch 158/200] [Batch 300/600] [D loss: -0.177054] [G loss: -0.415997]\n",
            "[Epoch 159/200] [Batch 0/600] [D loss: -0.195908] [G loss: -0.415266]\n",
            "[Epoch 159/200] [Batch 300/600] [D loss: -0.196163] [G loss: -0.394206]\n",
            "[Epoch 160/200] [Batch 0/600] [D loss: -0.144017] [G loss: -0.483097]\n",
            "[Epoch 160/200] [Batch 300/600] [D loss: -0.130625] [G loss: -0.445052]\n",
            "[Epoch 161/200] [Batch 0/600] [D loss: -0.126023] [G loss: -0.352015]\n",
            "[Epoch 161/200] [Batch 300/600] [D loss: -0.161223] [G loss: -0.423310]\n",
            "[Epoch 162/200] [Batch 0/600] [D loss: -0.185788] [G loss: -0.421227]\n",
            "[Epoch 162/200] [Batch 300/600] [D loss: -0.190387] [G loss: -0.391984]\n",
            "[Epoch 163/200] [Batch 0/600] [D loss: -0.161048] [G loss: -0.494833]\n",
            "[Epoch 163/200] [Batch 300/600] [D loss: -0.083692] [G loss: -0.319506]\n",
            "[Epoch 164/200] [Batch 0/600] [D loss: -0.143544] [G loss: -0.409119]\n",
            "[Epoch 164/200] [Batch 300/600] [D loss: -0.188998] [G loss: -0.384336]\n",
            "[Epoch 165/200] [Batch 0/600] [D loss: -0.170991] [G loss: -0.332674]\n",
            "[Epoch 165/200] [Batch 300/600] [D loss: -0.181981] [G loss: -0.461849]\n",
            "[Epoch 166/200] [Batch 0/600] [D loss: -0.191045] [G loss: -0.457009]\n",
            "[Epoch 166/200] [Batch 300/600] [D loss: -0.170210] [G loss: -0.422164]\n",
            "[Epoch 167/200] [Batch 0/600] [D loss: -0.151561] [G loss: -0.410791]\n",
            "[Epoch 167/200] [Batch 300/600] [D loss: -0.162942] [G loss: -0.369740]\n",
            "[Epoch 168/200] [Batch 0/600] [D loss: -0.144050] [G loss: -0.398969]\n",
            "[Epoch 168/200] [Batch 300/600] [D loss: -0.170124] [G loss: -0.498192]\n",
            "[Epoch 169/200] [Batch 0/600] [D loss: -0.085353] [G loss: -0.453881]\n",
            "[Epoch 169/200] [Batch 300/600] [D loss: -0.158630] [G loss: -0.378448]\n",
            "[Epoch 170/200] [Batch 0/600] [D loss: -0.177555] [G loss: -0.423760]\n",
            "[Epoch 170/200] [Batch 300/600] [D loss: -0.104566] [G loss: -0.490020]\n",
            "[Epoch 171/200] [Batch 0/600] [D loss: -0.173425] [G loss: -0.335033]\n",
            "[Epoch 171/200] [Batch 300/600] [D loss: -0.157027] [G loss: -0.340086]\n",
            "[Epoch 172/200] [Batch 0/600] [D loss: -0.046880] [G loss: -0.681926]\n",
            "[Epoch 172/200] [Batch 300/600] [D loss: -0.167681] [G loss: -0.403292]\n",
            "[Epoch 173/200] [Batch 0/600] [D loss: -0.135163] [G loss: -0.403529]\n",
            "[Epoch 173/200] [Batch 300/600] [D loss: -0.174570] [G loss: -0.403453]\n",
            "[Epoch 174/200] [Batch 0/600] [D loss: -0.132574] [G loss: -0.554962]\n",
            "[Epoch 174/200] [Batch 300/600] [D loss: -0.157895] [G loss: -0.449559]\n",
            "[Epoch 175/200] [Batch 0/600] [D loss: -0.124450] [G loss: -0.316020]\n",
            "[Epoch 175/200] [Batch 300/600] [D loss: -0.184312] [G loss: -0.472390]\n",
            "[Epoch 176/200] [Batch 0/600] [D loss: -0.191031] [G loss: -0.428999]\n",
            "[Epoch 176/200] [Batch 300/600] [D loss: -0.157237] [G loss: -0.332586]\n",
            "[Epoch 177/200] [Batch 0/600] [D loss: 0.089671] [G loss: -0.593874]\n",
            "[Epoch 177/200] [Batch 300/600] [D loss: 0.669587] [G loss: -0.627560]\n",
            "[Epoch 178/200] [Batch 0/600] [D loss: 0.975592] [G loss: -0.739462]\n",
            "[Epoch 178/200] [Batch 300/600] [D loss: 0.018077] [G loss: -0.455179]\n",
            "[Epoch 179/200] [Batch 0/600] [D loss: 0.992258] [G loss: -0.710570]\n",
            "[Epoch 179/200] [Batch 300/600] [D loss: 0.263051] [G loss: -0.645167]\n",
            "[Epoch 180/200] [Batch 0/600] [D loss: 0.043722] [G loss: -0.514103]\n",
            "[Epoch 180/200] [Batch 300/600] [D loss: 0.080800] [G loss: -0.423742]\n",
            "[Epoch 181/200] [Batch 0/600] [D loss: 0.474640] [G loss: -0.473860]\n",
            "[Epoch 181/200] [Batch 300/600] [D loss: 0.354771] [G loss: -0.393827]\n",
            "[Epoch 182/200] [Batch 0/600] [D loss: 0.205920] [G loss: -0.444007]\n",
            "[Epoch 182/200] [Batch 300/600] [D loss: -0.121556] [G loss: -0.445443]\n",
            "[Epoch 183/200] [Batch 0/600] [D loss: -0.028427] [G loss: -0.430935]\n",
            "[Epoch 183/200] [Batch 300/600] [D loss: -0.226675] [G loss: -0.427457]\n",
            "[Epoch 184/200] [Batch 0/600] [D loss: -0.147114] [G loss: -0.360857]\n",
            "[Epoch 184/200] [Batch 300/600] [D loss: -0.179310] [G loss: -0.387838]\n",
            "[Epoch 185/200] [Batch 0/600] [D loss: 0.136406] [G loss: -0.508663]\n",
            "[Epoch 185/200] [Batch 300/600] [D loss: -0.067440] [G loss: -0.347028]\n",
            "[Epoch 186/200] [Batch 0/600] [D loss: -0.194530] [G loss: -0.372790]\n",
            "[Epoch 186/200] [Batch 300/600] [D loss: -0.007571] [G loss: -0.367604]\n",
            "[Epoch 187/200] [Batch 0/600] [D loss: -0.204075] [G loss: -0.390313]\n",
            "[Epoch 187/200] [Batch 300/600] [D loss: -0.092505] [G loss: -0.587951]\n",
            "[Epoch 188/200] [Batch 0/600] [D loss: -0.164822] [G loss: -0.480417]\n",
            "[Epoch 188/200] [Batch 300/600] [D loss: -0.220143] [G loss: -0.431117]\n",
            "[Epoch 189/200] [Batch 0/600] [D loss: -0.202806] [G loss: -0.427312]\n",
            "[Epoch 189/200] [Batch 300/600] [D loss: -0.188552] [G loss: -0.444663]\n",
            "[Epoch 190/200] [Batch 0/600] [D loss: -0.205218] [G loss: -0.423669]\n",
            "[Epoch 190/200] [Batch 300/600] [D loss: -0.105398] [G loss: -0.473095]\n",
            "[Epoch 191/200] [Batch 0/600] [D loss: -0.116668] [G loss: -0.398641]\n",
            "[Epoch 191/200] [Batch 300/600] [D loss: -0.115514] [G loss: -0.415585]\n",
            "[Epoch 192/200] [Batch 0/600] [D loss: -0.063096] [G loss: -0.412534]\n",
            "[Epoch 192/200] [Batch 300/600] [D loss: -0.146679] [G loss: -0.335050]\n",
            "[Epoch 193/200] [Batch 0/600] [D loss: -0.124508] [G loss: -0.406173]\n",
            "[Epoch 193/200] [Batch 300/600] [D loss: -0.070614] [G loss: -0.469607]\n",
            "[Epoch 194/200] [Batch 0/600] [D loss: -0.147996] [G loss: -0.403370]\n",
            "[Epoch 194/200] [Batch 300/600] [D loss: -0.155332] [G loss: -0.351958]\n",
            "[Epoch 195/200] [Batch 0/600] [D loss: -0.138524] [G loss: -0.446287]\n",
            "[Epoch 195/200] [Batch 300/600] [D loss: -0.129685] [G loss: -0.476985]\n",
            "[Epoch 196/200] [Batch 0/600] [D loss: -0.172893] [G loss: -0.471745]\n",
            "[Epoch 196/200] [Batch 300/600] [D loss: -0.089047] [G loss: -0.379062]\n",
            "[Epoch 197/200] [Batch 0/600] [D loss: -0.151445] [G loss: -0.353480]\n",
            "[Epoch 197/200] [Batch 300/600] [D loss: -0.006571] [G loss: -0.425191]\n",
            "[Epoch 198/200] [Batch 0/600] [D loss: -0.175889] [G loss: -0.401950]\n",
            "[Epoch 198/200] [Batch 300/600] [D loss: -0.088343] [G loss: -0.323851]\n",
            "[Epoch 199/200] [Batch 0/600] [D loss: -0.184017] [G loss: -0.447315]\n",
            "[Epoch 199/200] [Batch 300/600] [D loss: -0.107034] [G loss: -0.452710]\n"
          ]
        }
      ]
    },
    {
      "cell_type": "markdown",
      "source": [
        "## 7. Viewing the results"
      ],
      "metadata": {
        "id": "-IZC3M8doRw5"
      }
    },
    {
      "cell_type": "code",
      "source": [
        "Tensor = torch.cuda.FloatTensor if torch.cuda.is_available() else torch.FloatTensor\n",
        "z = Variable(Tensor(np.random.normal(0, 1, (15, z_dim))))\n",
        "gen_imgs = G(z).detach()\n",
        "fig = plt.figure()\n",
        "for i in range(15):\n",
        "    plt.subplot(5,3,i+1)\n",
        "    plt.tight_layout()\n",
        "    plt.imshow(gen_imgs[i].cpu().view(28, 28), cmap='gray', interpolation='none')\n",
        "    plt.xticks([])\n",
        "    plt.yticks([])"
      ],
      "metadata": {
        "colab": {
          "base_uri": "https://localhost:8080/",
          "height": 284
        },
        "id": "zKLutyq_iUWy",
        "outputId": "5b58bae7-5afb-4ea7-ee6c-ac5af61947fe"
      },
      "execution_count": 14,
      "outputs": [
        {
          "output_type": "display_data",
          "data": {
            "text/plain": [
              "<Figure size 432x288 with 15 Axes>"
            ],
            "image/png": "[encoded data removed]"
          },
          "metadata": {}
        }
      ]
    }
  ]
}