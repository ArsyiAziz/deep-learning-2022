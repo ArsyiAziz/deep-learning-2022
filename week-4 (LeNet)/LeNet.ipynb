{
  "cells": [
    {
      "cell_type": "markdown",
      "id": "beautiful-layer",
      "metadata": {
        "id": "beautiful-layer"
      },
      "source": [
        "# Assignment 1 - LeNet\n",
        "*This notebook was run by Arsyi Syarief Aziz (H071191003) for the Introduction to Deep Learning course (Unhas) taught by Dr. Risman Adnan.*\n",
        "\n"
      ]
    },
    {
      "cell_type": "markdown",
      "id": "complicated-staff",
      "metadata": {
        "id": "complicated-staff"
      },
      "source": [
        "In this assignment, I will attempt to recreate the LeNet CNN architecture, similar to what Yann LeCun introduced in 1998, to classify numbers found in the MNIST dataset."
      ]
    },
    {
      "cell_type": "markdown",
      "id": "center-scheduling",
      "metadata": {
        "id": "center-scheduling"
      },
      "source": [
        "The original LeNet (LeNet-5) architecture consists of two parts: \n",
        "1. a convolutional encoder consisting of two convolutional layers (which uses a 5x5 kernel and the scaled hyperbolic tangent activation function) and two average pooling layers,\n",
        "2. a dense block consisting of three fully-connected layers with the scaled tanh activation function applied to its first and second layers layers, and the euclidiean radial basis function applied to its output layer.\n",
        "\n",
        "The architecture can be visualized as follows\n",
        "![Screen Shot 2022-03-25 at 9.01.49 pm.png](https://drive.google.com/uc?export=view&id=1n8zxorUNbGRoTzdj8ljvk8plGujBE4LD)"
      ]
    },
    {
      "cell_type": "markdown",
      "id": "experienced-gravity",
      "metadata": {
        "id": "experienced-gravity"
      },
      "source": [
        "## Implementation"
      ]
    },
    {
      "cell_type": "code",
      "execution_count": 1,
      "id": "pleasant-opposition",
      "metadata": {
        "id": "pleasant-opposition"
      },
      "outputs": [],
      "source": [
        "import torch\n",
        "from torch import nn\n",
        "import torch.optim as optim\n",
        "import matplotlib.pyplot as plt"
      ]
    },
    {
      "cell_type": "markdown",
      "source": [
        "This is an implementation of the squashing function used by LeCun"
      ],
      "metadata": {
        "id": "ySQAU7yE3NiX"
      },
      "id": "ySQAU7yE3NiX"
    },
    {
      "cell_type": "code",
      "source": [
        "class ScaledTanh(nn.Module):\n",
        "  def __init__(self, amplitude=1.7159, slope=2/3): # Amplitude and slope are defined in LeCun's paper (check Appendix A)\n",
        "    super().__init__()\n",
        "    self.amplitude = amplitude\n",
        "    self.slope = slope\n",
        "\n",
        "  def forward(self, x):\n",
        "    return self.amplitude * torch.tanh(self.slope * x)"
      ],
      "metadata": {
        "id": "F9uBExBhaYOU"
      },
      "id": "F9uBExBhaYOU",
      "execution_count": 2,
      "outputs": []
    },
    {
      "cell_type": "markdown",
      "source": [
        "This is an implementation of the Euclidean radial basis function"
      ],
      "metadata": {
        "id": "mPKw3uP-3cnb"
      },
      "id": "mPKw3uP-3cnb"
    },
    {
      "cell_type": "code",
      "source": [
        "class RBF(nn.Module):\n",
        "  def __init__(self, input_features, output_features):\n",
        "    super().__init__()\n",
        "    self.input_features = input_features\n",
        "    self.output_features = output_features\n",
        "    self.weight = nn.Parameter(torch.Tensor(output_features, input_features))\n",
        "    nn.init.uniform_(self.weight, -1, 1)\n",
        "\n",
        "  def forward(self, x):\n",
        "    dif = x[:, None, :] - self.weight # (m, 1, input_features) - (output_features, input_features)\n",
        "    out = torch.sum(torch.pow(dif, 2), axis=2)\n",
        "    return out"
      ],
      "metadata": {
        "id": "huMmX55VjSWe"
      },
      "id": "huMmX55VjSWe",
      "execution_count": 3,
      "outputs": []
    },
    {
      "cell_type": "markdown",
      "source": [
        "This is my implementation of LeNet-5"
      ],
      "metadata": {
        "id": "wfDz812y3kDz"
      },
      "id": "wfDz812y3kDz"
    },
    {
      "cell_type": "code",
      "execution_count": 4,
      "id": "southeast-commissioner",
      "metadata": {
        "id": "southeast-commissioner"
      },
      "outputs": [],
      "source": [
        "net = nn.Sequential(\n",
        "    nn.Conv2d(1, 6, kernel_size=5, padding=2), ScaledTanh(),\n",
        "    nn.AvgPool2d(kernel_size=2),\n",
        "    nn.Conv2d(6, 16, kernel_size=5), ScaledTanh(),\n",
        "    nn.AvgPool2d(kernel_size=2),\n",
        "    nn.Flatten(),\n",
        "    nn.Linear(16 * 5 * 5, 120), ScaledTanh(),\n",
        "    nn.Linear(120, 84), ScaledTanh(), \n",
        "    RBF(84, 10),\n",
        ")"
      ]
    },
    {
      "cell_type": "markdown",
      "source": [
        "## Training"
      ],
      "metadata": {
        "id": "4tnXljV4p9H1"
      },
      "id": "4tnXljV4p9H1"
    },
    {
      "cell_type": "code",
      "execution_count": 5,
      "id": "administrative-product",
      "metadata": {
        "id": "administrative-product"
      },
      "outputs": [],
      "source": [
        "import torchvision.datasets as datasets\n",
        "from torchvision import transforms\n",
        "import torchvision.transforms as transforms"
      ]
    },
    {
      "cell_type": "code",
      "source": [
        "cuda = torch.device('cuda')"
      ],
      "metadata": {
        "id": "45LYSfXSpRAB"
      },
      "id": "45LYSfXSpRAB",
      "execution_count": 6,
      "outputs": []
    },
    {
      "cell_type": "code",
      "execution_count": 7,
      "id": "hollywood-details",
      "metadata": {
        "id": "hollywood-details"
      },
      "outputs": [],
      "source": [
        "trans = transforms.Compose([transforms.ToTensor(), transforms.Normalize((0,), (1.0,))])"
      ]
    },
    {
      "cell_type": "code",
      "execution_count": 8,
      "id": "sharing-corporation",
      "metadata": {
        "id": "sharing-corporation"
      },
      "outputs": [],
      "source": [
        "mnist_trainset = datasets.MNIST(root='./data', train=True, download=True, transform=trans)\n",
        "mnist_testset = datasets.MNIST(root='./data', train=False, download=True, transform=trans)"
      ]
    },
    {
      "cell_type": "code",
      "source": [
        "mnist_trainset.train_data.to(cuda)\n",
        "mnist_trainset.train_labels.to(cuda)"
      ],
      "metadata": {
        "colab": {
          "base_uri": "https://localhost:8080/"
        },
        "id": "Ackjw9FYpYqr",
        "outputId": "4a4adcec-11e7-488a-c14b-2759cb34c37f"
      },
      "id": "Ackjw9FYpYqr",
      "execution_count": 9,
      "outputs": [
        {
          "output_type": "stream",
          "name": "stderr",
          "text": [
            "/usr/local/lib/python3.7/dist-packages/torchvision/datasets/mnist.py:62: UserWarning: train_data has been renamed data\n",
            "  warnings.warn(\"train_data has been renamed data\")\n",
            "/usr/local/lib/python3.7/dist-packages/torchvision/datasets/mnist.py:52: UserWarning: train_labels has been renamed targets\n",
            "  warnings.warn(\"train_labels has been renamed targets\")\n"
          ]
        },
        {
          "output_type": "execute_result",
          "data": {
            "text/plain": [
              "tensor([5, 0, 4,  ..., 5, 6, 8], device='cuda:0')"
            ]
          },
          "metadata": {},
          "execution_count": 9
        }
      ]
    },
    {
      "cell_type": "code",
      "execution_count": 10,
      "id": "temporal-booking",
      "metadata": {
        "colab": {
          "base_uri": "https://localhost:8080/"
        },
        "id": "temporal-booking",
        "outputId": "37c4a720-397e-4ee2-bf5e-e81bf82bdfe9"
      },
      "outputs": [
        {
          "output_type": "stream",
          "name": "stdout",
          "text": [
            "60000 10000\n"
          ]
        }
      ],
      "source": [
        "print(len(mnist_trainset), len(mnist_testset))"
      ]
    },
    {
      "cell_type": "code",
      "execution_count": 11,
      "id": "subjective-democrat",
      "metadata": {
        "id": "subjective-democrat"
      },
      "outputs": [],
      "source": [
        "def train(net, dataset, epochs=10, lr=0.01, momentum=0.9, batch_size=256): \n",
        "\n",
        "    train_loader = torch.utils.data.DataLoader(\n",
        "                 dataset=dataset,\n",
        "                 batch_size=batch_size,\n",
        "                 shuffle=True)\n",
        "\n",
        "    criterion = nn.CrossEntropyLoss()\n",
        "    optimizer = optim.SGD(net.parameters(), lr=lr, momentum=momentum)\n",
        "  \n",
        "    for epoch in range(epochs):  # loop over the dataset multiple times\n",
        "        running_loss = 0.0\n",
        "    \n",
        "        for train_batch in train_loader:\n",
        "            X, y = train_batch\n",
        "\n",
        "            # zero the parameter gradients\n",
        "            optimizer.zero_grad()\n",
        "\n",
        "            # forward + backward + optimize\n",
        "            outputs = net(X)\n",
        "            loss = criterion(outputs, y)\n",
        "            loss.backward()\n",
        "            optimizer.step()\n",
        "\n",
        "            running_loss += loss.item()\n",
        "        \n",
        "        print(f'Epoch: {epoch + 1}, loss: {running_loss / len(train_loader.dataset):.6f}')\n",
        "\n",
        "    print('Finished Training')"
      ]
    },
    {
      "cell_type": "markdown",
      "source": [
        "I will train the neural network on the MNIST dataset with a learning rate of 0.01 and a total of 20 epochs."
      ],
      "metadata": {
        "id": "U1OlA-gj37Ml"
      },
      "id": "U1OlA-gj37Ml"
    },
    {
      "cell_type": "code",
      "execution_count": 12,
      "id": "macro-richards",
      "metadata": {
        "colab": {
          "base_uri": "https://localhost:8080/"
        },
        "id": "macro-richards",
        "outputId": "5dd83f16-a65e-4b7a-b704-7aefdab7a194"
      },
      "outputs": [
        {
          "output_type": "stream",
          "name": "stdout",
          "text": [
            "Epoch: 1, loss: 0.001931\n",
            "Epoch: 2, loss: 0.001176\n",
            "Epoch: 3, loss: 0.000975\n",
            "Epoch: 4, loss: 0.000769\n",
            "Epoch: 5, loss: 0.000588\n",
            "Epoch: 6, loss: 0.000463\n",
            "Epoch: 7, loss: 0.000402\n",
            "Epoch: 8, loss: 0.000351\n",
            "Epoch: 9, loss: 0.000338\n",
            "Epoch: 10, loss: 0.000307\n",
            "Epoch: 11, loss: 0.000284\n",
            "Epoch: 12, loss: 0.000272\n",
            "Epoch: 13, loss: 0.000263\n",
            "Epoch: 14, loss: 0.000247\n",
            "Epoch: 15, loss: 0.000241\n",
            "Epoch: 16, loss: 0.000228\n",
            "Epoch: 17, loss: 0.000215\n",
            "Epoch: 18, loss: 0.000200\n",
            "Epoch: 19, loss: 0.000199\n",
            "Epoch: 20, loss: 0.000191\n",
            "Finished Training\n"
          ]
        }
      ],
      "source": [
        "lr, num_epochs = 0.003, 20 # A learning rate of 0.01 was not monotonically decreasing, so I decided to use a learning rate of 0.003\n",
        "train(net, mnist_trainset, num_epochs, lr)"
      ]
    },
    {
      "cell_type": "markdown",
      "id": "human-affair",
      "metadata": {
        "id": "human-affair"
      },
      "source": [
        "## Testing"
      ]
    },
    {
      "cell_type": "code",
      "execution_count": 13,
      "id": "stunning-stanley",
      "metadata": {
        "id": "stunning-stanley"
      },
      "outputs": [],
      "source": [
        "def test(net, dataset, num_samples=10, visualize=False, batch_size=256):\n",
        "    \n",
        "    test_loader = torch.utils.data.DataLoader(\n",
        "                dataset=dataset,\n",
        "                batch_size=batch_size,\n",
        "                shuffle=False)\n",
        "    \n",
        "    total = 0\n",
        "    correct = 0\n",
        "\n",
        "    for data in test_loader:\n",
        "        (X_test, y_test) = data\n",
        "        \n",
        "        y_hat = net(X_test).argmax(axis=1)\n",
        "        total += X_test.shape[0]\n",
        "        correct += (y_hat == y_test).sum()\n",
        "\n",
        "    if visualize:\n",
        "        for i, data in enumerate(iter(mnist_testset), 1):\n",
        "            if i <= num_samples:\n",
        "                x, y = data\n",
        "                x_net = x.reshape(1, 1, x.shape[1], x.shape[2])\n",
        "\n",
        "                y_hat = net(x_net).argmax()\n",
        "\n",
        "                plt.imshow(x.reshape(x.shape[1], x.shape[2], -1).squeeze())\n",
        "                plt.title(f'{i}. Actual: {y}; Predicted: {y_hat}')\n",
        "                plt.show()\n",
        "            else:\n",
        "                break\n",
        "        \n",
        "    return total, correct\n",
        "  "
      ]
    },
    {
      "cell_type": "markdown",
      "id": "spiritual-street",
      "metadata": {
        "id": "spiritual-street"
      },
      "source": [
        "## Results"
      ]
    },
    {
      "cell_type": "code",
      "execution_count": 14,
      "id": "israeli-wichita",
      "metadata": {
        "colab": {
          "base_uri": "https://localhost:8080/",
          "height": 1000
        },
        "id": "israeli-wichita",
        "outputId": "0c368710-b0b1-4b3b-86f0-b5f90242be0b"
      },
      "outputs": [
        {
          "output_type": "display_data",
          "data": {
            "text/plain": [
              "<Figure size 432x288 with 1 Axes>"
            ],
            "image/png": "[encoded data removed]"
          },
          "metadata": {
            "needs_background": "light"
          }
        },
        {
          "output_type": "display_data",
          "data": {
            "text/plain": [
              "<Figure size 432x288 with 1 Axes>"
            ],
            "image/png": "[encoded data removed]"
          },
          "metadata": {
            "needs_background": "light"
          }
        },
        {
          "output_type": "display_data",
          "data": {
            "text/plain": [
              "<Figure size 432x288 with 1 Axes>"
            ],
            "image/png": "[encoded data removed]"
          },
          "metadata": {
            "needs_background": "light"
          }
        },
        {
          "output_type": "display_data",
          "data": {
            "text/plain": [
              "<Figure size 432x288 with 1 Axes>"
            ],
            "image/png": "[encoded data removed]"
          },
          "metadata": {
            "needs_background": "light"
          }
        },
        {
          "output_type": "display_data",
          "data": {
            "text/plain": [
              "<Figure size 432x288 with 1 Axes>"
            ],
            "image/png": "[encoded data removed]"
          },
          "metadata": {
            "needs_background": "light"
          }
        },
        {
          "output_type": "display_data",
          "data": {
            "text/plain": [
              "<Figure size 432x288 with 1 Axes>"
            ],
            "image/png": "[encoded data removed]"
          },
          "metadata": {
            "needs_background": "light"
          }
        },
        {
          "output_type": "display_data",
          "data": {
            "text/plain": [
              "<Figure size 432x288 with 1 Axes>"
            ],
            "image/png": "[encoded data removed]"
          },
          "metadata": {
            "needs_background": "light"
          }
        },
        {
          "output_type": "display_data",
          "data": {
            "text/plain": [
              "<Figure size 432x288 with 1 Axes>"
            ],
            "image/png": "[encoded data removed]"
          },
          "metadata": {
            "needs_background": "light"
          }
        },
        {
          "output_type": "display_data",
          "data": {
            "text/plain": [
              "<Figure size 432x288 with 1 Axes>"
            ],
            "image/png": "[encoded data removed]"
          },
          "metadata": {
            "needs_background": "light"
          }
        },
        {
          "output_type": "display_data",
          "data": {
            "text/plain": [
              "<Figure size 432x288 with 1 Axes>"
            ],
            "image/png": "[encoded data removed]"
          },
          "metadata": {
            "needs_background": "light"
          }
        }
      ],
      "source": [
        "total, correct = test(net, mnist_testset, visualize=True)"
      ]
    },
    {
      "cell_type": "code",
      "source": [
        "print(f\"Accuracy: {(correct/total)*100}% ({correct}/{total})\")"
      ],
      "metadata": {
        "colab": {
          "base_uri": "https://localhost:8080/"
        },
        "id": "0-m9dh9Nzo_0",
        "outputId": "82309bdc-ebee-4579-e6b2-ee98657feed7"
      },
      "id": "0-m9dh9Nzo_0",
      "execution_count": 15,
      "outputs": [
        {
          "output_type": "stream",
          "name": "stdout",
          "text": [
            "Accuracy: 98.54999542236328% (9855/10000)\n"
          ]
        }
      ]
    },
    {
      "cell_type": "markdown",
      "id": "monthly-breakfast",
      "metadata": {
        "id": "monthly-breakfast"
      },
      "source": [
        "The model predicted 98.55% (9855/10000) of the test set correctly. "
      ]
    }
  ],
  "metadata": {
    "kernelspec": {
      "display_name": "Python 3",
      "language": "python",
      "name": "python3"
    },
    "language_info": {
      "codemirror_mode": {
        "name": "ipython",
        "version": 3
      },
      "file_extension": ".py",
      "mimetype": "text/x-python",
      "name": "python",
      "nbconvert_exporter": "python",
      "pygments_lexer": "ipython3",
      "version": "3.9.12"
    },
    "colab": {
      "name": "LeNet.ipynb",
      "provenance": [],
      "collapsed_sections": [],
      "toc_visible": true
    },
    "accelerator": "GPU"
  },
  "nbformat": 4,
  "nbformat_minor": 5
}